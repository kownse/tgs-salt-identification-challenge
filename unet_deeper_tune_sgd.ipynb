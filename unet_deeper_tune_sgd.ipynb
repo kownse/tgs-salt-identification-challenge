{
 "cells": [
  {
   "cell_type": "code",
   "execution_count": 1,
   "metadata": {},
   "outputs": [
    {
     "name": "stderr",
     "output_type": "stream",
     "text": [
      "Using TensorFlow backend.\n"
     ]
    }
   ],
   "source": [
    "import os\n",
    "os.environ[\"CUDA_VISIBLE_DEVICES\"]=\"0\"\n",
    "import sys\n",
    "import random\n",
    "\n",
    "import pandas as pd\n",
    "import numpy as np\n",
    "import matplotlib.pyplot as plt\n",
    "plt.style.use('seaborn-white')\n",
    "import seaborn as sns\n",
    "sns.set_style(\"white\")\n",
    "\n",
    "%matplotlib inline\n",
    "\n",
    "from sklearn.model_selection import train_test_split\n",
    "\n",
    "from tqdm import tqdm_notebook #, tnrange\n",
    "#from itertools import chain\n",
    "from skimage.io import imread, imshow #, concatenate_images\n",
    "from skimage.transform import resize\n",
    "from skimage.morphology import label\n",
    "\n",
    "import keras\n",
    "from keras.models import Model, load_model, save_model\n",
    "from keras.layers import Input,Dropout,BatchNormalization,Activation,Add\n",
    "from keras.layers.core import Lambda\n",
    "from keras.layers.convolutional import Conv2D, Conv2DTranspose\n",
    "from keras.layers.pooling import MaxPooling2D\n",
    "from keras.layers.merge import concatenate\n",
    "from keras.callbacks import EarlyStopping, ModelCheckpoint, ReduceLROnPlateau\n",
    "from keras import backend as K\n",
    "from keras import optimizers\n",
    "\n",
    "import tensorflow as tf\n",
    "\n",
    "from keras.preprocessing.image import array_to_img, img_to_array, load_img#,save_img\n",
    "\n",
    "import time\n",
    "from kaggle_util import *\n",
    "from models import *\n",
    "\n",
    "t_start = time.time()"
   ]
  },
  {
   "cell_type": "code",
   "execution_count": 2,
   "metadata": {},
   "outputs": [],
   "source": [
    "img_size_ori = 101\n",
    "img_size_target = 101\n",
    "\n",
    "def upsample(img):\n",
    "    if img_size_ori == img_size_target:\n",
    "        return img\n",
    "    return resize(img, (img_size_target, img_size_target), mode='constant', preserve_range=True)\n",
    "    \n",
    "def downsample(img):\n",
    "    if img_size_ori == img_size_target:\n",
    "        return img\n",
    "    return resize(img, (img_size_ori, img_size_ori), mode='constant', preserve_range=True)\n",
    "\n",
    "def build_model_deeper(input_layer, start_neurons, DropoutRatio = 0.5):\n",
    "    # 101 -> 50\n",
    "    conv1 = Conv2D(start_neurons * 1, (3, 3), activation=None, padding=\"same\")(input_layer)\n",
    "    conv1 = residual_block(conv1,start_neurons * 1)\n",
    "    conv1 = residual_block(conv1,start_neurons * 1)\n",
    "    conv1 = residual_block(conv1,start_neurons * 1, True)\n",
    "    pool1 = MaxPooling2D((2, 2))(conv1)\n",
    "    pool1 = Dropout(DropoutRatio/2)(pool1)\n",
    "\n",
    "    # 50 -> 25\n",
    "    conv2 = Conv2D(start_neurons * 2, (3, 3), activation=None, padding=\"same\")(pool1)\n",
    "    conv2 = residual_block(conv2,start_neurons * 2)\n",
    "    conv2 = residual_block(conv2,start_neurons * 2)\n",
    "    conv2 = residual_block(conv2,start_neurons * 2, True)\n",
    "    pool2 = MaxPooling2D((2, 2))(conv2)\n",
    "    pool2 = Dropout(DropoutRatio)(pool2)\n",
    "\n",
    "    # 25 -> 12\n",
    "    conv3 = Conv2D(start_neurons * 4, (3, 3), activation=None, padding=\"same\")(pool2)\n",
    "    conv3 = residual_block(conv3,start_neurons * 4)\n",
    "    conv3 = residual_block(conv3,start_neurons * 4)\n",
    "    conv3 = residual_block(conv3,start_neurons * 4, True)\n",
    "    pool3 = MaxPooling2D((2, 2))(conv3)\n",
    "    pool3 = Dropout(DropoutRatio)(pool3)\n",
    "\n",
    "    # 12 -> 6\n",
    "    conv4 = Conv2D(start_neurons * 8, (3, 3), activation=None, padding=\"same\")(pool3)\n",
    "    conv4 = residual_block(conv4,start_neurons * 8)\n",
    "    conv4 = residual_block(conv4,start_neurons * 8)\n",
    "    conv4 = residual_block(conv4,start_neurons * 8, True)\n",
    "    pool4 = MaxPooling2D((2, 2))(conv4)\n",
    "    pool4 = Dropout(DropoutRatio)(pool4)\n",
    "\n",
    "    # Middle\n",
    "    convm = Conv2D(start_neurons * 16, (3, 3), activation=None, padding=\"same\")(pool4)\n",
    "    convm = residual_block(convm,start_neurons * 16)\n",
    "    convm = residual_block(convm,start_neurons * 16)\n",
    "    convm = residual_block(convm,start_neurons * 16, True)\n",
    "    \n",
    "    # 6 -> 12\n",
    "    deconv4 = Conv2DTranspose(start_neurons * 8, (3, 3), strides=(2, 2), padding=\"same\")(convm)\n",
    "    uconv4 = concatenate([deconv4, conv4])\n",
    "    uconv4 = Dropout(DropoutRatio)(uconv4)\n",
    "    \n",
    "    uconv4 = Conv2D(start_neurons * 8, (3, 3), activation=None, padding=\"same\")(uconv4)\n",
    "    uconv4 = residual_block(uconv4,start_neurons * 8)\n",
    "    uconv4 = residual_block(uconv4,start_neurons * 8)\n",
    "    uconv4 = residual_block(uconv4,start_neurons * 8, True)\n",
    "    \n",
    "    # 12 -> 25\n",
    "    #deconv3 = Conv2DTranspose(start_neurons * 4, (3, 3), strides=(2, 2), padding=\"same\")(uconv4)\n",
    "    deconv3 = Conv2DTranspose(start_neurons * 4, (3, 3), strides=(2, 2), padding=\"valid\")(uconv4)\n",
    "    uconv3 = concatenate([deconv3, conv3])    \n",
    "    uconv3 = Dropout(DropoutRatio)(uconv3)\n",
    "    \n",
    "    uconv3 = Conv2D(start_neurons * 4, (3, 3), activation=None, padding=\"same\")(uconv3)\n",
    "    uconv3 = residual_block(uconv3,start_neurons * 4)\n",
    "    uconv3 = residual_block(uconv3,start_neurons * 4)\n",
    "    uconv3 = residual_block(uconv3,start_neurons * 4, True)\n",
    "\n",
    "    # 25 -> 50\n",
    "    deconv2 = Conv2DTranspose(start_neurons * 2, (3, 3), strides=(2, 2), padding=\"same\")(uconv3)\n",
    "    uconv2 = concatenate([deconv2, conv2])\n",
    "        \n",
    "    uconv2 = Dropout(DropoutRatio)(uconv2)\n",
    "    uconv2 = Conv2D(start_neurons * 2, (3, 3), activation=None, padding=\"same\")(uconv2)\n",
    "    uconv2 = residual_block(uconv2,start_neurons * 2)\n",
    "    uconv2 = residual_block(uconv2,start_neurons * 2)\n",
    "    uconv2 = residual_block(uconv2,start_neurons * 2, True)\n",
    "    \n",
    "    # 50 -> 101\n",
    "    #deconv1 = Conv2DTranspose(start_neurons * 1, (3, 3), strides=(2, 2), padding=\"same\")(uconv2)\n",
    "    deconv1 = Conv2DTranspose(start_neurons * 1, (3, 3), strides=(2, 2), padding=\"valid\")(uconv2)\n",
    "    uconv1 = concatenate([deconv1, conv1])\n",
    "    \n",
    "    uconv1 = Dropout(DropoutRatio)(uconv1)\n",
    "    uconv1 = Conv2D(start_neurons * 1, (3, 3), activation=None, padding=\"same\")(uconv1)\n",
    "    uconv1 = residual_block(uconv1,start_neurons * 1)\n",
    "    uconv1 = residual_block(uconv1,start_neurons * 1)\n",
    "    uconv1 = residual_block(uconv1,start_neurons * 1, True)\n",
    "    \n",
    "    #uconv1 = Dropout(DropoutRatio/2)(uconv1)\n",
    "    #output_layer = Conv2D(1, (1,1), padding=\"same\", activation=\"sigmoid\")(uconv1)\n",
    "    output_layer_noActi = Conv2D(1, (1,1), padding=\"same\", activation=None)(uconv1)\n",
    "    output_layer =  Activation('sigmoid')(output_layer_noActi)\n",
    "    \n",
    "    return output_layer"
   ]
  },
  {
   "cell_type": "code",
   "execution_count": 3,
   "metadata": {},
   "outputs": [
    {
     "data": {
      "application/vnd.jupyter.widget-view+json": {
       "model_id": "e28df7831b644ad5be6385e3baad40ea",
       "version_major": 2,
       "version_minor": 0
      },
      "text/plain": [
       "HBox(children=(IntProgress(value=0, max=4000), HTML(value='')))"
      ]
     },
     "metadata": {},
     "output_type": "display_data"
    },
    {
     "name": "stderr",
     "output_type": "stream",
     "text": [
      "/home/kownse/.local/lib/python3.6/site-packages/keras_preprocessing/image.py:487: UserWarning: grayscale is deprecated. Please use color_mode = \"grayscale\"\n",
      "  warnings.warn('grayscale is deprecated. Please use '\n"
     ]
    },
    {
     "name": "stdout",
     "output_type": "stream",
     "text": [
      "\n"
     ]
    },
    {
     "data": {
      "application/vnd.jupyter.widget-view+json": {
       "model_id": "4aaf8e8555914dc8b6d2fffacf820208",
       "version_major": 2,
       "version_minor": 0
      },
      "text/plain": [
       "HBox(children=(IntProgress(value=0, max=4000), HTML(value='')))"
      ]
     },
     "metadata": {},
     "output_type": "display_data"
    },
    {
     "name": "stdout",
     "output_type": "stream",
     "text": [
      "\n"
     ]
    }
   ],
   "source": [
    "\n",
    "\n",
    "# Loading of training/testing ids and depths\n",
    "train_df = pd.read_csv(\"../input/train.csv\", index_col=\"id\", usecols=[0])\n",
    "depths_df = pd.read_csv(\"../input/depths.csv\", index_col=\"id\")\n",
    "train_df = train_df.join(depths_df)\n",
    "test_df = depths_df[~depths_df.index.isin(train_df.index)]\n",
    "\n",
    "len(train_df)\n",
    "\n",
    "train_df[\"images\"] = [np.array(load_img(\"../input/train/images/{}.png\".format(idx), grayscale=True)) / 255 for idx in tqdm_notebook(train_df.index)]\n",
    "train_df[\"masks\"] = [np.array(load_img(\"../input/train/masks/{}.png\".format(idx), grayscale=True)) / 255 for idx in tqdm_notebook(train_df.index)]\n",
    "train_df[\"coverage\"] = train_df.masks.map(np.sum) / pow(img_size_ori, 2)\n",
    "train_df[\"coverage_class\"] = train_df.coverage.map(cov_to_class)"
   ]
  },
  {
   "cell_type": "code",
   "execution_count": 4,
   "metadata": {},
   "outputs": [
    {
     "data": {
      "text/plain": [
       "4000"
      ]
     },
     "execution_count": 4,
     "metadata": {},
     "output_type": "execute_result"
    }
   ],
   "source": [
    "SUBSET = len(train_df)\n",
    "train_df = train_df.head(SUBSET)\n",
    "len(train_df)"
   ]
  },
  {
   "cell_type": "code",
   "execution_count": 5,
   "metadata": {},
   "outputs": [],
   "source": [
    "ids_train, ids_valid, x_train, x_valid, y_train, y_valid, cov_train, cov_test, depth_train, depth_test = train_test_split(\n",
    "train_df.index.values,\n",
    "np.array(train_df.images.map(upsample).tolist()).reshape(-1, img_size_target, img_size_target, 1), \n",
    "np.array(train_df.masks.map(upsample).tolist()).reshape(-1, img_size_target, img_size_target, 1), \n",
    "train_df.coverage.values,\n",
    "train_df.z.values,\n",
    "test_size=0.2, stratify=train_df.coverage_class, random_state= 1234)"
   ]
  },
  {
   "cell_type": "code",
   "execution_count": 6,
   "metadata": {},
   "outputs": [
    {
     "name": "stdout",
     "output_type": "stream",
     "text": [
      "(6400, 101, 101, 1)\n",
      "(800, 101, 101, 1)\n"
     ]
    }
   ],
   "source": [
    "#Data augmentation\n",
    "x_train = np.append(x_train, [np.fliplr(x) for x in x_train], axis=0)\n",
    "y_train = np.append(y_train, [np.fliplr(x) for x in y_train], axis=0)\n",
    "print(x_train.shape)\n",
    "print(y_valid.shape)"
   ]
  },
  {
   "cell_type": "code",
   "execution_count": 9,
   "metadata": {},
   "outputs": [
    {
     "name": "stdout",
     "output_type": "stream",
     "text": [
      "../model/Unet_resnet_deeper_32_0.5.model\n",
      "../model/Unet_resnet_deeper_32_0.5.csv\n"
     ]
    }
   ],
   "source": [
    "start_feature = 32\n",
    "batch_size = 32\n",
    "dropout = 0.5\n",
    "base_name = 'Unet_resnet_deeper_{}_{}'.format(batch_size, dropout)\n",
    "basic_name = '../model/{}'.format(base_name)\n",
    "save_model_name = basic_name + '.model'\n",
    "submission_file = basic_name + '.csv'\n",
    "\n",
    "print(save_model_name)\n",
    "print(submission_file)\n",
    "\n",
    "model = load_model(save_model_name,custom_objects={'my_iou_metric_2': my_iou_metric_2,\n",
    "                                                   'lovasz_loss': lovasz_loss})"
   ]
  },
  {
   "cell_type": "code",
   "execution_count": 13,
   "metadata": {},
   "outputs": [
    {
     "name": "stdout",
     "output_type": "stream",
     "text": [
      "Train on 6400 samples, validate on 800 samples\n",
      "Epoch 1/200\n",
      "6400/6400 [==============================] - 107s 17ms/step - loss: -0.4326 - my_iou_metric_2: 0.8529 - val_loss: -0.1603 - val_my_iou_metric_2: 0.8207\n",
      "\n",
      "Epoch 00001: val_my_iou_metric_2 improved from -inf to 0.82075, saving model to ../model/Unet_resnet_deeper_sgd_16_0.5.model\n",
      "Epoch 2/200\n",
      "6400/6400 [==============================] - 99s 15ms/step - loss: -0.4392 - my_iou_metric_2: 0.8544 - val_loss: -0.1526 - val_my_iou_metric_2: 0.8209\n",
      "\n",
      "Epoch 00002: val_my_iou_metric_2 improved from 0.82075 to 0.82087, saving model to ../model/Unet_resnet_deeper_sgd_16_0.5.model\n",
      "Epoch 3/200\n",
      "6400/6400 [==============================] - 99s 16ms/step - loss: -0.4261 - my_iou_metric_2: 0.8515 - val_loss: -0.1568 - val_my_iou_metric_2: 0.8203\n",
      "\n",
      "Epoch 00003: val_my_iou_metric_2 did not improve from 0.82087\n",
      "Epoch 4/200\n",
      "6400/6400 [==============================] - 100s 16ms/step - loss: -0.4357 - my_iou_metric_2: 0.8513 - val_loss: -0.1577 - val_my_iou_metric_2: 0.8208\n",
      "\n",
      "Epoch 00004: val_my_iou_metric_2 did not improve from 0.82087\n",
      "Epoch 5/200\n",
      "6400/6400 [==============================] - 100s 16ms/step - loss: -0.4317 - my_iou_metric_2: 0.8516 - val_loss: -0.1529 - val_my_iou_metric_2: 0.8193\n",
      "\n",
      "Epoch 00005: val_my_iou_metric_2 did not improve from 0.82087\n",
      "Epoch 6/200\n",
      "6400/6400 [==============================] - 100s 16ms/step - loss: -0.4398 - my_iou_metric_2: 0.8519 - val_loss: -0.1565 - val_my_iou_metric_2: 0.8200\n",
      "\n",
      "Epoch 00006: val_my_iou_metric_2 did not improve from 0.82087\n",
      "Epoch 7/200\n",
      "6400/6400 [==============================] - 100s 16ms/step - loss: -0.4314 - my_iou_metric_2: 0.8527 - val_loss: -0.1652 - val_my_iou_metric_2: 0.8220\n",
      "\n",
      "Epoch 00007: val_my_iou_metric_2 improved from 0.82087 to 0.82200, saving model to ../model/Unet_resnet_deeper_sgd_16_0.5.model\n",
      "Epoch 8/200\n",
      "6400/6400 [==============================] - 100s 16ms/step - loss: -0.4368 - my_iou_metric_2: 0.8515 - val_loss: -0.1560 - val_my_iou_metric_2: 0.8195\n",
      "\n",
      "Epoch 00008: val_my_iou_metric_2 did not improve from 0.82200\n",
      "Epoch 9/200\n",
      "6400/6400 [==============================] - 100s 16ms/step - loss: -0.4389 - my_iou_metric_2: 0.8537 - val_loss: -0.1543 - val_my_iou_metric_2: 0.8220\n",
      "\n",
      "Epoch 00009: val_my_iou_metric_2 improved from 0.82200 to 0.82200, saving model to ../model/Unet_resnet_deeper_sgd_16_0.5.model\n",
      "Epoch 10/200\n",
      "6400/6400 [==============================] - 100s 16ms/step - loss: -0.4280 - my_iou_metric_2: 0.8509 - val_loss: -0.1572 - val_my_iou_metric_2: 0.8216\n",
      "\n",
      "Epoch 00010: val_my_iou_metric_2 did not improve from 0.82200\n",
      "Epoch 11/200\n",
      "6400/6400 [==============================] - 100s 16ms/step - loss: -0.4349 - my_iou_metric_2: 0.8508 - val_loss: -0.1585 - val_my_iou_metric_2: 0.8201\n",
      "\n",
      "Epoch 00011: val_my_iou_metric_2 did not improve from 0.82200\n",
      "Epoch 12/200\n",
      "6400/6400 [==============================] - 100s 16ms/step - loss: -0.4355 - my_iou_metric_2: 0.8518 - val_loss: -0.1547 - val_my_iou_metric_2: 0.8197\n",
      "\n",
      "Epoch 00012: val_my_iou_metric_2 did not improve from 0.82200\n",
      "\n",
      "Epoch 00012: ReduceLROnPlateau reducing learning rate to 0.0024999999441206455.\n",
      "Epoch 13/200\n",
      "6400/6400 [==============================] - 100s 16ms/step - loss: -0.4336 - my_iou_metric_2: 0.8528 - val_loss: -0.1553 - val_my_iou_metric_2: 0.8203\n",
      "\n",
      "Epoch 00013: val_my_iou_metric_2 did not improve from 0.82200\n",
      "Epoch 14/200\n",
      "6400/6400 [==============================] - 100s 16ms/step - loss: -0.4412 - my_iou_metric_2: 0.8522 - val_loss: -0.1581 - val_my_iou_metric_2: 0.8209\n",
      "\n",
      "Epoch 00014: val_my_iou_metric_2 did not improve from 0.82200\n",
      "Epoch 15/200\n",
      "6400/6400 [==============================] - 100s 16ms/step - loss: -0.4330 - my_iou_metric_2: 0.8498 - val_loss: -0.1582 - val_my_iou_metric_2: 0.8203\n",
      "\n",
      "Epoch 00015: val_my_iou_metric_2 did not improve from 0.82200\n",
      "Epoch 16/200\n",
      "6400/6400 [==============================] - 100s 16ms/step - loss: -0.4321 - my_iou_metric_2: 0.8518 - val_loss: -0.1605 - val_my_iou_metric_2: 0.8220\n",
      "\n",
      "Epoch 00016: val_my_iou_metric_2 did not improve from 0.82200\n",
      "Epoch 17/200\n",
      "6400/6400 [==============================] - 100s 16ms/step - loss: -0.4400 - my_iou_metric_2: 0.8531 - val_loss: -0.1595 - val_my_iou_metric_2: 0.8223\n",
      "\n",
      "Epoch 00017: val_my_iou_metric_2 improved from 0.82200 to 0.82225, saving model to ../model/Unet_resnet_deeper_sgd_16_0.5.model\n",
      "Epoch 18/200\n",
      "6400/6400 [==============================] - 100s 16ms/step - loss: -0.4317 - my_iou_metric_2: 0.8500 - val_loss: -0.1649 - val_my_iou_metric_2: 0.8213\n",
      "\n",
      "Epoch 00018: val_my_iou_metric_2 did not improve from 0.82225\n",
      "Epoch 19/200\n",
      "6400/6400 [==============================] - 100s 16ms/step - loss: -0.4389 - my_iou_metric_2: 0.8530 - val_loss: -0.1632 - val_my_iou_metric_2: 0.8221\n",
      "\n",
      "Epoch 00019: val_my_iou_metric_2 did not improve from 0.82225\n",
      "Epoch 20/200\n",
      "6400/6400 [==============================] - 100s 16ms/step - loss: -0.4272 - my_iou_metric_2: 0.8494 - val_loss: -0.1578 - val_my_iou_metric_2: 0.8220\n",
      "\n",
      "Epoch 00020: val_my_iou_metric_2 did not improve from 0.82225\n",
      "Epoch 21/200\n",
      "6400/6400 [==============================] - 100s 16ms/step - loss: -0.4363 - my_iou_metric_2: 0.8519 - val_loss: -0.1605 - val_my_iou_metric_2: 0.8221\n",
      "\n",
      "Epoch 00021: val_my_iou_metric_2 did not improve from 0.82225\n",
      "Epoch 22/200\n",
      "6400/6400 [==============================] - 100s 16ms/step - loss: -0.4450 - my_iou_metric_2: 0.8555 - val_loss: -0.1612 - val_my_iou_metric_2: 0.8200\n",
      "\n",
      "Epoch 00022: val_my_iou_metric_2 did not improve from 0.82225\n",
      "\n",
      "Epoch 00022: ReduceLROnPlateau reducing learning rate to 0.0012499999720603228.\n",
      "Epoch 23/200\n",
      "6400/6400 [==============================] - 100s 16ms/step - loss: -0.4386 - my_iou_metric_2: 0.8526 - val_loss: -0.1613 - val_my_iou_metric_2: 0.8205\n",
      "\n",
      "Epoch 00023: val_my_iou_metric_2 did not improve from 0.82225\n",
      "Epoch 24/200\n",
      "6400/6400 [==============================] - 100s 16ms/step - loss: -0.4366 - my_iou_metric_2: 0.8515 - val_loss: -0.1631 - val_my_iou_metric_2: 0.8214\n",
      "\n",
      "Epoch 00024: val_my_iou_metric_2 did not improve from 0.82225\n",
      "Epoch 25/200\n",
      "6400/6400 [==============================] - 100s 16ms/step - loss: -0.4431 - my_iou_metric_2: 0.8542 - val_loss: -0.1606 - val_my_iou_metric_2: 0.8217\n",
      "\n",
      "Epoch 00025: val_my_iou_metric_2 did not improve from 0.82225\n",
      "Epoch 26/200\n",
      "6400/6400 [==============================] - 100s 16ms/step - loss: -0.4396 - my_iou_metric_2: 0.8509 - val_loss: -0.1600 - val_my_iou_metric_2: 0.8215\n",
      "\n",
      "Epoch 00026: val_my_iou_metric_2 did not improve from 0.82225\n",
      "Epoch 27/200\n",
      "6400/6400 [==============================] - 100s 16ms/step - loss: -0.4436 - my_iou_metric_2: 0.8545 - val_loss: -0.1609 - val_my_iou_metric_2: 0.8216\n",
      "\n",
      "Epoch 00027: val_my_iou_metric_2 did not improve from 0.82225\n",
      "\n",
      "Epoch 00027: ReduceLROnPlateau reducing learning rate to 0.0006249999860301614.\n",
      "Epoch 28/200\n",
      "6400/6400 [==============================] - 100s 16ms/step - loss: -0.4296 - my_iou_metric_2: 0.8532 - val_loss: -0.1583 - val_my_iou_metric_2: 0.8209\n",
      "\n",
      "Epoch 00028: val_my_iou_metric_2 did not improve from 0.82225\n",
      "Epoch 29/200\n",
      "6400/6400 [==============================] - 100s 16ms/step - loss: -0.4380 - my_iou_metric_2: 0.8527 - val_loss: -0.1596 - val_my_iou_metric_2: 0.8213\n",
      "\n",
      "Epoch 00029: val_my_iou_metric_2 did not improve from 0.82225\n",
      "Epoch 30/200\n",
      "6400/6400 [==============================] - 100s 16ms/step - loss: -0.4371 - my_iou_metric_2: 0.8519 - val_loss: -0.1608 - val_my_iou_metric_2: 0.8215\n",
      "\n",
      "Epoch 00030: val_my_iou_metric_2 did not improve from 0.82225\n",
      "Epoch 31/200\n",
      "6400/6400 [==============================] - 100s 16ms/step - loss: -0.4401 - my_iou_metric_2: 0.8544 - val_loss: -0.1579 - val_my_iou_metric_2: 0.8219\n",
      "\n",
      "Epoch 00031: val_my_iou_metric_2 did not improve from 0.82225\n",
      "Epoch 32/200\n",
      "6400/6400 [==============================] - 100s 16ms/step - loss: -0.4350 - my_iou_metric_2: 0.8503 - val_loss: -0.1595 - val_my_iou_metric_2: 0.8221\n",
      "\n",
      "Epoch 00032: val_my_iou_metric_2 did not improve from 0.82225\n",
      "\n",
      "Epoch 00032: ReduceLROnPlateau reducing learning rate to 0.0003124999930150807.\n",
      "Epoch 33/200\n",
      "6400/6400 [==============================] - 100s 16ms/step - loss: -0.4264 - my_iou_metric_2: 0.8510 - val_loss: -0.1619 - val_my_iou_metric_2: 0.8222\n",
      "\n",
      "Epoch 00033: val_my_iou_metric_2 did not improve from 0.82225\n",
      "Epoch 34/200\n"
     ]
    },
    {
     "name": "stdout",
     "output_type": "stream",
     "text": [
      "6400/6400 [==============================] - 100s 16ms/step - loss: -0.4382 - my_iou_metric_2: 0.8530 - val_loss: -0.1565 - val_my_iou_metric_2: 0.8216\n",
      "\n",
      "Epoch 00034: val_my_iou_metric_2 did not improve from 0.82225\n",
      "Epoch 35/200\n",
      "6400/6400 [==============================] - 100s 16ms/step - loss: -0.4328 - my_iou_metric_2: 0.8522 - val_loss: -0.1611 - val_my_iou_metric_2: 0.8221\n",
      "\n",
      "Epoch 00035: val_my_iou_metric_2 did not improve from 0.82225\n",
      "Epoch 36/200\n",
      "6400/6400 [==============================] - 100s 16ms/step - loss: -0.4413 - my_iou_metric_2: 0.8532 - val_loss: -0.1599 - val_my_iou_metric_2: 0.8216\n",
      "\n",
      "Epoch 00036: val_my_iou_metric_2 did not improve from 0.82225\n",
      "Epoch 37/200\n",
      "6400/6400 [==============================] - 100s 16ms/step - loss: -0.4488 - my_iou_metric_2: 0.8533 - val_loss: -0.1592 - val_my_iou_metric_2: 0.8216\n",
      "\n",
      "Epoch 00037: val_my_iou_metric_2 did not improve from 0.82225\n",
      "\n",
      "Epoch 00037: ReduceLROnPlateau reducing learning rate to 0.00015624999650754035.\n",
      "Epoch 38/200\n",
      "6400/6400 [==============================] - 100s 16ms/step - loss: -0.4388 - my_iou_metric_2: 0.8536 - val_loss: -0.1584 - val_my_iou_metric_2: 0.8217\n",
      "\n",
      "Epoch 00038: val_my_iou_metric_2 did not improve from 0.82225\n",
      "Epoch 39/200\n",
      "6400/6400 [==============================] - 100s 16ms/step - loss: -0.4329 - my_iou_metric_2: 0.8504 - val_loss: -0.1586 - val_my_iou_metric_2: 0.8211\n",
      "\n",
      "Epoch 00039: val_my_iou_metric_2 did not improve from 0.82225\n",
      "Epoch 40/200\n",
      "6400/6400 [==============================] - 100s 16ms/step - loss: -0.4404 - my_iou_metric_2: 0.8520 - val_loss: -0.1588 - val_my_iou_metric_2: 0.8217\n",
      "\n",
      "Epoch 00040: val_my_iou_metric_2 did not improve from 0.82225\n",
      "Epoch 41/200\n",
      "6400/6400 [==============================] - 100s 16ms/step - loss: -0.4279 - my_iou_metric_2: 0.8498 - val_loss: -0.1577 - val_my_iou_metric_2: 0.8217\n",
      "\n",
      "Epoch 00041: val_my_iou_metric_2 did not improve from 0.82225\n",
      "Epoch 42/200\n",
      "6400/6400 [==============================] - 100s 16ms/step - loss: -0.4419 - my_iou_metric_2: 0.8520 - val_loss: -0.1572 - val_my_iou_metric_2: 0.8211\n",
      "\n",
      "Epoch 00042: val_my_iou_metric_2 did not improve from 0.82225\n",
      "\n",
      "Epoch 00042: ReduceLROnPlateau reducing learning rate to 7.812499825377017e-05.\n",
      "Epoch 43/200\n",
      "6400/6400 [==============================] - 100s 16ms/step - loss: -0.4263 - my_iou_metric_2: 0.8508 - val_loss: -0.1579 - val_my_iou_metric_2: 0.8217\n",
      "\n",
      "Epoch 00043: val_my_iou_metric_2 did not improve from 0.82225\n",
      "Epoch 44/200\n",
      "6400/6400 [==============================] - 100s 16ms/step - loss: -0.4300 - my_iou_metric_2: 0.8511 - val_loss: -0.1615 - val_my_iou_metric_2: 0.8217\n",
      "\n",
      "Epoch 00044: val_my_iou_metric_2 did not improve from 0.82225\n",
      "Epoch 45/200\n",
      "6400/6400 [==============================] - 100s 16ms/step - loss: -0.4314 - my_iou_metric_2: 0.8515 - val_loss: -0.1603 - val_my_iou_metric_2: 0.8214\n",
      "\n",
      "Epoch 00045: val_my_iou_metric_2 did not improve from 0.82225\n",
      "Epoch 46/200\n",
      "6400/6400 [==============================] - 100s 16ms/step - loss: -0.4423 - my_iou_metric_2: 0.8531 - val_loss: -0.1579 - val_my_iou_metric_2: 0.8215\n",
      "\n",
      "Epoch 00046: val_my_iou_metric_2 did not improve from 0.82225\n",
      "Epoch 47/200\n",
      "6400/6400 [==============================] - 100s 16ms/step - loss: -0.4453 - my_iou_metric_2: 0.8550 - val_loss: -0.1592 - val_my_iou_metric_2: 0.8221\n",
      "\n",
      "Epoch 00047: val_my_iou_metric_2 did not improve from 0.82225\n",
      "\n",
      "Epoch 00047: ReduceLROnPlateau reducing learning rate to 3.9062499126885086e-05.\n",
      "Epoch 00047: early stopping\n"
     ]
    }
   ],
   "source": [
    "batch_size = 16\n",
    "base_name = 'Unet_resnet_deeper_sgd_{}_{}'.format(batch_size, dropout)\n",
    "basic_name = '../model/{}'.format(base_name)\n",
    "save_model_name = basic_name + '.model'\n",
    "submission_file = basic_name + '.csv'\n",
    "\n",
    "c = optimizers.sgd(lr = 0.005)\n",
    "model.compile(loss=lovasz_loss, optimizer=c, metrics=[my_iou_metric_2])\n",
    "\n",
    "#model.summary()\n",
    "board = keras.callbacks.TensorBoard(log_dir='log/{}'.format(base_name),\n",
    "                       histogram_freq=0, write_graph=True, write_images=False)\n",
    "early_stopping = EarlyStopping(monitor='val_my_iou_metric_2', mode = 'max',patience=30, verbose=1)\n",
    "model_checkpoint = ModelCheckpoint(save_model_name,monitor='val_my_iou_metric_2', \n",
    "                                   mode = 'max', save_best_only=True, verbose=1)\n",
    "reduce_lr = ReduceLROnPlateau(monitor='val_my_iou_metric_2', mode = 'max',factor=0.5, patience=5, min_lr=0.00001, verbose=1)\n",
    "epochs = 200\n",
    "\n",
    "history = model.fit(x_train, y_train,\n",
    "                    validation_data=[x_valid, y_valid], \n",
    "                    epochs=epochs,\n",
    "                    batch_size=batch_size,\n",
    "                    callbacks=[board, model_checkpoint,reduce_lr,early_stopping], \n",
    "                    verbose=1)"
   ]
  },
  {
   "cell_type": "code",
   "execution_count": 14,
   "metadata": {},
   "outputs": [],
   "source": [
    "model = load_model(save_model_name,custom_objects={'my_iou_metric_2': my_iou_metric_2,\n",
    "                                                   'lovasz_loss': lovasz_loss})\n",
    "\n"
   ]
  },
  {
   "cell_type": "code",
   "execution_count": 15,
   "metadata": {},
   "outputs": [
    {
     "data": {
      "application/vnd.jupyter.widget-view+json": {
       "model_id": "bc39654af4864b8db99ce445233bd3bc",
       "version_major": 2,
       "version_minor": 0
      },
      "text/plain": [
       "HBox(children=(IntProgress(value=0, max=31), HTML(value='')))"
      ]
     },
     "metadata": {},
     "output_type": "display_data"
    },
    {
     "name": "stdout",
     "output_type": "stream",
     "text": [
      "\n",
      "[0.81725  0.81775  0.818375 0.81875  0.81925  0.82125  0.821125 0.821125\n",
      " 0.8215   0.82125  0.821625 0.8215   0.822375 0.822375 0.82275  0.82325\n",
      " 0.823375 0.822625 0.823    0.82275  0.82275  0.822625 0.82225  0.822375\n",
      " 0.82125  0.820875 0.820625 0.820875 0.820125 0.82025  0.820125]\n"
     ]
    },
    {
     "data": {
      "text/plain": [
       "<matplotlib.legend.Legend at 0x7f1c68f98c50>"
      ]
     },
     "execution_count": 15,
     "metadata": {},
     "output_type": "execute_result"
    },
    {
     "data": {
      "image/png": "[encoded data removed]",
      "text/plain": [
       "<Figure size 432x288 with 1 Axes>"
      ]
     },
     "metadata": {},
     "output_type": "display_data"
    }
   ],
   "source": [
    "preds_valid = predict_result(model,x_valid,img_size_target)\n",
    "## Scoring for last model, choose threshold by validation data \n",
    "thresholds_ori = np.linspace(0.3, 0.7, 31)\n",
    "# Reverse sigmoid function: Use code below because the  sigmoid activation was removed\n",
    "thresholds = np.log(thresholds_ori/(1-thresholds_ori)) \n",
    "\n",
    "# ious = np.array([get_iou_vector(y_valid, preds_valid > threshold) for threshold in tqdm_notebook(thresholds)])\n",
    "# print(ious)\n",
    "ious = np.array([iou_metric_batch(y_valid, preds_valid > threshold) for threshold in tqdm_notebook(thresholds)])\n",
    "print(ious)\n",
    "\n",
    "# instead of using default 0 as threshold, use validation data to find the best threshold.\n",
    "threshold_best_index = np.argmax(ious) \n",
    "iou_best = ious[threshold_best_index]\n",
    "threshold_best = thresholds[threshold_best_index]\n",
    "\n",
    "plt.plot(thresholds, ious)\n",
    "plt.plot(threshold_best, iou_best, \"xr\", label=\"Best threshold\")\n",
    "plt.xlabel(\"Threshold\")\n",
    "plt.ylabel(\"IoU\")\n",
    "plt.title(\"Threshold vs IoU ({}, {})\".format(threshold_best, iou_best))\n",
    "plt.legend()"
   ]
  },
  {
   "cell_type": "code",
   "execution_count": 16,
   "metadata": {},
   "outputs": [
    {
     "data": {
      "application/vnd.jupyter.widget-view+json": {
       "model_id": "739c91434f6241a88ac500a7486c460b",
       "version_major": 2,
       "version_minor": 0
      },
      "text/plain": [
       "HBox(children=(IntProgress(value=0, max=18000), HTML(value='')))"
      ]
     },
     "metadata": {},
     "output_type": "display_data"
    },
    {
     "name": "stderr",
     "output_type": "stream",
     "text": [
      "/home/kownse/.local/lib/python3.6/site-packages/keras_preprocessing/image.py:487: UserWarning: grayscale is deprecated. Please use color_mode = \"grayscale\"\n",
      "  warnings.warn('grayscale is deprecated. Please use '\n"
     ]
    },
    {
     "name": "stdout",
     "output_type": "stream",
     "text": [
      "\n"
     ]
    }
   ],
   "source": [
    "x_test = np.array([(np.array(load_img(\"../input/test/images/{}.png\".format(idx), grayscale = True))) / 255 for idx in tqdm_notebook(test_df.index)]).reshape(-1, img_size_target, img_size_target, 1)\n",
    "\n",
    "preds_test = predict_result(model,x_test,img_size_target)"
   ]
  },
  {
   "cell_type": "code",
   "execution_count": 17,
   "metadata": {},
   "outputs": [
    {
     "data": {
      "application/vnd.jupyter.widget-view+json": {
       "model_id": "305bed26506547f59e763f75ce86ee67",
       "version_major": 2,
       "version_minor": 0
      },
      "text/plain": [
       "HBox(children=(IntProgress(value=0, max=18000), HTML(value='')))"
      ]
     },
     "metadata": {},
     "output_type": "display_data"
    },
    {
     "name": "stdout",
     "output_type": "stream",
     "text": [
      "\n",
      "Usedtime = 5.129573345184326 s\n",
      "save result\n",
      "upload result\n",
      "cmd: kaggle competitions submit -c tgs-salt-identification-challenge -f ../result/Unet_resnet_deeper_sgd_16_0.5.csv.7z -m \"submit\"\n",
      "Kernel run time = 1.5684758479727638 hours\n"
     ]
    }
   ],
   "source": [
    "t1 = time.time()\n",
    "pred_dict = {idx: rle_encode(np.round(downsample(preds_test[i]) > threshold_best)) for i, idx in enumerate(tqdm_notebook(test_df.index.values))}\n",
    "t2 = time.time()\n",
    "\n",
    "print(f\"Usedtime = {t2-t1} s\")\n",
    "\n",
    "sub = pd.DataFrame.from_dict(pred_dict,orient='index')\n",
    "sub.index.names = ['id']\n",
    "sub.columns = ['rle_mask']\n",
    "sub = sub.reset_index()\n",
    "save_result(sub, '../result/{}.csv'.format(base_name), \n",
    "                        competition = 'tgs-salt-identification-challenge', \n",
    "                        send = True, index = False)\n",
    "\n",
    "t_finish = time.time()\n",
    "print(f\"Kernel run time = {(t_finish-t_start)/3600} hours\")"
   ]
  },
  {
   "cell_type": "code",
   "execution_count": null,
   "metadata": {},
   "outputs": [],
   "source": []
  }
 ],
 "metadata": {
  "kernelspec": {
   "display_name": "Python 3",
   "language": "python",
   "name": "python3"
  },
  "language_info": {
   "codemirror_mode": {
    "name": "ipython",
    "version": 3
   },
   "file_extension": ".py",
   "mimetype": "text/x-python",
   "name": "python",
   "nbconvert_exporter": "python",
   "pygments_lexer": "ipython3",
   "version": "3.6.5"
  }
 },
 "nbformat": 4,
 "nbformat_minor": 2
}
