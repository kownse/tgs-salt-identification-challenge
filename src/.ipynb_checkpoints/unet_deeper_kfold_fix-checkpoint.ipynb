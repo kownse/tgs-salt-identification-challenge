{
 "cells": [
  {
   "cell_type": "code",
   "execution_count": 1,
   "metadata": {},
   "outputs": [
    {
     "name": "stderr",
     "output_type": "stream",
     "text": [
      "Using TensorFlow backend.\n"
     ]
    }
   ],
   "source": [
    "import os\n",
    "os.environ[\"CUDA_VISIBLE_DEVICES\"]=\"1\"\n",
    "import sys\n",
    "import random\n",
    "\n",
    "import pandas as pd\n",
    "import numpy as np\n",
    "import matplotlib.pyplot as plt\n",
    "plt.style.use('seaborn-white')\n",
    "import seaborn as sns\n",
    "sns.set_style(\"white\")\n",
    "\n",
    "from sklearn.model_selection import train_test_split, StratifiedKFold\n",
    "\n",
    "from tqdm import tqdm_notebook #, tnrange\n",
    "#from itertools import chain\n",
    "from skimage.io import imread, imshow #, concatenate_images\n",
    "from skimage.transform import resize\n",
    "from skimage.morphology import label\n",
    "\n",
    "import keras\n",
    "from keras.models import Model, load_model, save_model\n",
    "from keras.layers import Input,Dropout,BatchNormalization,Activation,Add\n",
    "from keras.layers.core import Lambda\n",
    "from keras.layers.convolutional import Conv2D, Conv2DTranspose\n",
    "from keras.layers.pooling import MaxPooling2D\n",
    "from keras.layers.merge import concatenate\n",
    "from keras.callbacks import EarlyStopping, ModelCheckpoint, ReduceLROnPlateau\n",
    "from keras import backend as K\n",
    "from keras import optimizers\n",
    "\n",
    "import tensorflow as tf\n",
    "\n",
    "from keras.preprocessing.image import array_to_img, img_to_array, load_img#,save_img\n",
    "\n",
    "from albumentations import (\n",
    "    PadIfNeeded,\n",
    "    HorizontalFlip,\n",
    "    VerticalFlip,    \n",
    "    CenterCrop,    \n",
    "    Crop,\n",
    "    Compose,\n",
    "    Transpose,\n",
    "    RandomRotate90,\n",
    "    ElasticTransform,\n",
    "    GridDistortion, \n",
    "    OpticalDistortion,\n",
    "    RandomSizedCrop,\n",
    "    OneOf,\n",
    "    CLAHE,\n",
    "    RandomContrast,\n",
    "    RandomGamma,\n",
    "    RandomBrightness\n",
    ")\n",
    "\n",
    "import time\n",
    "from kaggle_util import *\n",
    "from models import *\n",
    "\n",
    "t_start = time.time()"
   ]
  },
  {
   "cell_type": "code",
   "execution_count": 2,
   "metadata": {},
   "outputs": [],
   "source": [
    "img_size_ori = 101\n",
    "img_size_target = 101\n",
    "\n",
    "def upsample(img):\n",
    "    if img_size_ori == img_size_target:\n",
    "        return img\n",
    "    return resize(img, (img_size_target, img_size_target), mode='constant', preserve_range=True)\n",
    "    \n",
    "def downsample(img):\n",
    "    if img_size_ori == img_size_target:\n",
    "        return img\n",
    "    return resize(img, (img_size_ori, img_size_ori), mode='constant', preserve_range=True)\n",
    "\n",
    "def build_model_deeper(input_layer, start_neurons, DropoutRatio = 0.5):\n",
    "    # 101 -> 50\n",
    "    conv1 = Conv2D(start_neurons * 1, (3, 3), activation=None, padding=\"same\")(input_layer)\n",
    "    conv1 = residual_block(conv1,start_neurons * 1)\n",
    "    conv1 = residual_block(conv1,start_neurons * 1)\n",
    "    conv1 = residual_block(conv1,start_neurons * 1, True)\n",
    "    pool1 = MaxPooling2D((2, 2))(conv1)\n",
    "    pool1 = Dropout(DropoutRatio/2)(pool1)\n",
    "\n",
    "    # 50 -> 25\n",
    "    conv2 = Conv2D(start_neurons * 2, (3, 3), activation=None, padding=\"same\")(pool1)\n",
    "    conv2 = residual_block(conv2,start_neurons * 2)\n",
    "    conv2 = residual_block(conv2,start_neurons * 2)\n",
    "    conv2 = residual_block(conv2,start_neurons * 2, True)\n",
    "    pool2 = MaxPooling2D((2, 2))(conv2)\n",
    "    pool2 = Dropout(DropoutRatio)(pool2)\n",
    "\n",
    "    # 25 -> 12\n",
    "    conv3 = Conv2D(start_neurons * 4, (3, 3), activation=None, padding=\"same\")(pool2)\n",
    "    conv3 = residual_block(conv3,start_neurons * 4)\n",
    "    conv3 = residual_block(conv3,start_neurons * 4)\n",
    "    conv3 = residual_block(conv3,start_neurons * 4, True)\n",
    "    pool3 = MaxPooling2D((2, 2))(conv3)\n",
    "    pool3 = Dropout(DropoutRatio)(pool3)\n",
    "\n",
    "    # 12 -> 6\n",
    "    conv4 = Conv2D(start_neurons * 8, (3, 3), activation=None, padding=\"same\")(pool3)\n",
    "    conv4 = residual_block(conv4,start_neurons * 8)\n",
    "    conv4 = residual_block(conv4,start_neurons * 8)\n",
    "    conv4 = residual_block(conv4,start_neurons * 8, True)\n",
    "    pool4 = MaxPooling2D((2, 2))(conv4)\n",
    "    pool4 = Dropout(DropoutRatio)(pool4)\n",
    "\n",
    "    # Middle\n",
    "    convm = Conv2D(start_neurons * 16, (3, 3), activation=None, padding=\"same\")(pool4)\n",
    "    convm = residual_block(convm,start_neurons * 16)\n",
    "    convm = residual_block(convm,start_neurons * 16)\n",
    "    convm = residual_block(convm,start_neurons * 16, True)\n",
    "    \n",
    "    # 6 -> 12\n",
    "    deconv4 = Conv2DTranspose(start_neurons * 8, (3, 3), strides=(2, 2), padding=\"same\")(convm)\n",
    "    uconv4 = concatenate([deconv4, conv4])\n",
    "    uconv4 = Dropout(DropoutRatio)(uconv4)\n",
    "    \n",
    "    uconv4 = Conv2D(start_neurons * 8, (3, 3), activation=None, padding=\"same\")(uconv4)\n",
    "    uconv4 = residual_block(uconv4,start_neurons * 8)\n",
    "    uconv4 = residual_block(uconv4,start_neurons * 8)\n",
    "    uconv4 = residual_block(uconv4,start_neurons * 8, True)\n",
    "    \n",
    "    # 12 -> 25\n",
    "    #deconv3 = Conv2DTranspose(start_neurons * 4, (3, 3), strides=(2, 2), padding=\"same\")(uconv4)\n",
    "    deconv3 = Conv2DTranspose(start_neurons * 4, (3, 3), strides=(2, 2), padding=\"valid\")(uconv4)\n",
    "    uconv3 = concatenate([deconv3, conv3])    \n",
    "    uconv3 = Dropout(DropoutRatio)(uconv3)\n",
    "    \n",
    "    uconv3 = Conv2D(start_neurons * 4, (3, 3), activation=None, padding=\"same\")(uconv3)\n",
    "    uconv3 = residual_block(uconv3,start_neurons * 4)\n",
    "    uconv3 = residual_block(uconv3,start_neurons * 4)\n",
    "    uconv3 = residual_block(uconv3,start_neurons * 4, True)\n",
    "\n",
    "    # 25 -> 50\n",
    "    deconv2 = Conv2DTranspose(start_neurons * 2, (3, 3), strides=(2, 2), padding=\"same\")(uconv3)\n",
    "    uconv2 = concatenate([deconv2, conv2])\n",
    "        \n",
    "    uconv2 = Dropout(DropoutRatio)(uconv2)\n",
    "    uconv2 = Conv2D(start_neurons * 2, (3, 3), activation=None, padding=\"same\")(uconv2)\n",
    "    uconv2 = residual_block(uconv2,start_neurons * 2)\n",
    "    uconv2 = residual_block(uconv2,start_neurons * 2)\n",
    "    uconv2 = residual_block(uconv2,start_neurons * 2, True)\n",
    "    \n",
    "    # 50 -> 101\n",
    "    #deconv1 = Conv2DTranspose(start_neurons * 1, (3, 3), strides=(2, 2), padding=\"same\")(uconv2)\n",
    "    deconv1 = Conv2DTranspose(start_neurons * 1, (3, 3), strides=(2, 2), padding=\"valid\")(uconv2)\n",
    "    uconv1 = concatenate([deconv1, conv1])\n",
    "    \n",
    "    uconv1 = Dropout(DropoutRatio)(uconv1)\n",
    "    uconv1 = Conv2D(start_neurons * 1, (3, 3), activation=None, padding=\"same\")(uconv1)\n",
    "    uconv1 = residual_block(uconv1,start_neurons * 1)\n",
    "    uconv1 = residual_block(uconv1,start_neurons * 1)\n",
    "    uconv1 = residual_block(uconv1,start_neurons * 1, True)\n",
    "    \n",
    "    #uconv1 = Dropout(DropoutRatio/2)(uconv1)\n",
    "    #output_layer = Conv2D(1, (1,1), padding=\"same\", activation=\"sigmoid\")(uconv1)\n",
    "    output_layer_noActi = Conv2D(1, (1,1), padding=\"same\", activation=None)(uconv1)\n",
    "    output_layer =  Activation('sigmoid')(output_layer_noActi)\n",
    "    \n",
    "    return output_layer"
   ]
  },
  {
   "cell_type": "code",
   "execution_count": 3,
   "metadata": {},
   "outputs": [],
   "source": [
    "# Loading of training/testing ids and depths\n",
    "train_df = pd.read_csv(\"../input/train.csv\", index_col=\"id\", usecols=[0])\n",
    "depths_df = pd.read_csv(\"../input/depths.csv\", index_col=\"id\")\n",
    "unfit_df = pd.read_csv(\"../result/iou_2.csv\")\n",
    "train_df = train_df.join(depths_df)\n",
    "test_df = depths_df[~depths_df.index.isin(train_df.index)]"
   ]
  },
  {
   "cell_type": "code",
   "execution_count": 4,
   "metadata": {},
   "outputs": [],
   "source": [
    "train_df = train_df.reset_index()\n",
    "train_unfit = pd.merge(unfit_df, train_df, on='id', how = 'left')\n",
    "train_df = train_unfit\n",
    "train_df = train_df.set_index('id')\n",
    "train_df['unfit'] = (train_df['iou'] < 0.95) * 1 "
   ]
  },
  {
   "cell_type": "code",
   "execution_count": 5,
   "metadata": {},
   "outputs": [
    {
     "data": {
      "application/vnd.jupyter.widget-view+json": {
       "model_id": "ff5cfcfc593141e890dd086c87f1270c",
       "version_major": 2,
       "version_minor": 0
      },
      "text/plain": [
       "HBox(children=(IntProgress(value=0, max=4000), HTML(value='')))"
      ]
     },
     "metadata": {},
     "output_type": "display_data"
    },
    {
     "name": "stderr",
     "output_type": "stream",
     "text": [
      "/home/kownse/.local/lib/python3.6/site-packages/keras_preprocessing/image.py:487: UserWarning: grayscale is deprecated. Please use color_mode = \"grayscale\"\n",
      "  warnings.warn('grayscale is deprecated. Please use '\n"
     ]
    },
    {
     "name": "stdout",
     "output_type": "stream",
     "text": [
      "\n"
     ]
    },
    {
     "data": {
      "application/vnd.jupyter.widget-view+json": {
       "model_id": "b81e31e892e547039dd34ac33d54b969",
       "version_major": 2,
       "version_minor": 0
      },
      "text/plain": [
       "HBox(children=(IntProgress(value=0, max=4000), HTML(value='')))"
      ]
     },
     "metadata": {},
     "output_type": "display_data"
    },
    {
     "name": "stdout",
     "output_type": "stream",
     "text": [
      "\n"
     ]
    }
   ],
   "source": [
    "len(train_df)\n",
    "\n",
    "train_df[\"images\"] = [np.array(load_img(\"../input/train/images/{}.png\".format(idx), grayscale=True)) / 255 for idx in tqdm_notebook(train_df.index)]\n",
    "train_df[\"masks\"] = [np.array(load_img(\"../input/train/masks/{}.png\".format(idx), grayscale=True)) / 255 for idx in tqdm_notebook(train_df.index)]\n",
    "train_df[\"coverage\"] = train_df.masks.map(np.sum) / pow(img_size_ori, 2)\n",
    "train_df[\"coverage_class\"] = train_df.coverage.map(cov_to_class)\n",
    "train_df['hassalt'] = train_df['masks'].apply(lambda x: (x.max()!=0) * 1)"
   ]
  },
  {
   "cell_type": "code",
   "execution_count": 6,
   "metadata": {},
   "outputs": [],
   "source": [
    "def get_splits(train_df, train_idx, val_idx):\n",
    "    X_train = train_df.iloc[train_idx]\n",
    "    X_valid = train_df.iloc[val_idx]\n",
    "    x_train = np.array(X_train.images.map(upsample).tolist()).reshape(-1, img_size_target, img_size_target, 1)\n",
    "    x_valid = np.array(X_valid.images.map(upsample).tolist()).reshape(-1, img_size_target, img_size_target, 1)\n",
    "    msk_train = np.array(X_train.masks.map(upsample).tolist()).reshape(-1, img_size_target, img_size_target, 1)\n",
    "    msk_val = np.array(X_valid.masks.map(upsample).tolist()).reshape(-1, img_size_target, img_size_target, 1)\n",
    "    y_train = X_train.hassalt.values\n",
    "    y_valid = X_valid.hassalt.values\n",
    "    id_train = X_train.index.values\n",
    "    id_valid = X_valid.index.values\n",
    "    return x_train, x_valid, msk_train, msk_val, y_train, y_valid, id_train, id_valid\n",
    "\n",
    "def argument(x_train, msk_train, y_train):\n",
    "    aug_img = []\n",
    "    aug_msk = []\n",
    "    aug_y = []\n",
    "    augments = [\n",
    "        (1, HorizontalFlip(p=1)),\n",
    "#         (1, VerticalFlip(p=1)),\n",
    "#         (0.25, RandomRotate90(p=1)),\n",
    "#         (0.25, Transpose(p=1)),\n",
    "        (0.15, ElasticTransform(p=1, alpha=120, sigma=120 * 0.05, alpha_affine=120 * 0.03)),\n",
    "        (0.15, GridDistortion(p=1)),\n",
    "        (0.15, OpticalDistortion(p=1, distort_limit=2, shift_limit=0.5)),\n",
    "#         (0.5, RandomSizedCrop(p=1, min_max_height=(int(img_size_ori / 2), img_size_ori), height=img_size_ori, width=img_size_ori)),\n",
    "    ]\n",
    "\n",
    "    for ratio, aug in tqdm_notebook(augments):\n",
    "        selidx = np.random.choice(x_train.shape[0], int(x_train.shape[0] * ratio), replace=False)\n",
    "        for idx in tqdm_notebook(selidx):\n",
    "            augmented = aug(image=x_train[idx], mask=msk_train[idx])\n",
    "            aimg = augmented['image']\n",
    "            amsk = augmented['mask']\n",
    "            if len(aimg.shape) < 3:\n",
    "                aimg = aimg[...,np.newaxis]\n",
    "            if len(amsk.shape) < 3:\n",
    "                amsk = amsk[...,np.newaxis]\n",
    "            aug_img.append(aimg)\n",
    "            aug_msk.append(amsk)\n",
    "            aug_y.append(y_train[idx])\n",
    "\n",
    "    aug_img = np.asarray(aug_img)\n",
    "    aug_msk = np.asarray(aug_msk)\n",
    "    aug_y = np.asarray(aug_y)\n",
    "    x_train = np.append(x_train, aug_img, axis=0)\n",
    "    msk_train = np.append(msk_train, aug_msk, axis=0)\n",
    "    y_train = np.append(y_train, aug_y, axis=0)\n",
    "    print(x_train.shape)\n",
    "    print(msk_train.shape)\n",
    "    print(y_train.shape)\n",
    "    \n",
    "    return x_train, msk_train, y_train"
   ]
  },
  {
   "cell_type": "code",
   "execution_count": 7,
   "metadata": {
    "scrolled": true
   },
   "outputs": [],
   "source": [
    "def train_model(fold, x_train, y_train, x_valid, y_valid, id_valid):\n",
    "    start_feature = 32\n",
    "    batch_size = 32\n",
    "    dropout = 0.5\n",
    "    \n",
    "    cur_base_name = 'Unet_resnet_deeper_fix10_{}_{}_{}_{}'.format(start_feature, batch_size, dropout, fold)\n",
    "    cur_save_model_name = '../model/segmenter/{}.model'.format(cur_base_name)\n",
    "    if False:# os.path.exists(cur_save_model_name):\n",
    "        print('load from continue', cur_save_model_name)\n",
    "        model = load_model(cur_save_model_name,custom_objects={'my_iou_metric_2': my_iou_metric_2,\n",
    "                                                   'lovasz_loss': lovasz_loss})\n",
    "    else:\n",
    "    \n",
    "        base_name = 'Unet_resnet_deeper_fix7_{}_{}_{}_{}'.format(start_feature, batch_size, dropout, fold)\n",
    "        save_model_name = '../model/segmenter/{}.model'.format(base_name)\n",
    "        submission_dir = '../result/segmenter/{}.csv'.format(base_name)\n",
    "        oof_dir = '../result/segmenter_oof/{}'.format(base_name)\n",
    "\n",
    "        print('load from last run', save_model_name)\n",
    "        model = load_model(save_model_name,custom_objects={'my_iou_metric_2': my_iou_metric_2,\n",
    "                                                       'lovasz_loss': lovasz_loss})\n",
    "    \n",
    "    base_name = 'Unet_resnet_deeper_fix10_{}_{}_{}_{}'.format(start_feature, batch_size, dropout, fold)\n",
    "    save_model_name = '../model/segmenter/{}.model'.format(base_name)\n",
    "    submission_dir = '../result/segmenter/{}.csv'.format(base_name)\n",
    "    oof_dir = '../result/segmenter_oof/{}'.format(base_name)\n",
    "    \n",
    "    c = optimizers.adam(lr = 0.0025)\n",
    "#     c = optimizers.SGD(lr = 0.01, momentum=0.9, decay=0.0001)\n",
    "    model.compile(loss=lovasz_loss, optimizer=c, metrics=[my_iou_metric_2])\n",
    "\n",
    "    #model.summary()\n",
    "    board = keras.callbacks.TensorBoard(log_dir='log/segmenter/{}'.format(base_name),\n",
    "                           histogram_freq=0, write_graph=True, write_images=False)\n",
    "    early_stopping = EarlyStopping(monitor='val_my_iou_metric_2', mode = 'max',patience=12, verbose=1)\n",
    "    model_checkpoint = ModelCheckpoint(save_model_name,monitor='val_my_iou_metric_2', \n",
    "                                       mode = 'max', save_best_only=True, verbose=1)\n",
    "    reduce_lr = ReduceLROnPlateau(monitor='val_my_iou_metric_2', mode = 'max',factor=0.5, patience=3, min_lr=0.00001, verbose=1)\n",
    "    epochs = 200\n",
    "\n",
    "    history = model.fit(x_train, y_train,\n",
    "                        validation_data=[x_valid, y_valid], \n",
    "                        epochs=epochs,\n",
    "                        batch_size=batch_size,\n",
    "                        callbacks=[board, model_checkpoint,reduce_lr,early_stopping], \n",
    "                        verbose=1)\n",
    "    "
   ]
  },
  {
   "cell_type": "code",
   "execution_count": 8,
   "metadata": {},
   "outputs": [
    {
     "name": "stdout",
     "output_type": "stream",
     "text": [
      "fold 0\n"
     ]
    },
    {
     "data": {
      "application/vnd.jupyter.widget-view+json": {
       "model_id": "b5fa0e5955b94c248436172e9296dc9c",
       "version_major": 2,
       "version_minor": 0
      },
      "text/plain": [
       "HBox(children=(IntProgress(value=0, max=4), HTML(value='')))"
      ]
     },
     "metadata": {},
     "output_type": "display_data"
    },
    {
     "data": {
      "application/vnd.jupyter.widget-view+json": {
       "model_id": "4a095e265d6d456da1b5a1d6d314d0e9",
       "version_major": 2,
       "version_minor": 0
      },
      "text/plain": [
       "HBox(children=(IntProgress(value=0, max=3199), HTML(value='')))"
      ]
     },
     "metadata": {},
     "output_type": "display_data"
    },
    {
     "data": {
      "application/vnd.jupyter.widget-view+json": {
       "model_id": "07f3fd795d9c47d6bf47f3e7d343b298",
       "version_major": 2,
       "version_minor": 0
      },
      "text/plain": [
       "HBox(children=(IntProgress(value=0, max=479), HTML(value='')))"
      ]
     },
     "metadata": {},
     "output_type": "display_data"
    },
    {
     "data": {
      "application/vnd.jupyter.widget-view+json": {
       "model_id": "537d045e027b4c4bacedd379dde1e8c7",
       "version_major": 2,
       "version_minor": 0
      },
      "text/plain": [
       "HBox(children=(IntProgress(value=0, max=479), HTML(value='')))"
      ]
     },
     "metadata": {},
     "output_type": "display_data"
    },
    {
     "data": {
      "application/vnd.jupyter.widget-view+json": {
       "model_id": "e5ac1d27ce434e80bf18b76c0920095e",
       "version_major": 2,
       "version_minor": 0
      },
      "text/plain": [
       "HBox(children=(IntProgress(value=0, max=479), HTML(value='')))"
      ]
     },
     "metadata": {},
     "output_type": "display_data"
    },
    {
     "name": "stdout",
     "output_type": "stream",
     "text": [
      "\n",
      "(7835, 101, 101, 1)\n",
      "(7835, 101, 101, 1)\n",
      "(7835,)\n",
      "load from last run ../model/segmenter/Unet_resnet_deeper_fix7_32_32_0.5_4.model\n",
      "Train on 7835 samples, validate on 801 samples\n",
      "Epoch 1/200\n",
      "7835/7835 [==============================] - 164s 21ms/step - loss: -0.5434 - my_iou_metric_2: 0.8634 - val_loss: -0.6809 - val_my_iou_metric_2: 0.8948\n",
      "\n",
      "Epoch 00001: val_my_iou_metric_2 improved from -inf to 0.89476, saving model to ../model/segmenter/Unet_resnet_deeper_fix10_32_32_0.5_0.model\n",
      "Epoch 2/200\n",
      "7835/7835 [==============================] - 151s 19ms/step - loss: -0.5573 - my_iou_metric_2: 0.8643 - val_loss: -0.6492 - val_my_iou_metric_2: 0.8893\n",
      "\n",
      "Epoch 00002: val_my_iou_metric_2 did not improve from 0.89476\n",
      "Epoch 3/200\n",
      "7835/7835 [==============================] - 151s 19ms/step - loss: -0.5567 - my_iou_metric_2: 0.8626 - val_loss: -0.6724 - val_my_iou_metric_2: 0.8906\n",
      "\n",
      "Epoch 00003: val_my_iou_metric_2 did not improve from 0.89476\n",
      "Epoch 4/200\n",
      "7835/7835 [==============================] - 151s 19ms/step - loss: -0.5681 - my_iou_metric_2: 0.8662 - val_loss: -0.6720 - val_my_iou_metric_2: 0.8926\n",
      "\n",
      "Epoch 00004: val_my_iou_metric_2 did not improve from 0.89476\n",
      "\n",
      "Epoch 00004: ReduceLROnPlateau reducing learning rate to 0.0012499999720603228.\n",
      "Epoch 5/200\n",
      "7835/7835 [==============================] - 151s 19ms/step - loss: -0.5826 - my_iou_metric_2: 0.8684 - val_loss: -0.6714 - val_my_iou_metric_2: 0.8919\n",
      "\n",
      "Epoch 00005: val_my_iou_metric_2 did not improve from 0.89476\n",
      "Epoch 6/200\n",
      "7835/7835 [==============================] - 151s 19ms/step - loss: -0.5936 - my_iou_metric_2: 0.8710 - val_loss: -0.6791 - val_my_iou_metric_2: 0.8926\n",
      "\n",
      "Epoch 00006: val_my_iou_metric_2 did not improve from 0.89476\n",
      "Epoch 7/200\n",
      "7835/7835 [==============================] - 151s 19ms/step - loss: -0.6000 - my_iou_metric_2: 0.8710 - val_loss: -0.6673 - val_my_iou_metric_2: 0.8905\n",
      "\n",
      "Epoch 00007: val_my_iou_metric_2 did not improve from 0.89476\n",
      "\n",
      "Epoch 00007: ReduceLROnPlateau reducing learning rate to 0.0006249999860301614.\n",
      "Epoch 8/200\n",
      "7835/7835 [==============================] - 151s 19ms/step - loss: -0.6016 - my_iou_metric_2: 0.8712 - val_loss: -0.6720 - val_my_iou_metric_2: 0.8945\n",
      "\n",
      "Epoch 00008: val_my_iou_metric_2 did not improve from 0.89476\n",
      "Epoch 9/200\n",
      "7835/7835 [==============================] - 151s 19ms/step - loss: -0.6084 - my_iou_metric_2: 0.8753 - val_loss: -0.6771 - val_my_iou_metric_2: 0.8928\n",
      "\n",
      "Epoch 00009: val_my_iou_metric_2 did not improve from 0.89476\n",
      "Epoch 10/200\n",
      "7835/7835 [==============================] - 151s 19ms/step - loss: -0.6135 - my_iou_metric_2: 0.8779 - val_loss: -0.6732 - val_my_iou_metric_2: 0.8918\n",
      "\n",
      "Epoch 00010: val_my_iou_metric_2 did not improve from 0.89476\n",
      "\n",
      "Epoch 00010: ReduceLROnPlateau reducing learning rate to 0.0003124999930150807.\n",
      "Epoch 11/200\n",
      "7835/7835 [==============================] - 151s 19ms/step - loss: -0.6155 - my_iou_metric_2: 0.8762 - val_loss: -0.6756 - val_my_iou_metric_2: 0.8954\n",
      "\n",
      "Epoch 00011: val_my_iou_metric_2 improved from 0.89476 to 0.89538, saving model to ../model/segmenter/Unet_resnet_deeper_fix10_32_32_0.5_0.model\n",
      "Epoch 12/200\n",
      "7835/7835 [==============================] - 151s 19ms/step - loss: -0.6162 - my_iou_metric_2: 0.8762 - val_loss: -0.6740 - val_my_iou_metric_2: 0.8935\n",
      "\n",
      "Epoch 00012: val_my_iou_metric_2 did not improve from 0.89538\n",
      "Epoch 13/200\n",
      "7835/7835 [==============================] - 151s 19ms/step - loss: -0.6225 - my_iou_metric_2: 0.8761 - val_loss: -0.6748 - val_my_iou_metric_2: 0.8924\n",
      "\n",
      "Epoch 00013: val_my_iou_metric_2 did not improve from 0.89538\n",
      "Epoch 14/200\n",
      "7835/7835 [==============================] - 151s 19ms/step - loss: -0.6183 - my_iou_metric_2: 0.8754 - val_loss: -0.6720 - val_my_iou_metric_2: 0.8923\n",
      "\n",
      "Epoch 00014: val_my_iou_metric_2 did not improve from 0.89538\n",
      "\n",
      "Epoch 00014: ReduceLROnPlateau reducing learning rate to 0.00015624999650754035.\n",
      "Epoch 15/200\n",
      "7835/7835 [==============================] - 151s 19ms/step - loss: -0.6257 - my_iou_metric_2: 0.8785 - val_loss: -0.6746 - val_my_iou_metric_2: 0.8954\n",
      "\n",
      "Epoch 00015: val_my_iou_metric_2 did not improve from 0.89538\n",
      "Epoch 16/200\n",
      "7835/7835 [==============================] - 151s 19ms/step - loss: -0.6245 - my_iou_metric_2: 0.8780 - val_loss: -0.6749 - val_my_iou_metric_2: 0.8935\n",
      "\n",
      "Epoch 00016: val_my_iou_metric_2 did not improve from 0.89538\n",
      "Epoch 17/200\n",
      "7835/7835 [==============================] - 151s 19ms/step - loss: -0.6278 - my_iou_metric_2: 0.8796 - val_loss: -0.6742 - val_my_iou_metric_2: 0.8936\n",
      "\n",
      "Epoch 00017: val_my_iou_metric_2 did not improve from 0.89538\n",
      "\n",
      "Epoch 00017: ReduceLROnPlateau reducing learning rate to 7.812499825377017e-05.\n",
      "Epoch 18/200\n",
      "7835/7835 [==============================] - 151s 19ms/step - loss: -0.6242 - my_iou_metric_2: 0.8789 - val_loss: -0.6744 - val_my_iou_metric_2: 0.8941\n",
      "\n",
      "Epoch 00018: val_my_iou_metric_2 did not improve from 0.89538\n",
      "Epoch 19/200\n",
      "7835/7835 [==============================] - 151s 19ms/step - loss: -0.6265 - my_iou_metric_2: 0.8783 - val_loss: -0.6752 - val_my_iou_metric_2: 0.8948\n",
      "\n",
      "Epoch 00019: val_my_iou_metric_2 did not improve from 0.89538\n",
      "Epoch 20/200\n",
      "7835/7835 [==============================] - 151s 19ms/step - loss: -0.6214 - my_iou_metric_2: 0.8771 - val_loss: -0.6740 - val_my_iou_metric_2: 0.8951\n",
      "\n",
      "Epoch 00020: val_my_iou_metric_2 did not improve from 0.89538\n",
      "\n",
      "Epoch 00020: ReduceLROnPlateau reducing learning rate to 3.9062499126885086e-05.\n",
      "Epoch 21/200\n",
      "7835/7835 [==============================] - 151s 19ms/step - loss: -0.6294 - my_iou_metric_2: 0.8784 - val_loss: -0.6743 - val_my_iou_metric_2: 0.8946\n",
      "\n",
      "Epoch 00021: val_my_iou_metric_2 did not improve from 0.89538\n",
      "Epoch 22/200\n",
      "7835/7835 [==============================] - 151s 19ms/step - loss: -0.6294 - my_iou_metric_2: 0.8798 - val_loss: -0.6743 - val_my_iou_metric_2: 0.8930\n",
      "\n",
      "Epoch 00022: val_my_iou_metric_2 did not improve from 0.89538\n",
      "Epoch 23/200\n",
      "7835/7835 [==============================] - 151s 19ms/step - loss: -0.6263 - my_iou_metric_2: 0.8782 - val_loss: -0.6746 - val_my_iou_metric_2: 0.8929\n",
      "\n",
      "Epoch 00023: val_my_iou_metric_2 did not improve from 0.89538\n",
      "\n",
      "Epoch 00023: ReduceLROnPlateau reducing learning rate to 1.9531249563442543e-05.\n",
      "Epoch 00023: early stopping\n",
      "fold 1\n"
     ]
    },
    {
     "data": {
      "application/vnd.jupyter.widget-view+json": {
       "model_id": "464d6cf36e284989aa4b8d966420f524",
       "version_major": 2,
       "version_minor": 0
      },
      "text/plain": [
       "HBox(children=(IntProgress(value=0, max=4), HTML(value='')))"
      ]
     },
     "metadata": {},
     "output_type": "display_data"
    },
    {
     "data": {
      "application/vnd.jupyter.widget-view+json": {
       "model_id": "034b254c86a94869974379a6d6b454b7",
       "version_major": 2,
       "version_minor": 0
      },
      "text/plain": [
       "HBox(children=(IntProgress(value=0, max=3199), HTML(value='')))"
      ]
     },
     "metadata": {},
     "output_type": "display_data"
    },
    {
     "data": {
      "application/vnd.jupyter.widget-view+json": {
       "model_id": "a64c71a19009411d8a3b492208eb4a3b",
       "version_major": 2,
       "version_minor": 0
      },
      "text/plain": [
       "HBox(children=(IntProgress(value=0, max=479), HTML(value='')))"
      ]
     },
     "metadata": {},
     "output_type": "display_data"
    },
    {
     "data": {
      "application/vnd.jupyter.widget-view+json": {
       "model_id": "ea0845e0ed7f4de2862eb4f016544858",
       "version_major": 2,
       "version_minor": 0
      },
      "text/plain": [
       "HBox(children=(IntProgress(value=0, max=479), HTML(value='')))"
      ]
     },
     "metadata": {},
     "output_type": "display_data"
    },
    {
     "data": {
      "application/vnd.jupyter.widget-view+json": {
       "model_id": "891609a5e865418992e4317593a8e47d",
       "version_major": 2,
       "version_minor": 0
      },
      "text/plain": [
       "HBox(children=(IntProgress(value=0, max=479), HTML(value='')))"
      ]
     },
     "metadata": {},
     "output_type": "display_data"
    },
    {
     "name": "stdout",
     "output_type": "stream",
     "text": [
      "\n",
      "(7835, 101, 101, 1)\n",
      "(7835, 101, 101, 1)\n",
      "(7835,)\n",
      "load from last run ../model/segmenter/Unet_resnet_deeper_fix7_32_32_0.5_4.model\n",
      "Train on 7835 samples, validate on 801 samples\n",
      "Epoch 1/200\n",
      "7835/7835 [==============================] - 162s 21ms/step - loss: -0.5335 - my_iou_metric_2: 0.8581 - val_loss: -0.6862 - val_my_iou_metric_2: 0.8990\n",
      "\n",
      "Epoch 00001: val_my_iou_metric_2 improved from -inf to 0.89900, saving model to ../model/segmenter/Unet_resnet_deeper_fix10_32_32_0.5_1.model\n",
      "Epoch 2/200\n",
      "7835/7835 [==============================] - 151s 19ms/step - loss: -0.5536 - my_iou_metric_2: 0.8613 - val_loss: -0.6911 - val_my_iou_metric_2: 0.8974\n",
      "\n",
      "Epoch 00002: val_my_iou_metric_2 did not improve from 0.89900\n",
      "Epoch 3/200\n",
      "7835/7835 [==============================] - 151s 19ms/step - loss: -0.5713 - my_iou_metric_2: 0.8658 - val_loss: -0.6905 - val_my_iou_metric_2: 0.8995\n",
      "\n",
      "Epoch 00003: val_my_iou_metric_2 improved from 0.89900 to 0.89950, saving model to ../model/segmenter/Unet_resnet_deeper_fix10_32_32_0.5_1.model\n",
      "Epoch 4/200\n",
      "7835/7835 [==============================] - 151s 19ms/step - loss: -0.5659 - my_iou_metric_2: 0.8656 - val_loss: -0.6874 - val_my_iou_metric_2: 0.8961\n",
      "\n",
      "Epoch 00004: val_my_iou_metric_2 did not improve from 0.89950\n",
      "Epoch 5/200\n",
      "7835/7835 [==============================] - 151s 19ms/step - loss: -0.5729 - my_iou_metric_2: 0.8681 - val_loss: -0.6932 - val_my_iou_metric_2: 0.8970\n",
      "\n",
      "Epoch 00005: val_my_iou_metric_2 did not improve from 0.89950\n",
      "Epoch 6/200\n",
      "7835/7835 [==============================] - 151s 19ms/step - loss: -0.5915 - my_iou_metric_2: 0.8697 - val_loss: -0.6719 - val_my_iou_metric_2: 0.8970\n",
      "\n",
      "Epoch 00006: val_my_iou_metric_2 did not improve from 0.89950\n",
      "\n",
      "Epoch 00006: ReduceLROnPlateau reducing learning rate to 0.0012499999720603228.\n",
      "Epoch 7/200\n",
      "7835/7835 [==============================] - 151s 19ms/step - loss: -0.5991 - my_iou_metric_2: 0.8719 - val_loss: -0.7008 - val_my_iou_metric_2: 0.8990\n",
      "\n",
      "Epoch 00007: val_my_iou_metric_2 did not improve from 0.89950\n",
      "Epoch 8/200\n",
      "7835/7835 [==============================] - 151s 19ms/step - loss: -0.6084 - my_iou_metric_2: 0.8725 - val_loss: -0.6971 - val_my_iou_metric_2: 0.9030\n",
      "\n",
      "Epoch 00008: val_my_iou_metric_2 improved from 0.89950 to 0.90300, saving model to ../model/segmenter/Unet_resnet_deeper_fix10_32_32_0.5_1.model\n",
      "Epoch 9/200\n",
      "7835/7835 [==============================] - 151s 19ms/step - loss: -0.6101 - my_iou_metric_2: 0.8738 - val_loss: -0.6971 - val_my_iou_metric_2: 0.9000\n",
      "\n",
      "Epoch 00009: val_my_iou_metric_2 did not improve from 0.90300\n",
      "Epoch 10/200\n",
      "7835/7835 [==============================] - 151s 19ms/step - loss: -0.6088 - my_iou_metric_2: 0.8754 - val_loss: -0.6976 - val_my_iou_metric_2: 0.8990\n",
      "\n",
      "Epoch 00010: val_my_iou_metric_2 did not improve from 0.90300\n",
      "Epoch 11/200\n",
      "7835/7835 [==============================] - 151s 19ms/step - loss: -0.6185 - my_iou_metric_2: 0.8771 - val_loss: -0.6979 - val_my_iou_metric_2: 0.8991\n",
      "\n",
      "Epoch 00011: val_my_iou_metric_2 did not improve from 0.90300\n",
      "\n",
      "Epoch 00011: ReduceLROnPlateau reducing learning rate to 0.0006249999860301614.\n",
      "Epoch 12/200\n",
      "7835/7835 [==============================] - 151s 19ms/step - loss: -0.6249 - my_iou_metric_2: 0.8783 - val_loss: -0.6961 - val_my_iou_metric_2: 0.9002\n",
      "\n",
      "Epoch 00012: val_my_iou_metric_2 did not improve from 0.90300\n",
      "Epoch 13/200\n",
      "7835/7835 [==============================] - 151s 19ms/step - loss: -0.6267 - my_iou_metric_2: 0.8774 - val_loss: -0.6974 - val_my_iou_metric_2: 0.9012\n",
      "\n",
      "Epoch 00013: val_my_iou_metric_2 did not improve from 0.90300\n",
      "Epoch 14/200\n",
      "7835/7835 [==============================] - 151s 19ms/step - loss: -0.6285 - my_iou_metric_2: 0.8779 - val_loss: -0.6958 - val_my_iou_metric_2: 0.9016\n",
      "\n",
      "Epoch 00014: val_my_iou_metric_2 did not improve from 0.90300\n",
      "\n",
      "Epoch 00014: ReduceLROnPlateau reducing learning rate to 0.0003124999930150807.\n",
      "Epoch 15/200\n",
      "7835/7835 [==============================] - 151s 19ms/step - loss: -0.6330 - my_iou_metric_2: 0.8797 - val_loss: -0.6981 - val_my_iou_metric_2: 0.9036\n",
      "\n",
      "Epoch 00015: val_my_iou_metric_2 improved from 0.90300 to 0.90362, saving model to ../model/segmenter/Unet_resnet_deeper_fix10_32_32_0.5_1.model\n",
      "Epoch 16/200\n",
      "7835/7835 [==============================] - 151s 19ms/step - loss: -0.6333 - my_iou_metric_2: 0.8793 - val_loss: -0.7019 - val_my_iou_metric_2: 0.9030\n",
      "\n",
      "Epoch 00016: val_my_iou_metric_2 did not improve from 0.90362\n",
      "Epoch 17/200\n",
      "7835/7835 [==============================] - 151s 19ms/step - loss: -0.6360 - my_iou_metric_2: 0.8802 - val_loss: -0.7021 - val_my_iou_metric_2: 0.9037\n",
      "\n",
      "Epoch 00017: val_my_iou_metric_2 improved from 0.90362 to 0.90375, saving model to ../model/segmenter/Unet_resnet_deeper_fix10_32_32_0.5_1.model\n",
      "Epoch 18/200\n",
      "7835/7835 [==============================] - 151s 19ms/step - loss: -0.6357 - my_iou_metric_2: 0.8797 - val_loss: -0.7014 - val_my_iou_metric_2: 0.9032\n",
      "\n",
      "Epoch 00018: val_my_iou_metric_2 did not improve from 0.90375\n",
      "Epoch 19/200\n",
      "7835/7835 [==============================] - 151s 19ms/step - loss: -0.6406 - my_iou_metric_2: 0.8821 - val_loss: -0.7059 - val_my_iou_metric_2: 0.9039\n",
      "\n",
      "Epoch 00019: val_my_iou_metric_2 improved from 0.90375 to 0.90387, saving model to ../model/segmenter/Unet_resnet_deeper_fix10_32_32_0.5_1.model\n",
      "Epoch 20/200\n",
      "7835/7835 [==============================] - 151s 19ms/step - loss: -0.6334 - my_iou_metric_2: 0.8777 - val_loss: -0.7047 - val_my_iou_metric_2: 0.9027\n",
      "\n",
      "Epoch 00020: val_my_iou_metric_2 did not improve from 0.90387\n",
      "Epoch 21/200\n",
      "7835/7835 [==============================] - 151s 19ms/step - loss: -0.6379 - my_iou_metric_2: 0.8796 - val_loss: -0.7046 - val_my_iou_metric_2: 0.9029\n",
      "\n",
      "Epoch 00021: val_my_iou_metric_2 did not improve from 0.90387\n",
      "Epoch 22/200\n",
      "7835/7835 [==============================] - 151s 19ms/step - loss: -0.6349 - my_iou_metric_2: 0.8814 - val_loss: -0.7076 - val_my_iou_metric_2: 0.9034\n",
      "\n",
      "Epoch 00022: val_my_iou_metric_2 did not improve from 0.90387\n",
      "\n",
      "Epoch 00022: ReduceLROnPlateau reducing learning rate to 0.00015624999650754035.\n",
      "Epoch 23/200\n",
      "7835/7835 [==============================] - 151s 19ms/step - loss: -0.6384 - my_iou_metric_2: 0.8809 - val_loss: -0.7073 - val_my_iou_metric_2: 0.9026\n",
      "\n",
      "Epoch 00023: val_my_iou_metric_2 did not improve from 0.90387\n",
      "Epoch 24/200\n",
      "7835/7835 [==============================] - 151s 19ms/step - loss: -0.6412 - my_iou_metric_2: 0.8809 - val_loss: -0.7064 - val_my_iou_metric_2: 0.9037\n",
      "\n",
      "Epoch 00024: val_my_iou_metric_2 did not improve from 0.90387\n",
      "Epoch 25/200\n",
      "7835/7835 [==============================] - 151s 19ms/step - loss: -0.6422 - my_iou_metric_2: 0.8805 - val_loss: -0.7073 - val_my_iou_metric_2: 0.9032\n",
      "\n",
      "Epoch 00025: val_my_iou_metric_2 did not improve from 0.90387\n",
      "\n",
      "Epoch 00025: ReduceLROnPlateau reducing learning rate to 7.812499825377017e-05.\n",
      "Epoch 26/200\n",
      "7835/7835 [==============================] - 151s 19ms/step - loss: -0.6406 - my_iou_metric_2: 0.8813 - val_loss: -0.7075 - val_my_iou_metric_2: 0.9040\n",
      "\n",
      "Epoch 00026: val_my_iou_metric_2 improved from 0.90387 to 0.90400, saving model to ../model/segmenter/Unet_resnet_deeper_fix10_32_32_0.5_1.model\n",
      "Epoch 27/200\n",
      "7835/7835 [==============================] - 151s 19ms/step - loss: -0.6433 - my_iou_metric_2: 0.8816 - val_loss: -0.7070 - val_my_iou_metric_2: 0.9032\n",
      "\n",
      "Epoch 00027: val_my_iou_metric_2 did not improve from 0.90400\n",
      "Epoch 28/200\n",
      "7835/7835 [==============================] - 151s 19ms/step - loss: -0.6432 - my_iou_metric_2: 0.8809 - val_loss: -0.7066 - val_my_iou_metric_2: 0.9032\n",
      "\n",
      "Epoch 00028: val_my_iou_metric_2 did not improve from 0.90400\n",
      "Epoch 29/200\n",
      "7835/7835 [==============================] - 151s 19ms/step - loss: -0.6437 - my_iou_metric_2: 0.8816 - val_loss: -0.7069 - val_my_iou_metric_2: 0.9037\n",
      "\n",
      "Epoch 00029: val_my_iou_metric_2 did not improve from 0.90400\n",
      "\n",
      "Epoch 00029: ReduceLROnPlateau reducing learning rate to 3.9062499126885086e-05.\n",
      "Epoch 30/200\n",
      "7835/7835 [==============================] - 151s 19ms/step - loss: -0.6430 - my_iou_metric_2: 0.8823 - val_loss: -0.7066 - val_my_iou_metric_2: 0.9035\n",
      "\n",
      "Epoch 00030: val_my_iou_metric_2 did not improve from 0.90400\n",
      "Epoch 31/200\n",
      "7835/7835 [==============================] - 151s 19ms/step - loss: -0.6443 - my_iou_metric_2: 0.8822 - val_loss: -0.7066 - val_my_iou_metric_2: 0.9040\n"
     ]
    },
    {
     "name": "stdout",
     "output_type": "stream",
     "text": [
      "\n",
      "Epoch 00031: val_my_iou_metric_2 did not improve from 0.90400\n",
      "Epoch 32/200\n",
      "7835/7835 [==============================] - 151s 19ms/step - loss: -0.6455 - my_iou_metric_2: 0.8828 - val_loss: -0.7059 - val_my_iou_metric_2: 0.9032\n",
      "\n",
      "Epoch 00032: val_my_iou_metric_2 did not improve from 0.90400\n",
      "\n",
      "Epoch 00032: ReduceLROnPlateau reducing learning rate to 1.9531249563442543e-05.\n",
      "Epoch 33/200\n",
      "7835/7835 [==============================] - 151s 19ms/step - loss: -0.6406 - my_iou_metric_2: 0.8818 - val_loss: -0.7060 - val_my_iou_metric_2: 0.9029\n",
      "\n",
      "Epoch 00033: val_my_iou_metric_2 did not improve from 0.90400\n",
      "Epoch 34/200\n",
      "7835/7835 [==============================] - 151s 19ms/step - loss: -0.6467 - my_iou_metric_2: 0.8814 - val_loss: -0.7063 - val_my_iou_metric_2: 0.9032\n",
      "\n",
      "Epoch 00034: val_my_iou_metric_2 did not improve from 0.90400\n",
      "Epoch 35/200\n",
      "7835/7835 [==============================] - 151s 19ms/step - loss: -0.6453 - my_iou_metric_2: 0.8833 - val_loss: -0.7060 - val_my_iou_metric_2: 0.9035\n",
      "\n",
      "Epoch 00035: val_my_iou_metric_2 did not improve from 0.90400\n",
      "\n",
      "Epoch 00035: ReduceLROnPlateau reducing learning rate to 1e-05.\n",
      "Epoch 36/200\n",
      "7835/7835 [==============================] - 151s 19ms/step - loss: -0.6463 - my_iou_metric_2: 0.8820 - val_loss: -0.7062 - val_my_iou_metric_2: 0.9035\n",
      "\n",
      "Epoch 00036: val_my_iou_metric_2 did not improve from 0.90400\n",
      "Epoch 37/200\n",
      "7835/7835 [==============================] - 151s 19ms/step - loss: -0.6477 - my_iou_metric_2: 0.8820 - val_loss: -0.7064 - val_my_iou_metric_2: 0.9032\n",
      "\n",
      "Epoch 00037: val_my_iou_metric_2 did not improve from 0.90400\n",
      "Epoch 38/200\n",
      "7835/7835 [==============================] - 151s 19ms/step - loss: -0.6441 - my_iou_metric_2: 0.8821 - val_loss: -0.7060 - val_my_iou_metric_2: 0.9027\n",
      "\n",
      "Epoch 00038: val_my_iou_metric_2 did not improve from 0.90400\n",
      "Epoch 00038: early stopping\n",
      "fold 2\n"
     ]
    },
    {
     "data": {
      "application/vnd.jupyter.widget-view+json": {
       "model_id": "87111a8d51474e72be06a30815b4df16",
       "version_major": 2,
       "version_minor": 0
      },
      "text/plain": [
       "HBox(children=(IntProgress(value=0, max=4), HTML(value='')))"
      ]
     },
     "metadata": {},
     "output_type": "display_data"
    },
    {
     "data": {
      "application/vnd.jupyter.widget-view+json": {
       "model_id": "f796e0f369b146e1b58a227f5d40c455",
       "version_major": 2,
       "version_minor": 0
      },
      "text/plain": [
       "HBox(children=(IntProgress(value=0, max=3200), HTML(value='')))"
      ]
     },
     "metadata": {},
     "output_type": "display_data"
    },
    {
     "data": {
      "application/vnd.jupyter.widget-view+json": {
       "model_id": "50df85b592814533ac4c9ac8dddc912f",
       "version_major": 2,
       "version_minor": 0
      },
      "text/plain": [
       "HBox(children=(IntProgress(value=0, max=480), HTML(value='')))"
      ]
     },
     "metadata": {},
     "output_type": "display_data"
    },
    {
     "data": {
      "application/vnd.jupyter.widget-view+json": {
       "model_id": "9afe347e61724b868acc5de09d164cb3",
       "version_major": 2,
       "version_minor": 0
      },
      "text/plain": [
       "HBox(children=(IntProgress(value=0, max=480), HTML(value='')))"
      ]
     },
     "metadata": {},
     "output_type": "display_data"
    },
    {
     "data": {
      "application/vnd.jupyter.widget-view+json": {
       "model_id": "f62061936e5848ada7be61c476bb68f8",
       "version_major": 2,
       "version_minor": 0
      },
      "text/plain": [
       "HBox(children=(IntProgress(value=0, max=480), HTML(value='')))"
      ]
     },
     "metadata": {},
     "output_type": "display_data"
    },
    {
     "name": "stdout",
     "output_type": "stream",
     "text": [
      "\n",
      "(7840, 101, 101, 1)\n",
      "(7840, 101, 101, 1)\n",
      "(7840,)\n",
      "load from last run ../model/segmenter/Unet_resnet_deeper_fix7_32_32_0.5_4.model\n",
      "Train on 7840 samples, validate on 800 samples\n",
      "Epoch 1/200\n",
      "7840/7840 [==============================] - 163s 21ms/step - loss: -0.5398 - my_iou_metric_2: 0.8625 - val_loss: -0.6848 - val_my_iou_metric_2: 0.8969\n",
      "\n",
      "Epoch 00001: val_my_iou_metric_2 improved from -inf to 0.89688, saving model to ../model/segmenter/Unet_resnet_deeper_fix10_32_32_0.5_2.model\n",
      "Epoch 2/200\n",
      "7840/7840 [==============================] - 151s 19ms/step - loss: -0.5596 - my_iou_metric_2: 0.8656 - val_loss: -0.6798 - val_my_iou_metric_2: 0.8934\n",
      "\n",
      "Epoch 00002: val_my_iou_metric_2 did not improve from 0.89688\n",
      "Epoch 3/200\n",
      "7840/7840 [==============================] - 151s 19ms/step - loss: -0.5639 - my_iou_metric_2: 0.8679 - val_loss: -0.6832 - val_my_iou_metric_2: 0.8936\n",
      "\n",
      "Epoch 00003: val_my_iou_metric_2 did not improve from 0.89688\n",
      "Epoch 4/200\n",
      "7840/7840 [==============================] - 151s 19ms/step - loss: -0.5804 - my_iou_metric_2: 0.8712 - val_loss: -0.6534 - val_my_iou_metric_2: 0.8910\n",
      "\n",
      "Epoch 00004: val_my_iou_metric_2 did not improve from 0.89688\n",
      "\n",
      "Epoch 00004: ReduceLROnPlateau reducing learning rate to 0.0012499999720603228.\n",
      "Epoch 5/200\n",
      "7840/7840 [==============================] - 151s 19ms/step - loss: -0.5861 - my_iou_metric_2: 0.8706 - val_loss: -0.6818 - val_my_iou_metric_2: 0.8917\n",
      "\n",
      "Epoch 00005: val_my_iou_metric_2 did not improve from 0.89688\n",
      "Epoch 6/200\n",
      "7840/7840 [==============================] - 151s 19ms/step - loss: -0.6047 - my_iou_metric_2: 0.8759 - val_loss: -0.6818 - val_my_iou_metric_2: 0.8967\n",
      "\n",
      "Epoch 00006: val_my_iou_metric_2 did not improve from 0.89688\n",
      "Epoch 7/200\n",
      "7840/7840 [==============================] - 151s 19ms/step - loss: -0.6043 - my_iou_metric_2: 0.8762 - val_loss: -0.6780 - val_my_iou_metric_2: 0.8970\n",
      "\n",
      "Epoch 00007: val_my_iou_metric_2 improved from 0.89688 to 0.89700, saving model to ../model/segmenter/Unet_resnet_deeper_fix10_32_32_0.5_2.model\n",
      "Epoch 8/200\n",
      "7840/7840 [==============================] - 151s 19ms/step - loss: -0.6054 - my_iou_metric_2: 0.8773 - val_loss: -0.6812 - val_my_iou_metric_2: 0.8961\n",
      "\n",
      "Epoch 00008: val_my_iou_metric_2 did not improve from 0.89700\n",
      "Epoch 9/200\n",
      "7840/7840 [==============================] - 151s 19ms/step - loss: -0.6075 - my_iou_metric_2: 0.8745 - val_loss: -0.6772 - val_my_iou_metric_2: 0.8934\n",
      "\n",
      "Epoch 00009: val_my_iou_metric_2 did not improve from 0.89700\n",
      "Epoch 10/200\n",
      "7840/7840 [==============================] - 151s 19ms/step - loss: -0.6110 - my_iou_metric_2: 0.8783 - val_loss: -0.6783 - val_my_iou_metric_2: 0.8936\n",
      "\n",
      "Epoch 00010: val_my_iou_metric_2 did not improve from 0.89700\n",
      "\n",
      "Epoch 00010: ReduceLROnPlateau reducing learning rate to 0.0006249999860301614.\n",
      "Epoch 11/200\n",
      "7840/7840 [==============================] - 151s 19ms/step - loss: -0.6196 - my_iou_metric_2: 0.8805 - val_loss: -0.6802 - val_my_iou_metric_2: 0.8965\n",
      "\n",
      "Epoch 00011: val_my_iou_metric_2 did not improve from 0.89700\n",
      "Epoch 12/200\n",
      "7840/7840 [==============================] - 151s 19ms/step - loss: -0.6238 - my_iou_metric_2: 0.8809 - val_loss: -0.6814 - val_my_iou_metric_2: 0.8954\n",
      "\n",
      "Epoch 00012: val_my_iou_metric_2 did not improve from 0.89700\n",
      "Epoch 13/200\n",
      "7840/7840 [==============================] - 151s 19ms/step - loss: -0.6273 - my_iou_metric_2: 0.8805 - val_loss: -0.6807 - val_my_iou_metric_2: 0.8934\n",
      "\n",
      "Epoch 00013: val_my_iou_metric_2 did not improve from 0.89700\n",
      "\n",
      "Epoch 00013: ReduceLROnPlateau reducing learning rate to 0.0003124999930150807.\n",
      "Epoch 14/200\n",
      "7840/7840 [==============================] - 151s 19ms/step - loss: -0.6319 - my_iou_metric_2: 0.8808 - val_loss: -0.6817 - val_my_iou_metric_2: 0.8952\n",
      "\n",
      "Epoch 00014: val_my_iou_metric_2 did not improve from 0.89700\n",
      "Epoch 15/200\n",
      "7840/7840 [==============================] - 151s 19ms/step - loss: -0.6286 - my_iou_metric_2: 0.8791 - val_loss: -0.6802 - val_my_iou_metric_2: 0.8945\n",
      "\n",
      "Epoch 00015: val_my_iou_metric_2 did not improve from 0.89700\n",
      "Epoch 16/200\n",
      "7840/7840 [==============================] - 151s 19ms/step - loss: -0.6299 - my_iou_metric_2: 0.8809 - val_loss: -0.6784 - val_my_iou_metric_2: 0.8956\n",
      "\n",
      "Epoch 00016: val_my_iou_metric_2 did not improve from 0.89700\n",
      "\n",
      "Epoch 00016: ReduceLROnPlateau reducing learning rate to 0.00015624999650754035.\n",
      "Epoch 17/200\n",
      "7840/7840 [==============================] - 151s 19ms/step - loss: -0.6307 - my_iou_metric_2: 0.8812 - val_loss: -0.6799 - val_my_iou_metric_2: 0.8950\n",
      "\n",
      "Epoch 00017: val_my_iou_metric_2 did not improve from 0.89700\n",
      "Epoch 18/200\n",
      "7840/7840 [==============================] - 151s 19ms/step - loss: -0.6387 - my_iou_metric_2: 0.8833 - val_loss: -0.6808 - val_my_iou_metric_2: 0.8949\n",
      "\n",
      "Epoch 00018: val_my_iou_metric_2 did not improve from 0.89700\n",
      "Epoch 19/200\n",
      "7840/7840 [==============================] - 151s 19ms/step - loss: -0.6373 - my_iou_metric_2: 0.8841 - val_loss: -0.6812 - val_my_iou_metric_2: 0.8957\n",
      "\n",
      "Epoch 00019: val_my_iou_metric_2 did not improve from 0.89700\n",
      "\n",
      "Epoch 00019: ReduceLROnPlateau reducing learning rate to 7.812499825377017e-05.\n",
      "Epoch 00019: early stopping\n",
      "fold 3\n"
     ]
    },
    {
     "data": {
      "application/vnd.jupyter.widget-view+json": {
       "model_id": "b2c6b1858f73425981922876f5a8c59b",
       "version_major": 2,
       "version_minor": 0
      },
      "text/plain": [
       "HBox(children=(IntProgress(value=0, max=4), HTML(value='')))"
      ]
     },
     "metadata": {},
     "output_type": "display_data"
    },
    {
     "data": {
      "application/vnd.jupyter.widget-view+json": {
       "model_id": "f53df3bc37ca4a6e90ce4a99c8b68c94",
       "version_major": 2,
       "version_minor": 0
      },
      "text/plain": [
       "HBox(children=(IntProgress(value=0, max=3201), HTML(value='')))"
      ]
     },
     "metadata": {},
     "output_type": "display_data"
    },
    {
     "data": {
      "application/vnd.jupyter.widget-view+json": {
       "model_id": "6a0f529606a547068dcd758c69937625",
       "version_major": 2,
       "version_minor": 0
      },
      "text/plain": [
       "HBox(children=(IntProgress(value=0, max=480), HTML(value='')))"
      ]
     },
     "metadata": {},
     "output_type": "display_data"
    },
    {
     "data": {
      "application/vnd.jupyter.widget-view+json": {
       "model_id": "85664e864f5b45f5be666148c877603c",
       "version_major": 2,
       "version_minor": 0
      },
      "text/plain": [
       "HBox(children=(IntProgress(value=0, max=480), HTML(value='')))"
      ]
     },
     "metadata": {},
     "output_type": "display_data"
    },
    {
     "data": {
      "application/vnd.jupyter.widget-view+json": {
       "model_id": "74f6e3f803284a8f83a16ccc701c719a",
       "version_major": 2,
       "version_minor": 0
      },
      "text/plain": [
       "HBox(children=(IntProgress(value=0, max=480), HTML(value='')))"
      ]
     },
     "metadata": {},
     "output_type": "display_data"
    },
    {
     "name": "stdout",
     "output_type": "stream",
     "text": [
      "\n",
      "(7842, 101, 101, 1)\n",
      "(7842, 101, 101, 1)\n",
      "(7842,)\n",
      "load from last run ../model/segmenter/Unet_resnet_deeper_fix7_32_32_0.5_4.model\n",
      "Train on 7842 samples, validate on 799 samples\n",
      "Epoch 1/200\n",
      "7842/7842 [==============================] - 163s 21ms/step - loss: -0.5446 - my_iou_metric_2: 0.8627 - val_loss: -0.6726 - val_my_iou_metric_2: 0.8882\n",
      "\n",
      "Epoch 00001: val_my_iou_metric_2 improved from -inf to 0.88824, saving model to ../model/segmenter/Unet_resnet_deeper_fix10_32_32_0.5_3.model\n",
      "Epoch 2/200\n",
      "7842/7842 [==============================] - 151s 19ms/step - loss: -0.5530 - my_iou_metric_2: 0.8630 - val_loss: -0.6711 - val_my_iou_metric_2: 0.8860\n",
      "\n",
      "Epoch 00002: val_my_iou_metric_2 did not improve from 0.88824\n",
      "Epoch 3/200\n",
      "7842/7842 [==============================] - 151s 19ms/step - loss: -0.5683 - my_iou_metric_2: 0.8653 - val_loss: -0.6710 - val_my_iou_metric_2: 0.8857\n",
      "\n",
      "Epoch 00003: val_my_iou_metric_2 did not improve from 0.88824\n",
      "Epoch 4/200\n",
      "7842/7842 [==============================] - 151s 19ms/step - loss: -0.5644 - my_iou_metric_2: 0.8679 - val_loss: -0.6699 - val_my_iou_metric_2: 0.8857\n",
      "\n",
      "Epoch 00004: val_my_iou_metric_2 did not improve from 0.88824\n",
      "\n",
      "Epoch 00004: ReduceLROnPlateau reducing learning rate to 0.0012499999720603228.\n",
      "Epoch 5/200\n",
      "7842/7842 [==============================] - 151s 19ms/step - loss: -0.5795 - my_iou_metric_2: 0.8699 - val_loss: -0.6738 - val_my_iou_metric_2: 0.8861\n",
      "\n",
      "Epoch 00005: val_my_iou_metric_2 did not improve from 0.88824\n",
      "Epoch 6/200\n",
      "7842/7842 [==============================] - 151s 19ms/step - loss: -0.5894 - my_iou_metric_2: 0.8721 - val_loss: -0.6767 - val_my_iou_metric_2: 0.8866\n",
      "\n",
      "Epoch 00006: val_my_iou_metric_2 did not improve from 0.88824\n",
      "Epoch 7/200\n",
      "7842/7842 [==============================] - 151s 19ms/step - loss: -0.5974 - my_iou_metric_2: 0.8727 - val_loss: -0.6791 - val_my_iou_metric_2: 0.8876\n",
      "\n",
      "Epoch 00007: val_my_iou_metric_2 did not improve from 0.88824\n",
      "\n",
      "Epoch 00007: ReduceLROnPlateau reducing learning rate to 0.0006249999860301614.\n",
      "Epoch 8/200\n",
      "7842/7842 [==============================] - 151s 19ms/step - loss: -0.6005 - my_iou_metric_2: 0.8732 - val_loss: -0.6778 - val_my_iou_metric_2: 0.8880\n",
      "\n",
      "Epoch 00008: val_my_iou_metric_2 did not improve from 0.88824\n",
      "Epoch 9/200\n",
      "7842/7842 [==============================] - 151s 19ms/step - loss: -0.5993 - my_iou_metric_2: 0.8735 - val_loss: -0.6784 - val_my_iou_metric_2: 0.8881\n",
      "\n",
      "Epoch 00009: val_my_iou_metric_2 did not improve from 0.88824\n",
      "Epoch 10/200\n",
      "7842/7842 [==============================] - 151s 19ms/step - loss: -0.6075 - my_iou_metric_2: 0.8738 - val_loss: -0.6757 - val_my_iou_metric_2: 0.8877\n",
      "\n",
      "Epoch 00010: val_my_iou_metric_2 did not improve from 0.88824\n",
      "\n",
      "Epoch 00010: ReduceLROnPlateau reducing learning rate to 0.0003124999930150807.\n",
      "Epoch 11/200\n",
      "7842/7842 [==============================] - 151s 19ms/step - loss: -0.6136 - my_iou_metric_2: 0.8769 - val_loss: -0.6791 - val_my_iou_metric_2: 0.8900\n",
      "\n",
      "Epoch 00011: val_my_iou_metric_2 improved from 0.88824 to 0.88999, saving model to ../model/segmenter/Unet_resnet_deeper_fix10_32_32_0.5_3.model\n",
      "Epoch 12/200\n",
      "7842/7842 [==============================] - 151s 19ms/step - loss: -0.6040 - my_iou_metric_2: 0.8751 - val_loss: -0.6800 - val_my_iou_metric_2: 0.8895\n",
      "\n",
      "Epoch 00012: val_my_iou_metric_2 did not improve from 0.88999\n",
      "Epoch 13/200\n",
      "7842/7842 [==============================] - 151s 19ms/step - loss: -0.6155 - my_iou_metric_2: 0.8761 - val_loss: -0.6799 - val_my_iou_metric_2: 0.8885\n",
      "\n",
      "Epoch 00013: val_my_iou_metric_2 did not improve from 0.88999\n",
      "Epoch 14/200\n",
      "7842/7842 [==============================] - 151s 19ms/step - loss: -0.6112 - my_iou_metric_2: 0.8771 - val_loss: -0.6800 - val_my_iou_metric_2: 0.8886\n",
      "\n",
      "Epoch 00014: val_my_iou_metric_2 did not improve from 0.88999\n",
      "\n",
      "Epoch 00014: ReduceLROnPlateau reducing learning rate to 0.00015624999650754035.\n",
      "Epoch 15/200\n",
      "7842/7842 [==============================] - 151s 19ms/step - loss: -0.6158 - my_iou_metric_2: 0.8761 - val_loss: -0.6799 - val_my_iou_metric_2: 0.8889\n",
      "\n",
      "Epoch 00015: val_my_iou_metric_2 did not improve from 0.88999\n",
      "Epoch 16/200\n",
      "7842/7842 [==============================] - 151s 19ms/step - loss: -0.6176 - my_iou_metric_2: 0.8777 - val_loss: -0.6804 - val_my_iou_metric_2: 0.8886\n",
      "\n",
      "Epoch 00016: val_my_iou_metric_2 did not improve from 0.88999\n",
      "Epoch 17/200\n",
      "7842/7842 [==============================] - 151s 19ms/step - loss: -0.6186 - my_iou_metric_2: 0.8788 - val_loss: -0.6808 - val_my_iou_metric_2: 0.8895\n",
      "\n",
      "Epoch 00017: val_my_iou_metric_2 did not improve from 0.88999\n",
      "\n",
      "Epoch 00017: ReduceLROnPlateau reducing learning rate to 7.812499825377017e-05.\n",
      "Epoch 18/200\n",
      "7842/7842 [==============================] - 151s 19ms/step - loss: -0.6196 - my_iou_metric_2: 0.8772 - val_loss: -0.6810 - val_my_iou_metric_2: 0.8882\n",
      "\n",
      "Epoch 00018: val_my_iou_metric_2 did not improve from 0.88999\n",
      "Epoch 19/200\n",
      "7842/7842 [==============================] - 151s 19ms/step - loss: -0.6172 - my_iou_metric_2: 0.8773 - val_loss: -0.6798 - val_my_iou_metric_2: 0.8891\n",
      "\n",
      "Epoch 00019: val_my_iou_metric_2 did not improve from 0.88999\n",
      "Epoch 20/200\n",
      "7842/7842 [==============================] - 151s 19ms/step - loss: -0.6158 - my_iou_metric_2: 0.8755 - val_loss: -0.6810 - val_my_iou_metric_2: 0.8884\n",
      "\n",
      "Epoch 00020: val_my_iou_metric_2 did not improve from 0.88999\n",
      "\n",
      "Epoch 00020: ReduceLROnPlateau reducing learning rate to 3.9062499126885086e-05.\n",
      "Epoch 21/200\n",
      "7842/7842 [==============================] - 151s 19ms/step - loss: -0.6182 - my_iou_metric_2: 0.8788 - val_loss: -0.6801 - val_my_iou_metric_2: 0.8887\n",
      "\n",
      "Epoch 00021: val_my_iou_metric_2 did not improve from 0.88999\n",
      "Epoch 22/200\n",
      "7842/7842 [==============================] - 151s 19ms/step - loss: -0.6199 - my_iou_metric_2: 0.8774 - val_loss: -0.6808 - val_my_iou_metric_2: 0.8880\n",
      "\n",
      "Epoch 00022: val_my_iou_metric_2 did not improve from 0.88999\n",
      "Epoch 23/200\n",
      "7842/7842 [==============================] - 151s 19ms/step - loss: -0.6165 - my_iou_metric_2: 0.8786 - val_loss: -0.6802 - val_my_iou_metric_2: 0.8892\n",
      "\n",
      "Epoch 00023: val_my_iou_metric_2 did not improve from 0.88999\n",
      "\n",
      "Epoch 00023: ReduceLROnPlateau reducing learning rate to 1.9531249563442543e-05.\n",
      "Epoch 00023: early stopping\n",
      "fold 4\n"
     ]
    },
    {
     "data": {
      "application/vnd.jupyter.widget-view+json": {
       "model_id": "52ac72c31dec40ee9f5fcbcc2656077f",
       "version_major": 2,
       "version_minor": 0
      },
      "text/plain": [
       "HBox(children=(IntProgress(value=0, max=4), HTML(value='')))"
      ]
     },
     "metadata": {},
     "output_type": "display_data"
    },
    {
     "data": {
      "application/vnd.jupyter.widget-view+json": {
       "model_id": "20ca5d9d7eb0491c86910c7406c17664",
       "version_major": 2,
       "version_minor": 0
      },
      "text/plain": [
       "HBox(children=(IntProgress(value=0, max=3201), HTML(value='')))"
      ]
     },
     "metadata": {},
     "output_type": "display_data"
    },
    {
     "data": {
      "application/vnd.jupyter.widget-view+json": {
       "model_id": "7311c5bfa33a4b18b808d088722a4ec0",
       "version_major": 2,
       "version_minor": 0
      },
      "text/plain": [
       "HBox(children=(IntProgress(value=0, max=480), HTML(value='')))"
      ]
     },
     "metadata": {},
     "output_type": "display_data"
    },
    {
     "data": {
      "application/vnd.jupyter.widget-view+json": {
       "model_id": "f137f3d7efe949ee96fe49ab68eb03ff",
       "version_major": 2,
       "version_minor": 0
      },
      "text/plain": [
       "HBox(children=(IntProgress(value=0, max=480), HTML(value='')))"
      ]
     },
     "metadata": {},
     "output_type": "display_data"
    },
    {
     "data": {
      "application/vnd.jupyter.widget-view+json": {
       "model_id": "84c00f29bcfa45fba4240a151c579385",
       "version_major": 2,
       "version_minor": 0
      },
      "text/plain": [
       "HBox(children=(IntProgress(value=0, max=480), HTML(value='')))"
      ]
     },
     "metadata": {},
     "output_type": "display_data"
    },
    {
     "name": "stdout",
     "output_type": "stream",
     "text": [
      "\n",
      "(7842, 101, 101, 1)\n",
      "(7842, 101, 101, 1)\n",
      "(7842,)\n",
      "load from last run ../model/segmenter/Unet_resnet_deeper_fix7_32_32_0.5_4.model\n",
      "Train on 7842 samples, validate on 799 samples\n",
      "Epoch 1/200\n",
      "7842/7842 [==============================] - 163s 21ms/step - loss: -0.5508 - my_iou_metric_2: 0.8600 - val_loss: -0.6903 - val_my_iou_metric_2: 0.9004\n",
      "\n",
      "Epoch 00001: val_my_iou_metric_2 improved from -inf to 0.90038, saving model to ../model/segmenter/Unet_resnet_deeper_fix10_32_32_0.5_4.model\n",
      "Epoch 2/200\n",
      "7842/7842 [==============================] - 151s 19ms/step - loss: -0.5532 - my_iou_metric_2: 0.8635 - val_loss: -0.6903 - val_my_iou_metric_2: 0.8990\n",
      "\n",
      "Epoch 00002: val_my_iou_metric_2 did not improve from 0.90038\n",
      "Epoch 3/200\n",
      "7842/7842 [==============================] - 151s 19ms/step - loss: -0.5596 - my_iou_metric_2: 0.8656 - val_loss: -0.6880 - val_my_iou_metric_2: 0.9001\n",
      "\n",
      "Epoch 00003: val_my_iou_metric_2 did not improve from 0.90038\n",
      "Epoch 4/200\n",
      "7842/7842 [==============================] - 151s 19ms/step - loss: -0.5676 - my_iou_metric_2: 0.8658 - val_loss: -0.6625 - val_my_iou_metric_2: 0.8967\n",
      "\n",
      "Epoch 00004: val_my_iou_metric_2 did not improve from 0.90038\n",
      "\n",
      "Epoch 00004: ReduceLROnPlateau reducing learning rate to 0.0012499999720603228.\n",
      "Epoch 5/200\n",
      "7842/7842 [==============================] - 151s 19ms/step - loss: -0.5862 - my_iou_metric_2: 0.8689 - val_loss: -0.6908 - val_my_iou_metric_2: 0.8991\n",
      "\n",
      "Epoch 00005: val_my_iou_metric_2 did not improve from 0.90038\n",
      "Epoch 6/200\n",
      "7842/7842 [==============================] - 151s 19ms/step - loss: -0.5899 - my_iou_metric_2: 0.8702 - val_loss: -0.6846 - val_my_iou_metric_2: 0.8982\n",
      "\n",
      "Epoch 00006: val_my_iou_metric_2 did not improve from 0.90038\n",
      "Epoch 7/200\n",
      "7842/7842 [==============================] - 151s 19ms/step - loss: -0.6011 - my_iou_metric_2: 0.8728 - val_loss: -0.6886 - val_my_iou_metric_2: 0.8985\n",
      "\n",
      "Epoch 00007: val_my_iou_metric_2 did not improve from 0.90038\n",
      "\n",
      "Epoch 00007: ReduceLROnPlateau reducing learning rate to 0.0006249999860301614.\n",
      "Epoch 8/200\n",
      "7842/7842 [==============================] - 151s 19ms/step - loss: -0.6102 - my_iou_metric_2: 0.8747 - val_loss: -0.6883 - val_my_iou_metric_2: 0.9003\n",
      "\n",
      "Epoch 00008: val_my_iou_metric_2 did not improve from 0.90038\n",
      "Epoch 9/200\n",
      "7842/7842 [==============================] - 151s 19ms/step - loss: -0.6098 - my_iou_metric_2: 0.8746 - val_loss: -0.6879 - val_my_iou_metric_2: 0.8981\n",
      "\n",
      "Epoch 00009: val_my_iou_metric_2 did not improve from 0.90038\n",
      "Epoch 10/200\n",
      "7842/7842 [==============================] - 151s 19ms/step - loss: -0.6123 - my_iou_metric_2: 0.8747 - val_loss: -0.6922 - val_my_iou_metric_2: 0.8996\n",
      "\n",
      "Epoch 00010: val_my_iou_metric_2 did not improve from 0.90038\n",
      "\n",
      "Epoch 00010: ReduceLROnPlateau reducing learning rate to 0.0003124999930150807.\n",
      "Epoch 11/200\n",
      "7842/7842 [==============================] - 151s 19ms/step - loss: -0.6170 - my_iou_metric_2: 0.8776 - val_loss: -0.6915 - val_my_iou_metric_2: 0.9015\n",
      "\n",
      "Epoch 00011: val_my_iou_metric_2 improved from 0.90038 to 0.90150, saving model to ../model/segmenter/Unet_resnet_deeper_fix10_32_32_0.5_4.model\n",
      "Epoch 12/200\n",
      "7842/7842 [==============================] - 151s 19ms/step - loss: -0.6204 - my_iou_metric_2: 0.8769 - val_loss: -0.6931 - val_my_iou_metric_2: 0.9010\n",
      "\n",
      "Epoch 00012: val_my_iou_metric_2 did not improve from 0.90150\n",
      "Epoch 13/200\n",
      "7842/7842 [==============================] - 151s 19ms/step - loss: -0.6214 - my_iou_metric_2: 0.8783 - val_loss: -0.6922 - val_my_iou_metric_2: 0.8990\n",
      "\n",
      "Epoch 00013: val_my_iou_metric_2 did not improve from 0.90150\n",
      "Epoch 14/200\n",
      "7842/7842 [==============================] - 151s 19ms/step - loss: -0.6178 - my_iou_metric_2: 0.8765 - val_loss: -0.6918 - val_my_iou_metric_2: 0.8991\n",
      "\n",
      "Epoch 00014: val_my_iou_metric_2 did not improve from 0.90150\n",
      "\n",
      "Epoch 00014: ReduceLROnPlateau reducing learning rate to 0.00015624999650754035.\n",
      "Epoch 15/200\n",
      "7842/7842 [==============================] - 151s 19ms/step - loss: -0.6241 - my_iou_metric_2: 0.8780 - val_loss: -0.6923 - val_my_iou_metric_2: 0.8987\n",
      "\n",
      "Epoch 00015: val_my_iou_metric_2 did not improve from 0.90150\n",
      "Epoch 16/200\n",
      "7842/7842 [==============================] - 151s 19ms/step - loss: -0.6194 - my_iou_metric_2: 0.8774 - val_loss: -0.6929 - val_my_iou_metric_2: 0.9004\n",
      "\n",
      "Epoch 00016: val_my_iou_metric_2 did not improve from 0.90150\n",
      "Epoch 17/200\n",
      "7842/7842 [==============================] - 151s 19ms/step - loss: -0.6174 - my_iou_metric_2: 0.8777 - val_loss: -0.6940 - val_my_iou_metric_2: 0.9011\n",
      "\n",
      "Epoch 00017: val_my_iou_metric_2 did not improve from 0.90150\n",
      "\n",
      "Epoch 00017: ReduceLROnPlateau reducing learning rate to 7.812499825377017e-05.\n",
      "Epoch 18/200\n",
      "7842/7842 [==============================] - 151s 19ms/step - loss: -0.6192 - my_iou_metric_2: 0.8781 - val_loss: -0.6925 - val_my_iou_metric_2: 0.9004\n",
      "\n",
      "Epoch 00018: val_my_iou_metric_2 did not improve from 0.90150\n",
      "Epoch 19/200\n",
      "7842/7842 [==============================] - 151s 19ms/step - loss: -0.6241 - my_iou_metric_2: 0.8792 - val_loss: -0.6942 - val_my_iou_metric_2: 0.9001\n",
      "\n",
      "Epoch 00019: val_my_iou_metric_2 did not improve from 0.90150\n",
      "Epoch 20/200\n",
      "7842/7842 [==============================] - 151s 19ms/step - loss: -0.6181 - my_iou_metric_2: 0.8771 - val_loss: -0.6934 - val_my_iou_metric_2: 0.8997\n",
      "\n",
      "Epoch 00020: val_my_iou_metric_2 did not improve from 0.90150\n",
      "\n",
      "Epoch 00020: ReduceLROnPlateau reducing learning rate to 3.9062499126885086e-05.\n",
      "Epoch 21/200\n",
      "7842/7842 [==============================] - 151s 19ms/step - loss: -0.6222 - my_iou_metric_2: 0.8777 - val_loss: -0.6945 - val_my_iou_metric_2: 0.9011\n",
      "\n",
      "Epoch 00021: val_my_iou_metric_2 did not improve from 0.90150\n",
      "Epoch 22/200\n",
      "7842/7842 [==============================] - 151s 19ms/step - loss: -0.6221 - my_iou_metric_2: 0.8776 - val_loss: -0.6946 - val_my_iou_metric_2: 0.9000\n",
      "\n",
      "Epoch 00022: val_my_iou_metric_2 did not improve from 0.90150\n",
      "Epoch 23/200\n",
      "7842/7842 [==============================] - 151s 19ms/step - loss: -0.6258 - my_iou_metric_2: 0.8782 - val_loss: -0.6947 - val_my_iou_metric_2: 0.9008\n",
      "\n",
      "Epoch 00023: val_my_iou_metric_2 did not improve from 0.90150\n",
      "\n",
      "Epoch 00023: ReduceLROnPlateau reducing learning rate to 1.9531249563442543e-05.\n",
      "Epoch 00023: early stopping\n"
     ]
    }
   ],
   "source": [
    "folds = [0,1,2,3,4]\n",
    "\n",
    "skf = StratifiedKFold(n_splits=5, shuffle=True, random_state=1234)\n",
    "for fold, (train_idx, val_idx) in enumerate(skf.split(train_df, train_df['hassalt'])):\n",
    "    if fold not in folds:\n",
    "        print('skip fold', fold)\n",
    "        continue\n",
    "    \n",
    "    print('fold', fold)\n",
    "    x_train, x_valid, msk_train, msk_val, y_train, y_valid, id_train, id_valid = get_splits(train_df, train_idx, val_idx)\n",
    "    x_train, msk_train, y_train = argument(x_train, msk_train, y_train)\n",
    "    \n",
    "    model = train_model(fold, x_train, msk_train, x_valid, msk_val, id_valid)\n",
    "    \n",
    "    from keras import backend as K\n",
    "    K.clear_session()"
   ]
  },
  {
   "cell_type": "code",
   "execution_count": 9,
   "metadata": {},
   "outputs": [
    {
     "data": {
      "application/vnd.jupyter.widget-view+json": {
       "model_id": "1eddcc764f164ecaa597e967dea7cc51",
       "version_major": 2,
       "version_minor": 0
      },
      "text/plain": [
       "HBox(children=(IntProgress(value=0, max=18000), HTML(value='')))"
      ]
     },
     "metadata": {},
     "output_type": "display_data"
    },
    {
     "name": "stderr",
     "output_type": "stream",
     "text": [
      "/home/kownse/.local/lib/python3.6/site-packages/keras_preprocessing/image.py:487: UserWarning: grayscale is deprecated. Please use color_mode = \"grayscale\"\n",
      "  warnings.warn('grayscale is deprecated. Please use '\n"
     ]
    },
    {
     "name": "stdout",
     "output_type": "stream",
     "text": [
      "\n",
      "predict for fold 0\n",
      "801/801 [==============================] - 4s 5ms/step\n",
      "18000/18000 [==============================] - 63s 3ms/step\n",
      "predict for fold 1\n",
      "801/801 [==============================] - 4s 5ms/step\n",
      "18000/18000 [==============================] - 62s 3ms/step\n",
      "predict for fold 2\n",
      "800/800 [==============================] - 4s 5ms/step\n",
      "18000/18000 [==============================] - 63s 3ms/step\n",
      "predict for fold 3\n",
      "799/799 [==============================] - 4s 5ms/step\n",
      "18000/18000 [==============================] - 63s 3ms/step\n",
      "predict for fold 4\n",
      "799/799 [==============================] - 4s 5ms/step\n",
      "18000/18000 [==============================] - 63s 3ms/step\n"
     ]
    }
   ],
   "source": [
    "pred_vals = []\n",
    "msk_vals = []\n",
    "pred_tests = []\n",
    "x_test = np.array([(np.array(load_img(\"../input/test/images/{}.png\".format(idx), grayscale = True))) / 255 for idx in tqdm_notebook(test_df.index)]).reshape(-1, img_size_target, img_size_target, 1)\n",
    "\n",
    "skf = StratifiedKFold(n_splits=5, shuffle=True, random_state=1234)\n",
    "for fold, (train_idx, val_idx) in enumerate(skf.split(train_df, train_df['hassalt'])):\n",
    "    print('predict for fold', fold)\n",
    "    \n",
    "    start_feature = 32\n",
    "    batch_size = 32\n",
    "    dropout = 0.5\n",
    "    base_name = 'Unet_resnet_deeper_fix10_{}_{}_{}_{}'.format(start_feature, batch_size, dropout, fold)\n",
    "    basic_name = '../model/segmenter/{}'.format(base_name)\n",
    "    save_model_name = basic_name + '.model'\n",
    "\n",
    "    model = load_model(save_model_name,custom_objects={'my_iou_metric_2': my_iou_metric_2,\n",
    "                                                   'lovasz_loss': lovasz_loss})\n",
    "    \n",
    "    x_train, x_valid, msk_train, msk_val, y_train, y_valid, id_train, id_valid = get_splits(train_df, train_idx, \n",
    "                                                                                            val_idx)\n",
    "    \n",
    "    preds_valid = predict_result(model,x_valid,img_size_target)\n",
    "    pred_vals.append(preds_valid)\n",
    "    msk_vals.append(msk_val)\n",
    "    \n",
    "    preds_test = predict_result(model,x_test,img_size_target)\n",
    "    pred_tests.append(preds_test)\n",
    "\n",
    "    from keras import backend as K\n",
    "    K.clear_session()"
   ]
  },
  {
   "cell_type": "code",
   "execution_count": 10,
   "metadata": {},
   "outputs": [
    {
     "data": {
      "application/vnd.jupyter.widget-view+json": {
       "model_id": "69fe0678a807410e903358b66e4a10e7",
       "version_major": 2,
       "version_minor": 0
      },
      "text/plain": [
       "HBox(children=(IntProgress(value=0, max=35), HTML(value='')))"
      ]
     },
     "metadata": {},
     "output_type": "display_data"
    },
    {
     "name": "stdout",
     "output_type": "stream",
     "text": [
      "\n",
      "[0.894325 0.894625 0.89495  0.89525  0.89565  0.896325 0.8967   0.896975\n",
      " 0.89725  0.89755  0.89765  0.898075 0.898425 0.8986   0.899125 0.899625\n",
      " 0.899225 0.899925 0.899175 0.899375 0.8988   0.898425 0.8982   0.89825\n",
      " 0.898125 0.8976   0.897325 0.896875 0.8964   0.895675 0.89495  0.89445\n",
      " 0.893775 0.8933   0.89265 ]\n"
     ]
    },
    {
     "data": {
      "text/plain": [
       "<matplotlib.legend.Legend at 0x7f7dd00d3438>"
      ]
     },
     "execution_count": 10,
     "metadata": {},
     "output_type": "execute_result"
    },
    {
     "data": {
      "image/png": "[encoded data removed]",
      "text/plain": [
       "<Figure size 432x288 with 1 Axes>"
      ]
     },
     "metadata": {},
     "output_type": "display_data"
    }
   ],
   "source": [
    "val_ids = []\n",
    "skf = StratifiedKFold(n_splits=5, shuffle=True, random_state=1234)\n",
    "for fold, (train_idx, val_idx) in enumerate(skf.split(train_df, train_df['hassalt'])):\n",
    "    val_ids += list(train_df.iloc[val_idx].index.values)\n",
    "    \n",
    "pred_all = np.concatenate(pred_vals, axis=0)\n",
    "msk_all = np.concatenate(msk_vals, axis= 0)\n",
    "\n",
    "thresholds_ori = np.linspace(0.3, 0.7, 35)\n",
    "thresholds = np.log(thresholds_ori/(1-thresholds_ori)) \n",
    "\n",
    "# ious = np.array([get_iou_vector(y_valid, preds_valid > threshold) for threshold in tqdm_notebook(thresholds)])\n",
    "# print(ious)\n",
    "ious = np.array([iou_metric_batch(msk_all, pred_all > threshold) for threshold in tqdm_notebook(thresholds)])\n",
    "print(ious)\n",
    "\n",
    "# instead of using default 0 as threshold, use validation data to find the best threshold.\n",
    "threshold_best_index = np.argmax(ious) \n",
    "iou_best = ious[threshold_best_index]\n",
    "threshold_best = thresholds[threshold_best_index]\n",
    "\n",
    "plt.plot(thresholds, ious)\n",
    "plt.plot(threshold_best, iou_best, \"xr\", label=\"Best threshold\")\n",
    "plt.xlabel(\"Threshold\")\n",
    "plt.ylabel(\"IoU\")\n",
    "plt.title(\"Threshold vs IoU ({}, {})\".format(threshold_best, iou_best))\n",
    "plt.legend()\n",
    "\n"
   ]
  },
  {
   "cell_type": "code",
   "execution_count": 11,
   "metadata": {},
   "outputs": [
    {
     "data": {
      "application/vnd.jupyter.widget-view+json": {
       "model_id": "4eafb77e42114675910c6f5987482098",
       "version_major": 2,
       "version_minor": 0
      },
      "text/plain": [
       "HBox(children=(IntProgress(value=0, max=4000), HTML(value='')))"
      ]
     },
     "metadata": {},
     "output_type": "display_data"
    },
    {
     "name": "stdout",
     "output_type": "stream",
     "text": [
      "\n"
     ]
    }
   ],
   "source": [
    "val_all = (pred_all > threshold_best) * 1\n",
    "df_iou = pd.DataFrame(columns=['id', 'iou'])\n",
    "cnt = 0\n",
    "for i in tqdm_notebook(range(len(val_all))):\n",
    "    id = val_ids[i]\n",
    "    iou = iou_metric_batch(msk_all[i], val_all[i])\n",
    "    df_iou = df_iou.append({'id':id, 'iou':iou}, ignore_index=True)\n",
    "\n",
    "df_iou.to_csv('../result/iou_2.csv', index = False)"
   ]
  },
  {
   "cell_type": "code",
   "execution_count": 12,
   "metadata": {},
   "outputs": [
    {
     "data": {
      "application/vnd.jupyter.widget-view+json": {
       "model_id": "2f869ed4a10948e8a179d36b3f74e41b",
       "version_major": 2,
       "version_minor": 0
      },
      "text/plain": [
       "HBox(children=(IntProgress(value=0, max=18000), HTML(value='')))"
      ]
     },
     "metadata": {},
     "output_type": "display_data"
    },
    {
     "name": "stdout",
     "output_type": "stream",
     "text": [
      "\n",
      "save result\n",
      "upload result\n",
      "cmd: kaggle competitions submit -c tgs-salt-identification-challenge -f ../result/segmenter/unet_fix10_avg.csv.7z -m \"submit\"\n"
     ]
    }
   ],
   "source": [
    "pred_tests_act = pred_tests\n",
    "pred_test_all = np.zeros_like(pred_tests_act[0], dtype=np.float32)\n",
    "for pre in pred_tests_act:\n",
    "    pred_test_all += pre / len(pred_tests_act)\n",
    "    \n",
    "pred_dict = {idx: rle_encode(np.round(downsample(pred_test_all[i]) > threshold_best)) for i, idx in enumerate(tqdm_notebook(test_df.index.values))}\n",
    "sub = pd.DataFrame.from_dict(pred_dict,orient='index')\n",
    "sub.index.names = ['id']\n",
    "sub.columns = ['rle_mask']\n",
    "sub = sub.reset_index()\n",
    "save_result(sub, '../result/segmenter/unet_fix10_avg.csv', \n",
    "                        competition = 'tgs-salt-identification-challenge', \n",
    "                        send = True, index = False)"
   ]
  },
  {
   "cell_type": "code",
   "execution_count": null,
   "metadata": {},
   "outputs": [],
   "source": []
  },
  {
   "cell_type": "code",
   "execution_count": null,
   "metadata": {},
   "outputs": [],
   "source": []
  }
 ],
 "metadata": {
  "kernelspec": {
   "display_name": "Python 3",
   "language": "python",
   "name": "python3"
  },
  "language_info": {
   "codemirror_mode": {
    "name": "ipython",
    "version": 3
   },
   "file_extension": ".py",
   "mimetype": "text/x-python",
   "name": "python",
   "nbconvert_exporter": "python",
   "pygments_lexer": "ipython3",
   "version": "3.6.5"
  }
 },
 "nbformat": 4,
 "nbformat_minor": 2
}
