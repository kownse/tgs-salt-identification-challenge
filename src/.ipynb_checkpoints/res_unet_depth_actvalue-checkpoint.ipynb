{
 "cells": [
  {
   "cell_type": "code",
   "execution_count": 1,
   "metadata": {},
   "outputs": [
    {
     "name": "stderr",
     "output_type": "stream",
     "text": [
      "Using TensorFlow backend.\n"
     ]
    }
   ],
   "source": [
    "import os\n",
    "os.environ[\"CUDA_VISIBLE_DEVICES\"]=\"0\"\n",
    "import sys\n",
    "import random\n",
    "\n",
    "import pandas as pd\n",
    "import numpy as np\n",
    "import matplotlib.pyplot as plt\n",
    "plt.style.use('seaborn-white')\n",
    "import seaborn as sns\n",
    "sns.set_style(\"white\")\n",
    "\n",
    "%matplotlib inline\n",
    "\n",
    "from sklearn.model_selection import train_test_split\n",
    "\n",
    "from tqdm import tqdm_notebook #, tnrange\n",
    "#from itertools import chain\n",
    "from skimage.io import imread, imshow #, concatenate_images\n",
    "from skimage.transform import resize\n",
    "from skimage.morphology import label\n",
    "\n",
    "import keras\n",
    "from keras.models import Model, load_model, save_model\n",
    "from keras.layers import Input,Dropout,BatchNormalization,Activation,Add\n",
    "from keras.layers.core import Lambda\n",
    "from keras.layers.convolutional import Conv2D, Conv2DTranspose\n",
    "from keras.layers.pooling import MaxPooling2D\n",
    "from keras.layers.merge import concatenate\n",
    "from keras.callbacks import EarlyStopping, ModelCheckpoint, ReduceLROnPlateau\n",
    "from keras import backend as K\n",
    "from keras import optimizers\n",
    "\n",
    "import tensorflow as tf\n",
    "\n",
    "from keras.preprocessing.image import array_to_img, img_to_array, load_img#,save_img\n",
    "\n",
    "import time\n",
    "from kaggle_util import *\n",
    "from models import *\n",
    "\n",
    "t_start = time.time()"
   ]
  },
  {
   "cell_type": "code",
   "execution_count": 2,
   "metadata": {},
   "outputs": [],
   "source": [
    "img_size_ori = 101\n",
    "img_size_target = 101\n",
    "\n",
    "def upsample(img):\n",
    "    if img_size_ori == img_size_target:\n",
    "        return img\n",
    "    return resize(img, (img_size_target, img_size_target), mode='constant', preserve_range=True)\n",
    "    \n",
    "def downsample(img):\n",
    "    if img_size_ori == img_size_target:\n",
    "        return img\n",
    "    return resize(img, (img_size_ori, img_size_ori), mode='constant', preserve_range=True)\n",
    "\n",
    "\n",
    "# Build model\n",
    "\n",
    "def build_model_deeper(input_layer, start_neurons, DropoutRatio = 0.5):\n",
    "    # 101 -> 50\n",
    "    conv1 = Conv2D(start_neurons * 1, (3, 3), activation=None, padding=\"same\")(input_layer)\n",
    "    conv1 = residual_block(conv1,start_neurons * 1)\n",
    "    conv1 = residual_block(conv1,start_neurons * 1)\n",
    "    conv1 = residual_block(conv1,start_neurons * 1, True)\n",
    "    pool1 = MaxPooling2D((2, 2))(conv1)\n",
    "    pool1 = Dropout(DropoutRatio/2)(pool1)\n",
    "\n",
    "    # 50 -> 25\n",
    "    conv2 = Conv2D(start_neurons * 2, (3, 3), activation=None, padding=\"same\")(pool1)\n",
    "    conv2 = residual_block(conv2,start_neurons * 2)\n",
    "    conv2 = residual_block(conv2,start_neurons * 2)\n",
    "    conv2 = residual_block(conv2,start_neurons * 2, True)\n",
    "    pool2 = MaxPooling2D((2, 2))(conv2)\n",
    "    pool2 = Dropout(DropoutRatio)(pool2)\n",
    "\n",
    "    # 25 -> 12\n",
    "    conv3 = Conv2D(start_neurons * 4, (3, 3), activation=None, padding=\"same\")(pool2)\n",
    "    conv3 = residual_block(conv3,start_neurons * 4)\n",
    "    conv3 = residual_block(conv3,start_neurons * 4)\n",
    "    conv3 = residual_block(conv3,start_neurons * 4, True)\n",
    "    pool3 = MaxPooling2D((2, 2))(conv3)\n",
    "    pool3 = Dropout(DropoutRatio)(pool3)\n",
    "\n",
    "    # 12 -> 6\n",
    "    conv4 = Conv2D(start_neurons * 8, (3, 3), activation=None, padding=\"same\")(pool3)\n",
    "    conv4 = residual_block(conv4,start_neurons * 8)\n",
    "    conv4 = residual_block(conv4,start_neurons * 8)\n",
    "    conv4 = residual_block(conv4,start_neurons * 8, True)\n",
    "    pool4 = MaxPooling2D((2, 2))(conv4)\n",
    "    pool4 = Dropout(DropoutRatio)(pool4)\n",
    "\n",
    "    # Middle\n",
    "    convm = Conv2D(start_neurons * 16, (3, 3), activation=None, padding=\"same\")(pool4)\n",
    "    convm = residual_block(convm,start_neurons * 16)\n",
    "    convm = residual_block(convm,start_neurons * 16)\n",
    "    convm = residual_block(convm,start_neurons * 16, True)\n",
    "    \n",
    "    # 6 -> 12\n",
    "    deconv4 = Conv2DTranspose(start_neurons * 8, (3, 3), strides=(2, 2), padding=\"same\")(convm)\n",
    "    uconv4 = concatenate([deconv4, conv4])\n",
    "    uconv4 = Dropout(DropoutRatio)(uconv4)\n",
    "    \n",
    "    uconv4 = Conv2D(start_neurons * 8, (3, 3), activation=None, padding=\"same\")(uconv4)\n",
    "    uconv4 = residual_block(uconv4,start_neurons * 8)\n",
    "    uconv4 = residual_block(uconv4,start_neurons * 8)\n",
    "    uconv4 = residual_block(uconv4,start_neurons * 8, True)\n",
    "    \n",
    "    # 12 -> 25\n",
    "    #deconv3 = Conv2DTranspose(start_neurons * 4, (3, 3), strides=(2, 2), padding=\"same\")(uconv4)\n",
    "    deconv3 = Conv2DTranspose(start_neurons * 4, (3, 3), strides=(2, 2), padding=\"valid\")(uconv4)\n",
    "    uconv3 = concatenate([deconv3, conv3])    \n",
    "    uconv3 = Dropout(DropoutRatio)(uconv3)\n",
    "    \n",
    "    uconv3 = Conv2D(start_neurons * 4, (3, 3), activation=None, padding=\"same\")(uconv3)\n",
    "    uconv3 = residual_block(uconv3,start_neurons * 4)\n",
    "    uconv3 = residual_block(uconv3,start_neurons * 4)\n",
    "    uconv3 = residual_block(uconv3,start_neurons * 4, True)\n",
    "\n",
    "    # 25 -> 50\n",
    "    deconv2 = Conv2DTranspose(start_neurons * 2, (3, 3), strides=(2, 2), padding=\"same\")(uconv3)\n",
    "    uconv2 = concatenate([deconv2, conv2])\n",
    "        \n",
    "    uconv2 = Dropout(DropoutRatio)(uconv2)\n",
    "    uconv2 = Conv2D(start_neurons * 2, (3, 3), activation=None, padding=\"same\")(uconv2)\n",
    "    uconv2 = residual_block(uconv2,start_neurons * 2)\n",
    "    uconv2 = residual_block(uconv2,start_neurons * 2)\n",
    "    uconv2 = residual_block(uconv2,start_neurons * 2, True)\n",
    "    \n",
    "    # 50 -> 101\n",
    "    #deconv1 = Conv2DTranspose(start_neurons * 1, (3, 3), strides=(2, 2), padding=\"same\")(uconv2)\n",
    "    deconv1 = Conv2DTranspose(start_neurons * 1, (3, 3), strides=(2, 2), padding=\"valid\")(uconv2)\n",
    "    uconv1 = concatenate([deconv1, conv1])\n",
    "    \n",
    "    uconv1 = Dropout(DropoutRatio)(uconv1)\n",
    "    uconv1 = Conv2D(start_neurons * 1, (3, 3), activation=None, padding=\"same\")(uconv1)\n",
    "    uconv1 = residual_block(uconv1,start_neurons * 1)\n",
    "    uconv1 = residual_block(uconv1,start_neurons * 1)\n",
    "    uconv1 = residual_block(uconv1,start_neurons * 1, True)\n",
    "    \n",
    "    #uconv1 = Dropout(DropoutRatio/2)(uconv1)\n",
    "    #output_layer = Conv2D(1, (1,1), padding=\"same\", activation=\"sigmoid\")(uconv1)\n",
    "    output_layer_noActi = Conv2D(1, (1,1), padding=\"same\", activation=None)(uconv1)\n",
    "    output_layer =  Activation('sigmoid')(output_layer_noActi)\n",
    "    \n",
    "    return output_layer"
   ]
  },
  {
   "cell_type": "code",
   "execution_count": 3,
   "metadata": {},
   "outputs": [
    {
     "data": {
      "application/vnd.jupyter.widget-view+json": {
       "model_id": "83ecfffdb5cb49df95afe47fd4ce700f",
       "version_major": 2,
       "version_minor": 0
      },
      "text/plain": [
       "HBox(children=(IntProgress(value=0, max=4000), HTML(value='')))"
      ]
     },
     "metadata": {},
     "output_type": "display_data"
    },
    {
     "name": "stderr",
     "output_type": "stream",
     "text": [
      "/home/kownse/.local/lib/python3.6/site-packages/keras_preprocessing/image.py:487: UserWarning: grayscale is deprecated. Please use color_mode = \"grayscale\"\n",
      "  warnings.warn('grayscale is deprecated. Please use '\n"
     ]
    },
    {
     "name": "stdout",
     "output_type": "stream",
     "text": [
      "\n"
     ]
    },
    {
     "data": {
      "application/vnd.jupyter.widget-view+json": {
       "model_id": "cdf5eb92904947dfaadf510105f10dd0",
       "version_major": 2,
       "version_minor": 0
      },
      "text/plain": [
       "HBox(children=(IntProgress(value=0, max=4000), HTML(value='')))"
      ]
     },
     "metadata": {},
     "output_type": "display_data"
    },
    {
     "name": "stdout",
     "output_type": "stream",
     "text": [
      "\n"
     ]
    }
   ],
   "source": [
    "\n",
    "\n",
    "# Loading of training/testing ids and depths\n",
    "train_df = pd.read_csv(\"../input/train.csv\", index_col=\"id\", usecols=[0])\n",
    "depths_df = pd.read_csv(\"../input/depths.csv\", index_col=\"id\")\n",
    "train_df = train_df.join(depths_df)\n",
    "test_df = depths_df[~depths_df.index.isin(train_df.index)]\n",
    "\n",
    "len(train_df)\n",
    "\n",
    "train_df[\"images\"] = [np.array(load_img(\"../input/train/images/{}.png\".format(idx), grayscale=True)) / 255 for idx in tqdm_notebook(train_df.index)]\n",
    "train_df[\"masks\"] = [np.array(load_img(\"../input/train/masks/{}.png\".format(idx), grayscale=True)) / 255 for idx in tqdm_notebook(train_df.index)]\n",
    "train_df[\"coverage\"] = train_df.masks.map(np.sum) / pow(img_size_ori, 2)\n",
    "train_df[\"coverage_class\"] = train_df.coverage.map(cov_to_class)"
   ]
  },
  {
   "cell_type": "code",
   "execution_count": 4,
   "metadata": {},
   "outputs": [],
   "source": [
    "train_df['z'] = (train_df['z'] - train_df['z'].min()) / (train_df['z'].max() - train_df['z'].min()) "
   ]
  },
  {
   "cell_type": "code",
   "execution_count": 5,
   "metadata": {},
   "outputs": [
    {
     "data": {
      "text/plain": [
       "4000"
      ]
     },
     "execution_count": 5,
     "metadata": {},
     "output_type": "execute_result"
    }
   ],
   "source": [
    "SUBSET = len(train_df)\n",
    "train_df = train_df.head(SUBSET)\n",
    "len(train_df)"
   ]
  },
  {
   "cell_type": "code",
   "execution_count": 6,
   "metadata": {},
   "outputs": [],
   "source": [
    "ids_train, ids_valid, x_train, x_valid, y_train, y_valid, cov_train, cov_test, depth_train, depth_test = train_test_split(\n",
    "train_df.index.values,\n",
    "np.array(train_df.images.map(upsample).tolist()).reshape(-1, img_size_target, img_size_target), \n",
    "np.array(train_df.masks.map(upsample).tolist()).reshape(-1, img_size_target, img_size_target, 1), \n",
    "train_df.coverage.values,\n",
    "train_df.z.values,\n",
    "test_size=0.2, stratify=train_df.coverage_class, random_state= 1234)"
   ]
  },
  {
   "cell_type": "code",
   "execution_count": 7,
   "metadata": {},
   "outputs": [
    {
     "name": "stdout",
     "output_type": "stream",
     "text": [
      "(6400, 101, 101)\n",
      "(800, 101, 101, 1)\n"
     ]
    }
   ],
   "source": [
    "#Data augmentation\n",
    "x_train = np.append(x_train, [np.fliplr(x) for x in x_train], axis=0)\n",
    "y_train = np.append(y_train, [np.fliplr(x) for x in y_train], axis=0)\n",
    "depth_train = np.append(depth_train, depth_train)\n",
    "print(x_train.shape)\n",
    "print(y_valid.shape)"
   ]
  },
  {
   "cell_type": "code",
   "execution_count": 8,
   "metadata": {},
   "outputs": [
    {
     "data": {
      "text/plain": [
       "array([0.70594714, 0.27863436, 0.91519824, 0.46365639, 0.35792952,\n",
       "       0.38325991, 0.11894273, 0.90748899, 0.81828194, 0.69052863])"
      ]
     },
     "execution_count": 8,
     "metadata": {},
     "output_type": "execute_result"
    }
   ],
   "source": [
    "depth_test[:10]"
   ]
  },
  {
   "cell_type": "code",
   "execution_count": 9,
   "metadata": {},
   "outputs": [
    {
     "data": {
      "application/vnd.jupyter.widget-view+json": {
       "model_id": "be2e9d4743724c5b8119ce4158feedf6",
       "version_major": 2,
       "version_minor": 0
      },
      "text/plain": [
       "HBox(children=(IntProgress(value=0, max=6400), HTML(value='')))"
      ]
     },
     "metadata": {},
     "output_type": "display_data"
    },
    {
     "name": "stdout",
     "output_type": "stream",
     "text": [
      "\n"
     ]
    },
    {
     "data": {
      "application/vnd.jupyter.widget-view+json": {
       "model_id": "5bf4a68431884c37b39449cc864aa61c",
       "version_major": 2,
       "version_minor": 0
      },
      "text/plain": [
       "HBox(children=(IntProgress(value=0, max=800), HTML(value='')))"
      ]
     },
     "metadata": {},
     "output_type": "display_data"
    },
    {
     "name": "stdout",
     "output_type": "stream",
     "text": [
      "\n"
     ]
    }
   ],
   "source": [
    "x_train = add_depth_bulk_act(x_train, depth_train)\n",
    "x_valid = add_depth_bulk_act(x_valid, depth_test)"
   ]
  },
  {
   "cell_type": "code",
   "execution_count": 10,
   "metadata": {},
   "outputs": [
    {
     "name": "stdout",
     "output_type": "stream",
     "text": [
      "../model/Unet_resnet_depth_act_trainlonger32_0.5_stage1.model\n",
      "../model/Unet_resnet_depth_act_trainlonger32_0.5.csv\n",
      "Train on 6400 samples, validate on 800 samples\n",
      "Epoch 1/200\n",
      "6400/6400 [==============================] - 80s 12ms/step - loss: 0.5535 - my_iou_metric: 0.3620 - val_loss: 0.5373 - val_my_iou_metric: 0.3900\n",
      "\n",
      "Epoch 00001: val_my_iou_metric improved from -inf to 0.39000, saving model to ../model/Unet_resnet_depth_act_trainlonger32_0.5_stage1.model\n",
      "Epoch 2/200\n",
      "6400/6400 [==============================] - 69s 11ms/step - loss: 0.3962 - my_iou_metric: 0.3589 - val_loss: 0.3609 - val_my_iou_metric: 0.5121\n",
      "\n",
      "Epoch 00002: val_my_iou_metric improved from 0.39000 to 0.51213, saving model to ../model/Unet_resnet_depth_act_trainlonger32_0.5_stage1.model\n",
      "Epoch 3/200\n",
      "6400/6400 [==============================] - 69s 11ms/step - loss: 0.3065 - my_iou_metric: 0.5128 - val_loss: 0.3358 - val_my_iou_metric: 0.3920\n",
      "\n",
      "Epoch 00003: val_my_iou_metric did not improve from 0.51213\n",
      "Epoch 4/200\n",
      "6400/6400 [==============================] - 69s 11ms/step - loss: 0.2633 - my_iou_metric: 0.5472 - val_loss: 0.2887 - val_my_iou_metric: 0.5482\n",
      "\n",
      "Epoch 00004: val_my_iou_metric improved from 0.51213 to 0.54825, saving model to ../model/Unet_resnet_depth_act_trainlonger32_0.5_stage1.model\n",
      "Epoch 5/200\n",
      "6400/6400 [==============================] - 69s 11ms/step - loss: 0.2498 - my_iou_metric: 0.5742 - val_loss: 0.3310 - val_my_iou_metric: 0.5095\n",
      "\n",
      "Epoch 00005: val_my_iou_metric did not improve from 0.54825\n",
      "Epoch 6/200\n",
      "6400/6400 [==============================] - 69s 11ms/step - loss: 0.2320 - my_iou_metric: 0.5942 - val_loss: 0.2959 - val_my_iou_metric: 0.6077\n",
      "\n",
      "Epoch 00006: val_my_iou_metric improved from 0.54825 to 0.60775, saving model to ../model/Unet_resnet_depth_act_trainlonger32_0.5_stage1.model\n",
      "Epoch 7/200\n",
      "6400/6400 [==============================] - 69s 11ms/step - loss: 0.2238 - my_iou_metric: 0.5915 - val_loss: 0.2470 - val_my_iou_metric: 0.5846\n",
      "\n",
      "Epoch 00007: val_my_iou_metric did not improve from 0.60775\n",
      "Epoch 8/200\n",
      "6400/6400 [==============================] - 69s 11ms/step - loss: 0.2167 - my_iou_metric: 0.6055 - val_loss: 0.2975 - val_my_iou_metric: 0.6089\n",
      "\n",
      "Epoch 00008: val_my_iou_metric improved from 0.60775 to 0.60887, saving model to ../model/Unet_resnet_depth_act_trainlonger32_0.5_stage1.model\n",
      "Epoch 9/200\n",
      "6400/6400 [==============================] - 69s 11ms/step - loss: 0.2024 - my_iou_metric: 0.6139 - val_loss: 0.2097 - val_my_iou_metric: 0.6198\n",
      "\n",
      "Epoch 00009: val_my_iou_metric improved from 0.60887 to 0.61975, saving model to ../model/Unet_resnet_depth_act_trainlonger32_0.5_stage1.model\n",
      "Epoch 10/200\n",
      "6400/6400 [==============================] - 69s 11ms/step - loss: 0.1890 - my_iou_metric: 0.6329 - val_loss: 0.2100 - val_my_iou_metric: 0.6195\n",
      "\n",
      "Epoch 00010: val_my_iou_metric did not improve from 0.61975\n",
      "Epoch 11/200\n",
      "6400/6400 [==============================] - 69s 11ms/step - loss: 0.1905 - my_iou_metric: 0.6397 - val_loss: 0.1897 - val_my_iou_metric: 0.6759\n",
      "\n",
      "Epoch 00011: val_my_iou_metric improved from 0.61975 to 0.67588, saving model to ../model/Unet_resnet_depth_act_trainlonger32_0.5_stage1.model\n",
      "Epoch 12/200\n",
      "6400/6400 [==============================] - 69s 11ms/step - loss: 0.1822 - my_iou_metric: 0.6428 - val_loss: 0.1839 - val_my_iou_metric: 0.6475\n",
      "\n",
      "Epoch 00012: val_my_iou_metric did not improve from 0.67588\n",
      "Epoch 13/200\n",
      "6400/6400 [==============================] - 69s 11ms/step - loss: 0.1739 - my_iou_metric: 0.6598 - val_loss: 0.2035 - val_my_iou_metric: 0.6246\n",
      "\n",
      "Epoch 00013: val_my_iou_metric did not improve from 0.67588\n",
      "Epoch 14/200\n",
      "6400/6400 [==============================] - 69s 11ms/step - loss: 0.1700 - my_iou_metric: 0.6638 - val_loss: 0.2523 - val_my_iou_metric: 0.4641\n",
      "\n",
      "Epoch 00014: val_my_iou_metric did not improve from 0.67588\n",
      "Epoch 15/200\n",
      "6400/6400 [==============================] - 69s 11ms/step - loss: 0.1654 - my_iou_metric: 0.6672 - val_loss: 0.1883 - val_my_iou_metric: 0.6743\n",
      "\n",
      "Epoch 00015: val_my_iou_metric did not improve from 0.67588\n",
      "Epoch 16/200\n",
      "6400/6400 [==============================] - 69s 11ms/step - loss: 0.1622 - my_iou_metric: 0.6700 - val_loss: 0.1889 - val_my_iou_metric: 0.6831\n",
      "\n",
      "Epoch 00016: val_my_iou_metric improved from 0.67588 to 0.68313, saving model to ../model/Unet_resnet_depth_act_trainlonger32_0.5_stage1.model\n",
      "Epoch 17/200\n",
      "6400/6400 [==============================] - 69s 11ms/step - loss: 0.1561 - my_iou_metric: 0.6888 - val_loss: 0.2020 - val_my_iou_metric: 0.6492\n",
      "\n",
      "Epoch 00017: val_my_iou_metric did not improve from 0.68313\n",
      "Epoch 18/200\n",
      "6400/6400 [==============================] - 69s 11ms/step - loss: 0.1519 - my_iou_metric: 0.6898 - val_loss: 0.1974 - val_my_iou_metric: 0.6465\n",
      "\n",
      "Epoch 00018: val_my_iou_metric did not improve from 0.68313\n",
      "Epoch 19/200\n",
      "6400/6400 [==============================] - 69s 11ms/step - loss: 0.1496 - my_iou_metric: 0.6945 - val_loss: 0.1780 - val_my_iou_metric: 0.6779\n",
      "\n",
      "Epoch 00019: val_my_iou_metric did not improve from 0.68313\n",
      "Epoch 20/200\n",
      "6400/6400 [==============================] - 69s 11ms/step - loss: 0.1474 - my_iou_metric: 0.6968 - val_loss: 0.1960 - val_my_iou_metric: 0.6038\n",
      "\n",
      "Epoch 00020: val_my_iou_metric did not improve from 0.68313\n",
      "Epoch 21/200\n",
      "6400/6400 [==============================] - 69s 11ms/step - loss: 0.1439 - my_iou_metric: 0.7074 - val_loss: 0.1573 - val_my_iou_metric: 0.7077\n",
      "\n",
      "Epoch 00021: val_my_iou_metric improved from 0.68313 to 0.70775, saving model to ../model/Unet_resnet_depth_act_trainlonger32_0.5_stage1.model\n",
      "Epoch 22/200\n",
      "6400/6400 [==============================] - 69s 11ms/step - loss: 0.1390 - my_iou_metric: 0.7108 - val_loss: 0.1528 - val_my_iou_metric: 0.6975\n",
      "\n",
      "Epoch 00022: val_my_iou_metric did not improve from 0.70775\n",
      "Epoch 23/200\n",
      "6400/6400 [==============================] - 69s 11ms/step - loss: 0.1417 - my_iou_metric: 0.7043 - val_loss: 0.1651 - val_my_iou_metric: 0.6974\n",
      "\n",
      "Epoch 00023: val_my_iou_metric did not improve from 0.70775\n",
      "Epoch 24/200\n",
      "6400/6400 [==============================] - 69s 11ms/step - loss: 0.1353 - my_iou_metric: 0.7166 - val_loss: 0.1533 - val_my_iou_metric: 0.6738\n",
      "\n",
      "Epoch 00024: val_my_iou_metric did not improve from 0.70775\n",
      "Epoch 25/200\n",
      "6400/6400 [==============================] - 69s 11ms/step - loss: 0.1341 - my_iou_metric: 0.7195 - val_loss: 0.1663 - val_my_iou_metric: 0.6899\n",
      "\n",
      "Epoch 00025: val_my_iou_metric did not improve from 0.70775\n",
      "Epoch 26/200\n",
      "6400/6400 [==============================] - 69s 11ms/step - loss: 0.1333 - my_iou_metric: 0.7206 - val_loss: 0.1618 - val_my_iou_metric: 0.6690\n",
      "\n",
      "Epoch 00026: val_my_iou_metric did not improve from 0.70775\n",
      "\n",
      "Epoch 00026: ReduceLROnPlateau reducing learning rate to 0.004999999888241291.\n",
      "Epoch 27/200\n",
      "6400/6400 [==============================] - 69s 11ms/step - loss: 0.1152 - my_iou_metric: 0.7402 - val_loss: 0.1515 - val_my_iou_metric: 0.7311\n",
      "\n",
      "Epoch 00027: val_my_iou_metric improved from 0.70775 to 0.73113, saving model to ../model/Unet_resnet_depth_act_trainlonger32_0.5_stage1.model\n",
      "Epoch 28/200\n",
      "6400/6400 [==============================] - 69s 11ms/step - loss: 0.1110 - my_iou_metric: 0.7480 - val_loss: 0.1360 - val_my_iou_metric: 0.7055\n",
      "\n",
      "Epoch 00028: val_my_iou_metric did not improve from 0.73113\n",
      "Epoch 29/200\n",
      "6400/6400 [==============================] - 69s 11ms/step - loss: 0.1071 - my_iou_metric: 0.7503 - val_loss: 0.1521 - val_my_iou_metric: 0.7310\n",
      "\n",
      "Epoch 00029: val_my_iou_metric did not improve from 0.73113\n",
      "Epoch 30/200\n",
      "6400/6400 [==============================] - 69s 11ms/step - loss: 0.1061 - my_iou_metric: 0.7532 - val_loss: 0.1583 - val_my_iou_metric: 0.7111\n",
      "\n",
      "Epoch 00030: val_my_iou_metric did not improve from 0.73113\n",
      "Epoch 31/200\n",
      "6400/6400 [==============================] - 69s 11ms/step - loss: 0.1051 - my_iou_metric: 0.7492 - val_loss: 0.1534 - val_my_iou_metric: 0.7170\n",
      "\n",
      "Epoch 00031: val_my_iou_metric did not improve from 0.73113\n",
      "Epoch 32/200\n",
      "6400/6400 [==============================] - 69s 11ms/step - loss: 0.1013 - my_iou_metric: 0.7549 - val_loss: 0.1356 - val_my_iou_metric: 0.7305\n",
      "\n",
      "Epoch 00032: val_my_iou_metric did not improve from 0.73113\n",
      "\n",
      "Epoch 00032: ReduceLROnPlateau reducing learning rate to 0.0024999999441206455.\n",
      "Epoch 33/200\n"
     ]
    },
    {
     "name": "stdout",
     "output_type": "stream",
     "text": [
      "6400/6400 [==============================] - 69s 11ms/step - loss: 0.0913 - my_iou_metric: 0.7666 - val_loss: 0.1404 - val_my_iou_metric: 0.7654\n",
      "\n",
      "Epoch 00033: val_my_iou_metric improved from 0.73113 to 0.76537, saving model to ../model/Unet_resnet_depth_act_trainlonger32_0.5_stage1.model\n",
      "Epoch 34/200\n",
      "6400/6400 [==============================] - 69s 11ms/step - loss: 0.0916 - my_iou_metric: 0.7688 - val_loss: 0.1347 - val_my_iou_metric: 0.7477\n",
      "\n",
      "Epoch 00034: val_my_iou_metric did not improve from 0.76537\n",
      "Epoch 35/200\n",
      "6400/6400 [==============================] - 69s 11ms/step - loss: 0.0861 - my_iou_metric: 0.7740 - val_loss: 0.1395 - val_my_iou_metric: 0.7594\n",
      "\n",
      "Epoch 00035: val_my_iou_metric did not improve from 0.76537\n",
      "Epoch 36/200\n",
      "6400/6400 [==============================] - 69s 11ms/step - loss: 0.0852 - my_iou_metric: 0.7732 - val_loss: 0.1397 - val_my_iou_metric: 0.7510\n",
      "\n",
      "Epoch 00036: val_my_iou_metric did not improve from 0.76537\n",
      "Epoch 37/200\n",
      "6400/6400 [==============================] - 69s 11ms/step - loss: 0.0867 - my_iou_metric: 0.7724 - val_loss: 0.1331 - val_my_iou_metric: 0.7586\n",
      "\n",
      "Epoch 00037: val_my_iou_metric did not improve from 0.76537\n",
      "Epoch 38/200\n",
      "6400/6400 [==============================] - 69s 11ms/step - loss: 0.0823 - my_iou_metric: 0.7787 - val_loss: 0.1355 - val_my_iou_metric: 0.7596\n",
      "\n",
      "Epoch 00038: val_my_iou_metric did not improve from 0.76537\n",
      "\n",
      "Epoch 00038: ReduceLROnPlateau reducing learning rate to 0.0012499999720603228.\n",
      "Epoch 39/200\n",
      "6400/6400 [==============================] - 69s 11ms/step - loss: 0.0784 - my_iou_metric: 0.7810 - val_loss: 0.1553 - val_my_iou_metric: 0.7620\n",
      "\n",
      "Epoch 00039: val_my_iou_metric did not improve from 0.76537\n",
      "Epoch 40/200\n",
      "6400/6400 [==============================] - 69s 11ms/step - loss: 0.0758 - my_iou_metric: 0.7848 - val_loss: 0.1555 - val_my_iou_metric: 0.7554\n",
      "\n",
      "Epoch 00040: val_my_iou_metric did not improve from 0.76537\n",
      "Epoch 41/200\n",
      "6400/6400 [==============================] - 69s 11ms/step - loss: 0.0720 - my_iou_metric: 0.7877 - val_loss: 0.1620 - val_my_iou_metric: 0.7590\n",
      "\n",
      "Epoch 00041: val_my_iou_metric did not improve from 0.76537\n",
      "Epoch 42/200\n",
      "6400/6400 [==============================] - 69s 11ms/step - loss: 0.0738 - my_iou_metric: 0.7854 - val_loss: 0.1452 - val_my_iou_metric: 0.7632\n",
      "\n",
      "Epoch 00042: val_my_iou_metric did not improve from 0.76537\n",
      "Epoch 43/200\n",
      "6400/6400 [==============================] - 69s 11ms/step - loss: 0.0747 - my_iou_metric: 0.7844 - val_loss: 0.1437 - val_my_iou_metric: 0.7589\n",
      "\n",
      "Epoch 00043: val_my_iou_metric did not improve from 0.76537\n",
      "\n",
      "Epoch 00043: ReduceLROnPlateau reducing learning rate to 0.0006249999860301614.\n",
      "Epoch 44/200\n",
      "6400/6400 [==============================] - 69s 11ms/step - loss: 0.0686 - my_iou_metric: 0.7905 - val_loss: 0.1526 - val_my_iou_metric: 0.7606\n",
      "\n",
      "Epoch 00044: val_my_iou_metric did not improve from 0.76537\n",
      "Epoch 45/200\n",
      "6400/6400 [==============================] - 69s 11ms/step - loss: 0.0687 - my_iou_metric: 0.7922 - val_loss: 0.1512 - val_my_iou_metric: 0.7645\n",
      "\n",
      "Epoch 00045: val_my_iou_metric did not improve from 0.76537\n",
      "Epoch 46/200\n",
      "6400/6400 [==============================] - 69s 11ms/step - loss: 0.0683 - my_iou_metric: 0.7927 - val_loss: 0.1488 - val_my_iou_metric: 0.7631\n",
      "\n",
      "Epoch 00046: val_my_iou_metric did not improve from 0.76537\n",
      "Epoch 47/200\n",
      "6400/6400 [==============================] - 69s 11ms/step - loss: 0.0688 - my_iou_metric: 0.7910 - val_loss: 0.1508 - val_my_iou_metric: 0.7587\n",
      "\n",
      "Epoch 00047: val_my_iou_metric did not improve from 0.76537\n",
      "Epoch 48/200\n",
      "6400/6400 [==============================] - 69s 11ms/step - loss: 0.0666 - my_iou_metric: 0.7963 - val_loss: 0.1587 - val_my_iou_metric: 0.7635\n",
      "\n",
      "Epoch 00048: val_my_iou_metric did not improve from 0.76537\n",
      "\n",
      "Epoch 00048: ReduceLROnPlateau reducing learning rate to 0.0003124999930150807.\n",
      "Epoch 49/200\n",
      "6400/6400 [==============================] - 69s 11ms/step - loss: 0.0672 - my_iou_metric: 0.7977 - val_loss: 0.1507 - val_my_iou_metric: 0.7600\n",
      "\n",
      "Epoch 00049: val_my_iou_metric did not improve from 0.76537\n",
      "Epoch 50/200\n",
      "6400/6400 [==============================] - 69s 11ms/step - loss: 0.0682 - my_iou_metric: 0.7962 - val_loss: 0.1512 - val_my_iou_metric: 0.7592\n",
      "\n",
      "Epoch 00050: val_my_iou_metric did not improve from 0.76537\n",
      "Epoch 51/200\n",
      "6400/6400 [==============================] - 69s 11ms/step - loss: 0.0639 - my_iou_metric: 0.7980 - val_loss: 0.1579 - val_my_iou_metric: 0.7591\n",
      "\n",
      "Epoch 00051: val_my_iou_metric did not improve from 0.76537\n",
      "Epoch 52/200\n",
      "6400/6400 [==============================] - 69s 11ms/step - loss: 0.0674 - my_iou_metric: 0.7985 - val_loss: 0.1470 - val_my_iou_metric: 0.7642\n",
      "\n",
      "Epoch 00052: val_my_iou_metric did not improve from 0.76537\n",
      "Epoch 53/200\n",
      "6400/6400 [==============================] - 69s 11ms/step - loss: 0.0661 - my_iou_metric: 0.7952 - val_loss: 0.1565 - val_my_iou_metric: 0.7580\n",
      "\n",
      "Epoch 00053: val_my_iou_metric did not improve from 0.76537\n",
      "\n",
      "Epoch 00053: ReduceLROnPlateau reducing learning rate to 0.00015624999650754035.\n",
      "Epoch 00053: early stopping\n"
     ]
    }
   ],
   "source": [
    "start_feature = 32\n",
    "dropout = 0.5\n",
    "basic_name = '../model/Unet_resnet_depth_act_trainlonger{}_{}'.format(start_feature, dropout)\n",
    "save_model_name = basic_name + '_stage1.model'\n",
    "submission_file = basic_name + '.csv'\n",
    "\n",
    "print(save_model_name)\n",
    "print(submission_file)\n",
    "\n",
    "# model\n",
    "input_layer = Input((img_size_target, img_size_target, 3))\n",
    "output_layer = build_model_deeper(input_layer, start_feature,dropout)\n",
    "\n",
    "model1 = Model(input_layer, output_layer)\n",
    "\n",
    "c = optimizers.adam(lr = 0.01)\n",
    "model1.compile(loss=\"binary_crossentropy\", optimizer=c, metrics=[my_iou_metric])\n",
    "\n",
    "board = keras.callbacks.TensorBoard(log_dir='log/resunet_depth_act_longer_{}_{}'.format(start_feature, dropout),\n",
    "                       histogram_freq=0, write_graph=True, write_images=False)\n",
    "early_stopping = EarlyStopping(monitor='val_my_iou_metric', mode = 'max',patience=20, verbose=1)\n",
    "model_checkpoint = ModelCheckpoint(save_model_name,monitor='val_my_iou_metric', \n",
    "                                   mode = 'max', save_best_only=True, verbose=1)\n",
    "reduce_lr = ReduceLROnPlateau(monitor='val_my_iou_metric', mode = 'max',factor=0.5, patience=5, min_lr=0.000001, verbose=1)\n",
    "\n",
    "epochs = 200\n",
    "batch_size = 16\n",
    "history = model1.fit(x_train, y_train,\n",
    "                    validation_data=[x_valid, y_valid], \n",
    "                    epochs=epochs,\n",
    "                    batch_size=batch_size,\n",
    "                    callbacks=[board, early_stopping, model_checkpoint,reduce_lr], \n",
    "                    verbose=1)"
   ]
  },
  {
   "cell_type": "code",
   "execution_count": 11,
   "metadata": {},
   "outputs": [
    {
     "ename": "OSError",
     "evalue": "Unable to open file (unable to open file: name = '../model/Unet_resnet_depth_act_trainlonger32_0.5.model', errno = 2, error message = 'No such file or directory', flags = 0, o_flags = 0)",
     "output_type": "error",
     "traceback": [
      "\u001b[0;31m---------------------------------------------------------------------------\u001b[0m",
      "\u001b[0;31mOSError\u001b[0m                                   Traceback (most recent call last)",
      "\u001b[0;32m<ipython-input-11-20e3925acff5>\u001b[0m in \u001b[0;36m<module>\u001b[0;34m()\u001b[0m\n\u001b[1;32m      1\u001b[0m \u001b[0msave_model_name\u001b[0m \u001b[0;34m=\u001b[0m \u001b[0mbasic_name\u001b[0m \u001b[0;34m+\u001b[0m \u001b[0;34m'.model'\u001b[0m\u001b[0;34m\u001b[0m\u001b[0m\n\u001b[0;32m----> 2\u001b[0;31m \u001b[0mmodel1\u001b[0m \u001b[0;34m=\u001b[0m \u001b[0mload_model\u001b[0m\u001b[0;34m(\u001b[0m\u001b[0msave_model_name\u001b[0m\u001b[0;34m,\u001b[0m\u001b[0mcustom_objects\u001b[0m\u001b[0;34m=\u001b[0m\u001b[0;34m{\u001b[0m\u001b[0;34m'my_iou_metric'\u001b[0m\u001b[0;34m:\u001b[0m \u001b[0mmy_iou_metric\u001b[0m\u001b[0;34m}\u001b[0m\u001b[0;34m)\u001b[0m\u001b[0;34m\u001b[0m\u001b[0m\n\u001b[0m\u001b[1;32m      3\u001b[0m \u001b[0;31m# remove layter activation layer and use losvasz loss\u001b[0m\u001b[0;34m\u001b[0m\u001b[0;34m\u001b[0m\u001b[0m\n\u001b[1;32m      4\u001b[0m \u001b[0minput_x\u001b[0m \u001b[0;34m=\u001b[0m \u001b[0mmodel1\u001b[0m\u001b[0;34m.\u001b[0m\u001b[0mlayers\u001b[0m\u001b[0;34m[\u001b[0m\u001b[0;36m0\u001b[0m\u001b[0;34m]\u001b[0m\u001b[0;34m.\u001b[0m\u001b[0minput\u001b[0m\u001b[0;34m\u001b[0m\u001b[0m\n\u001b[1;32m      5\u001b[0m \u001b[0moutput_layer\u001b[0m \u001b[0;34m=\u001b[0m \u001b[0mmodel1\u001b[0m\u001b[0;34m.\u001b[0m\u001b[0mlayers\u001b[0m\u001b[0;34m[\u001b[0m\u001b[0;34m-\u001b[0m\u001b[0;36m1\u001b[0m\u001b[0;34m]\u001b[0m\u001b[0;34m.\u001b[0m\u001b[0minput\u001b[0m\u001b[0;34m\u001b[0m\u001b[0m\n",
      "\u001b[0;32m~/anaconda3/lib/python3.6/site-packages/keras/engine/saving.py\u001b[0m in \u001b[0;36mload_model\u001b[0;34m(filepath, custom_objects, compile)\u001b[0m\n\u001b[1;32m    247\u001b[0m     \u001b[0mopened_new_file\u001b[0m \u001b[0;34m=\u001b[0m \u001b[0;32mnot\u001b[0m \u001b[0misinstance\u001b[0m\u001b[0;34m(\u001b[0m\u001b[0mfilepath\u001b[0m\u001b[0;34m,\u001b[0m \u001b[0mh5py\u001b[0m\u001b[0;34m.\u001b[0m\u001b[0mFile\u001b[0m\u001b[0;34m)\u001b[0m\u001b[0;34m\u001b[0m\u001b[0m\n\u001b[1;32m    248\u001b[0m     \u001b[0;32mif\u001b[0m \u001b[0mopened_new_file\u001b[0m\u001b[0;34m:\u001b[0m\u001b[0;34m\u001b[0m\u001b[0m\n\u001b[0;32m--> 249\u001b[0;31m         \u001b[0mf\u001b[0m \u001b[0;34m=\u001b[0m \u001b[0mh5py\u001b[0m\u001b[0;34m.\u001b[0m\u001b[0mFile\u001b[0m\u001b[0;34m(\u001b[0m\u001b[0mfilepath\u001b[0m\u001b[0;34m,\u001b[0m \u001b[0mmode\u001b[0m\u001b[0;34m=\u001b[0m\u001b[0;34m'r'\u001b[0m\u001b[0;34m)\u001b[0m\u001b[0;34m\u001b[0m\u001b[0m\n\u001b[0m\u001b[1;32m    250\u001b[0m     \u001b[0;32melse\u001b[0m\u001b[0;34m:\u001b[0m\u001b[0;34m\u001b[0m\u001b[0m\n\u001b[1;32m    251\u001b[0m         \u001b[0mf\u001b[0m \u001b[0;34m=\u001b[0m \u001b[0mfilepath\u001b[0m\u001b[0;34m\u001b[0m\u001b[0m\n",
      "\u001b[0;32m~/anaconda3/lib/python3.6/site-packages/h5py/_hl/files.py\u001b[0m in \u001b[0;36m__init__\u001b[0;34m(self, name, mode, driver, libver, userblock_size, swmr, **kwds)\u001b[0m\n\u001b[1;32m    310\u001b[0m             \u001b[0;32mwith\u001b[0m \u001b[0mphil\u001b[0m\u001b[0;34m:\u001b[0m\u001b[0;34m\u001b[0m\u001b[0m\n\u001b[1;32m    311\u001b[0m                 \u001b[0mfapl\u001b[0m \u001b[0;34m=\u001b[0m \u001b[0mmake_fapl\u001b[0m\u001b[0;34m(\u001b[0m\u001b[0mdriver\u001b[0m\u001b[0;34m,\u001b[0m \u001b[0mlibver\u001b[0m\u001b[0;34m,\u001b[0m \u001b[0;34m**\u001b[0m\u001b[0mkwds\u001b[0m\u001b[0;34m)\u001b[0m\u001b[0;34m\u001b[0m\u001b[0m\n\u001b[0;32m--> 312\u001b[0;31m                 \u001b[0mfid\u001b[0m \u001b[0;34m=\u001b[0m \u001b[0mmake_fid\u001b[0m\u001b[0;34m(\u001b[0m\u001b[0mname\u001b[0m\u001b[0;34m,\u001b[0m \u001b[0mmode\u001b[0m\u001b[0;34m,\u001b[0m \u001b[0muserblock_size\u001b[0m\u001b[0;34m,\u001b[0m \u001b[0mfapl\u001b[0m\u001b[0;34m,\u001b[0m \u001b[0mswmr\u001b[0m\u001b[0;34m=\u001b[0m\u001b[0mswmr\u001b[0m\u001b[0;34m)\u001b[0m\u001b[0;34m\u001b[0m\u001b[0m\n\u001b[0m\u001b[1;32m    313\u001b[0m \u001b[0;34m\u001b[0m\u001b[0m\n\u001b[1;32m    314\u001b[0m                 \u001b[0;32mif\u001b[0m \u001b[0mswmr_support\u001b[0m\u001b[0;34m:\u001b[0m\u001b[0;34m\u001b[0m\u001b[0m\n",
      "\u001b[0;32m~/anaconda3/lib/python3.6/site-packages/h5py/_hl/files.py\u001b[0m in \u001b[0;36mmake_fid\u001b[0;34m(name, mode, userblock_size, fapl, fcpl, swmr)\u001b[0m\n\u001b[1;32m    140\u001b[0m         \u001b[0;32mif\u001b[0m \u001b[0mswmr\u001b[0m \u001b[0;32mand\u001b[0m \u001b[0mswmr_support\u001b[0m\u001b[0;34m:\u001b[0m\u001b[0;34m\u001b[0m\u001b[0m\n\u001b[1;32m    141\u001b[0m             \u001b[0mflags\u001b[0m \u001b[0;34m|=\u001b[0m \u001b[0mh5f\u001b[0m\u001b[0;34m.\u001b[0m\u001b[0mACC_SWMR_READ\u001b[0m\u001b[0;34m\u001b[0m\u001b[0m\n\u001b[0;32m--> 142\u001b[0;31m         \u001b[0mfid\u001b[0m \u001b[0;34m=\u001b[0m \u001b[0mh5f\u001b[0m\u001b[0;34m.\u001b[0m\u001b[0mopen\u001b[0m\u001b[0;34m(\u001b[0m\u001b[0mname\u001b[0m\u001b[0;34m,\u001b[0m \u001b[0mflags\u001b[0m\u001b[0;34m,\u001b[0m \u001b[0mfapl\u001b[0m\u001b[0;34m=\u001b[0m\u001b[0mfapl\u001b[0m\u001b[0;34m)\u001b[0m\u001b[0;34m\u001b[0m\u001b[0m\n\u001b[0m\u001b[1;32m    143\u001b[0m     \u001b[0;32melif\u001b[0m \u001b[0mmode\u001b[0m \u001b[0;34m==\u001b[0m \u001b[0;34m'r+'\u001b[0m\u001b[0;34m:\u001b[0m\u001b[0;34m\u001b[0m\u001b[0m\n\u001b[1;32m    144\u001b[0m         \u001b[0mfid\u001b[0m \u001b[0;34m=\u001b[0m \u001b[0mh5f\u001b[0m\u001b[0;34m.\u001b[0m\u001b[0mopen\u001b[0m\u001b[0;34m(\u001b[0m\u001b[0mname\u001b[0m\u001b[0;34m,\u001b[0m \u001b[0mh5f\u001b[0m\u001b[0;34m.\u001b[0m\u001b[0mACC_RDWR\u001b[0m\u001b[0;34m,\u001b[0m \u001b[0mfapl\u001b[0m\u001b[0;34m=\u001b[0m\u001b[0mfapl\u001b[0m\u001b[0;34m)\u001b[0m\u001b[0;34m\u001b[0m\u001b[0m\n",
      "\u001b[0;32mh5py/_objects.pyx\u001b[0m in \u001b[0;36mh5py._objects.with_phil.wrapper\u001b[0;34m()\u001b[0m\n",
      "\u001b[0;32mh5py/_objects.pyx\u001b[0m in \u001b[0;36mh5py._objects.with_phil.wrapper\u001b[0;34m()\u001b[0m\n",
      "\u001b[0;32mh5py/h5f.pyx\u001b[0m in \u001b[0;36mh5py.h5f.open\u001b[0;34m()\u001b[0m\n",
      "\u001b[0;31mOSError\u001b[0m: Unable to open file (unable to open file: name = '../model/Unet_resnet_depth_act_trainlonger32_0.5.model', errno = 2, error message = 'No such file or directory', flags = 0, o_flags = 0)"
     ]
    }
   ],
   "source": [
    "model1 = load_model(save_model_name,custom_objects={'my_iou_metric': my_iou_metric})\n",
    "save_model_name = basic_name + '.model'\n",
    "# remove layter activation layer and use losvasz loss\n",
    "input_x = model1.layers[0].input\n",
    "output_layer = model1.layers[-1].input\n",
    "model = Model(input_x, output_layer)\n",
    "c = optimizers.adam(lr = 0.01)\n",
    "\n",
    "# lovasz_loss need input range (-∞，+∞), so cancel the last \"sigmoid\" activation  \n",
    "# Then the default threshod for pixel prediction is 0 instead of 0.5, as in my_iou_metric_2.\n",
    "model.compile(loss=lovasz_loss, optimizer=c, metrics=[my_iou_metric_2])\n",
    "\n",
    "#model.summary()\n",
    "early_stopping = EarlyStopping(monitor='val_my_iou_metric_2', mode = 'max',patience=20, verbose=1)\n",
    "model_checkpoint = ModelCheckpoint(save_model_name,monitor='val_my_iou_metric_2', \n",
    "                                   mode = 'max', save_best_only=True, verbose=1)\n",
    "reduce_lr = ReduceLROnPlateau(monitor='val_my_iou_metric_2', mode = 'max',factor=0.5, patience=5, min_lr=0.000001, verbose=1)\n",
    "epochs = 200\n",
    "batch_size = 16\n",
    "\n",
    "history = model.fit(x_train, y_train,\n",
    "                    validation_data=[x_valid, y_valid], \n",
    "                    epochs=epochs,\n",
    "                    batch_size=batch_size,\n",
    "                    callbacks=[board, model_checkpoint,reduce_lr,early_stopping], \n",
    "                    verbose=1)"
   ]
  },
  {
   "cell_type": "code",
   "execution_count": null,
   "metadata": {},
   "outputs": [],
   "source": [
    "model = load_model(save_model_name,custom_objects={'my_iou_metric_2': my_iou_metric_2,\n",
    "                                                   'lovasz_loss': lovasz_loss})\n",
    "\n"
   ]
  },
  {
   "cell_type": "code",
   "execution_count": null,
   "metadata": {},
   "outputs": [],
   "source": [
    "preds_valid = predict_result(model,x_valid,img_size_target)\n",
    "## Scoring for last model, choose threshold by validation data \n",
    "thresholds_ori = np.linspace(0.3, 0.7, 31)\n",
    "# Reverse sigmoid function: Use code below because the  sigmoid activation was removed\n",
    "thresholds = np.log(thresholds_ori/(1-thresholds_ori)) \n",
    "\n",
    "# ious = np.array([get_iou_vector(y_valid, preds_valid > threshold) for threshold in tqdm_notebook(thresholds)])\n",
    "# print(ious)\n",
    "ious = np.array([iou_metric_batch(y_valid, preds_valid > threshold) for threshold in tqdm_notebook(thresholds)])\n",
    "print(ious)\n",
    "\n",
    "# instead of using default 0 as threshold, use validation data to find the best threshold.\n",
    "threshold_best_index = np.argmax(ious) \n",
    "iou_best = ious[threshold_best_index]\n",
    "threshold_best = thresholds[threshold_best_index]\n",
    "\n",
    "plt.plot(thresholds, ious)\n",
    "plt.plot(threshold_best, iou_best, \"xr\", label=\"Best threshold\")\n",
    "plt.xlabel(\"Threshold\")\n",
    "plt.ylabel(\"IoU\")\n",
    "plt.title(\"Threshold vs IoU ({}, {})\".format(threshold_best, iou_best))\n",
    "plt.legend()"
   ]
  },
  {
   "cell_type": "code",
   "execution_count": null,
   "metadata": {},
   "outputs": [],
   "source": [
    "x_test = np.array([(np.array(load_img(\"../input/test/images/{}.png\".format(idx), grayscale = True))) / 255 for idx in tqdm_notebook(test_df.index)]).reshape(-1, img_size_target, img_size_target)\n",
    "x_test = add_depth_bulk(x_test)\n",
    "\n",
    "preds_test = predict_result(model,x_test,img_size_target)"
   ]
  },
  {
   "cell_type": "code",
   "execution_count": null,
   "metadata": {},
   "outputs": [],
   "source": [
    "t1 = time.time()\n",
    "pred_dict = {idx: rle_encode(np.round(downsample(preds_test[i]) > threshold_best)) for i, idx in enumerate(tqdm_notebook(test_df.index.values))}\n",
    "t2 = time.time()\n",
    "\n",
    "print(f\"Usedtime = {t2-t1} s\")\n",
    "\n",
    "sub = pd.DataFrame.from_dict(pred_dict,orient='index')\n",
    "sub.index.names = ['id']\n",
    "sub.columns = ['rle_mask']\n",
    "sub = sub.reset_index()\n",
    "save_result(sub, '../result/res_depthinchannel.csv', \n",
    "                        competition = 'tgs-salt-identification-challenge', \n",
    "                        send = False, index = False)\n",
    "\n",
    "t_finish = time.time()\n",
    "print(f\"Kernel run time = {(t_finish-t_start)/3600} hours\")"
   ]
  },
  {
   "cell_type": "code",
   "execution_count": null,
   "metadata": {},
   "outputs": [],
   "source": []
  }
 ],
 "metadata": {
  "kernelspec": {
   "display_name": "Python 3",
   "language": "python",
   "name": "python3"
  },
  "language_info": {
   "codemirror_mode": {
    "name": "ipython",
    "version": 3
   },
   "file_extension": ".py",
   "mimetype": "text/x-python",
   "name": "python",
   "nbconvert_exporter": "python",
   "pygments_lexer": "ipython3",
   "version": "3.6.5"
  }
 },
 "nbformat": 4,
 "nbformat_minor": 2
}
