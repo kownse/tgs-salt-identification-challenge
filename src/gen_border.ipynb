{
 "cells": [
  {
   "cell_type": "code",
   "execution_count": 41,
   "metadata": {},
   "outputs": [],
   "source": [
    "from os import path, mkdir\n",
    "import numpy as np\n",
    "np.random.seed(1)\n",
    "import random\n",
    "random.seed(1)\n",
    "import tensorflow as tf\n",
    "tf.set_random_seed(1)\n",
    "import timeit\n",
    "import cv2\n",
    "from keras.optimizers import Adam\n",
    "from keras.callbacks import ModelCheckpoint, LearningRateScheduler #, TensorBoard\n",
    "import keras.backend as K\n",
    "import pandas as pd\n",
    "from tqdm import tqdm\n",
    "from keras import metrics\n",
    "from abc import abstractmethod\n",
    "from keras.preprocessing.image import Iterator\n",
    "import time\n",
    "from skimage import measure\n",
    "from skimage.morphology import square, erosion, dilation, watershed\n",
    "from skimage.filters import median\n",
    "from skimage.segmentation import find_boundaries\n",
    "from glob import glob\n",
    "import matplotlib.pyplot as plt\n",
    "\n",
    "%matplotlib inline"
   ]
  },
  {
   "cell_type": "code",
   "execution_count": 5,
   "metadata": {},
   "outputs": [],
   "source": [
    "weights = glob('../../input/train/masks/*.png')"
   ]
  },
  {
   "cell_type": "code",
   "execution_count": 50,
   "metadata": {},
   "outputs": [
    {
     "data": {
      "text/plain": [
       "<matplotlib.image.AxesImage at 0x7f07eceef390>"
      ]
     },
     "execution_count": 50,
     "metadata": {},
     "output_type": "execute_result"
    },
    {
     "data": {
      "image/png": "[encoded data removed]",
      "text/plain": [
       "<Figure size 432x288 with 1 Axes>"
      ]
     },
     "metadata": {},
     "output_type": "display_data"
    }
   ],
   "source": [
    "msk = cv2.imread(weights[5])\n",
    "plt.imshow(msk)"
   ]
  },
  {
   "cell_type": "code",
   "execution_count": 51,
   "metadata": {},
   "outputs": [
    {
     "data": {
      "text/plain": [
       "(101, 101, 3)"
      ]
     },
     "execution_count": 51,
     "metadata": {},
     "output_type": "execute_result"
    }
   ],
   "source": [
    "msk.shape"
   ]
  },
  {
   "cell_type": "code",
   "execution_count": 38,
   "metadata": {},
   "outputs": [
    {
     "name": "stderr",
     "output_type": "stream",
     "text": [
      "/home/kownse/anaconda3/lib/python3.6/site-packages/skimage/util/arraycrop.py:175: FutureWarning: Using a non-tuple sequence for multidimensional indexing is deprecated; use `arr[tuple(seq)]` instead of `arr[seq]`. In the future this will be interpreted as an array index, `arr[np.array(seq)]`, which will result either in an error or a different result.\n",
      "  cropped = np.array(ar[slices], order=order, copy=True)\n"
     ]
    }
   ],
   "source": [
    "labels = measure.label(msk, neighbors=8, background=0)\n",
    "# tmp = dilation(labels > 0, square(9))  \n",
    "tmp2 = watershed(labels, labels, mask=msk, watershed_line=True) > 0"
   ]
  },
  {
   "cell_type": "code",
   "execution_count": 47,
   "metadata": {},
   "outputs": [],
   "source": [
    "boundry = find_boundaries(msk)"
   ]
  },
  {
   "cell_type": "code",
   "execution_count": 48,
   "metadata": {},
   "outputs": [
    {
     "data": {
      "text/plain": [
       "True"
      ]
     },
     "execution_count": 48,
     "metadata": {},
     "output_type": "execute_result"
    }
   ],
   "source": [
    "boundry.max()"
   ]
  },
  {
   "cell_type": "code",
   "execution_count": 49,
   "metadata": {},
   "outputs": [
    {
     "data": {
      "text/plain": [
       "<matplotlib.image.AxesImage at 0x7f07ed7ad3c8>"
      ]
     },
     "execution_count": 49,
     "metadata": {},
     "output_type": "execute_result"
    },
    {
     "data": {
      "image/png": "[encoded data removed]",
      "text/plain": [
       "<Figure size 432x288 with 1 Axes>"
      ]
     },
     "metadata": {},
     "output_type": "display_data"
    }
   ],
   "source": [
    "plt.imshow(boundry[...,1])"
   ]
  },
  {
   "cell_type": "code",
   "execution_count": null,
   "metadata": {},
   "outputs": [],
   "source": [
    "labels = measure.label(labels, neighbors=8, background=0)\n",
    " \n",
    "tmp2 = watershed(tmp, labels, mask=tmp, watershed_line=True) > 0\n",
    "tmp = tmp ^ tmp2\n",
    "tmp = dilation(tmp, square(7))\n",
    "msk = (255 * tmp).astype('uint8')\n",
    "\n",
    "props = measure.regionprops(labels)\n",
    "msk0 = 255 * (labels > 0)\n",
    "msk0 = msk0.astype('uint8')\n",
    "\n",
    "msk1 = np.zeros_like(labels, dtype='bool')"
   ]
  }
 ],
 "metadata": {
  "kernelspec": {
   "display_name": "Python 3",
   "language": "python",
   "name": "python3"
  },
  "language_info": {
   "codemirror_mode": {
    "name": "ipython",
    "version": 3
   },
   "file_extension": ".py",
   "mimetype": "text/x-python",
   "name": "python",
   "nbconvert_exporter": "python",
   "pygments_lexer": "ipython3",
   "version": "3.6.5"
  }
 },
 "nbformat": 4,
 "nbformat_minor": 2
}
