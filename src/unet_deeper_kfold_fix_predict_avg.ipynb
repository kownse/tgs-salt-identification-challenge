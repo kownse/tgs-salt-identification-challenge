{
 "cells": [
  {
   "cell_type": "code",
   "execution_count": 1,
   "metadata": {},
   "outputs": [
    {
     "name": "stderr",
     "output_type": "stream",
     "text": [
      "Using TensorFlow backend.\n"
     ]
    }
   ],
   "source": [
    "import os\n",
    "os.environ[\"CUDA_VISIBLE_DEVICES\"]=\"1\"\n",
    "import sys\n",
    "import random\n",
    "\n",
    "import pandas as pd\n",
    "import numpy as np\n",
    "import matplotlib.pyplot as plt\n",
    "plt.style.use('seaborn-white')\n",
    "import seaborn as sns\n",
    "sns.set_style(\"white\")\n",
    "\n",
    "from sklearn.model_selection import train_test_split, StratifiedKFold\n",
    "\n",
    "from tqdm import tqdm #, tnrange\n",
    "#from itertools import chain\n",
    "from skimage.io import imread, imshow #, concatenate_images\n",
    "from skimage.transform import resize\n",
    "from skimage.morphology import label\n",
    "\n",
    "import keras\n",
    "from keras.models import Model, load_model, save_model\n",
    "from keras.layers import Input,Dropout,BatchNormalization,Activation,Add\n",
    "from keras.layers.core import Lambda\n",
    "from keras.layers.convolutional import Conv2D, Conv2DTranspose\n",
    "from keras.layers.pooling import MaxPooling2D\n",
    "from keras.layers.merge import concatenate\n",
    "from keras.callbacks import EarlyStopping, ModelCheckpoint, ReduceLROnPlateau\n",
    "from keras import backend as K\n",
    "from keras import optimizers\n",
    "\n",
    "import tensorflow as tf\n",
    "\n",
    "from keras.preprocessing.image import array_to_img, img_to_array, load_img#,save_img\n",
    "\n",
    "import time\n",
    "from kaggle_util import *\n",
    "from models import *\n",
    "\n",
    "t_start = time.time()"
   ]
  },
  {
   "cell_type": "code",
   "execution_count": 2,
   "metadata": {},
   "outputs": [],
   "source": [
    "img_size_ori = 101\n",
    "img_size_target = 101\n",
    "\n",
    "def upsample(img):\n",
    "    if img_size_ori == img_size_target:\n",
    "        return img\n",
    "    return resize(img, (img_size_target, img_size_target), mode='constant', preserve_range=True)\n",
    "    \n",
    "def downsample(img):\n",
    "    if img_size_ori == img_size_target:\n",
    "        return img\n",
    "    return resize(img, (img_size_ori, img_size_ori), mode='constant', preserve_range=True)"
   ]
  },
  {
   "cell_type": "code",
   "execution_count": 3,
   "metadata": {},
   "outputs": [
    {
     "name": "stderr",
     "output_type": "stream",
     "text": [
      "  0%|          | 0/4000 [00:00<?, ?it/s]/home/kownse/.local/lib/python3.6/site-packages/keras_preprocessing/image.py:487: UserWarning: grayscale is deprecated. Please use color_mode = \"grayscale\"\n",
      "  warnings.warn('grayscale is deprecated. Please use '\n",
      "100%|██████████| 4000/4000 [00:02<00:00, 1425.75it/s]\n",
      "100%|██████████| 4000/4000 [00:01<00:00, 2176.08it/s]\n"
     ]
    }
   ],
   "source": [
    "# Loading of training/testing ids and depths\n",
    "train_df = pd.read_csv(\"../input/train.csv\", index_col=\"id\", usecols=[0])\n",
    "depths_df = pd.read_csv(\"../input/depths.csv\", index_col=\"id\")\n",
    "train_df = train_df.join(depths_df)\n",
    "test_df = depths_df[~depths_df.index.isin(train_df.index)]\n",
    "\n",
    "len(train_df)\n",
    "\n",
    "train_df[\"images\"] = [np.array(load_img(\"../input/train/images/{}.png\".format(idx), grayscale=True)) / 255 for idx in tqdm(train_df.index)]\n",
    "train_df[\"masks\"] = [np.array(load_img(\"../input/train/masks/{}.png\".format(idx), grayscale=True)) / 255 for idx in tqdm(train_df.index)]\n",
    "train_df[\"coverage\"] = train_df.masks.map(np.sum) / pow(img_size_ori, 2)\n",
    "train_df[\"coverage_class\"] = train_df.coverage.map(cov_to_class)\n",
    "train_df['hassalt'] = train_df['masks'].apply(lambda x: (x.max()!=0) * 1)"
   ]
  },
  {
   "cell_type": "code",
   "execution_count": 4,
   "metadata": {},
   "outputs": [],
   "source": [
    "def get_splits(train_df, train_idx, val_idx):\n",
    "    X_train = train_df.iloc[train_idx]\n",
    "    X_valid = train_df.iloc[val_idx]\n",
    "    x_train = np.array(X_train.images.map(upsample).tolist()).reshape(-1, img_size_target, img_size_target, 1)\n",
    "    x_valid = np.array(X_valid.images.map(upsample).tolist()).reshape(-1, img_size_target, img_size_target, 1)\n",
    "    msk_train = np.array(X_train.masks.map(upsample).tolist()).reshape(-1, img_size_target, img_size_target, 1)\n",
    "    msk_val = np.array(X_valid.masks.map(upsample).tolist()).reshape(-1, img_size_target, img_size_target, 1)\n",
    "    y_train = X_train.hassalt.values\n",
    "    y_valid = X_valid.hassalt.values\n",
    "    id_train = X_train.index.values\n",
    "    id_valid = X_valid.index.values\n",
    "    return x_train, x_valid, msk_train, msk_val, y_train, y_valid, id_train, id_valid"
   ]
  },
  {
   "cell_type": "code",
   "execution_count": 5,
   "metadata": {},
   "outputs": [
    {
     "data": {
      "application/vnd.jupyter.widget-view+json": {
       "model_id": "5409935675414db3b17910aec1b714fa",
       "version_major": 2,
       "version_minor": 0
      },
      "text/plain": [
       "HBox(children=(IntProgress(value=0, max=18000), HTML(value='')))"
      ]
     },
     "metadata": {},
     "output_type": "display_data"
    },
    {
     "name": "stderr",
     "output_type": "stream",
     "text": [
      "/home/kownse/.local/lib/python3.6/site-packages/keras_preprocessing/image.py:487: UserWarning: grayscale is deprecated. Please use color_mode = \"grayscale\"\n",
      "  warnings.warn('grayscale is deprecated. Please use '\n"
     ]
    },
    {
     "name": "stdout",
     "output_type": "stream",
     "text": [
      "\n",
      "predict for fold 0\n",
      "801/801 [==============================] - 5s 6ms/step\n",
      "18000/18000 [==============================] - 63s 3ms/step\n",
      "predict for fold 1\n",
      "801/801 [==============================] - 4s 5ms/step\n",
      "18000/18000 [==============================] - 62s 3ms/step\n",
      "predict for fold 2\n",
      "800/800 [==============================] - 4s 5ms/step\n",
      "18000/18000 [==============================] - 62s 3ms/step\n",
      "predict for fold 3\n",
      "799/799 [==============================] - 4s 5ms/step\n",
      "18000/18000 [==============================] - 62s 3ms/step\n",
      "predict for fold 4\n",
      "799/799 [==============================] - 4s 5ms/step\n",
      "18000/18000 [==============================] - 63s 3ms/step\n"
     ]
    }
   ],
   "source": [
    "pred_vals = []\n",
    "msk_vals = []\n",
    "pred_tests = []\n",
    "x_test = np.array([(np.array(load_img(\"../input/test/images/{}.png\".format(idx), grayscale = True))) / 255 for idx in tqdm_notebook(test_df.index)]).reshape(-1, img_size_target, img_size_target, 1)\n",
    "\n",
    "skf = StratifiedKFold(n_splits=5, shuffle=True, random_state=1234)\n",
    "for fold, (train_idx, val_idx) in enumerate(skf.split(train_df, train_df['hassalt'])):\n",
    "    print('predict for fold', fold)\n",
    "    \n",
    "    start_feature = 32\n",
    "    batch_size = 32\n",
    "    dropout = 0.5\n",
    "    base_name = 'Unet_resnet_deeper_fix5_{}_{}_{}_{}'.format(start_feature, batch_size, dropout, fold)\n",
    "    basic_name = '../model/segmenter/{}'.format(base_name)\n",
    "    save_model_name = basic_name + '.model'\n",
    "\n",
    "    model = load_model(save_model_name,custom_objects={'my_iou_metric_2': my_iou_metric_2,\n",
    "                                                   'lovasz_loss': lovasz_loss})\n",
    "    \n",
    "    x_train, x_valid, msk_train, msk_val, y_train, y_valid, id_train, id_valid = get_splits(train_df, train_idx, \n",
    "                                                                                            val_idx)\n",
    "    \n",
    "    preds_valid = predict_result(model,x_valid,img_size_target)\n",
    "    pred_vals.append(preds_valid)\n",
    "    msk_vals.append(msk_val)\n",
    "    \n",
    "    preds_test = predict_result(model,x_test,img_size_target)\n",
    "    pred_tests.append(preds_test)\n",
    "\n",
    "    from keras import backend as K\n",
    "    K.clear_session()\n",
    "    \n",
    "    "
   ]
  },
  {
   "cell_type": "code",
   "execution_count": 6,
   "metadata": {},
   "outputs": [],
   "source": [
    "val_ids = []\n",
    "skf = StratifiedKFold(n_splits=5, shuffle=True, random_state=1234)\n",
    "for fold, (train_idx, val_idx) in enumerate(skf.split(train_df, train_df['hassalt'])):\n",
    "    val_ids += list(train_df.iloc[val_idx].index.values)"
   ]
  },
  {
   "cell_type": "code",
   "execution_count": 7,
   "metadata": {},
   "outputs": [],
   "source": [
    "pred_all = np.concatenate(pred_vals, axis=0)\n",
    "msk_all = np.concatenate(msk_vals, axis= 0)"
   ]
  },
  {
   "cell_type": "code",
   "execution_count": 8,
   "metadata": {},
   "outputs": [
    {
     "data": {
      "application/vnd.jupyter.widget-view+json": {
       "model_id": "d17cc79b50c6450c81b0c3c105e3d966",
       "version_major": 2,
       "version_minor": 0
      },
      "text/plain": [
       "HBox(children=(IntProgress(value=0, max=35), HTML(value='')))"
      ]
     },
     "metadata": {},
     "output_type": "display_data"
    },
    {
     "name": "stdout",
     "output_type": "stream",
     "text": [
      "\n",
      "[0.887575 0.8882   0.888625 0.889075 0.88935  0.8896   0.8903   0.89095\n",
      " 0.89115  0.891275 0.891675 0.89185  0.892375 0.892575 0.89285  0.8936\n",
      " 0.89425  0.895825 0.895825 0.89605  0.89545  0.8952   0.89525  0.894825\n",
      " 0.894025 0.893825 0.893175 0.892825 0.89225  0.8919   0.891475 0.891275\n",
      " 0.890575 0.890075 0.889625]\n"
     ]
    },
    {
     "data": {
      "text/plain": [
       "<matplotlib.legend.Legend at 0x7f717e2fd358>"
      ]
     },
     "execution_count": 8,
     "metadata": {},
     "output_type": "execute_result"
    },
    {
     "data": {
      "image/png": "[encoded data removed]",
      "text/plain": [
       "<Figure size 432x288 with 1 Axes>"
      ]
     },
     "metadata": {},
     "output_type": "display_data"
    }
   ],
   "source": [
    "\n",
    "thresholds_ori = np.linspace(0.3, 0.7, 35)\n",
    "thresholds = np.log(thresholds_ori/(1-thresholds_ori)) \n",
    "\n",
    "# ious = np.array([get_iou_vector(y_valid, preds_valid > threshold) for threshold in tqdm_notebook(thresholds)])\n",
    "# print(ious)\n",
    "ious = np.array([iou_metric_batch(msk_all, pred_all > threshold) for threshold in tqdm_notebook(thresholds)])\n",
    "print(ious)\n",
    "\n",
    "# instead of using default 0 as threshold, use validation data to find the best threshold.\n",
    "threshold_best_index = np.argmax(ious) \n",
    "iou_best = ious[threshold_best_index]\n",
    "threshold_best = thresholds[threshold_best_index]\n",
    "\n",
    "plt.plot(thresholds, ious)\n",
    "plt.plot(threshold_best, iou_best, \"xr\", label=\"Best threshold\")\n",
    "plt.xlabel(\"Threshold\")\n",
    "plt.ylabel(\"IoU\")\n",
    "plt.title(\"Threshold vs IoU ({}, {})\".format(threshold_best, iou_best))\n",
    "plt.legend()\n",
    "\n"
   ]
  },
  {
   "cell_type": "code",
   "execution_count": 9,
   "metadata": {},
   "outputs": [
    {
     "data": {
      "application/vnd.jupyter.widget-view+json": {
       "model_id": "984b382b593d41b3a0caad0423a66514",
       "version_major": 2,
       "version_minor": 0
      },
      "text/plain": [
       "HBox(children=(IntProgress(value=0, max=4000), HTML(value='')))"
      ]
     },
     "metadata": {},
     "output_type": "display_data"
    },
    {
     "name": "stdout",
     "output_type": "stream",
     "text": [
      "\n"
     ]
    }
   ],
   "source": [
    "val_all = (pred_all > threshold_best) * 1\n",
    "df_iou = pd.DataFrame(columns=['id', 'iou'])\n",
    "cnt = 0\n",
    "for i in tqdm_notebook(range(len(val_all))):\n",
    "    id = val_ids[i]\n",
    "    iou = iou_metric_batch(msk_all[i], val_all[i])\n",
    "    df_iou = df_iou.append({'id':id, 'iou':iou}, ignore_index=True)\n",
    "# for i in range(len(val_all)):\n",
    "#     if iou_metric_batch(msk_all[i], val_all[i]) < 0.5:\n",
    "        \n",
    "#         fig, axis = plt.subplots(1, 3)\n",
    "#         img = cv2.imread('../input/train/images/{}.png'.format(val_ids[i]))\n",
    "#         axis[0].imshow(img)\n",
    "#         axis[1].imshow(msk_all[i].squeeze())\n",
    "#         axis[2].imshow(val_all[i].squeeze())\n",
    "#         cnt += 1\n",
    "#         if cnt > 20:\n",
    "#             break\n",
    "df_iou.to_csv('../result/iou_2.csv', index = False)"
   ]
  },
  {
   "cell_type": "code",
   "execution_count": 10,
   "metadata": {},
   "outputs": [
    {
     "data": {
      "text/plain": [
       "<matplotlib.axes._subplots.AxesSubplot at 0x7f73ef0e5400>"
      ]
     },
     "execution_count": 10,
     "metadata": {},
     "output_type": "execute_result"
    },
    {
     "data": {
      "image/png": "[encoded data removed]",
      "text/plain": [
       "<Figure size 432x288 with 1 Axes>"
      ]
     },
     "metadata": {},
     "output_type": "display_data"
    }
   ],
   "source": [
    "df_iou.iou.hist()"
   ]
  },
  {
   "cell_type": "code",
   "execution_count": 11,
   "metadata": {},
   "outputs": [],
   "source": [
    "pred_tests_act = pred_tests\n",
    "pred_test_all = np.zeros_like(pred_tests_act[0], dtype=np.float32)\n",
    "for pre in pred_tests_act:\n",
    "    pred_test_all += pre / len(pred_tests_act)"
   ]
  },
  {
   "cell_type": "code",
   "execution_count": 12,
   "metadata": {},
   "outputs": [
    {
     "data": {
      "application/vnd.jupyter.widget-view+json": {
       "model_id": "53b1778170334d0a92f5a71842f5e164",
       "version_major": 2,
       "version_minor": 0
      },
      "text/plain": [
       "HBox(children=(IntProgress(value=0, max=18000), HTML(value='')))"
      ]
     },
     "metadata": {},
     "output_type": "display_data"
    },
    {
     "name": "stdout",
     "output_type": "stream",
     "text": [
      "\n",
      "save result\n",
      "upload result\n",
      "cmd: kaggle competitions submit -c tgs-salt-identification-challenge -f ../result/segmenter/unet_resnet_fix4_avg.csv.7z -m \"submit\"\n"
     ]
    }
   ],
   "source": [
    "pred_dict = {idx: rle_encode(np.round(downsample(pred_test_all[i]) > threshold_best)) for i, idx in enumerate(tqdm_notebook(test_df.index.values))}\n",
    "sub = pd.DataFrame.from_dict(pred_dict,orient='index')\n",
    "sub.index.names = ['id']\n",
    "sub.columns = ['rle_mask']\n",
    "sub = sub.reset_index()\n",
    "save_result(sub, '../result/segmenter/unet_resnet_fix4_avg.csv', \n",
    "                        competition = 'tgs-salt-identification-challenge', \n",
    "                        send = True, index = False)"
   ]
  },
  {
   "cell_type": "code",
   "execution_count": null,
   "metadata": {},
   "outputs": [],
   "source": []
  }
 ],
 "metadata": {
  "kernelspec": {
   "display_name": "Python 3",
   "language": "python",
   "name": "python3"
  },
  "language_info": {
   "codemirror_mode": {
    "name": "ipython",
    "version": 3
   },
   "file_extension": ".py",
   "mimetype": "text/x-python",
   "name": "python",
   "nbconvert_exporter": "python",
   "pygments_lexer": "ipython3",
   "version": "3.6.5"
  }
 },
 "nbformat": 4,
 "nbformat_minor": 2
}
