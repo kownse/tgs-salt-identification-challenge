{
 "cells": [
  {
   "cell_type": "code",
   "execution_count": 1,
   "metadata": {},
   "outputs": [
    {
     "name": "stderr",
     "output_type": "stream",
     "text": [
      "Using TensorFlow backend.\n"
     ]
    }
   ],
   "source": [
    "import os\n",
    "os.environ[\"CUDA_VISIBLE_DEVICES\"]=\"1\"\n",
    "import sys\n",
    "import random\n",
    "\n",
    "import pandas as pd\n",
    "import numpy as np\n",
    "import matplotlib.pyplot as plt\n",
    "plt.style.use('seaborn-white')\n",
    "import seaborn as sns\n",
    "sns.set_style(\"white\")\n",
    "\n",
    "%matplotlib inline\n",
    "\n",
    "from sklearn.model_selection import train_test_split\n",
    "\n",
    "from tqdm import tqdm_notebook #, tnrange\n",
    "#from itertools import chain\n",
    "from skimage.io import imread, imshow #, concatenate_images\n",
    "from skimage.transform import resize\n",
    "from skimage.morphology import label\n",
    "\n",
    "import keras\n",
    "from keras.models import Model, load_model, save_model\n",
    "from keras.layers import Input,Dropout,BatchNormalization,Activation,Add\n",
    "from keras.layers.core import Lambda\n",
    "from keras.layers.convolutional import Conv2D, Conv2DTranspose\n",
    "from keras.layers.pooling import MaxPooling2D\n",
    "from keras.layers.merge import concatenate\n",
    "from keras.callbacks import EarlyStopping, ModelCheckpoint, ReduceLROnPlateau\n",
    "from keras import backend as K\n",
    "from keras import optimizers\n",
    "\n",
    "import tensorflow as tf\n",
    "\n",
    "from keras.preprocessing.image import array_to_img, img_to_array, load_img#,save_img\n",
    "\n",
    "import time\n",
    "from kaggle_util import *\n",
    "from models import *\n",
    "\n",
    "from albumentations import (\n",
    "    PadIfNeeded,\n",
    "    HorizontalFlip,\n",
    "    VerticalFlip,    \n",
    "    CenterCrop,    \n",
    "    Crop,\n",
    "    Compose,\n",
    "    Transpose,\n",
    "    RandomRotate90,\n",
    "    ElasticTransform,\n",
    "    GridDistortion, \n",
    "    OpticalDistortion,\n",
    "    RandomSizedCrop,\n",
    "    OneOf,\n",
    "    CLAHE,\n",
    "    RandomContrast,\n",
    "    RandomGamma,\n",
    "    RandomBrightness\n",
    ")\n",
    "\n",
    "t_start = time.time()"
   ]
  },
  {
   "cell_type": "code",
   "execution_count": 2,
   "metadata": {},
   "outputs": [],
   "source": [
    "img_size_ori = 101\n",
    "img_size_target = 101\n",
    "\n",
    "def visualize(image, mask, original_image=None, original_mask=None):\n",
    "    fontsize = 18\n",
    "    \n",
    "    if original_image is None and original_mask is None:\n",
    "        f, ax = plt.subplots(2, 1, figsize=(8, 8))\n",
    "\n",
    "        ax[0].imshow(image)\n",
    "        ax[1].imshow(mask)\n",
    "    else:\n",
    "        f, ax = plt.subplots(2, 2, figsize=(8, 8))\n",
    "\n",
    "        ax[0, 0].imshow(original_image)\n",
    "        ax[0, 0].set_title('Original image', fontsize=fontsize)\n",
    "        \n",
    "        ax[1, 0].imshow(original_mask)\n",
    "        ax[1, 0].set_title('Original mask', fontsize=fontsize)\n",
    "        \n",
    "        ax[0, 1].imshow(image)\n",
    "        ax[0, 1].set_title('Transformed image', fontsize=fontsize)\n",
    "        \n",
    "        ax[1, 1].imshow(mask)\n",
    "        ax[1, 1].set_title('Transformed mask', fontsize=fontsize)\n",
    "\n",
    "def upsample(img):\n",
    "    if img_size_ori == img_size_target:\n",
    "        return img\n",
    "    return resize(img, (img_size_target, img_size_target), mode='constant', preserve_range=True)\n",
    "    \n",
    "def downsample(img):\n",
    "    if img_size_ori == img_size_target:\n",
    "        return img\n",
    "    return resize(img, (img_size_ori, img_size_ori), mode='constant', preserve_range=True)\n",
    "\n",
    "# Build model\n",
    "\n",
    "def build_model_deeper(input_layer, start_neurons = 32, DropoutRatio = 0.5):\n",
    "    # 101 -> 50\n",
    "    conv1 = Conv2D(start_neurons * 1, (3, 3), activation=None, padding=\"same\")(input_layer)\n",
    "    conv1 = residual_block(conv1,start_neurons * 1)\n",
    "    conv1 = residual_block(conv1,start_neurons * 1)\n",
    "    conv1 = residual_block(conv1,start_neurons * 1, True)\n",
    "    pool1 = MaxPooling2D((2, 2))(conv1)\n",
    "    pool1 = Dropout(DropoutRatio/2)(pool1)\n",
    "\n",
    "    # 50 -> 25\n",
    "    conv2 = Conv2D(start_neurons * 2, (3, 3), activation=None, padding=\"same\")(pool1)\n",
    "    conv2 = residual_block(conv2,start_neurons * 2)\n",
    "    conv2 = residual_block(conv2,start_neurons * 2)\n",
    "    conv2 = residual_block(conv2,start_neurons * 2, True)\n",
    "    pool2 = MaxPooling2D((2, 2))(conv2)\n",
    "    pool2 = Dropout(DropoutRatio)(pool2)\n",
    "\n",
    "    # 25 -> 12\n",
    "    conv3 = Conv2D(start_neurons * 4, (3, 3), activation=None, padding=\"same\")(pool2)\n",
    "    conv3 = residual_block(conv3,start_neurons * 4)\n",
    "    conv3 = residual_block(conv3,start_neurons * 4)\n",
    "    conv3 = residual_block(conv3,start_neurons * 4, True)\n",
    "    pool3 = MaxPooling2D((2, 2))(conv3)\n",
    "    pool3 = Dropout(DropoutRatio)(pool3)\n",
    "\n",
    "    # 12 -> 6\n",
    "    conv4 = Conv2D(start_neurons * 8, (3, 3), activation=None, padding=\"same\")(pool3)\n",
    "    conv4 = residual_block(conv4,start_neurons * 8)\n",
    "    conv4 = residual_block(conv4,start_neurons * 8)\n",
    "    conv4 = residual_block(conv4,start_neurons * 8, True)\n",
    "    pool4 = MaxPooling2D((2, 2))(conv4)\n",
    "    pool4 = Dropout(DropoutRatio)(pool4)\n",
    "\n",
    "    # Middle\n",
    "    convm = Conv2D(start_neurons * 16, (3, 3), activation=None, padding=\"same\")(pool4)\n",
    "    convm = residual_block(convm,start_neurons * 16)\n",
    "    convm = residual_block(convm,start_neurons * 16)\n",
    "    convm = residual_block(convm,start_neurons * 16, True)\n",
    "    \n",
    "    # 6 -> 12\n",
    "    deconv4 = Conv2DTranspose(start_neurons * 8, (3, 3), strides=(2, 2), padding=\"same\")(convm)\n",
    "    uconv4 = concatenate([deconv4, conv4])\n",
    "    uconv4 = Dropout(DropoutRatio)(uconv4)\n",
    "    \n",
    "    uconv4 = Conv2D(start_neurons * 8, (3, 3), activation=None, padding=\"same\")(uconv4)\n",
    "    uconv4 = residual_block(uconv4,start_neurons * 8)\n",
    "    uconv4 = residual_block(uconv4,start_neurons * 8)\n",
    "    uconv4 = residual_block(uconv4,start_neurons * 8, True)\n",
    "    \n",
    "    # 12 -> 25\n",
    "    #deconv3 = Conv2DTranspose(start_neurons * 4, (3, 3), strides=(2, 2), padding=\"same\")(uconv4)\n",
    "    deconv3 = Conv2DTranspose(start_neurons * 4, (3, 3), strides=(2, 2), padding=\"valid\")(uconv4)\n",
    "    uconv3 = concatenate([deconv3, conv3])    \n",
    "    uconv3 = Dropout(DropoutRatio)(uconv3)\n",
    "    \n",
    "    uconv3 = Conv2D(start_neurons * 4, (3, 3), activation=None, padding=\"same\")(uconv3)\n",
    "    uconv3 = residual_block(uconv3,start_neurons * 4)\n",
    "    uconv3 = residual_block(uconv3,start_neurons * 4)\n",
    "    uconv3 = residual_block(uconv3,start_neurons * 4, True)\n",
    "\n",
    "    # 25 -> 50\n",
    "    deconv2 = Conv2DTranspose(start_neurons * 2, (3, 3), strides=(2, 2), padding=\"same\")(uconv3)\n",
    "    uconv2 = concatenate([deconv2, conv2])\n",
    "        \n",
    "    uconv2 = Dropout(DropoutRatio)(uconv2)\n",
    "    uconv2 = Conv2D(start_neurons * 2, (3, 3), activation=None, padding=\"same\")(uconv2)\n",
    "    uconv2 = residual_block(uconv2,start_neurons * 2)\n",
    "    uconv2 = residual_block(uconv2,start_neurons * 2)\n",
    "    uconv2 = residual_block(uconv2,start_neurons * 2, True)\n",
    "    \n",
    "    # 50 -> 101\n",
    "    #deconv1 = Conv2DTranspose(start_neurons * 1, (3, 3), strides=(2, 2), padding=\"same\")(uconv2)\n",
    "    deconv1 = Conv2DTranspose(start_neurons * 1, (3, 3), strides=(2, 2), padding=\"valid\")(uconv2)\n",
    "    uconv1 = concatenate([deconv1, conv1])\n",
    "    \n",
    "    uconv1 = Dropout(DropoutRatio)(uconv1)\n",
    "    uconv1 = Conv2D(start_neurons * 1, (3, 3), activation=None, padding=\"same\")(uconv1)\n",
    "    uconv1 = residual_block(uconv1,start_neurons * 1)\n",
    "    uconv1 = residual_block(uconv1,start_neurons * 1)\n",
    "    uconv1 = residual_block(uconv1,start_neurons * 1, True)\n",
    "    \n",
    "    #uconv1 = Dropout(DropoutRatio/2)(uconv1)\n",
    "    #output_layer = Conv2D(1, (1,1), padding=\"same\", activation=\"sigmoid\")(uconv1)\n",
    "    output_layer_noActi = Conv2D(1, (1,1), padding=\"same\", activation=None)(uconv1)\n",
    "    output_layer =  Activation('sigmoid')(output_layer_noActi)\n",
    "    \n",
    "    return output_layer"
   ]
  },
  {
   "cell_type": "code",
   "execution_count": 3,
   "metadata": {},
   "outputs": [
    {
     "data": {
      "application/vnd.jupyter.widget-view+json": {
       "model_id": "82aa817bcd1942e7b3bb743c4af7be7c",
       "version_major": 2,
       "version_minor": 0
      },
      "text/plain": [
       "HBox(children=(IntProgress(value=0, max=4000), HTML(value='')))"
      ]
     },
     "metadata": {},
     "output_type": "display_data"
    },
    {
     "name": "stderr",
     "output_type": "stream",
     "text": [
      "/home/kownse/.local/lib/python3.6/site-packages/keras_preprocessing/image.py:487: UserWarning: grayscale is deprecated. Please use color_mode = \"grayscale\"\n",
      "  warnings.warn('grayscale is deprecated. Please use '\n"
     ]
    },
    {
     "name": "stdout",
     "output_type": "stream",
     "text": [
      "\n"
     ]
    },
    {
     "data": {
      "application/vnd.jupyter.widget-view+json": {
       "model_id": "3c08273e24164343bf3fc1f186149598",
       "version_major": 2,
       "version_minor": 0
      },
      "text/plain": [
       "HBox(children=(IntProgress(value=0, max=4000), HTML(value='')))"
      ]
     },
     "metadata": {},
     "output_type": "display_data"
    },
    {
     "name": "stdout",
     "output_type": "stream",
     "text": [
      "\n"
     ]
    }
   ],
   "source": [
    "\n",
    "\n",
    "# Loading of training/testing ids and depths\n",
    "train_df = pd.read_csv(\"../input/train.csv\", index_col=\"id\", usecols=[0])\n",
    "depths_df = pd.read_csv(\"../input/depths.csv\", index_col=\"id\")\n",
    "train_df = train_df.join(depths_df)\n",
    "test_df = depths_df[~depths_df.index.isin(train_df.index)]\n",
    "\n",
    "len(train_df)\n",
    "\n",
    "train_df[\"images\"] = [np.array(load_img(\"../input/train/images/{}.png\".format(idx), grayscale=True)) / 255 for idx in tqdm_notebook(train_df.index)]\n",
    "train_df[\"masks\"] = [np.array(load_img(\"../input/train/masks/{}.png\".format(idx), grayscale=True)) / 255 for idx in tqdm_notebook(train_df.index)]\n",
    "train_df[\"coverage\"] = train_df.masks.map(np.sum) / pow(img_size_ori, 2)\n",
    "train_df[\"coverage_class\"] = train_df.coverage.map(cov_to_class)"
   ]
  },
  {
   "cell_type": "code",
   "execution_count": 4,
   "metadata": {},
   "outputs": [
    {
     "data": {
      "text/plain": [
       "4000"
      ]
     },
     "execution_count": 4,
     "metadata": {},
     "output_type": "execute_result"
    }
   ],
   "source": [
    "SUBSET = len(train_df)\n",
    "train_df = train_df.head(SUBSET)\n",
    "len(train_df)"
   ]
  },
  {
   "cell_type": "code",
   "execution_count": 5,
   "metadata": {},
   "outputs": [],
   "source": [
    "ids_train, ids_valid, x_train, x_valid, y_train, y_valid, cov_train, cov_test, depth_train, depth_test = train_test_split(\n",
    "train_df.index.values,\n",
    "np.array(train_df.images.map(upsample).tolist()).reshape(-1, img_size_target, img_size_target, 1), \n",
    "np.array(train_df.masks.map(upsample).tolist()).reshape(-1, img_size_target, img_size_target, 1), \n",
    "train_df.coverage.values,\n",
    "train_df.z.values,\n",
    "test_size=0.2, stratify=train_df.coverage_class, random_state= 1234)"
   ]
  },
  {
   "cell_type": "code",
   "execution_count": 6,
   "metadata": {},
   "outputs": [
    {
     "data": {
      "text/plain": [
       "array([2, 4, 1, 0, 3])"
      ]
     },
     "execution_count": 6,
     "metadata": {},
     "output_type": "execute_result"
    }
   ],
   "source": [
    "np.random.choice(5,5, replace=False)"
   ]
  },
  {
   "cell_type": "code",
   "execution_count": 7,
   "metadata": {},
   "outputs": [
    {
     "data": {
      "application/vnd.jupyter.widget-view+json": {
       "model_id": "b2aa6ef0f6c7487cb233da6a33a3d126",
       "version_major": 2,
       "version_minor": 0
      },
      "text/plain": [
       "HBox(children=(IntProgress(value=0, max=4), HTML(value='')))"
      ]
     },
     "metadata": {},
     "output_type": "display_data"
    },
    {
     "data": {
      "application/vnd.jupyter.widget-view+json": {
       "model_id": "9895d827eafc43fba73cee39cddbadc8",
       "version_major": 2,
       "version_minor": 0
      },
      "text/plain": [
       "HBox(children=(IntProgress(value=0, max=3200), HTML(value='')))"
      ]
     },
     "metadata": {},
     "output_type": "display_data"
    },
    {
     "data": {
      "application/vnd.jupyter.widget-view+json": {
       "model_id": "a63d30c077d34d7d890877b6995e9b85",
       "version_major": 2,
       "version_minor": 0
      },
      "text/plain": [
       "HBox(children=(IntProgress(value=0, max=640), HTML(value='')))"
      ]
     },
     "metadata": {},
     "output_type": "display_data"
    },
    {
     "data": {
      "application/vnd.jupyter.widget-view+json": {
       "model_id": "6419b892439e429290351331e84e6352",
       "version_major": 2,
       "version_minor": 0
      },
      "text/plain": [
       "HBox(children=(IntProgress(value=0, max=640), HTML(value='')))"
      ]
     },
     "metadata": {},
     "output_type": "display_data"
    },
    {
     "data": {
      "application/vnd.jupyter.widget-view+json": {
       "model_id": "27dedc20f1da4f1ea490707dbc793911",
       "version_major": 2,
       "version_minor": 0
      },
      "text/plain": [
       "HBox(children=(IntProgress(value=0, max=320), HTML(value='')))"
      ]
     },
     "metadata": {},
     "output_type": "display_data"
    },
    {
     "name": "stdout",
     "output_type": "stream",
     "text": [
      "\n"
     ]
    }
   ],
   "source": [
    "aug_img = []\n",
    "aug_msk = []\n",
    "augments = [\n",
    "    (1.0, HorizontalFlip(p=1)),\n",
    "#     (0.35, VerticalFlip(p=1)),\n",
    "#     (0.35, RandomRotate90(p=1)),\n",
    "#     (0.35, Transpose(p=1)),\n",
    "    (0.2, ElasticTransform(p=1, alpha=120, sigma=120 * 0.05, alpha_affine=120 * 0.03)),\n",
    "    (0.2, GridDistortion(p=1)),\n",
    "    (0.1, OpticalDistortion(p=1, distort_limit=2, shift_limit=0.5)),\n",
    "#     (0.1, RandomSizedCrop(p=1, min_max_height=(int(img_size_ori / 2), img_size_ori), height=img_size_ori, width=img_size_ori)),\n",
    "]\n",
    "\n",
    "for ratio, aug in tqdm_notebook(augments):\n",
    "    selidx = np.random.choice(x_train.shape[0], int(x_train.shape[0] * ratio), replace=False)\n",
    "    for idx in tqdm_notebook(selidx):\n",
    "        augmented = aug(image=x_train[idx], mask=y_train[idx])\n",
    "        aimg = augmented['image']\n",
    "        amsk = augmented['mask']\n",
    "        if len(aimg.shape) < 3:\n",
    "            aimg = aimg[...,np.newaxis]\n",
    "        if len(amsk.shape) < 3:\n",
    "            amsk = amsk[...,np.newaxis]\n",
    "        aug_img.append(aimg)\n",
    "        aug_msk.append(amsk)\n",
    "\n",
    "aug_img = np.asarray(aug_img)\n",
    "aug_msk = np.asarray(aug_msk)\n",
    "x_train = np.append(x_train, aug_img, axis=0)\n",
    "y_train = np.append(y_train, aug_msk, axis=0)"
   ]
  },
  {
   "cell_type": "code",
   "execution_count": 8,
   "metadata": {},
   "outputs": [
    {
     "name": "stdout",
     "output_type": "stream",
     "text": [
      "(8000, 101, 101, 1)\n",
      "(800, 101, 101, 1)\n"
     ]
    }
   ],
   "source": [
    "\n",
    "print(x_train.shape)\n",
    "print(y_valid.shape)"
   ]
  },
  {
   "cell_type": "code",
   "execution_count": 9,
   "metadata": {
    "scrolled": true
   },
   "outputs": [
    {
     "name": "stdout",
     "output_type": "stream",
     "text": [
      "../model/Unet_resnet_deeper_aug3_32_0.5.model\n",
      "../model/Unet_resnet_deeper_aug3_32_0.5.csv\n",
      "Train on 8000 samples, validate on 800 samples\n",
      "Epoch 1/200\n",
      "8000/8000 [==============================] - 106s 13ms/step - loss: 0.4323 - my_iou_metric: 0.3726 - val_loss: 1.5792 - val_my_iou_metric: 0.3900\n",
      "\n",
      "Epoch 00001: val_my_iou_metric improved from -inf to 0.39000, saving model to ../model/Unet_resnet_deeper_aug3_32_0.5.model\n",
      "Epoch 2/200\n",
      "8000/8000 [==============================] - 95s 12ms/step - loss: 0.3405 - my_iou_metric: 0.5179 - val_loss: 0.4081 - val_my_iou_metric: 0.2866\n",
      "\n",
      "Epoch 00002: val_my_iou_metric did not improve from 0.39000\n",
      "Epoch 3/200\n",
      "8000/8000 [==============================] - 95s 12ms/step - loss: 0.3071 - my_iou_metric: 0.5344 - val_loss: 0.5991 - val_my_iou_metric: 0.3835\n",
      "\n",
      "Epoch 00003: val_my_iou_metric did not improve from 0.39000\n",
      "Epoch 4/200\n",
      "8000/8000 [==============================] - 95s 12ms/step - loss: 0.2824 - my_iou_metric: 0.5593 - val_loss: 0.3558 - val_my_iou_metric: 0.4975\n",
      "\n",
      "Epoch 00004: val_my_iou_metric improved from 0.39000 to 0.49750, saving model to ../model/Unet_resnet_deeper_aug3_32_0.5.model\n",
      "Epoch 5/200\n",
      "8000/8000 [==============================] - 95s 12ms/step - loss: 0.2467 - my_iou_metric: 0.5804 - val_loss: 0.2989 - val_my_iou_metric: 0.5221\n",
      "\n",
      "Epoch 00005: val_my_iou_metric improved from 0.49750 to 0.52212, saving model to ../model/Unet_resnet_deeper_aug3_32_0.5.model\n",
      "Epoch 6/200\n",
      "8000/8000 [==============================] - 95s 12ms/step - loss: 0.2298 - my_iou_metric: 0.6027 - val_loss: 0.3106 - val_my_iou_metric: 0.5180\n",
      "\n",
      "Epoch 00006: val_my_iou_metric did not improve from 0.52212\n",
      "Epoch 7/200\n",
      "8000/8000 [==============================] - 95s 12ms/step - loss: 0.2140 - my_iou_metric: 0.6233 - val_loss: 0.2280 - val_my_iou_metric: 0.6186\n",
      "\n",
      "Epoch 00007: val_my_iou_metric improved from 0.52212 to 0.61863, saving model to ../model/Unet_resnet_deeper_aug3_32_0.5.model\n",
      "Epoch 8/200\n",
      "8000/8000 [==============================] - 95s 12ms/step - loss: 0.2057 - my_iou_metric: 0.6348 - val_loss: 0.2191 - val_my_iou_metric: 0.6410\n",
      "\n",
      "Epoch 00008: val_my_iou_metric improved from 0.61863 to 0.64100, saving model to ../model/Unet_resnet_deeper_aug3_32_0.5.model\n",
      "Epoch 9/200\n",
      "8000/8000 [==============================] - 95s 12ms/step - loss: 0.1906 - my_iou_metric: 0.6508 - val_loss: 0.2298 - val_my_iou_metric: 0.6661\n",
      "\n",
      "Epoch 00009: val_my_iou_metric improved from 0.64100 to 0.66613, saving model to ../model/Unet_resnet_deeper_aug3_32_0.5.model\n",
      "Epoch 10/200\n",
      "8000/8000 [==============================] - 95s 12ms/step - loss: 0.1895 - my_iou_metric: 0.6575 - val_loss: 0.2105 - val_my_iou_metric: 0.6441\n",
      "\n",
      "Epoch 00010: val_my_iou_metric did not improve from 0.66613\n",
      "Epoch 11/200\n",
      "8000/8000 [==============================] - 95s 12ms/step - loss: 0.1796 - my_iou_metric: 0.6722 - val_loss: 0.1954 - val_my_iou_metric: 0.6735\n",
      "\n",
      "Epoch 00011: val_my_iou_metric improved from 0.66613 to 0.67350, saving model to ../model/Unet_resnet_deeper_aug3_32_0.5.model\n",
      "Epoch 12/200\n",
      "8000/8000 [==============================] - 95s 12ms/step - loss: 0.1827 - my_iou_metric: 0.6668 - val_loss: 0.1983 - val_my_iou_metric: 0.6803\n",
      "\n",
      "Epoch 00012: val_my_iou_metric improved from 0.67350 to 0.68025, saving model to ../model/Unet_resnet_deeper_aug3_32_0.5.model\n",
      "Epoch 13/200\n",
      "8000/8000 [==============================] - 95s 12ms/step - loss: 0.1723 - my_iou_metric: 0.6771 - val_loss: 0.1687 - val_my_iou_metric: 0.6979\n",
      "\n",
      "Epoch 00013: val_my_iou_metric improved from 0.68025 to 0.69787, saving model to ../model/Unet_resnet_deeper_aug3_32_0.5.model\n",
      "Epoch 14/200\n",
      "8000/8000 [==============================] - 95s 12ms/step - loss: 0.1637 - my_iou_metric: 0.6921 - val_loss: 0.2204 - val_my_iou_metric: 0.6520\n",
      "\n",
      "Epoch 00014: val_my_iou_metric did not improve from 0.69787\n",
      "Epoch 15/200\n",
      "8000/8000 [==============================] - 95s 12ms/step - loss: 0.1596 - my_iou_metric: 0.7011 - val_loss: 0.1813 - val_my_iou_metric: 0.6960\n",
      "\n",
      "Epoch 00015: val_my_iou_metric did not improve from 0.69787\n",
      "Epoch 16/200\n",
      "8000/8000 [==============================] - 95s 12ms/step - loss: 0.1505 - my_iou_metric: 0.6985 - val_loss: 0.1655 - val_my_iou_metric: 0.6985\n",
      "\n",
      "Epoch 00016: val_my_iou_metric improved from 0.69787 to 0.69850, saving model to ../model/Unet_resnet_deeper_aug3_32_0.5.model\n",
      "Epoch 17/200\n",
      "8000/8000 [==============================] - 95s 12ms/step - loss: 0.1557 - my_iou_metric: 0.6995 - val_loss: 0.1596 - val_my_iou_metric: 0.7083\n",
      "\n",
      "Epoch 00017: val_my_iou_metric improved from 0.69850 to 0.70825, saving model to ../model/Unet_resnet_deeper_aug3_32_0.5.model\n",
      "Epoch 18/200\n",
      "8000/8000 [==============================] - 95s 12ms/step - loss: 0.1480 - my_iou_metric: 0.7050 - val_loss: 0.1616 - val_my_iou_metric: 0.6975\n",
      "\n",
      "Epoch 00018: val_my_iou_metric did not improve from 0.70825\n",
      "Epoch 19/200\n",
      "8000/8000 [==============================] - 95s 12ms/step - loss: 0.1520 - my_iou_metric: 0.7021 - val_loss: 0.1881 - val_my_iou_metric: 0.7261\n",
      "\n",
      "Epoch 00019: val_my_iou_metric improved from 0.70825 to 0.72613, saving model to ../model/Unet_resnet_deeper_aug3_32_0.5.model\n",
      "Epoch 20/200\n",
      "8000/8000 [==============================] - 95s 12ms/step - loss: 0.1476 - my_iou_metric: 0.7095 - val_loss: 0.3352 - val_my_iou_metric: 0.6398\n",
      "\n",
      "Epoch 00020: val_my_iou_metric did not improve from 0.72613\n",
      "Epoch 21/200\n",
      "8000/8000 [==============================] - 95s 12ms/step - loss: 0.1428 - my_iou_metric: 0.7144 - val_loss: 0.1520 - val_my_iou_metric: 0.7094\n",
      "\n",
      "Epoch 00021: val_my_iou_metric did not improve from 0.72613\n",
      "Epoch 22/200\n",
      "8000/8000 [==============================] - 95s 12ms/step - loss: 0.1359 - my_iou_metric: 0.7245 - val_loss: 0.1503 - val_my_iou_metric: 0.7186\n",
      "\n",
      "Epoch 00022: val_my_iou_metric did not improve from 0.72613\n",
      "\n",
      "Epoch 00022: ReduceLROnPlateau reducing learning rate to 0.004999999888241291.\n",
      "Epoch 23/200\n",
      "8000/8000 [==============================] - 95s 12ms/step - loss: 0.1225 - my_iou_metric: 0.7393 - val_loss: 0.1404 - val_my_iou_metric: 0.7397\n",
      "\n",
      "Epoch 00023: val_my_iou_metric improved from 0.72613 to 0.73975, saving model to ../model/Unet_resnet_deeper_aug3_32_0.5.model\n",
      "Epoch 24/200\n",
      "8000/8000 [==============================] - 95s 12ms/step - loss: 0.1197 - my_iou_metric: 0.7393 - val_loss: 0.1524 - val_my_iou_metric: 0.7309\n",
      "\n",
      "Epoch 00024: val_my_iou_metric did not improve from 0.73975\n",
      "Epoch 25/200\n",
      "8000/8000 [==============================] - 95s 12ms/step - loss: 0.1162 - my_iou_metric: 0.7421 - val_loss: 0.1424 - val_my_iou_metric: 0.7357\n",
      "\n",
      "Epoch 00025: val_my_iou_metric did not improve from 0.73975\n",
      "Epoch 26/200\n",
      "8000/8000 [==============================] - 95s 12ms/step - loss: 0.1126 - my_iou_metric: 0.7476 - val_loss: 0.1448 - val_my_iou_metric: 0.7542\n",
      "\n",
      "Epoch 00026: val_my_iou_metric improved from 0.73975 to 0.75425, saving model to ../model/Unet_resnet_deeper_aug3_32_0.5.model\n",
      "Epoch 27/200\n",
      "8000/8000 [==============================] - 95s 12ms/step - loss: 0.1086 - my_iou_metric: 0.7536 - val_loss: 0.1475 - val_my_iou_metric: 0.7476\n",
      "\n",
      "Epoch 00027: val_my_iou_metric did not improve from 0.75425\n",
      "Epoch 28/200\n",
      "8000/8000 [==============================] - 95s 12ms/step - loss: 0.1079 - my_iou_metric: 0.7525 - val_loss: 0.1893 - val_my_iou_metric: 0.7050\n",
      "\n",
      "Epoch 00028: val_my_iou_metric did not improve from 0.75425\n",
      "Epoch 29/200\n",
      "8000/8000 [==============================] - 95s 12ms/step - loss: 0.1060 - my_iou_metric: 0.7542 - val_loss: 0.1613 - val_my_iou_metric: 0.7341\n",
      "\n",
      "Epoch 00029: val_my_iou_metric did not improve from 0.75425\n",
      "\n",
      "Epoch 00029: ReduceLROnPlateau reducing learning rate to 0.0024999999441206455.\n",
      "Epoch 30/200\n",
      "8000/8000 [==============================] - 95s 12ms/step - loss: 0.0953 - my_iou_metric: 0.7640 - val_loss: 0.1459 - val_my_iou_metric: 0.7483\n",
      "\n",
      "Epoch 00030: val_my_iou_metric did not improve from 0.75425\n",
      "Epoch 31/200\n",
      "8000/8000 [==============================] - 95s 12ms/step - loss: 0.0954 - my_iou_metric: 0.7700 - val_loss: 0.1405 - val_my_iou_metric: 0.7416\n",
      "\n",
      "Epoch 00031: val_my_iou_metric did not improve from 0.75425\n",
      "Epoch 32/200\n",
      "8000/8000 [==============================] - 95s 12ms/step - loss: 0.0921 - my_iou_metric: 0.7691 - val_loss: 0.1438 - val_my_iou_metric: 0.7571\n",
      "\n",
      "Epoch 00032: val_my_iou_metric improved from 0.75425 to 0.75712, saving model to ../model/Unet_resnet_deeper_aug3_32_0.5.model\n"
     ]
    },
    {
     "name": "stdout",
     "output_type": "stream",
     "text": [
      "Epoch 33/200\n",
      "8000/8000 [==============================] - 95s 12ms/step - loss: 0.0871 - my_iou_metric: 0.7673 - val_loss: 0.1454 - val_my_iou_metric: 0.7562\n",
      "\n",
      "Epoch 00033: val_my_iou_metric did not improve from 0.75712\n",
      "Epoch 34/200\n",
      "8000/8000 [==============================] - 95s 12ms/step - loss: 0.0851 - my_iou_metric: 0.7771 - val_loss: 0.1389 - val_my_iou_metric: 0.7636\n",
      "\n",
      "Epoch 00034: val_my_iou_metric improved from 0.75712 to 0.76362, saving model to ../model/Unet_resnet_deeper_aug3_32_0.5.model\n",
      "Epoch 35/200\n",
      "8000/8000 [==============================] - 95s 12ms/step - loss: 0.0842 - my_iou_metric: 0.7752 - val_loss: 0.1628 - val_my_iou_metric: 0.7639\n",
      "\n",
      "Epoch 00035: val_my_iou_metric improved from 0.76362 to 0.76388, saving model to ../model/Unet_resnet_deeper_aug3_32_0.5.model\n",
      "Epoch 36/200\n",
      "8000/8000 [==============================] - 95s 12ms/step - loss: 0.0813 - my_iou_metric: 0.7765 - val_loss: 0.1625 - val_my_iou_metric: 0.7421\n",
      "\n",
      "Epoch 00036: val_my_iou_metric did not improve from 0.76388\n",
      "Epoch 37/200\n",
      "8000/8000 [==============================] - 95s 12ms/step - loss: 0.0804 - my_iou_metric: 0.7780 - val_loss: 0.1556 - val_my_iou_metric: 0.7503\n",
      "\n",
      "Epoch 00037: val_my_iou_metric did not improve from 0.76388\n",
      "Epoch 38/200\n",
      "8000/8000 [==============================] - 95s 12ms/step - loss: 0.0813 - my_iou_metric: 0.7759 - val_loss: 0.1525 - val_my_iou_metric: 0.7604\n",
      "\n",
      "Epoch 00038: val_my_iou_metric did not improve from 0.76388\n",
      "\n",
      "Epoch 00038: ReduceLROnPlateau reducing learning rate to 0.0012499999720603228.\n",
      "Epoch 39/200\n",
      "8000/8000 [==============================] - 95s 12ms/step - loss: 0.0761 - my_iou_metric: 0.7812 - val_loss: 0.1559 - val_my_iou_metric: 0.7674\n",
      "\n",
      "Epoch 00039: val_my_iou_metric improved from 0.76388 to 0.76737, saving model to ../model/Unet_resnet_deeper_aug3_32_0.5.model\n",
      "Epoch 40/200\n",
      "8000/8000 [==============================] - 95s 12ms/step - loss: 0.0732 - my_iou_metric: 0.7908 - val_loss: 0.1466 - val_my_iou_metric: 0.7691\n",
      "\n",
      "Epoch 00040: val_my_iou_metric improved from 0.76737 to 0.76912, saving model to ../model/Unet_resnet_deeper_aug3_32_0.5.model\n",
      "Epoch 41/200\n",
      "8000/8000 [==============================] - 95s 12ms/step - loss: 0.0704 - my_iou_metric: 0.7936 - val_loss: 0.1564 - val_my_iou_metric: 0.7636\n",
      "\n",
      "Epoch 00041: val_my_iou_metric did not improve from 0.76912\n",
      "Epoch 42/200\n",
      "8000/8000 [==============================] - 95s 12ms/step - loss: 0.0693 - my_iou_metric: 0.7883 - val_loss: 0.1573 - val_my_iou_metric: 0.7672\n",
      "\n",
      "Epoch 00042: val_my_iou_metric did not improve from 0.76912\n",
      "Epoch 43/200\n",
      "8000/8000 [==============================] - 95s 12ms/step - loss: 0.0710 - my_iou_metric: 0.7907 - val_loss: 0.1614 - val_my_iou_metric: 0.7720\n",
      "\n",
      "Epoch 00043: val_my_iou_metric improved from 0.76912 to 0.77200, saving model to ../model/Unet_resnet_deeper_aug3_32_0.5.model\n",
      "Epoch 44/200\n",
      "8000/8000 [==============================] - 95s 12ms/step - loss: 0.0697 - my_iou_metric: 0.7900 - val_loss: 0.1571 - val_my_iou_metric: 0.7524\n",
      "\n",
      "Epoch 00044: val_my_iou_metric did not improve from 0.77200\n",
      "Epoch 45/200\n",
      "8000/8000 [==============================] - 95s 12ms/step - loss: 0.0679 - my_iou_metric: 0.7938 - val_loss: 0.1810 - val_my_iou_metric: 0.7614\n",
      "\n",
      "Epoch 00045: val_my_iou_metric did not improve from 0.77200\n",
      "Epoch 46/200\n",
      "8000/8000 [==============================] - 95s 12ms/step - loss: 0.0685 - my_iou_metric: 0.7944 - val_loss: 0.1619 - val_my_iou_metric: 0.7626\n",
      "\n",
      "Epoch 00046: val_my_iou_metric did not improve from 0.77200\n",
      "\n",
      "Epoch 00046: ReduceLROnPlateau reducing learning rate to 0.0006249999860301614.\n",
      "Epoch 47/200\n",
      "8000/8000 [==============================] - 95s 12ms/step - loss: 0.0662 - my_iou_metric: 0.7974 - val_loss: 0.1529 - val_my_iou_metric: 0.7669\n",
      "\n",
      "Epoch 00047: val_my_iou_metric did not improve from 0.77200\n",
      "Epoch 48/200\n",
      "8000/8000 [==============================] - 95s 12ms/step - loss: 0.0643 - my_iou_metric: 0.7960 - val_loss: 0.1638 - val_my_iou_metric: 0.7680\n",
      "\n",
      "Epoch 00048: val_my_iou_metric did not improve from 0.77200\n",
      "Epoch 49/200\n",
      "8000/8000 [==============================] - 95s 12ms/step - loss: 0.0632 - my_iou_metric: 0.7977 - val_loss: 0.1568 - val_my_iou_metric: 0.7684\n",
      "\n",
      "Epoch 00049: val_my_iou_metric did not improve from 0.77200\n",
      "\n",
      "Epoch 00049: ReduceLROnPlateau reducing learning rate to 0.0003124999930150807.\n",
      "Epoch 50/200\n",
      "8000/8000 [==============================] - 95s 12ms/step - loss: 0.0632 - my_iou_metric: 0.7997 - val_loss: 0.1638 - val_my_iou_metric: 0.7690\n",
      "\n",
      "Epoch 00050: val_my_iou_metric did not improve from 0.77200\n",
      "Epoch 51/200\n",
      "8000/8000 [==============================] - 95s 12ms/step - loss: 0.0623 - my_iou_metric: 0.8033 - val_loss: 0.1605 - val_my_iou_metric: 0.7684\n",
      "\n",
      "Epoch 00051: val_my_iou_metric did not improve from 0.77200\n",
      "Epoch 52/200\n",
      "8000/8000 [==============================] - 95s 12ms/step - loss: 0.0616 - my_iou_metric: 0.8023 - val_loss: 0.1697 - val_my_iou_metric: 0.7669\n",
      "\n",
      "Epoch 00052: val_my_iou_metric did not improve from 0.77200\n",
      "\n",
      "Epoch 00052: ReduceLROnPlateau reducing learning rate to 0.00015624999650754035.\n",
      "Epoch 53/200\n",
      "8000/8000 [==============================] - 95s 12ms/step - loss: 0.0623 - my_iou_metric: 0.8000 - val_loss: 0.1672 - val_my_iou_metric: 0.7661\n",
      "\n",
      "Epoch 00053: val_my_iou_metric did not improve from 0.77200\n",
      "Epoch 00053: early stopping\n"
     ]
    }
   ],
   "source": [
    "start_feature = 32\n",
    "batch_size = 32\n",
    "dropout = 0.5\n",
    "base_name = 'Unet_resnet_deeper_aug3_{}_{}'.format(batch_size, dropout)\n",
    "basic_name = '../model/{}'.format(base_name)\n",
    "save_model_name = basic_name + '.model'\n",
    "submission_file = basic_name + '.csv'\n",
    "\n",
    "print(save_model_name)\n",
    "print(submission_file)\n",
    "\n",
    "# model\n",
    "input_layer = Input((img_size_target, img_size_target, 1))\n",
    "output_layer = build_model_deeper(input_layer, start_feature,dropout)\n",
    "\n",
    "model1 = Model(input_layer, output_layer)\n",
    "\n",
    "c = optimizers.adam(lr = 0.01)\n",
    "model1.compile(loss=\"binary_crossentropy\", optimizer=c, metrics=[my_iou_metric])\n",
    "\n",
    "board = keras.callbacks.TensorBoard(log_dir='log/{}'.format(base_name),\n",
    "                       histogram_freq=0, write_graph=True, write_images=False)\n",
    "early_stopping = EarlyStopping(monitor='val_my_iou_metric', mode = 'max',patience=10, verbose=1)\n",
    "model_checkpoint = ModelCheckpoint(save_model_name,monitor='val_my_iou_metric', \n",
    "                                   mode = 'max', save_best_only=True, verbose=1)\n",
    "reduce_lr = ReduceLROnPlateau(monitor='val_my_iou_metric', mode = 'max',factor=0.5, patience=3, min_lr=0.00001, verbose=1)\n",
    "\n",
    "epochs = 200\n",
    "\n",
    "history = model1.fit(x_train, y_train,\n",
    "                    validation_data=[x_valid, y_valid], \n",
    "                    epochs=epochs,\n",
    "                    batch_size=batch_size,\n",
    "                    callbacks=[board, early_stopping, model_checkpoint,reduce_lr], \n",
    "                    verbose=1)"
   ]
  },
  {
   "cell_type": "code",
   "execution_count": 10,
   "metadata": {},
   "outputs": [
    {
     "name": "stdout",
     "output_type": "stream",
     "text": [
      "Train on 8000 samples, validate on 800 samples\n",
      "Epoch 1/200\n",
      "8000/8000 [==============================] - 163s 20ms/step - loss: -0.0110 - my_iou_metric_2: 0.7678 - val_loss: 0.0601 - val_my_iou_metric_2: 0.7564\n",
      "\n",
      "Epoch 00001: val_my_iou_metric_2 improved from -inf to 0.75637, saving model to ../model/Unet_resnet_deeper_aug3_32_0.5.model\n",
      "Epoch 2/200\n",
      "8000/8000 [==============================] - 151s 19ms/step - loss: -0.0482 - my_iou_metric_2: 0.7715 - val_loss: 0.0312 - val_my_iou_metric_2: 0.7612\n",
      "\n",
      "Epoch 00002: val_my_iou_metric_2 improved from 0.75637 to 0.76125, saving model to ../model/Unet_resnet_deeper_aug3_32_0.5.model\n",
      "Epoch 3/200\n",
      "8000/8000 [==============================] - 151s 19ms/step - loss: -0.0820 - my_iou_metric_2: 0.7778 - val_loss: 0.1800 - val_my_iou_metric_2: 0.7314\n",
      "\n",
      "Epoch 00003: val_my_iou_metric_2 did not improve from 0.76125\n",
      "Epoch 4/200\n",
      "8000/8000 [==============================] - 151s 19ms/step - loss: -0.0824 - my_iou_metric_2: 0.7767 - val_loss: 0.2003 - val_my_iou_metric_2: 0.7475\n",
      "\n",
      "Epoch 00004: val_my_iou_metric_2 did not improve from 0.76125\n",
      "Epoch 5/200\n",
      "8000/8000 [==============================] - 151s 19ms/step - loss: -0.0967 - my_iou_metric_2: 0.7828 - val_loss: 0.1561 - val_my_iou_metric_2: 0.7461\n",
      "\n",
      "Epoch 00005: val_my_iou_metric_2 did not improve from 0.76125\n",
      "\n",
      "Epoch 00005: ReduceLROnPlateau reducing learning rate to 0.004999999888241291.\n",
      "Epoch 6/200\n",
      "8000/8000 [==============================] - 152s 19ms/step - loss: -0.1816 - my_iou_metric_2: 0.7989 - val_loss: -0.0358 - val_my_iou_metric_2: 0.7828\n",
      "\n",
      "Epoch 00006: val_my_iou_metric_2 improved from 0.76125 to 0.78275, saving model to ../model/Unet_resnet_deeper_aug3_32_0.5.model\n",
      "Epoch 7/200\n",
      "8000/8000 [==============================] - 152s 19ms/step - loss: -0.2296 - my_iou_metric_2: 0.8082 - val_loss: -0.0771 - val_my_iou_metric_2: 0.7895\n",
      "\n",
      "Epoch 00007: val_my_iou_metric_2 improved from 0.78275 to 0.78950, saving model to ../model/Unet_resnet_deeper_aug3_32_0.5.model\n",
      "Epoch 8/200\n",
      "8000/8000 [==============================] - 152s 19ms/step - loss: -0.2438 - my_iou_metric_2: 0.8107 - val_loss: -0.0647 - val_my_iou_metric_2: 0.7881\n",
      "\n",
      "Epoch 00008: val_my_iou_metric_2 did not improve from 0.78950\n",
      "Epoch 9/200\n",
      "8000/8000 [==============================] - 152s 19ms/step - loss: -0.2490 - my_iou_metric_2: 0.8123 - val_loss: -0.0658 - val_my_iou_metric_2: 0.7827\n",
      "\n",
      "Epoch 00009: val_my_iou_metric_2 did not improve from 0.78950\n",
      "Epoch 10/200\n",
      "8000/8000 [==============================] - 152s 19ms/step - loss: -0.2593 - my_iou_metric_2: 0.8151 - val_loss: 0.0138 - val_my_iou_metric_2: 0.7795\n",
      "\n",
      "Epoch 00010: val_my_iou_metric_2 did not improve from 0.78950\n",
      "\n",
      "Epoch 00010: ReduceLROnPlateau reducing learning rate to 0.0024999999441206455.\n",
      "Epoch 11/200\n",
      "8000/8000 [==============================] - 152s 19ms/step - loss: -0.3091 - my_iou_metric_2: 0.8236 - val_loss: -0.0574 - val_my_iou_metric_2: 0.7943\n",
      "\n",
      "Epoch 00011: val_my_iou_metric_2 improved from 0.78950 to 0.79425, saving model to ../model/Unet_resnet_deeper_aug3_32_0.5.model\n",
      "Epoch 12/200\n",
      "8000/8000 [==============================] - 152s 19ms/step - loss: -0.3243 - my_iou_metric_2: 0.8271 - val_loss: -0.0275 - val_my_iou_metric_2: 0.7907\n",
      "\n",
      "Epoch 00012: val_my_iou_metric_2 did not improve from 0.79425\n",
      "Epoch 13/200\n",
      "8000/8000 [==============================] - 152s 19ms/step - loss: -0.3344 - my_iou_metric_2: 0.8307 - val_loss: -0.1129 - val_my_iou_metric_2: 0.7991\n",
      "\n",
      "Epoch 00013: val_my_iou_metric_2 improved from 0.79425 to 0.79912, saving model to ../model/Unet_resnet_deeper_aug3_32_0.5.model\n",
      "Epoch 14/200\n",
      "8000/8000 [==============================] - 152s 19ms/step - loss: -0.3450 - my_iou_metric_2: 0.8307 - val_loss: -0.0758 - val_my_iou_metric_2: 0.8002\n",
      "\n",
      "Epoch 00014: val_my_iou_metric_2 improved from 0.79912 to 0.80025, saving model to ../model/Unet_resnet_deeper_aug3_32_0.5.model\n",
      "Epoch 15/200\n",
      "8000/8000 [==============================] - 152s 19ms/step - loss: -0.3583 - my_iou_metric_2: 0.8335 - val_loss: -0.0689 - val_my_iou_metric_2: 0.8035\n",
      "\n",
      "Epoch 00015: val_my_iou_metric_2 improved from 0.80025 to 0.80350, saving model to ../model/Unet_resnet_deeper_aug3_32_0.5.model\n",
      "Epoch 16/200\n",
      "8000/8000 [==============================] - 152s 19ms/step - loss: -0.3563 - my_iou_metric_2: 0.8337 - val_loss: -0.0471 - val_my_iou_metric_2: 0.7950\n",
      "\n",
      "Epoch 00016: val_my_iou_metric_2 did not improve from 0.80350\n",
      "Epoch 17/200\n",
      "8000/8000 [==============================] - 152s 19ms/step - loss: -0.3600 - my_iou_metric_2: 0.8321 - val_loss: -0.0651 - val_my_iou_metric_2: 0.7963\n",
      "\n",
      "Epoch 00017: val_my_iou_metric_2 did not improve from 0.80350\n",
      "Epoch 18/200\n",
      "8000/8000 [==============================] - 152s 19ms/step - loss: -0.3744 - my_iou_metric_2: 0.8347 - val_loss: -0.0423 - val_my_iou_metric_2: 0.7951\n",
      "\n",
      "Epoch 00018: val_my_iou_metric_2 did not improve from 0.80350\n",
      "\n",
      "Epoch 00018: ReduceLROnPlateau reducing learning rate to 0.0012499999720603228.\n",
      "Epoch 19/200\n",
      "8000/8000 [==============================] - 152s 19ms/step - loss: -0.4092 - my_iou_metric_2: 0.8412 - val_loss: -0.0632 - val_my_iou_metric_2: 0.7972\n",
      "\n",
      "Epoch 00019: val_my_iou_metric_2 did not improve from 0.80350\n",
      "Epoch 20/200\n",
      "8000/8000 [==============================] - 152s 19ms/step - loss: -0.4114 - my_iou_metric_2: 0.8436 - val_loss: -0.0420 - val_my_iou_metric_2: 0.7956\n",
      "\n",
      "Epoch 00020: val_my_iou_metric_2 did not improve from 0.80350\n",
      "Epoch 21/200\n",
      "8000/8000 [==============================] - 152s 19ms/step - loss: -0.4167 - my_iou_metric_2: 0.8419 - val_loss: -0.0335 - val_my_iou_metric_2: 0.7959\n",
      "\n",
      "Epoch 00021: val_my_iou_metric_2 did not improve from 0.80350\n",
      "\n",
      "Epoch 00021: ReduceLROnPlateau reducing learning rate to 0.0006249999860301614.\n",
      "Epoch 22/200\n",
      "8000/8000 [==============================] - 152s 19ms/step - loss: -0.4351 - my_iou_metric_2: 0.8477 - val_loss: -0.0470 - val_my_iou_metric_2: 0.8024\n",
      "\n",
      "Epoch 00022: val_my_iou_metric_2 did not improve from 0.80350\n",
      "Epoch 23/200\n",
      "8000/8000 [==============================] - 152s 19ms/step - loss: -0.4408 - my_iou_metric_2: 0.8470 - val_loss: -0.0551 - val_my_iou_metric_2: 0.8014\n",
      "\n",
      "Epoch 00023: val_my_iou_metric_2 did not improve from 0.80350\n",
      "Epoch 24/200\n",
      "8000/8000 [==============================] - 152s 19ms/step - loss: -0.4509 - my_iou_metric_2: 0.8489 - val_loss: -0.0383 - val_my_iou_metric_2: 0.7996\n",
      "\n",
      "Epoch 00024: val_my_iou_metric_2 did not improve from 0.80350\n",
      "\n",
      "Epoch 00024: ReduceLROnPlateau reducing learning rate to 0.0003124999930150807.\n",
      "Epoch 25/200\n",
      "8000/8000 [==============================] - 152s 19ms/step - loss: -0.4461 - my_iou_metric_2: 0.8486 - val_loss: -0.0580 - val_my_iou_metric_2: 0.7995\n",
      "\n",
      "Epoch 00025: val_my_iou_metric_2 did not improve from 0.80350\n",
      "Epoch 26/200\n",
      "8000/8000 [==============================] - 152s 19ms/step - loss: -0.4546 - my_iou_metric_2: 0.8508 - val_loss: -0.0390 - val_my_iou_metric_2: 0.8025\n",
      "\n",
      "Epoch 00026: val_my_iou_metric_2 did not improve from 0.80350\n",
      "Epoch 27/200\n",
      "8000/8000 [==============================] - 152s 19ms/step - loss: -0.4481 - my_iou_metric_2: 0.8486 - val_loss: -0.0602 - val_my_iou_metric_2: 0.7989\n",
      "\n",
      "Epoch 00027: val_my_iou_metric_2 did not improve from 0.80350\n",
      "\n",
      "Epoch 00027: ReduceLROnPlateau reducing learning rate to 0.00015624999650754035.\n",
      "Epoch 00027: early stopping\n"
     ]
    }
   ],
   "source": [
    "model1 = load_model(save_model_name,custom_objects={'my_iou_metric': my_iou_metric})\n",
    "# remove layter activation layer and use losvasz loss\n",
    "input_x = model1.layers[0].input\n",
    "output_layer = model1.layers[-1].input\n",
    "model = Model(input_x, output_layer)\n",
    "c = optimizers.adam(lr = 0.01)\n",
    "\n",
    "# lovasz_loss need input range (-∞，+∞), so cancel the last \"sigmoid\" activation  \n",
    "# Then the default threshod for pixel prediction is 0 instead of 0.5, as in my_iou_metric_2.\n",
    "model.compile(loss=lovasz_loss, optimizer=c, metrics=[my_iou_metric_2])\n",
    "\n",
    "#model.summary()\n",
    "early_stopping = EarlyStopping(monitor='val_my_iou_metric_2', mode = 'max',patience=12, verbose=1)\n",
    "model_checkpoint = ModelCheckpoint(save_model_name,monitor='val_my_iou_metric_2', \n",
    "                                   mode = 'max', save_best_only=True, verbose=1)\n",
    "reduce_lr = ReduceLROnPlateau(monitor='val_my_iou_metric_2', mode = 'max',factor=0.5, patience=3, min_lr=0.00001, verbose=1)\n",
    "epochs = 200\n",
    "\n",
    "history = model.fit(x_train, y_train,\n",
    "                    validation_data=[x_valid, y_valid], \n",
    "                    epochs=epochs,\n",
    "                    batch_size=batch_size,\n",
    "                    callbacks=[board, model_checkpoint,reduce_lr,early_stopping], \n",
    "                    verbose=1)"
   ]
  },
  {
   "cell_type": "code",
   "execution_count": 11,
   "metadata": {},
   "outputs": [],
   "source": [
    "model = load_model(save_model_name,custom_objects={'my_iou_metric_2': my_iou_metric_2,\n",
    "                                                   'lovasz_loss': lovasz_loss})\n",
    "\n"
   ]
  },
  {
   "cell_type": "code",
   "execution_count": 12,
   "metadata": {},
   "outputs": [
    {
     "data": {
      "application/vnd.jupyter.widget-view+json": {
       "model_id": "ef26e50c3ccd449b8dcbd5f31942db9b",
       "version_major": 2,
       "version_minor": 0
      },
      "text/plain": [
       "HBox(children=(IntProgress(value=0, max=31), HTML(value='')))"
      ]
     },
     "metadata": {},
     "output_type": "display_data"
    },
    {
     "name": "stdout",
     "output_type": "stream",
     "text": [
      "\n",
      "[0.803625 0.805125 0.806    0.80625  0.80775  0.8085   0.808375 0.809125\n",
      " 0.80825  0.808    0.808125 0.8075   0.80825  0.80825  0.81075  0.810625\n",
      " 0.810375 0.810625 0.809875 0.80925  0.8085   0.807625 0.807125 0.8065\n",
      " 0.806125 0.80625  0.806    0.805625 0.805    0.804375 0.80325 ]\n"
     ]
    },
    {
     "data": {
      "text/plain": [
       "<matplotlib.legend.Legend at 0x7fd70820bc88>"
      ]
     },
     "execution_count": 12,
     "metadata": {},
     "output_type": "execute_result"
    },
    {
     "data": {
      "image/png": "[encoded data removed]",
      "text/plain": [
       "<Figure size 432x288 with 1 Axes>"
      ]
     },
     "metadata": {},
     "output_type": "display_data"
    }
   ],
   "source": [
    "preds_valid = predict_result(model,x_valid,img_size_target)\n",
    "## Scoring for last model, choose threshold by validation data \n",
    "thresholds_ori = np.linspace(0.3, 0.7, 31)\n",
    "# Reverse sigmoid function: Use code below because the  sigmoid activation was removed\n",
    "thresholds = np.log(thresholds_ori/(1-thresholds_ori)) \n",
    "\n",
    "# ious = np.array([get_iou_vector(y_valid, preds_valid > threshold) for threshold in tqdm_notebook(thresholds)])\n",
    "# print(ious)\n",
    "ious = np.array([iou_metric_batch(y_valid, preds_valid > threshold) for threshold in tqdm_notebook(thresholds)])\n",
    "print(ious)\n",
    "\n",
    "# instead of using default 0 as threshold, use validation data to find the best threshold.\n",
    "threshold_best_index = np.argmax(ious) \n",
    "iou_best = ious[threshold_best_index]\n",
    "threshold_best = thresholds[threshold_best_index]\n",
    "\n",
    "plt.plot(thresholds, ious)\n",
    "plt.plot(threshold_best, iou_best, \"xr\", label=\"Best threshold\")\n",
    "plt.xlabel(\"Threshold\")\n",
    "plt.ylabel(\"IoU\")\n",
    "plt.title(\"Threshold vs IoU ({}, {})\".format(threshold_best, iou_best))\n",
    "plt.legend()"
   ]
  },
  {
   "cell_type": "code",
   "execution_count": 13,
   "metadata": {},
   "outputs": [
    {
     "data": {
      "application/vnd.jupyter.widget-view+json": {
       "model_id": "eb94e763cfb14e71bdfd4a19ef9f9f13",
       "version_major": 2,
       "version_minor": 0
      },
      "text/plain": [
       "HBox(children=(IntProgress(value=0, max=18000), HTML(value='')))"
      ]
     },
     "metadata": {},
     "output_type": "display_data"
    },
    {
     "name": "stderr",
     "output_type": "stream",
     "text": [
      "/home/kownse/.local/lib/python3.6/site-packages/keras_preprocessing/image.py:487: UserWarning: grayscale is deprecated. Please use color_mode = \"grayscale\"\n",
      "  warnings.warn('grayscale is deprecated. Please use '\n"
     ]
    },
    {
     "name": "stdout",
     "output_type": "stream",
     "text": [
      "\n"
     ]
    }
   ],
   "source": [
    "x_test = np.array([(np.array(load_img(\"../input/test/images/{}.png\".format(idx), grayscale = True))) / 255 for idx in tqdm_notebook(test_df.index)]).reshape(-1, img_size_target, img_size_target, 1)\n",
    "\n",
    "preds_test = predict_result(model,x_test,img_size_target)"
   ]
  },
  {
   "cell_type": "code",
   "execution_count": 14,
   "metadata": {},
   "outputs": [
    {
     "data": {
      "application/vnd.jupyter.widget-view+json": {
       "model_id": "41029fb390cd4ba8a896a178931fce7a",
       "version_major": 2,
       "version_minor": 0
      },
      "text/plain": [
       "HBox(children=(IntProgress(value=0, max=18000), HTML(value='')))"
      ]
     },
     "metadata": {},
     "output_type": "display_data"
    },
    {
     "name": "stdout",
     "output_type": "stream",
     "text": [
      "\n",
      "Usedtime = 5.284202337265015 s\n",
      "save result\n",
      "upload result\n",
      "cmd: kaggle competitions submit -c tgs-salt-identification-challenge -f ../result/Unet_resnet_deeper_aug3_32_0.5.csv.7z -m \"submit\"\n",
      "Kernel run time = 2.686610143582026 hours\n"
     ]
    }
   ],
   "source": [
    "t1 = time.time()\n",
    "pred_dict = {idx: rle_encode(np.round(downsample(preds_test[i]) > threshold_best)) for i, idx in enumerate(tqdm_notebook(test_df.index.values))}\n",
    "t2 = time.time()\n",
    "\n",
    "print(f\"Usedtime = {t2-t1} s\")\n",
    "\n",
    "sub = pd.DataFrame.from_dict(pred_dict,orient='index')\n",
    "sub.index.names = ['id']\n",
    "sub.columns = ['rle_mask']\n",
    "sub = sub.reset_index()\n",
    "save_result(sub, '../result/{}.csv'.format(base_name), \n",
    "                        competition = 'tgs-salt-identification-challenge', \n",
    "                        send = True, index = False)\n",
    "\n",
    "t_finish = time.time()\n",
    "print(f\"Kernel run time = {(t_finish-t_start)/3600} hours\")"
   ]
  },
  {
   "cell_type": "code",
   "execution_count": null,
   "metadata": {},
   "outputs": [],
   "source": []
  }
 ],
 "metadata": {
  "kernelspec": {
   "display_name": "Python 3",
   "language": "python",
   "name": "python3"
  },
  "language_info": {
   "codemirror_mode": {
    "name": "ipython",
    "version": 3
   },
   "file_extension": ".py",
   "mimetype": "text/x-python",
   "name": "python",
   "nbconvert_exporter": "python",
   "pygments_lexer": "ipython3",
   "version": "3.6.5"
  }
 },
 "nbformat": 4,
 "nbformat_minor": 2
}
