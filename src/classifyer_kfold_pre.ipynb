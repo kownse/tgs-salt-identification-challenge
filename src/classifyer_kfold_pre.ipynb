{
 "cells": [
  {
   "cell_type": "code",
   "execution_count": 1,
   "metadata": {},
   "outputs": [
    {
     "name": "stderr",
     "output_type": "stream",
     "text": [
      "Using TensorFlow backend.\n"
     ]
    }
   ],
   "source": [
    "import os\n",
    "os.environ[\"CUDA_VISIBLE_DEVICES\"]=\"1\"\n",
    "import sys\n",
    "import random\n",
    "\n",
    "import pandas as pd\n",
    "import numpy as np\n",
    "import matplotlib.pyplot as plt\n",
    "plt.style.use('seaborn-white')\n",
    "import seaborn as sns\n",
    "sns.set_style(\"white\")\n",
    "\n",
    "# %matplotlib inline\n",
    "\n",
    "from sklearn.model_selection import train_test_split, StratifiedKFold\n",
    "\n",
    "from tqdm import tqdm #, tnrange\n",
    "from skimage.io import imread, imshow #, concatenate_images\n",
    "from skimage.transform import resize\n",
    "from skimage.morphology import label\n",
    "\n",
    "import keras\n",
    "from keras.models import Model, load_model, save_model\n",
    "from keras.layers import Input,Dropout,BatchNormalization,Activation,Add, Dense, Input, Dropout\n",
    "from keras.layers.core import Lambda\n",
    "from keras.layers.convolutional import Conv2D, Conv2DTranspose\n",
    "from keras.layers.pooling import MaxPooling2D\n",
    "from keras.layers.merge import concatenate\n",
    "from keras.callbacks import EarlyStopping, ModelCheckpoint, ReduceLROnPlateau\n",
    "from keras import backend as K\n",
    "from keras import optimizers\n",
    "\n",
    "import tensorflow as tf\n",
    "\n",
    "from keras.preprocessing.image import array_to_img, img_to_array, load_img#,save_img\n",
    "\n",
    "import time\n",
    "from kaggle_util import *\n",
    "from models import *\n",
    "\n",
    "from albumentations import (\n",
    "    PadIfNeeded,\n",
    "    HorizontalFlip,\n",
    "    VerticalFlip,    \n",
    "    CenterCrop,    \n",
    "    Crop,\n",
    "    Compose,\n",
    "    Transpose,\n",
    "    RandomRotate90,\n",
    "    ElasticTransform,\n",
    "    GridDistortion, \n",
    "    OpticalDistortion,\n",
    "    RandomSizedCrop,\n",
    "    OneOf,\n",
    "    CLAHE,\n",
    "    RandomContrast,\n",
    "    RandomGamma,\n",
    "    RandomBrightness\n",
    ")\n",
    "\n",
    "t_start = time.time()"
   ]
  },
  {
   "cell_type": "code",
   "execution_count": 2,
   "metadata": {},
   "outputs": [],
   "source": [
    "img_size_ori = 101\n",
    "img_size_target = 101\n",
    "\n",
    "def upsample(img):\n",
    "    if img_size_ori == img_size_target:\n",
    "        return img\n",
    "    return resize(img, (img_size_target, img_size_target), mode='constant', preserve_range=True)\n",
    "    \n",
    "def downsample(img):\n",
    "    if img_size_ori == img_size_target:\n",
    "        return img\n",
    "    return resize(img, (img_size_ori, img_size_ori), mode='constant', preserve_range=True)\n",
    "\n",
    "def get_model(BASE_MODEL):\n",
    "    from keras.preprocessing.image import ImageDataGenerator\n",
    "    if BASE_MODEL=='VGG16':\n",
    "        from keras.applications.vgg16 import VGG16 as PTModel, preprocess_input\n",
    "    elif BASE_MODEL=='VGG19':\n",
    "        from keras.applications.vgg19 import VGG19 as PTModel, preprocess_input\n",
    "    elif BASE_MODEL=='RESNET52':\n",
    "        from keras.applications.resnet50 import ResNet50 as PTModel, preprocess_input\n",
    "    elif BASE_MODEL=='InceptionV3':\n",
    "        from keras.applications.inception_v3 import InceptionV3 as PTModel, preprocess_input\n",
    "    elif BASE_MODEL=='Xception':\n",
    "        from keras.applications.xception import Xception as PTModel, preprocess_input\n",
    "    elif BASE_MODEL=='DenseNet169': \n",
    "        from keras.applications.densenet import DenseNet169 as PTModel, preprocess_input\n",
    "    elif BASE_MODEL=='DenseNet121':\n",
    "        from keras.applications.densenet import DenseNet121 as PTModel, preprocess_input\n",
    "    elif BASE_MODEL=='InceptionResNetV2':\n",
    "        from keras.applications.inception_resnet_v2 import InceptionResNetV2 as PTModel, preprocess_input\n",
    "    else:\n",
    "        raise ValueError('Unknown model: {}'.format(BASE_MODEL))\n",
    "        \n",
    "    return PTModel, preprocess_input"
   ]
  },
  {
   "cell_type": "code",
   "execution_count": 3,
   "metadata": {},
   "outputs": [
    {
     "name": "stderr",
     "output_type": "stream",
     "text": [
      "100%|██████████| 4000/4000 [00:02<00:00, 1810.86it/s]\n",
      "  0%|          | 0/4000 [00:00<?, ?it/s]/home/kownse/.local/lib/python3.6/site-packages/keras_preprocessing/image.py:487: UserWarning: grayscale is deprecated. Please use color_mode = \"grayscale\"\n",
      "  warnings.warn('grayscale is deprecated. Please use '\n",
      "100%|██████████| 4000/4000 [00:01<00:00, 2322.77it/s]\n"
     ]
    }
   ],
   "source": [
    "# Loading of training/testing ids and depths\n",
    "train_df = pd.read_csv(\"../input/train.csv\", index_col=\"id\", usecols=[0])\n",
    "depths_df = pd.read_csv(\"../input/depths.csv\", index_col=\"id\")\n",
    "train_df = train_df.join(depths_df)\n",
    "test_df = depths_df[~depths_df.index.isin(train_df.index)]\n",
    "\n",
    "len(train_df)\n",
    "\n",
    "train_df[\"images\"] = [np.array(load_img(\"../input/train/images/{}.png\".format(idx), grayscale=False)) for idx in tqdm(train_df.index)]\n",
    "train_df[\"masks\"] = [np.array(load_img(\"../input/train/masks/{}.png\".format(idx), grayscale=True)) / 255 for idx in tqdm(train_df.index)]\n",
    "train_df[\"coverage\"] = train_df.masks.map(np.sum) / pow(img_size_ori, 2)\n",
    "train_df[\"coverage_class\"] = train_df.coverage.map(cov_to_class)\n",
    "train_df['hassalt'] = train_df['masks'].apply(lambda x: (x.max()!=0) * 1)"
   ]
  },
  {
   "cell_type": "code",
   "execution_count": 4,
   "metadata": {},
   "outputs": [],
   "source": [
    "def get_splits(train_df, train_idx, val_idx):\n",
    "    X_train = train_df.iloc[train_idx]\n",
    "    X_valid = train_df.iloc[val_idx]\n",
    "    x_train = np.array(X_train.images.map(upsample).tolist()).reshape(-1, img_size_target, img_size_target, 3)\n",
    "    x_valid = np.array(X_valid.images.map(upsample).tolist()).reshape(-1, img_size_target, img_size_target, 3)\n",
    "    msk_train = np.array(X_train.masks.map(upsample).tolist()).reshape(-1, img_size_target, img_size_target, 1)\n",
    "    msk_val = np.array(X_valid.masks.map(upsample).tolist()).reshape(-1, img_size_target, img_size_target, 1)\n",
    "    y_train = X_train.hassalt.values\n",
    "    y_valid = X_valid.hassalt.values\n",
    "    id_train = X_train.index.values\n",
    "    id_valid = X_valid.index.values\n",
    "    return x_train, x_valid, msk_train, msk_val, y_train, y_valid, id_train, id_valid\n",
    "\n",
    "def train_classifier(fold, model_name, x_train, y_train, x_valid, y_valid, id_valid):\n",
    "    print(model_name)\n",
    "    x_train_act = x_train\n",
    "    x_val_act = x_valid\n",
    "\n",
    "    inputshape = x_train_act.shape[1:]\n",
    "    PTModel, preprocess_input = get_model(model_name)\n",
    "    base_pretrained_model = PTModel(input_shape = inputshape, \n",
    "                                  include_top = False, weights = 'imagenet')\n",
    "    base_pretrained_model.trainable = False\n",
    "\n",
    "    from keras import models, layers\n",
    "    from keras.optimizers import Adam\n",
    "    img_in = layers.Input(inputshape, name='Image_RGB_In')\n",
    "    x = base_pretrained_model(img_in)\n",
    "    x = layers.Flatten(name='flatten')(x)\n",
    "\n",
    "    x = Dense(256)(x)\n",
    "    x = BatchActivate(x)\n",
    "    x = Dropout(0.5)(x)\n",
    "\n",
    "    x = Dense(64)(x)\n",
    "    x = BatchActivate(x)\n",
    "    x = Dropout(0.5)(x)\n",
    "\n",
    "    out_layer = layers.Dense(1, activation = 'sigmoid')(x)\n",
    "    class_model = models.Model(inputs = [img_in], outputs = [out_layer], name = 'full_model')\n",
    "\n",
    "    class_model.compile(optimizer = Adam(lr=0.01), \n",
    "                       loss = 'binary_crossentropy',\n",
    "                       metrics = ['binary_accuracy'])\n",
    "\n",
    "    batch_size = 32\n",
    "    base_name = '{}_{}'.format(model_name, fold)\n",
    "    save_model_name = '../model/classifier/{}.model'.format(base_name)\n",
    "    submission_file = '../result/classifier/{}.csv'.format(base_name)\n",
    "    oof_file = '../result/classifier/{}_oof.csv'.format(base_name)\n",
    "\n",
    "    print(save_model_name)\n",
    "    print(submission_file)\n",
    "    print(oof_file)\n",
    "    \n",
    "    board = keras.callbacks.TensorBoard(log_dir='log/classifier/{}'.format(base_name),\n",
    "                           histogram_freq=0, write_graph=True, write_images=False)\n",
    "    early_stopping = EarlyStopping(monitor='val_binary_accuracy', mode = 'max',patience=5, verbose=1)\n",
    "    model_checkpoint = ModelCheckpoint(save_model_name,monitor='val_binary_accuracy', \n",
    "                                       mode = 'max', save_best_only=True, verbose=1)\n",
    "    reduce_lr = ReduceLROnPlateau(monitor='val_binary_accuracy', mode = 'max',factor=0.5, patience=2, min_lr=0.00001, verbose=1)\n",
    "\n",
    "    epochs = 200\n",
    "\n",
    "    history = class_model.fit(x_train, y_train,\n",
    "                        validation_data=[x_valid, y_valid], \n",
    "                        epochs=epochs,\n",
    "                        batch_size=batch_size,\n",
    "                        callbacks=[board, early_stopping, reduce_lr, model_checkpoint],\n",
    "                        verbose=1)\n",
    "    \n",
    "    model = load_model(save_model_name)\n",
    "    \n",
    "    oof = model.predict(x_valid)\n",
    "    df_oof = pd.DataFrame()\n",
    "    df_oof['id'] = id_valid\n",
    "    df_oof['target'] = oof\n",
    "    df_oof.to_csv(oof_file, index=False)\n",
    "    \n",
    "    files = os.listdir('../input/test/images/')\n",
    "    x_test = np.array([(np.array(load_img(\"../input/test/images/{}\".format(idx), grayscale = False))) for idx in files]).reshape(-1, img_size_target, img_size_target, 3)\n",
    "    preds_test = model.predict(x_test)\n",
    "    df_result = pd.DataFrame()\n",
    "    df_result['id'] = files\n",
    "    df_result['pre'] = preds_test.reshape(len(files))\n",
    "    df_result.to_csv(submission_file, index=False)\n"
   ]
  },
  {
   "cell_type": "code",
   "execution_count": 8,
   "metadata": {},
   "outputs": [
    {
     "data": {
      "application/vnd.jupyter.widget-view+json": {
       "model_id": "12c634f21fe24f64aee8e99be5ec312f",
       "version_major": 2,
       "version_minor": 0
      },
      "text/plain": [
       "HBox(children=(IntProgress(value=0, max=18000), HTML(value='')))"
      ]
     },
     "metadata": {},
     "output_type": "display_data"
    },
    {
     "name": "stdout",
     "output_type": "stream",
     "text": [
      "\n"
     ]
    }
   ],
   "source": [
    "x_test = np.array([(np.array(load_img(\"../input/test/images/{}.png\".format(idx), grayscale = False))) for idx in tqdm_notebook(test_df.index)]).reshape(-1, img_size_target, img_size_target, 3)\n"
   ]
  },
  {
   "cell_type": "code",
   "execution_count": 9,
   "metadata": {},
   "outputs": [
    {
     "name": "stderr",
     "output_type": "stream",
     "text": [
      "/home/kownse/anaconda3/lib/python3.6/site-packages/keras/engine/saving.py:304: UserWarning: Error in loading the saved optimizer state. As a result, your model is starting with a freshly initialized optimizer.\n",
      "  warnings.warn('Error in loading the saved optimizer '\n"
     ]
    }
   ],
   "source": [
    "oofs = []\n",
    "vals = []\n",
    "pre_tests = []\n",
    "\n",
    "skf = StratifiedKFold(n_splits=10, shuffle=True, random_state=1234)\n",
    "for fold, (train_idx, val_idx) in enumerate(skf.split(train_df, train_df['hassalt'])):\n",
    "    x_train, x_valid, msk_train, msk_val, y_train, y_valid, id_train, id_valid = get_splits(train_df, train_idx, val_idx)\n",
    "    print('fold', fold)\n",
    "    \n",
    "    batch_size = 32\n",
    "    base_name = '{}_{}'.format('VGG16', fold)\n",
    "    save_model_name = '../model/classifier/{}.model'.format(base_name)\n",
    "    submission_file = '../result/classifier/{}.csv'.format(base_name)\n",
    "    oof_file = '../result/classifier/{}_oof.csv'.format(base_name)\n",
    "    \n",
    "    model = load_model(save_model_name)\n",
    "    oof = model.predict(x_valid)\n",
    "    \n",
    "    oofs.append(oof)\n",
    "    vals.append(y_valid)\n",
    "    \n",
    "    pre_test = model.predict(x_test)\n",
    "    pre_tests.append(pre_test)\n",
    "    \n",
    "    from keras import backend as K\n",
    "    K.clear_session()\n",
    "    \n",
    "    "
   ]
  },
  {
   "cell_type": "code",
   "execution_count": 10,
   "metadata": {},
   "outputs": [],
   "source": [
    "oof_all = np.concatenate(oofs, axis=0)\n",
    "val_all = np.concatenate(vals, axis= 0)"
   ]
  },
  {
   "cell_type": "code",
   "execution_count": 12,
   "metadata": {},
   "outputs": [
    {
     "data": {
      "text/plain": [
       "(4000,)"
      ]
     },
     "execution_count": 12,
     "metadata": {},
     "output_type": "execute_result"
    }
   ],
   "source": [
    "val_all.shape"
   ]
  },
  {
   "cell_type": "code",
   "execution_count": 13,
   "metadata": {},
   "outputs": [
    {
     "data": {
      "application/vnd.jupyter.widget-view+json": {
       "model_id": "8971216f8fa0411ab91ed1af2f9f3c28",
       "version_major": 2,
       "version_minor": 0
      },
      "text/plain": [
       "HBox(children=(IntProgress(value=0, max=50), HTML(value='')))"
      ]
     },
     "metadata": {},
     "output_type": "display_data"
    },
    {
     "name": "stdout",
     "output_type": "stream",
     "text": [
      "\n",
      "[0.864   0.8665  0.868   0.8695  0.871   0.87275 0.8745  0.87575 0.878\n",
      " 0.88075 0.88225 0.883   0.88425 0.88625 0.8875  0.8885  0.8905  0.892\n",
      " 0.892   0.892   0.89375 0.8945  0.89575 0.8965  0.8975  0.8975  0.8955\n",
      " 0.893   0.89275 0.89275 0.892   0.8905  0.888   0.8875  0.8855  0.88475\n",
      " 0.8845  0.883   0.88125 0.8805  0.88    0.87875 0.878   0.877   0.8755\n",
      " 0.87375 0.87275 0.8705  0.8705  0.86775]\n"
     ]
    }
   ],
   "source": [
    "thresholds = np.linspace(0.2, 0.8, 50)\n",
    "\n",
    "ious = np.array([iou_metric_batch(val_all, oof_all > threshold) for threshold in tqdm_notebook(thresholds)])\n",
    "print(ious)"
   ]
  },
  {
   "cell_type": "code",
   "execution_count": null,
   "metadata": {},
   "outputs": [],
   "source": []
  },
  {
   "cell_type": "code",
   "execution_count": 14,
   "metadata": {},
   "outputs": [
    {
     "data": {
      "text/plain": [
       "<matplotlib.legend.Legend at 0x7fb3e081f550>"
      ]
     },
     "execution_count": 14,
     "metadata": {},
     "output_type": "execute_result"
    },
    {
     "data": {
      "image/png": "[encoded data removed]",
      "text/plain": [
       "<Figure size 432x288 with 1 Axes>"
      ]
     },
     "metadata": {},
     "output_type": "display_data"
    }
   ],
   "source": [
    "threshold_best_index = np.argmax(ious) \n",
    "iou_best = ious[threshold_best_index]\n",
    "threshold_best = thresholds[threshold_best_index]\n",
    "\n",
    "plt.plot(thresholds, ious)\n",
    "plt.plot(threshold_best, iou_best, \"xr\", label=\"Best threshold\")\n",
    "plt.xlabel(\"Threshold\")\n",
    "plt.ylabel(\"IoU\")\n",
    "plt.title(\"Threshold vs IoU ({}, {})\".format(threshold_best, iou_best))\n",
    "plt.legend()"
   ]
  },
  {
   "cell_type": "code",
   "execution_count": 15,
   "metadata": {},
   "outputs": [
    {
     "data": {
      "text/plain": [
       "0.4938775510204082"
      ]
     },
     "execution_count": 15,
     "metadata": {},
     "output_type": "execute_result"
    }
   ],
   "source": [
    "threshold_best"
   ]
  },
  {
   "cell_type": "code",
   "execution_count": 16,
   "metadata": {},
   "outputs": [],
   "source": [
    "pred_tests_act = pre_tests\n",
    "pred_test_all = np.zeros_like(pred_tests_act[0], dtype=np.float32)\n",
    "for pre in pred_tests_act:\n",
    "    pred_test_all += pre / len(pred_tests_act)"
   ]
  },
  {
   "cell_type": "code",
   "execution_count": 18,
   "metadata": {},
   "outputs": [
    {
     "data": {
      "text/plain": [
       "(18000, 1)"
      ]
     },
     "execution_count": 18,
     "metadata": {},
     "output_type": "execute_result"
    }
   ],
   "source": [
    "pred_test_all.shape"
   ]
  },
  {
   "cell_type": "code",
   "execution_count": 22,
   "metadata": {},
   "outputs": [],
   "source": [
    "pre_final = (pred_test_all > threshold_best) * 1"
   ]
  },
  {
   "cell_type": "code",
   "execution_count": 23,
   "metadata": {},
   "outputs": [],
   "source": [
    "np.save('../result/class_res.npy', pre_final)"
   ]
  },
  {
   "cell_type": "code",
   "execution_count": null,
   "metadata": {},
   "outputs": [],
   "source": []
  }
 ],
 "metadata": {
  "kernelspec": {
   "display_name": "Python 3",
   "language": "python",
   "name": "python3"
  },
  "language_info": {
   "codemirror_mode": {
    "name": "ipython",
    "version": 3
   },
   "file_extension": ".py",
   "mimetype": "text/x-python",
   "name": "python",
   "nbconvert_exporter": "python",
   "pygments_lexer": "ipython3",
   "version": "3.6.5"
  }
 },
 "nbformat": 4,
 "nbformat_minor": 2
}
