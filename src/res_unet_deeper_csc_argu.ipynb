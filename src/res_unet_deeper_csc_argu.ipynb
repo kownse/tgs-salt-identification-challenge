{
 "cells": [
  {
   "cell_type": "code",
   "execution_count": 1,
   "metadata": {},
   "outputs": [
    {
     "name": "stderr",
     "output_type": "stream",
     "text": [
      "Using TensorFlow backend.\n"
     ]
    }
   ],
   "source": [
    "import os\n",
    "os.environ[\"CUDA_VISIBLE_DEVICES\"]=\"0\"\n",
    "import sys\n",
    "import random\n",
    "\n",
    "import pandas as pd\n",
    "import numpy as np\n",
    "import matplotlib.pyplot as plt\n",
    "plt.style.use('seaborn-white')\n",
    "import seaborn as sns\n",
    "sns.set_style(\"white\")\n",
    "\n",
    "%matplotlib inline\n",
    "\n",
    "from sklearn.model_selection import train_test_split\n",
    "\n",
    "from tqdm import tqdm_notebook #, tnrange\n",
    "#from itertools import chain\n",
    "from skimage.io import imread, imshow #, concatenate_images\n",
    "from skimage.transform import resize\n",
    "from skimage.morphology import label\n",
    "\n",
    "import keras\n",
    "from keras.models import Model, load_model, save_model\n",
    "from keras.layers import Input,Dropout,BatchNormalization,Activation,Add\n",
    "from keras.layers.core import Lambda\n",
    "from keras.layers.convolutional import Conv2D, Conv2DTranspose\n",
    "from keras.layers.pooling import MaxPooling2D\n",
    "from keras.layers.merge import concatenate\n",
    "from keras.callbacks import EarlyStopping, ModelCheckpoint, ReduceLROnPlateau\n",
    "from keras import backend as K\n",
    "from keras import optimizers\n",
    "\n",
    "import tensorflow as tf\n",
    "\n",
    "from keras.preprocessing.image import array_to_img, img_to_array, load_img#,save_img\n",
    "\n",
    "import time\n",
    "from kaggle_util import *\n",
    "from models import *\n",
    "\n",
    "from albumentations import (\n",
    "    PadIfNeeded,\n",
    "    HorizontalFlip,\n",
    "    VerticalFlip,    \n",
    "    CenterCrop,    \n",
    "    Crop,\n",
    "    Compose,\n",
    "    Transpose,\n",
    "    RandomRotate90,\n",
    "    ElasticTransform,\n",
    "    GridDistortion, \n",
    "    OpticalDistortion,\n",
    "    RandomSizedCrop,\n",
    "    OneOf,\n",
    "    CLAHE,\n",
    "    RandomContrast,\n",
    "    RandomGamma,\n",
    "    RandomBrightness\n",
    ")\n",
    "\n",
    "t_start = time.time()"
   ]
  },
  {
   "cell_type": "code",
   "execution_count": 2,
   "metadata": {},
   "outputs": [],
   "source": [
    "img_size_ori = 101\n",
    "img_size_target = 101\n",
    "\n",
    "def visualize(image, mask, original_image=None, original_mask=None):\n",
    "    fontsize = 18\n",
    "    \n",
    "    if original_image is None and original_mask is None:\n",
    "        f, ax = plt.subplots(2, 1, figsize=(8, 8))\n",
    "\n",
    "        ax[0].imshow(image)\n",
    "        ax[1].imshow(mask)\n",
    "    else:\n",
    "        f, ax = plt.subplots(2, 2, figsize=(8, 8))\n",
    "\n",
    "        ax[0, 0].imshow(original_image)\n",
    "        ax[0, 0].set_title('Original image', fontsize=fontsize)\n",
    "        \n",
    "        ax[1, 0].imshow(original_mask)\n",
    "        ax[1, 0].set_title('Original mask', fontsize=fontsize)\n",
    "        \n",
    "        ax[0, 1].imshow(image)\n",
    "        ax[0, 1].set_title('Transformed image', fontsize=fontsize)\n",
    "        \n",
    "        ax[1, 1].imshow(mask)\n",
    "        ax[1, 1].set_title('Transformed mask', fontsize=fontsize)\n",
    "\n",
    "def upsample(img):\n",
    "    if img_size_ori == img_size_target:\n",
    "        return img\n",
    "    return resize(img, (img_size_target, img_size_target), mode='constant', preserve_range=True)\n",
    "    \n",
    "def downsample(img):\n",
    "    if img_size_ori == img_size_target:\n",
    "        return img\n",
    "    return resize(img, (img_size_ori, img_size_ori), mode='constant', preserve_range=True)\n",
    "\n",
    "# Build model\n",
    "\n",
    "def build_model_deeper(input_layer, start_neurons, DropoutRatio = 0.5):\n",
    "    # 101 -> 50\n",
    "    conv1 = Conv2D(start_neurons * 1, (3, 3), activation=None, padding=\"same\")(input_layer)\n",
    "    conv1 = residual_block_cSE(conv1,start_neurons * 1)\n",
    "    conv1 = residual_block_cSE(conv1,start_neurons * 1)\n",
    "    conv1 = residual_block_cSE(conv1,start_neurons * 1, True)\n",
    "    pool1 = MaxPooling2D((2, 2))(conv1)\n",
    "    pool1 = Dropout(DropoutRatio/2)(pool1)\n",
    "\n",
    "    # 50 -> 25\n",
    "    conv2 = Conv2D(start_neurons * 2, (3, 3), activation=None, padding=\"same\")(pool1)\n",
    "    conv2 = residual_block_cSE(conv2,start_neurons * 2)\n",
    "    conv2 = residual_block_cSE(conv2,start_neurons * 2)\n",
    "    conv2 = residual_block_cSE(conv2,start_neurons * 2, True)\n",
    "    pool2 = MaxPooling2D((2, 2))(conv2)\n",
    "    pool2 = Dropout(DropoutRatio)(pool2)\n",
    "\n",
    "    # 25 -> 12\n",
    "    conv3 = Conv2D(start_neurons * 4, (3, 3), activation=None, padding=\"same\")(pool2)\n",
    "    conv3 = residual_block_cSE(conv3,start_neurons * 4)\n",
    "    conv3 = residual_block_cSE(conv3,start_neurons * 4)\n",
    "    conv3 = residual_block_cSE(conv3,start_neurons * 4, True)\n",
    "    pool3 = MaxPooling2D((2, 2))(conv3)\n",
    "    pool3 = Dropout(DropoutRatio)(pool3)\n",
    "\n",
    "    # 12 -> 6\n",
    "    conv4 = Conv2D(start_neurons * 8, (3, 3), activation=None, padding=\"same\")(pool3)\n",
    "    conv4 = residual_block_cSE(conv4,start_neurons * 8)\n",
    "    conv4 = residual_block_cSE(conv4,start_neurons * 8)\n",
    "    conv4 = residual_block_cSE(conv4,start_neurons * 8, True)\n",
    "    pool4 = MaxPooling2D((2, 2))(conv4)\n",
    "    pool4 = Dropout(DropoutRatio)(pool4)\n",
    "\n",
    "    # Middle\n",
    "    convm = Conv2D(start_neurons * 16, (3, 3), activation=None, padding=\"same\")(pool4)\n",
    "    convm = residual_block_cSE(convm,start_neurons * 16)\n",
    "    convm = residual_block_cSE(convm,start_neurons * 16)\n",
    "    convm = residual_block_cSE(convm,start_neurons * 16, True)\n",
    "    \n",
    "    # 6 -> 12\n",
    "    deconv4 = Conv2DTranspose(start_neurons * 8, (3, 3), strides=(2, 2), padding=\"same\")(convm)\n",
    "    uconv4 = concatenate([deconv4, conv4])\n",
    "    uconv4 = Dropout(DropoutRatio)(uconv4)\n",
    "    \n",
    "    uconv4 = Conv2D(start_neurons * 8, (3, 3), activation=None, padding=\"same\")(uconv4)\n",
    "    uconv4 = residual_block_cSE(uconv4,start_neurons * 8)\n",
    "    uconv4 = residual_block_cSE(uconv4,start_neurons * 8)\n",
    "    uconv4 = residual_block_cSE(uconv4,start_neurons * 8, True)\n",
    "    \n",
    "    # 12 -> 25\n",
    "    #deconv3 = Conv2DTranspose(start_neurons * 4, (3, 3), strides=(2, 2), padding=\"same\")(uconv4)\n",
    "    deconv3 = Conv2DTranspose(start_neurons * 4, (3, 3), strides=(2, 2), padding=\"valid\")(uconv4)\n",
    "    uconv3 = concatenate([deconv3, conv3])    \n",
    "    uconv3 = Dropout(DropoutRatio)(uconv3)\n",
    "    \n",
    "    uconv3 = Conv2D(start_neurons * 4, (3, 3), activation=None, padding=\"same\")(uconv3)\n",
    "    uconv3 = residual_block_cSE(uconv3,start_neurons * 4)\n",
    "    uconv3 = residual_block_cSE(uconv3,start_neurons * 4)\n",
    "    uconv3 = residual_block_cSE(uconv3,start_neurons * 4, True)\n",
    "\n",
    "    # 25 -> 50\n",
    "    deconv2 = Conv2DTranspose(start_neurons * 2, (3, 3), strides=(2, 2), padding=\"same\")(uconv3)\n",
    "    uconv2 = concatenate([deconv2, conv2])\n",
    "        \n",
    "    uconv2 = Dropout(DropoutRatio)(uconv2)\n",
    "    uconv2 = Conv2D(start_neurons * 2, (3, 3), activation=None, padding=\"same\")(uconv2)\n",
    "    uconv2 = residual_block_cSE(uconv2,start_neurons * 2)\n",
    "    uconv2 = residual_block_cSE(uconv2,start_neurons * 2)\n",
    "    uconv2 = residual_block_cSE(uconv2,start_neurons * 2, True)\n",
    "    \n",
    "    # 50 -> 101\n",
    "    #deconv1 = Conv2DTranspose(start_neurons * 1, (3, 3), strides=(2, 2), padding=\"same\")(uconv2)\n",
    "    deconv1 = Conv2DTranspose(start_neurons * 1, (3, 3), strides=(2, 2), padding=\"valid\")(uconv2)\n",
    "    uconv1 = concatenate([deconv1, conv1])\n",
    "    \n",
    "    uconv1 = Dropout(DropoutRatio)(uconv1)\n",
    "    uconv1 = Conv2D(start_neurons * 1, (3, 3), activation=None, padding=\"same\")(uconv1)\n",
    "    uconv1 = residual_block_cSE(uconv1,start_neurons * 1)\n",
    "    uconv1 = residual_block_cSE(uconv1,start_neurons * 1)\n",
    "    uconv1 = residual_block_cSE(uconv1,start_neurons * 1, True)\n",
    "    \n",
    "    #uconv1 = Dropout(DropoutRatio/2)(uconv1)\n",
    "    #output_layer = Conv2D(1, (1,1), padding=\"same\", activation=\"sigmoid\")(uconv1)\n",
    "    output_layer_noActi = Conv2D(1, (1,1), padding=\"same\", activation=None)(uconv1)\n",
    "    output_layer =  Activation('sigmoid')(output_layer_noActi)\n",
    "    \n",
    "    return output_layer"
   ]
  },
  {
   "cell_type": "code",
   "execution_count": 3,
   "metadata": {},
   "outputs": [
    {
     "data": {
      "application/vnd.jupyter.widget-view+json": {
       "model_id": "1242a732ad604065acffb7bee94137d7",
       "version_major": 2,
       "version_minor": 0
      },
      "text/plain": [
       "HBox(children=(IntProgress(value=0, max=4000), HTML(value='')))"
      ]
     },
     "metadata": {},
     "output_type": "display_data"
    },
    {
     "name": "stderr",
     "output_type": "stream",
     "text": [
      "/home/kownse/.local/lib/python3.6/site-packages/keras_preprocessing/image.py:487: UserWarning: grayscale is deprecated. Please use color_mode = \"grayscale\"\n",
      "  warnings.warn('grayscale is deprecated. Please use '\n"
     ]
    },
    {
     "name": "stdout",
     "output_type": "stream",
     "text": [
      "\n"
     ]
    },
    {
     "data": {
      "application/vnd.jupyter.widget-view+json": {
       "model_id": "f8e74222103e45f4844c196fe8ab2a6b",
       "version_major": 2,
       "version_minor": 0
      },
      "text/plain": [
       "HBox(children=(IntProgress(value=0, max=4000), HTML(value='')))"
      ]
     },
     "metadata": {},
     "output_type": "display_data"
    },
    {
     "name": "stdout",
     "output_type": "stream",
     "text": [
      "\n"
     ]
    }
   ],
   "source": [
    "\n",
    "\n",
    "# Loading of training/testing ids and depths\n",
    "train_df = pd.read_csv(\"../input/train.csv\", index_col=\"id\", usecols=[0])\n",
    "depths_df = pd.read_csv(\"../input/depths.csv\", index_col=\"id\")\n",
    "train_df = train_df.join(depths_df)\n",
    "test_df = depths_df[~depths_df.index.isin(train_df.index)]\n",
    "\n",
    "len(train_df)\n",
    "\n",
    "train_df[\"images\"] = [np.array(load_img(\"../input/train/images/{}.png\".format(idx), grayscale=True)) / 255 for idx in tqdm_notebook(train_df.index)]\n",
    "train_df[\"masks\"] = [np.array(load_img(\"../input/train/masks/{}.png\".format(idx), grayscale=True)) / 255 for idx in tqdm_notebook(train_df.index)]\n",
    "train_df[\"coverage\"] = train_df.masks.map(np.sum) / pow(img_size_ori, 2)\n",
    "train_df[\"coverage_class\"] = train_df.coverage.map(cov_to_class)"
   ]
  },
  {
   "cell_type": "code",
   "execution_count": 4,
   "metadata": {},
   "outputs": [
    {
     "data": {
      "text/plain": [
       "4000"
      ]
     },
     "execution_count": 4,
     "metadata": {},
     "output_type": "execute_result"
    }
   ],
   "source": [
    "SUBSET = len(train_df)\n",
    "train_df = train_df.head(SUBSET)\n",
    "len(train_df)"
   ]
  },
  {
   "cell_type": "code",
   "execution_count": 5,
   "metadata": {},
   "outputs": [],
   "source": [
    "ids_train, ids_valid, x_train, x_valid, y_train, y_valid, cov_train, cov_test, depth_train, depth_test = train_test_split(\n",
    "train_df.index.values,\n",
    "np.array(train_df.images.map(upsample).tolist()).reshape(-1, img_size_target, img_size_target, 1), \n",
    "np.array(train_df.masks.map(upsample).tolist()).reshape(-1, img_size_target, img_size_target, 1), \n",
    "train_df.coverage.values,\n",
    "train_df.z.values,\n",
    "test_size=0.2, stratify=train_df.coverage_class, random_state= 1234)"
   ]
  },
  {
   "cell_type": "code",
   "execution_count": 6,
   "metadata": {},
   "outputs": [
    {
     "data": {
      "text/plain": [
       "array([3, 0, 2, 4, 1])"
      ]
     },
     "execution_count": 6,
     "metadata": {},
     "output_type": "execute_result"
    }
   ],
   "source": [
    "np.random.choice(5,5, replace=False)"
   ]
  },
  {
   "cell_type": "code",
   "execution_count": 7,
   "metadata": {},
   "outputs": [
    {
     "data": {
      "application/vnd.jupyter.widget-view+json": {
       "model_id": "d3b89821a3ae475a8a4de4ea5f04d583",
       "version_major": 2,
       "version_minor": 0
      },
      "text/plain": [
       "HBox(children=(IntProgress(value=0, max=4), HTML(value='')))"
      ]
     },
     "metadata": {},
     "output_type": "display_data"
    },
    {
     "data": {
      "application/vnd.jupyter.widget-view+json": {
       "model_id": "5bf73d15a79f450589e79f51f65a3f9d",
       "version_major": 2,
       "version_minor": 0
      },
      "text/plain": [
       "HBox(children=(IntProgress(value=0, max=3200), HTML(value='')))"
      ]
     },
     "metadata": {},
     "output_type": "display_data"
    },
    {
     "data": {
      "application/vnd.jupyter.widget-view+json": {
       "model_id": "4752c2e1f13146a581fca03a4e561914",
       "version_major": 2,
       "version_minor": 0
      },
      "text/plain": [
       "HBox(children=(IntProgress(value=0, max=640), HTML(value='')))"
      ]
     },
     "metadata": {},
     "output_type": "display_data"
    },
    {
     "data": {
      "application/vnd.jupyter.widget-view+json": {
       "model_id": "e7658e5830934637907c5b5ff029bb28",
       "version_major": 2,
       "version_minor": 0
      },
      "text/plain": [
       "HBox(children=(IntProgress(value=0, max=640), HTML(value='')))"
      ]
     },
     "metadata": {},
     "output_type": "display_data"
    },
    {
     "data": {
      "application/vnd.jupyter.widget-view+json": {
       "model_id": "34897f022388468597f7e4d1647ece97",
       "version_major": 2,
       "version_minor": 0
      },
      "text/plain": [
       "HBox(children=(IntProgress(value=0, max=320), HTML(value='')))"
      ]
     },
     "metadata": {},
     "output_type": "display_data"
    },
    {
     "name": "stdout",
     "output_type": "stream",
     "text": [
      "\n"
     ]
    }
   ],
   "source": [
    "aug_img = []\n",
    "aug_msk = []\n",
    "augments = [\n",
    "    (1.0, HorizontalFlip(p=1)),\n",
    "#     (0.35, VerticalFlip(p=1)),\n",
    "#     (0.35, RandomRotate90(p=1)),\n",
    "#     (0.35, Transpose(p=1)),\n",
    "    (0.2, ElasticTransform(p=1, alpha=120, sigma=120 * 0.05, alpha_affine=120 * 0.03)),\n",
    "    (0.2, GridDistortion(p=1)),\n",
    "    (0.1, OpticalDistortion(p=1, distort_limit=2, shift_limit=0.5)),\n",
    "#     (0.1, RandomSizedCrop(p=1, min_max_height=(int(img_size_ori / 2), img_size_ori), height=img_size_ori, width=img_size_ori)),\n",
    "]\n",
    "\n",
    "for ratio, aug in tqdm_notebook(augments):\n",
    "    selidx = np.random.choice(x_train.shape[0], int(x_train.shape[0] * ratio), replace=False)\n",
    "    for idx in tqdm_notebook(selidx):\n",
    "        augmented = aug(image=x_train[idx], mask=y_train[idx])\n",
    "        aimg = augmented['image']\n",
    "        amsk = augmented['mask']\n",
    "        if len(aimg.shape) < 3:\n",
    "            aimg = aimg[...,np.newaxis]\n",
    "        if len(amsk.shape) < 3:\n",
    "            amsk = amsk[...,np.newaxis]\n",
    "        aug_img.append(aimg)\n",
    "        aug_msk.append(amsk)\n",
    "\n",
    "aug_img = np.asarray(aug_img)\n",
    "aug_msk = np.asarray(aug_msk)\n",
    "x_train = np.append(x_train, aug_img, axis=0)\n",
    "y_train = np.append(y_train, aug_msk, axis=0)"
   ]
  },
  {
   "cell_type": "code",
   "execution_count": 8,
   "metadata": {},
   "outputs": [
    {
     "name": "stdout",
     "output_type": "stream",
     "text": [
      "(8000, 101, 101, 1)\n",
      "(800, 101, 101, 1)\n"
     ]
    }
   ],
   "source": [
    "\n",
    "print(x_train.shape)\n",
    "print(y_valid.shape)"
   ]
  },
  {
   "cell_type": "code",
   "execution_count": 9,
   "metadata": {
    "scrolled": true
   },
   "outputs": [
    {
     "name": "stdout",
     "output_type": "stream",
     "text": [
      "../model/Unet_resnet_deeper_cse_aug3_32_0.5.model\n",
      "../model/Unet_resnet_deeper_cse_aug3_32_0.5.csv\n",
      "Train on 8000 samples, validate on 800 samples\n",
      "Epoch 1/200\n",
      "8000/8000 [==============================] - 58s 7ms/step - loss: 0.4093 - my_iou_metric: 0.4211 - val_loss: 8.2340 - val_my_iou_metric: 0.1491\n",
      "\n",
      "Epoch 00001: val_my_iou_metric improved from -inf to 0.14913, saving model to ../model/Unet_resnet_deeper_cse_aug3_32_0.5.model\n",
      "Epoch 2/200\n",
      "8000/8000 [==============================] - 43s 5ms/step - loss: 0.3201 - my_iou_metric: 0.5333 - val_loss: 0.7158 - val_my_iou_metric: 0.3875\n",
      "\n",
      "Epoch 00002: val_my_iou_metric improved from 0.14913 to 0.38750, saving model to ../model/Unet_resnet_deeper_cse_aug3_32_0.5.model\n",
      "Epoch 3/200\n",
      "8000/8000 [==============================] - 43s 5ms/step - loss: 0.2960 - my_iou_metric: 0.5528 - val_loss: 0.7908 - val_my_iou_metric: 0.4886\n",
      "\n",
      "Epoch 00003: val_my_iou_metric improved from 0.38750 to 0.48862, saving model to ../model/Unet_resnet_deeper_cse_aug3_32_0.5.model\n",
      "Epoch 4/200\n",
      "8000/8000 [==============================] - 43s 5ms/step - loss: 0.2687 - my_iou_metric: 0.5794 - val_loss: 0.2880 - val_my_iou_metric: 0.5450\n",
      "\n",
      "Epoch 00004: val_my_iou_metric improved from 0.48862 to 0.54500, saving model to ../model/Unet_resnet_deeper_cse_aug3_32_0.5.model\n",
      "Epoch 5/200\n",
      "8000/8000 [==============================] - 43s 5ms/step - loss: 0.2526 - my_iou_metric: 0.5800 - val_loss: 0.8977 - val_my_iou_metric: 0.3906\n",
      "\n",
      "Epoch 00005: val_my_iou_metric did not improve from 0.54500\n",
      "Epoch 6/200\n",
      "8000/8000 [==============================] - 43s 5ms/step - loss: 0.2378 - my_iou_metric: 0.5966 - val_loss: 0.2449 - val_my_iou_metric: 0.5850\n",
      "\n",
      "Epoch 00006: val_my_iou_metric improved from 0.54500 to 0.58500, saving model to ../model/Unet_resnet_deeper_cse_aug3_32_0.5.model\n",
      "Epoch 7/200\n",
      "8000/8000 [==============================] - 43s 5ms/step - loss: 0.2177 - my_iou_metric: 0.6093 - val_loss: 0.3393 - val_my_iou_metric: 0.5343\n",
      "\n",
      "Epoch 00007: val_my_iou_metric did not improve from 0.58500\n",
      "Epoch 8/200\n",
      "8000/8000 [==============================] - 43s 5ms/step - loss: 0.2092 - my_iou_metric: 0.6312 - val_loss: 0.2414 - val_my_iou_metric: 0.6264\n",
      "\n",
      "Epoch 00008: val_my_iou_metric improved from 0.58500 to 0.62638, saving model to ../model/Unet_resnet_deeper_cse_aug3_32_0.5.model\n",
      "Epoch 9/200\n",
      "8000/8000 [==============================] - 43s 5ms/step - loss: 0.1952 - my_iou_metric: 0.6477 - val_loss: 0.1901 - val_my_iou_metric: 0.6921\n",
      "\n",
      "Epoch 00009: val_my_iou_metric improved from 0.62638 to 0.69213, saving model to ../model/Unet_resnet_deeper_cse_aug3_32_0.5.model\n",
      "Epoch 10/200\n",
      "8000/8000 [==============================] - 43s 5ms/step - loss: 0.1872 - my_iou_metric: 0.6565 - val_loss: 0.3296 - val_my_iou_metric: 0.5989\n",
      "\n",
      "Epoch 00010: val_my_iou_metric did not improve from 0.69213\n",
      "Epoch 11/200\n",
      "8000/8000 [==============================] - 43s 5ms/step - loss: 0.1803 - my_iou_metric: 0.6650 - val_loss: 0.1916 - val_my_iou_metric: 0.6795\n",
      "\n",
      "Epoch 00011: val_my_iou_metric did not improve from 0.69213\n",
      "Epoch 12/200\n",
      "8000/8000 [==============================] - 43s 5ms/step - loss: 0.1885 - my_iou_metric: 0.6627 - val_loss: 0.3236 - val_my_iou_metric: 0.5059\n",
      "\n",
      "Epoch 00012: val_my_iou_metric did not improve from 0.69213\n",
      "\n",
      "Epoch 00012: ReduceLROnPlateau reducing learning rate to 0.004999999888241291.\n",
      "Epoch 13/200\n",
      "8000/8000 [==============================] - 43s 5ms/step - loss: 0.1707 - my_iou_metric: 0.6824 - val_loss: 0.1950 - val_my_iou_metric: 0.6676\n",
      "\n",
      "Epoch 00013: val_my_iou_metric did not improve from 0.69213\n",
      "Epoch 14/200\n",
      "8000/8000 [==============================] - 43s 5ms/step - loss: 0.1563 - my_iou_metric: 0.6940 - val_loss: 0.1622 - val_my_iou_metric: 0.7151\n",
      "\n",
      "Epoch 00014: val_my_iou_metric improved from 0.69213 to 0.71513, saving model to ../model/Unet_resnet_deeper_cse_aug3_32_0.5.model\n",
      "Epoch 15/200\n",
      "8000/8000 [==============================] - 43s 5ms/step - loss: 0.1498 - my_iou_metric: 0.7030 - val_loss: 0.1652 - val_my_iou_metric: 0.7129\n",
      "\n",
      "Epoch 00015: val_my_iou_metric did not improve from 0.71513\n",
      "Epoch 16/200\n",
      "8000/8000 [==============================] - 43s 5ms/step - loss: 0.1520 - my_iou_metric: 0.7042 - val_loss: 0.1656 - val_my_iou_metric: 0.7124\n",
      "\n",
      "Epoch 00016: val_my_iou_metric did not improve from 0.71513\n",
      "Epoch 17/200\n",
      "8000/8000 [==============================] - 43s 5ms/step - loss: 0.1442 - my_iou_metric: 0.7137 - val_loss: 0.1965 - val_my_iou_metric: 0.6898\n",
      "\n",
      "Epoch 00017: val_my_iou_metric did not improve from 0.71513\n",
      "\n",
      "Epoch 00017: ReduceLROnPlateau reducing learning rate to 0.0024999999441206455.\n",
      "Epoch 18/200\n",
      "8000/8000 [==============================] - 43s 5ms/step - loss: 0.1397 - my_iou_metric: 0.7156 - val_loss: 0.1467 - val_my_iou_metric: 0.7412\n",
      "\n",
      "Epoch 00018: val_my_iou_metric improved from 0.71513 to 0.74125, saving model to ../model/Unet_resnet_deeper_cse_aug3_32_0.5.model\n",
      "Epoch 19/200\n",
      "8000/8000 [==============================] - 43s 5ms/step - loss: 0.1333 - my_iou_metric: 0.7253 - val_loss: 0.1456 - val_my_iou_metric: 0.7330\n",
      "\n",
      "Epoch 00019: val_my_iou_metric did not improve from 0.74125\n",
      "Epoch 20/200\n",
      "8000/8000 [==============================] - 43s 5ms/step - loss: 0.1282 - my_iou_metric: 0.7273 - val_loss: 0.1540 - val_my_iou_metric: 0.7446\n",
      "\n",
      "Epoch 00020: val_my_iou_metric improved from 0.74125 to 0.74463, saving model to ../model/Unet_resnet_deeper_cse_aug3_32_0.5.model\n",
      "Epoch 21/200\n",
      "8000/8000 [==============================] - 43s 5ms/step - loss: 0.1281 - my_iou_metric: 0.7288 - val_loss: 0.1595 - val_my_iou_metric: 0.7415\n",
      "\n",
      "Epoch 00021: val_my_iou_metric did not improve from 0.74463\n",
      "Epoch 22/200\n",
      "8000/8000 [==============================] - 43s 5ms/step - loss: 0.1246 - my_iou_metric: 0.7349 - val_loss: 0.1616 - val_my_iou_metric: 0.7416\n",
      "\n",
      "Epoch 00022: val_my_iou_metric did not improve from 0.74463\n",
      "Epoch 23/200\n",
      "8000/8000 [==============================] - 43s 5ms/step - loss: 0.1228 - my_iou_metric: 0.7324 - val_loss: 0.1441 - val_my_iou_metric: 0.7479\n",
      "\n",
      "Epoch 00023: val_my_iou_metric improved from 0.74463 to 0.74787, saving model to ../model/Unet_resnet_deeper_cse_aug3_32_0.5.model\n",
      "Epoch 24/200\n",
      "8000/8000 [==============================] - 43s 5ms/step - loss: 0.1205 - my_iou_metric: 0.7371 - val_loss: 0.1401 - val_my_iou_metric: 0.7456\n",
      "\n",
      "Epoch 00024: val_my_iou_metric did not improve from 0.74787\n",
      "Epoch 25/200\n",
      "8000/8000 [==============================] - 43s 5ms/step - loss: 0.1209 - my_iou_metric: 0.7344 - val_loss: 0.1626 - val_my_iou_metric: 0.7350\n",
      "\n",
      "Epoch 00025: val_my_iou_metric did not improve from 0.74787\n",
      "Epoch 26/200\n",
      "8000/8000 [==============================] - 43s 5ms/step - loss: 0.1158 - my_iou_metric: 0.7424 - val_loss: 0.1537 - val_my_iou_metric: 0.7509\n",
      "\n",
      "Epoch 00026: val_my_iou_metric improved from 0.74787 to 0.75087, saving model to ../model/Unet_resnet_deeper_cse_aug3_32_0.5.model\n",
      "Epoch 27/200\n",
      "8000/8000 [==============================] - 43s 5ms/step - loss: 0.1160 - my_iou_metric: 0.7387 - val_loss: 0.1686 - val_my_iou_metric: 0.7315\n",
      "\n",
      "Epoch 00027: val_my_iou_metric did not improve from 0.75087\n",
      "Epoch 28/200\n",
      "8000/8000 [==============================] - 43s 5ms/step - loss: 0.1154 - my_iou_metric: 0.7389 - val_loss: 0.1519 - val_my_iou_metric: 0.7429\n",
      "\n",
      "Epoch 00028: val_my_iou_metric did not improve from 0.75087\n",
      "Epoch 29/200\n",
      "8000/8000 [==============================] - 43s 5ms/step - loss: 0.1152 - my_iou_metric: 0.7416 - val_loss: 0.1528 - val_my_iou_metric: 0.7370\n",
      "\n",
      "Epoch 00029: val_my_iou_metric did not improve from 0.75087\n",
      "\n",
      "Epoch 00029: ReduceLROnPlateau reducing learning rate to 0.0012499999720603228.\n",
      "Epoch 30/200\n",
      "8000/8000 [==============================] - 43s 5ms/step - loss: 0.1058 - my_iou_metric: 0.7460 - val_loss: 0.1637 - val_my_iou_metric: 0.7576\n",
      "\n",
      "Epoch 00030: val_my_iou_metric improved from 0.75087 to 0.75762, saving model to ../model/Unet_resnet_deeper_cse_aug3_32_0.5.model\n",
      "Epoch 31/200\n",
      "8000/8000 [==============================] - 43s 5ms/step - loss: 0.1020 - my_iou_metric: 0.7525 - val_loss: 0.1574 - val_my_iou_metric: 0.7518\n",
      "\n",
      "Epoch 00031: val_my_iou_metric did not improve from 0.75762\n",
      "Epoch 32/200\n",
      "8000/8000 [==============================] - 43s 5ms/step - loss: 0.0996 - my_iou_metric: 0.7546 - val_loss: 0.1439 - val_my_iou_metric: 0.7456\n"
     ]
    },
    {
     "name": "stdout",
     "output_type": "stream",
     "text": [
      "\n",
      "Epoch 00032: val_my_iou_metric did not improve from 0.75762\n",
      "Epoch 33/200\n",
      "8000/8000 [==============================] - 43s 5ms/step - loss: 0.0991 - my_iou_metric: 0.7544 - val_loss: 0.1639 - val_my_iou_metric: 0.7570\n",
      "\n",
      "Epoch 00033: val_my_iou_metric did not improve from 0.75762\n",
      "\n",
      "Epoch 00033: ReduceLROnPlateau reducing learning rate to 0.0006249999860301614.\n",
      "Epoch 34/200\n",
      "8000/8000 [==============================] - 43s 5ms/step - loss: 0.0953 - my_iou_metric: 0.7574 - val_loss: 0.1570 - val_my_iou_metric: 0.7548\n",
      "\n",
      "Epoch 00034: val_my_iou_metric did not improve from 0.75762\n",
      "Epoch 35/200\n",
      "8000/8000 [==============================] - 43s 5ms/step - loss: 0.0947 - my_iou_metric: 0.7614 - val_loss: 0.1509 - val_my_iou_metric: 0.7606\n",
      "\n",
      "Epoch 00035: val_my_iou_metric improved from 0.75762 to 0.76062, saving model to ../model/Unet_resnet_deeper_cse_aug3_32_0.5.model\n",
      "Epoch 36/200\n",
      "8000/8000 [==============================] - 43s 5ms/step - loss: 0.0927 - my_iou_metric: 0.7627 - val_loss: 0.1640 - val_my_iou_metric: 0.7573\n",
      "\n",
      "Epoch 00036: val_my_iou_metric did not improve from 0.76062\n",
      "Epoch 37/200\n",
      "8000/8000 [==============================] - 43s 5ms/step - loss: 0.0933 - my_iou_metric: 0.7590 - val_loss: 0.1561 - val_my_iou_metric: 0.7564\n",
      "\n",
      "Epoch 00037: val_my_iou_metric did not improve from 0.76062\n",
      "Epoch 38/200\n",
      "8000/8000 [==============================] - 43s 5ms/step - loss: 0.0892 - my_iou_metric: 0.7627 - val_loss: 0.1696 - val_my_iou_metric: 0.7580\n",
      "\n",
      "Epoch 00038: val_my_iou_metric did not improve from 0.76062\n",
      "\n",
      "Epoch 00038: ReduceLROnPlateau reducing learning rate to 0.0003124999930150807.\n",
      "Epoch 39/200\n",
      "8000/8000 [==============================] - 43s 5ms/step - loss: 0.0870 - my_iou_metric: 0.7640 - val_loss: 0.1662 - val_my_iou_metric: 0.7581\n",
      "\n",
      "Epoch 00039: val_my_iou_metric did not improve from 0.76062\n",
      "Epoch 40/200\n",
      "8000/8000 [==============================] - 43s 5ms/step - loss: 0.0855 - my_iou_metric: 0.7693 - val_loss: 0.1681 - val_my_iou_metric: 0.7565\n",
      "\n",
      "Epoch 00040: val_my_iou_metric did not improve from 0.76062\n",
      "Epoch 41/200\n",
      "8000/8000 [==============================] - 43s 5ms/step - loss: 0.0861 - my_iou_metric: 0.7637 - val_loss: 0.1694 - val_my_iou_metric: 0.7585\n",
      "\n",
      "Epoch 00041: val_my_iou_metric did not improve from 0.76062\n",
      "\n",
      "Epoch 00041: ReduceLROnPlateau reducing learning rate to 0.00015624999650754035.\n",
      "Epoch 42/200\n",
      "8000/8000 [==============================] - 43s 5ms/step - loss: 0.0869 - my_iou_metric: 0.7645 - val_loss: 0.1672 - val_my_iou_metric: 0.7571\n",
      "\n",
      "Epoch 00042: val_my_iou_metric did not improve from 0.76062\n",
      "Epoch 43/200\n",
      "8000/8000 [==============================] - 43s 5ms/step - loss: 0.0862 - my_iou_metric: 0.7676 - val_loss: 0.1685 - val_my_iou_metric: 0.7579\n",
      "\n",
      "Epoch 00043: val_my_iou_metric did not improve from 0.76062\n",
      "Epoch 44/200\n",
      "8000/8000 [==============================] - 43s 5ms/step - loss: 0.0848 - my_iou_metric: 0.7662 - val_loss: 0.1707 - val_my_iou_metric: 0.7578\n",
      "\n",
      "Epoch 00044: val_my_iou_metric did not improve from 0.76062\n",
      "\n",
      "Epoch 00044: ReduceLROnPlateau reducing learning rate to 7.812499825377017e-05.\n",
      "Epoch 45/200\n",
      "8000/8000 [==============================] - 43s 5ms/step - loss: 0.0858 - my_iou_metric: 0.7655 - val_loss: 0.1696 - val_my_iou_metric: 0.7554\n",
      "\n",
      "Epoch 00045: val_my_iou_metric did not improve from 0.76062\n",
      "Epoch 00045: early stopping\n"
     ]
    }
   ],
   "source": [
    "start_feature = 16\n",
    "batch_size = 32\n",
    "dropout = 0.5\n",
    "base_name = 'Unet_resnet_deeper_cse_aug3_{}_{}'.format(batch_size, dropout)\n",
    "basic_name = '../model/{}'.format(base_name)\n",
    "save_model_name = basic_name + '.model'\n",
    "submission_file = basic_name + '.csv'\n",
    "\n",
    "print(save_model_name)\n",
    "print(submission_file)\n",
    "\n",
    "# model\n",
    "input_layer = Input((img_size_target, img_size_target, 1))\n",
    "output_layer = build_model_deeper(input_layer, start_feature,dropout)\n",
    "\n",
    "model1 = Model(input_layer, output_layer)\n",
    "\n",
    "c = optimizers.adam(lr = 0.01)\n",
    "model1.compile(loss=\"binary_crossentropy\", optimizer=c, metrics=[my_iou_metric])\n",
    "\n",
    "board = keras.callbacks.TensorBoard(log_dir='log/{}'.format(base_name),\n",
    "                       histogram_freq=0, write_graph=True, write_images=False)\n",
    "early_stopping = EarlyStopping(monitor='val_my_iou_metric', mode = 'max',patience=10, verbose=1)\n",
    "model_checkpoint = ModelCheckpoint(save_model_name,monitor='val_my_iou_metric', \n",
    "                                   mode = 'max', save_best_only=True, verbose=1)\n",
    "reduce_lr = ReduceLROnPlateau(monitor='val_my_iou_metric', mode = 'max',factor=0.5, patience=3, min_lr=0.00001, verbose=1)\n",
    "\n",
    "epochs = 200\n",
    "\n",
    "history = model1.fit(x_train, y_train,\n",
    "                    validation_data=[x_valid, y_valid], \n",
    "                    epochs=epochs,\n",
    "                    batch_size=batch_size,\n",
    "                    callbacks=[board, early_stopping, model_checkpoint,reduce_lr], \n",
    "                    verbose=1)"
   ]
  },
  {
   "cell_type": "code",
   "execution_count": 10,
   "metadata": {},
   "outputs": [
    {
     "name": "stdout",
     "output_type": "stream",
     "text": [
      "Train on 8000 samples, validate on 800 samples\n",
      "Epoch 1/200\n",
      "8000/8000 [==============================] - 102s 13ms/step - loss: 0.1058 - my_iou_metric_2: 0.7385 - val_loss: 1.4261 - val_my_iou_metric_2: 0.4559\n",
      "\n",
      "Epoch 00001: val_my_iou_metric_2 improved from -inf to 0.45588, saving model to ../model/Unet_resnet_deeper_cse_aug3_32_0.5.model\n",
      "Epoch 2/200\n",
      "8000/8000 [==============================] - 87s 11ms/step - loss: 0.1057 - my_iou_metric_2: 0.7314 - val_loss: 0.0616 - val_my_iou_metric_2: 0.7500\n",
      "\n",
      "Epoch 00002: val_my_iou_metric_2 improved from 0.45588 to 0.75000, saving model to ../model/Unet_resnet_deeper_cse_aug3_32_0.5.model\n",
      "Epoch 3/200\n",
      "8000/8000 [==============================] - 87s 11ms/step - loss: 0.0393 - my_iou_metric_2: 0.7449 - val_loss: 0.1015 - val_my_iou_metric_2: 0.7411\n",
      "\n",
      "Epoch 00003: val_my_iou_metric_2 did not improve from 0.75000\n",
      "Epoch 4/200\n",
      "8000/8000 [==============================] - 87s 11ms/step - loss: 0.0196 - my_iou_metric_2: 0.7477 - val_loss: 0.0463 - val_my_iou_metric_2: 0.7532\n",
      "\n",
      "Epoch 00004: val_my_iou_metric_2 improved from 0.75000 to 0.75325, saving model to ../model/Unet_resnet_deeper_cse_aug3_32_0.5.model\n",
      "Epoch 5/200\n",
      "8000/8000 [==============================] - 87s 11ms/step - loss: -0.0095 - my_iou_metric_2: 0.7534 - val_loss: 2.7730 - val_my_iou_metric_2: 0.4190\n",
      "\n",
      "Epoch 00005: val_my_iou_metric_2 did not improve from 0.75325\n",
      "Epoch 6/200\n",
      "8000/8000 [==============================] - 87s 11ms/step - loss: -0.0074 - my_iou_metric_2: 0.7521 - val_loss: 0.4403 - val_my_iou_metric_2: 0.6896\n",
      "\n",
      "Epoch 00006: val_my_iou_metric_2 did not improve from 0.75325\n",
      "Epoch 7/200\n",
      "8000/8000 [==============================] - 87s 11ms/step - loss: -0.0414 - my_iou_metric_2: 0.7582 - val_loss: 0.0387 - val_my_iou_metric_2: 0.7650\n",
      "\n",
      "Epoch 00007: val_my_iou_metric_2 improved from 0.75325 to 0.76500, saving model to ../model/Unet_resnet_deeper_cse_aug3_32_0.5.model\n",
      "Epoch 8/200\n",
      "8000/8000 [==============================] - 87s 11ms/step - loss: -0.0613 - my_iou_metric_2: 0.7662 - val_loss: 0.2454 - val_my_iou_metric_2: 0.7306\n",
      "\n",
      "Epoch 00008: val_my_iou_metric_2 did not improve from 0.76500\n",
      "Epoch 9/200\n",
      "8000/8000 [==============================] - 87s 11ms/step - loss: -0.0761 - my_iou_metric_2: 0.7660 - val_loss: 0.0671 - val_my_iou_metric_2: 0.7535\n",
      "\n",
      "Epoch 00009: val_my_iou_metric_2 did not improve from 0.76500\n",
      "Epoch 10/200\n",
      "8000/8000 [==============================] - 87s 11ms/step - loss: -0.0775 - my_iou_metric_2: 0.7663 - val_loss: 0.9799 - val_my_iou_metric_2: 0.6129\n",
      "\n",
      "Epoch 00010: val_my_iou_metric_2 did not improve from 0.76500\n",
      "\n",
      "Epoch 00010: ReduceLROnPlateau reducing learning rate to 0.004999999888241291.\n",
      "Epoch 11/200\n",
      "8000/8000 [==============================] - 87s 11ms/step - loss: -0.1459 - my_iou_metric_2: 0.7815 - val_loss: 0.6125 - val_my_iou_metric_2: 0.6696\n",
      "\n",
      "Epoch 00011: val_my_iou_metric_2 did not improve from 0.76500\n",
      "Epoch 12/200\n",
      "8000/8000 [==============================] - 87s 11ms/step - loss: -0.1762 - my_iou_metric_2: 0.7877 - val_loss: 0.0482 - val_my_iou_metric_2: 0.7667\n",
      "\n",
      "Epoch 00012: val_my_iou_metric_2 improved from 0.76500 to 0.76675, saving model to ../model/Unet_resnet_deeper_cse_aug3_32_0.5.model\n",
      "Epoch 13/200\n",
      "8000/8000 [==============================] - 87s 11ms/step - loss: -0.1983 - my_iou_metric_2: 0.7920 - val_loss: 0.5672 - val_my_iou_metric_2: 0.6872\n",
      "\n",
      "Epoch 00013: val_my_iou_metric_2 did not improve from 0.76675\n",
      "Epoch 14/200\n",
      "8000/8000 [==============================] - 87s 11ms/step - loss: -0.1861 - my_iou_metric_2: 0.7869 - val_loss: 0.0281 - val_my_iou_metric_2: 0.7618\n",
      "\n",
      "Epoch 00014: val_my_iou_metric_2 did not improve from 0.76675\n",
      "Epoch 15/200\n",
      "8000/8000 [==============================] - 87s 11ms/step - loss: -0.2131 - my_iou_metric_2: 0.7922 - val_loss: -0.0042 - val_my_iou_metric_2: 0.7705\n",
      "\n",
      "Epoch 00015: val_my_iou_metric_2 improved from 0.76675 to 0.77050, saving model to ../model/Unet_resnet_deeper_cse_aug3_32_0.5.model\n",
      "Epoch 16/200\n",
      "8000/8000 [==============================] - 87s 11ms/step - loss: -0.2276 - my_iou_metric_2: 0.7967 - val_loss: 0.1049 - val_my_iou_metric_2: 0.7589\n",
      "\n",
      "Epoch 00016: val_my_iou_metric_2 did not improve from 0.77050\n",
      "Epoch 17/200\n",
      "8000/8000 [==============================] - 87s 11ms/step - loss: -0.2132 - my_iou_metric_2: 0.7935 - val_loss: -0.0026 - val_my_iou_metric_2: 0.7655\n",
      "\n",
      "Epoch 00017: val_my_iou_metric_2 did not improve from 0.77050\n",
      "Epoch 18/200\n",
      "8000/8000 [==============================] - 87s 11ms/step - loss: -0.2347 - my_iou_metric_2: 0.7954 - val_loss: 0.2006 - val_my_iou_metric_2: 0.7445\n",
      "\n",
      "Epoch 00018: val_my_iou_metric_2 did not improve from 0.77050\n",
      "\n",
      "Epoch 00018: ReduceLROnPlateau reducing learning rate to 0.0024999999441206455.\n",
      "Epoch 19/200\n",
      "8000/8000 [==============================] - 87s 11ms/step - loss: -0.2918 - my_iou_metric_2: 0.8079 - val_loss: -0.0522 - val_my_iou_metric_2: 0.7800\n",
      "\n",
      "Epoch 00019: val_my_iou_metric_2 improved from 0.77050 to 0.78000, saving model to ../model/Unet_resnet_deeper_cse_aug3_32_0.5.model\n",
      "Epoch 20/200\n",
      "8000/8000 [==============================] - 87s 11ms/step - loss: -0.3085 - my_iou_metric_2: 0.8098 - val_loss: -0.0274 - val_my_iou_metric_2: 0.7787\n",
      "\n",
      "Epoch 00020: val_my_iou_metric_2 did not improve from 0.78000\n",
      "Epoch 21/200\n",
      "8000/8000 [==============================] - 87s 11ms/step - loss: -0.3293 - my_iou_metric_2: 0.8125 - val_loss: 0.0409 - val_my_iou_metric_2: 0.7730\n",
      "\n",
      "Epoch 00021: val_my_iou_metric_2 did not improve from 0.78000\n",
      "Epoch 22/200\n",
      "8000/8000 [==============================] - 87s 11ms/step - loss: -0.3185 - my_iou_metric_2: 0.8092 - val_loss: 0.0033 - val_my_iou_metric_2: 0.7795\n",
      "\n",
      "Epoch 00022: val_my_iou_metric_2 did not improve from 0.78000\n",
      "\n",
      "Epoch 00022: ReduceLROnPlateau reducing learning rate to 0.0012499999720603228.\n",
      "Epoch 23/200\n",
      "8000/8000 [==============================] - 87s 11ms/step - loss: -0.3460 - my_iou_metric_2: 0.8143 - val_loss: -0.0485 - val_my_iou_metric_2: 0.7778\n",
      "\n",
      "Epoch 00023: val_my_iou_metric_2 did not improve from 0.78000\n",
      "Epoch 24/200\n",
      "8000/8000 [==============================] - 87s 11ms/step - loss: -0.3602 - my_iou_metric_2: 0.8154 - val_loss: -0.0321 - val_my_iou_metric_2: 0.7804\n",
      "\n",
      "Epoch 00024: val_my_iou_metric_2 improved from 0.78000 to 0.78037, saving model to ../model/Unet_resnet_deeper_cse_aug3_32_0.5.model\n",
      "Epoch 25/200\n",
      "8000/8000 [==============================] - 87s 11ms/step - loss: -0.3677 - my_iou_metric_2: 0.8197 - val_loss: -0.0353 - val_my_iou_metric_2: 0.7790\n",
      "\n",
      "Epoch 00025: val_my_iou_metric_2 did not improve from 0.78037\n",
      "Epoch 26/200\n",
      "8000/8000 [==============================] - 87s 11ms/step - loss: -0.3746 - my_iou_metric_2: 0.8193 - val_loss: -0.0266 - val_my_iou_metric_2: 0.7771\n",
      "\n",
      "Epoch 00026: val_my_iou_metric_2 did not improve from 0.78037\n",
      "Epoch 27/200\n",
      "8000/8000 [==============================] - 87s 11ms/step - loss: -0.3806 - my_iou_metric_2: 0.8200 - val_loss: 0.0197 - val_my_iou_metric_2: 0.7755\n",
      "\n",
      "Epoch 00027: val_my_iou_metric_2 did not improve from 0.78037\n",
      "\n",
      "Epoch 00027: ReduceLROnPlateau reducing learning rate to 0.0006249999860301614.\n",
      "Epoch 28/200\n",
      "8000/8000 [==============================] - 87s 11ms/step - loss: -0.3933 - my_iou_metric_2: 0.8220 - val_loss: -0.0198 - val_my_iou_metric_2: 0.7781\n",
      "\n",
      "Epoch 00028: val_my_iou_metric_2 did not improve from 0.78037\n",
      "Epoch 29/200\n",
      "8000/8000 [==============================] - 87s 11ms/step - loss: -0.3929 - my_iou_metric_2: 0.8206 - val_loss: 0.0046 - val_my_iou_metric_2: 0.7784\n",
      "\n",
      "Epoch 00029: val_my_iou_metric_2 did not improve from 0.78037\n",
      "Epoch 30/200\n",
      "8000/8000 [==============================] - 87s 11ms/step - loss: -0.4028 - my_iou_metric_2: 0.8246 - val_loss: -0.0417 - val_my_iou_metric_2: 0.7841\n",
      "\n",
      "Epoch 00030: val_my_iou_metric_2 improved from 0.78037 to 0.78413, saving model to ../model/Unet_resnet_deeper_cse_aug3_32_0.5.model\n",
      "Epoch 31/200\n",
      "8000/8000 [==============================] - 87s 11ms/step - loss: -0.4089 - my_iou_metric_2: 0.8245 - val_loss: -0.0139 - val_my_iou_metric_2: 0.7830\n",
      "\n",
      "Epoch 00031: val_my_iou_metric_2 did not improve from 0.78413\n",
      "Epoch 32/200\n",
      "8000/8000 [==============================] - 87s 11ms/step - loss: -0.4118 - my_iou_metric_2: 0.8234 - val_loss: 0.0063 - val_my_iou_metric_2: 0.7814\n",
      "\n",
      "Epoch 00032: val_my_iou_metric_2 did not improve from 0.78413\n",
      "Epoch 33/200\n"
     ]
    },
    {
     "name": "stdout",
     "output_type": "stream",
     "text": [
      "8000/8000 [==============================] - 87s 11ms/step - loss: -0.4117 - my_iou_metric_2: 0.8251 - val_loss: 0.0233 - val_my_iou_metric_2: 0.7806\n",
      "\n",
      "Epoch 00033: val_my_iou_metric_2 did not improve from 0.78413\n",
      "\n",
      "Epoch 00033: ReduceLROnPlateau reducing learning rate to 0.0003124999930150807.\n",
      "Epoch 34/200\n",
      "8000/8000 [==============================] - 88s 11ms/step - loss: -0.4151 - my_iou_metric_2: 0.8258 - val_loss: -0.0032 - val_my_iou_metric_2: 0.7826\n",
      "\n",
      "Epoch 00034: val_my_iou_metric_2 did not improve from 0.78413\n",
      "Epoch 35/200\n",
      "8000/8000 [==============================] - 88s 11ms/step - loss: -0.4227 - my_iou_metric_2: 0.8275 - val_loss: -0.0012 - val_my_iou_metric_2: 0.7805\n",
      "\n",
      "Epoch 00035: val_my_iou_metric_2 did not improve from 0.78413\n",
      "Epoch 36/200\n",
      "8000/8000 [==============================] - 87s 11ms/step - loss: -0.4184 - my_iou_metric_2: 0.8252 - val_loss: 0.0075 - val_my_iou_metric_2: 0.7785\n",
      "\n",
      "Epoch 00036: val_my_iou_metric_2 did not improve from 0.78413\n",
      "\n",
      "Epoch 00036: ReduceLROnPlateau reducing learning rate to 0.00015624999650754035.\n",
      "Epoch 37/200\n",
      "8000/8000 [==============================] - 88s 11ms/step - loss: -0.4307 - my_iou_metric_2: 0.8257 - val_loss: 0.0109 - val_my_iou_metric_2: 0.7827\n",
      "\n",
      "Epoch 00037: val_my_iou_metric_2 did not improve from 0.78413\n",
      "Epoch 38/200\n",
      "8000/8000 [==============================] - 87s 11ms/step - loss: -0.4279 - my_iou_metric_2: 0.8263 - val_loss: 0.0112 - val_my_iou_metric_2: 0.7806\n",
      "\n",
      "Epoch 00038: val_my_iou_metric_2 did not improve from 0.78413\n",
      "Epoch 39/200\n",
      "8000/8000 [==============================] - 87s 11ms/step - loss: -0.4372 - my_iou_metric_2: 0.8293 - val_loss: 0.0210 - val_my_iou_metric_2: 0.7838\n",
      "\n",
      "Epoch 00039: val_my_iou_metric_2 did not improve from 0.78413\n",
      "\n",
      "Epoch 00039: ReduceLROnPlateau reducing learning rate to 7.812499825377017e-05.\n",
      "Epoch 40/200\n",
      "8000/8000 [==============================] - 87s 11ms/step - loss: -0.4251 - my_iou_metric_2: 0.8262 - val_loss: 0.0219 - val_my_iou_metric_2: 0.7839\n",
      "\n",
      "Epoch 00040: val_my_iou_metric_2 did not improve from 0.78413\n",
      "Epoch 41/200\n",
      "8000/8000 [==============================] - 87s 11ms/step - loss: -0.4348 - my_iou_metric_2: 0.8293 - val_loss: 0.0163 - val_my_iou_metric_2: 0.7830\n",
      "\n",
      "Epoch 00041: val_my_iou_metric_2 did not improve from 0.78413\n",
      "Epoch 42/200\n",
      "8000/8000 [==============================] - 87s 11ms/step - loss: -0.4293 - my_iou_metric_2: 0.8268 - val_loss: 0.0139 - val_my_iou_metric_2: 0.7809\n",
      "\n",
      "Epoch 00042: val_my_iou_metric_2 did not improve from 0.78413\n",
      "\n",
      "Epoch 00042: ReduceLROnPlateau reducing learning rate to 3.9062499126885086e-05.\n",
      "Epoch 00042: early stopping\n"
     ]
    }
   ],
   "source": [
    "model1 = load_model(save_model_name,custom_objects={'my_iou_metric': my_iou_metric})\n",
    "# remove layter activation layer and use losvasz loss\n",
    "input_x = model1.layers[0].input\n",
    "output_layer = model1.layers[-1].input\n",
    "model = Model(input_x, output_layer)\n",
    "c = optimizers.adam(lr = 0.01)\n",
    "\n",
    "# lovasz_loss need input range (-∞，+∞), so cancel the last \"sigmoid\" activation  \n",
    "# Then the default threshod for pixel prediction is 0 instead of 0.5, as in my_iou_metric_2.\n",
    "model.compile(loss=lovasz_loss, optimizer=c, metrics=[my_iou_metric_2])\n",
    "\n",
    "#model.summary()\n",
    "early_stopping = EarlyStopping(monitor='val_my_iou_metric_2', mode = 'max',patience=12, verbose=1)\n",
    "model_checkpoint = ModelCheckpoint(save_model_name,monitor='val_my_iou_metric_2', \n",
    "                                   mode = 'max', save_best_only=True, verbose=1)\n",
    "reduce_lr = ReduceLROnPlateau(monitor='val_my_iou_metric_2', mode = 'max',factor=0.5, patience=3, min_lr=0.00001, verbose=1)\n",
    "epochs = 200\n",
    "\n",
    "history = model.fit(x_train, y_train,\n",
    "                    validation_data=[x_valid, y_valid], \n",
    "                    epochs=epochs,\n",
    "                    batch_size=batch_size,\n",
    "                    callbacks=[board, model_checkpoint,reduce_lr,early_stopping], \n",
    "                    verbose=1)"
   ]
  },
  {
   "cell_type": "code",
   "execution_count": 11,
   "metadata": {},
   "outputs": [],
   "source": [
    "model = load_model(save_model_name,custom_objects={'my_iou_metric_2': my_iou_metric_2,\n",
    "                                                   'lovasz_loss': lovasz_loss})\n",
    "\n"
   ]
  },
  {
   "cell_type": "code",
   "execution_count": 12,
   "metadata": {},
   "outputs": [
    {
     "data": {
      "application/vnd.jupyter.widget-view+json": {
       "model_id": "cba5b217059d406bae9c7aad781daf50",
       "version_major": 2,
       "version_minor": 0
      },
      "text/plain": [
       "HBox(children=(IntProgress(value=0, max=31), HTML(value='')))"
      ]
     },
     "metadata": {},
     "output_type": "display_data"
    },
    {
     "name": "stdout",
     "output_type": "stream",
     "text": [
      "\n",
      "[0.782    0.783    0.784375 0.785625 0.786125 0.78775  0.789875 0.79075\n",
      " 0.791125 0.79125  0.791875 0.793625 0.794875 0.79575  0.794875 0.794625\n",
      " 0.796875 0.797875 0.79725  0.79625  0.7955   0.795375 0.796    0.794875\n",
      " 0.793875 0.79275  0.791375 0.79025  0.7895   0.788    0.787375]\n"
     ]
    },
    {
     "data": {
      "text/plain": [
       "<matplotlib.legend.Legend at 0x7f3ac86ed3c8>"
      ]
     },
     "execution_count": 12,
     "metadata": {},
     "output_type": "execute_result"
    },
    {
     "data": {
      "image/png": "[encoded data removed]",
      "text/plain": [
       "<Figure size 432x288 with 1 Axes>"
      ]
     },
     "metadata": {},
     "output_type": "display_data"
    }
   ],
   "source": [
    "preds_valid = predict_result(model,x_valid,img_size_target)\n",
    "## Scoring for last model, choose threshold by validation data \n",
    "thresholds_ori = np.linspace(0.3, 0.7, 31)\n",
    "# Reverse sigmoid function: Use code below because the  sigmoid activation was removed\n",
    "thresholds = np.log(thresholds_ori/(1-thresholds_ori)) \n",
    "\n",
    "# ious = np.array([get_iou_vector(y_valid, preds_valid > threshold) for threshold in tqdm_notebook(thresholds)])\n",
    "# print(ious)\n",
    "ious = np.array([iou_metric_batch(y_valid, preds_valid > threshold) for threshold in tqdm_notebook(thresholds)])\n",
    "print(ious)\n",
    "\n",
    "# instead of using default 0 as threshold, use validation data to find the best threshold.\n",
    "threshold_best_index = np.argmax(ious) \n",
    "iou_best = ious[threshold_best_index]\n",
    "threshold_best = thresholds[threshold_best_index]\n",
    "\n",
    "plt.plot(thresholds, ious)\n",
    "plt.plot(threshold_best, iou_best, \"xr\", label=\"Best threshold\")\n",
    "plt.xlabel(\"Threshold\")\n",
    "plt.ylabel(\"IoU\")\n",
    "plt.title(\"Threshold vs IoU ({}, {})\".format(threshold_best, iou_best))\n",
    "plt.legend()"
   ]
  },
  {
   "cell_type": "code",
   "execution_count": 13,
   "metadata": {},
   "outputs": [
    {
     "data": {
      "application/vnd.jupyter.widget-view+json": {
       "model_id": "0fff7e0cdb0e4c8e95dd7a25524a37e8",
       "version_major": 2,
       "version_minor": 0
      },
      "text/plain": [
       "HBox(children=(IntProgress(value=0, max=18000), HTML(value='')))"
      ]
     },
     "metadata": {},
     "output_type": "display_data"
    },
    {
     "name": "stderr",
     "output_type": "stream",
     "text": [
      "/home/kownse/.local/lib/python3.6/site-packages/keras_preprocessing/image.py:487: UserWarning: grayscale is deprecated. Please use color_mode = \"grayscale\"\n",
      "  warnings.warn('grayscale is deprecated. Please use '\n"
     ]
    },
    {
     "name": "stdout",
     "output_type": "stream",
     "text": [
      "\n"
     ]
    }
   ],
   "source": [
    "x_test = np.array([(np.array(load_img(\"../input/test/images/{}.png\".format(idx), grayscale = True))) / 255 for idx in tqdm_notebook(test_df.index)]).reshape(-1, img_size_target, img_size_target, 1)\n",
    "\n",
    "preds_test = predict_result(model,x_test,img_size_target)"
   ]
  },
  {
   "cell_type": "code",
   "execution_count": 14,
   "metadata": {},
   "outputs": [
    {
     "data": {
      "application/vnd.jupyter.widget-view+json": {
       "model_id": "c9702b96fef044cd80cb93b37db2cba2",
       "version_major": 2,
       "version_minor": 0
      },
      "text/plain": [
       "HBox(children=(IntProgress(value=0, max=18000), HTML(value='')))"
      ]
     },
     "metadata": {},
     "output_type": "display_data"
    },
    {
     "name": "stdout",
     "output_type": "stream",
     "text": [
      "\n",
      "Usedtime = 5.303412437438965 s\n",
      "save result\n",
      "upload result\n",
      "cmd: kaggle competitions submit -c tgs-salt-identification-challenge -f ../result/Unet_resnet_deeper_cse_aug3_32_0.5.csv.7z -m \"submit\"\n",
      "Kernel run time = 1.6863577647341623 hours\n"
     ]
    }
   ],
   "source": [
    "t1 = time.time()\n",
    "pred_dict = {idx: rle_encode(np.round(downsample(preds_test[i]) > threshold_best)) for i, idx in enumerate(tqdm_notebook(test_df.index.values))}\n",
    "t2 = time.time()\n",
    "\n",
    "print(f\"Usedtime = {t2-t1} s\")\n",
    "\n",
    "sub = pd.DataFrame.from_dict(pred_dict,orient='index')\n",
    "sub.index.names = ['id']\n",
    "sub.columns = ['rle_mask']\n",
    "sub = sub.reset_index()\n",
    "save_result(sub, '../result/{}.csv'.format(base_name), \n",
    "                        competition = 'tgs-salt-identification-challenge', \n",
    "                        send = True, index = False)\n",
    "\n",
    "t_finish = time.time()\n",
    "print(f\"Kernel run time = {(t_finish-t_start)/3600} hours\")"
   ]
  },
  {
   "cell_type": "code",
   "execution_count": null,
   "metadata": {},
   "outputs": [],
   "source": []
  }
 ],
 "metadata": {
  "kernelspec": {
   "display_name": "Python 3",
   "language": "python",
   "name": "python3"
  },
  "language_info": {
   "codemirror_mode": {
    "name": "ipython",
    "version": 3
   },
   "file_extension": ".py",
   "mimetype": "text/x-python",
   "name": "python",
   "nbconvert_exporter": "python",
   "pygments_lexer": "ipython3",
   "version": "3.6.5"
  }
 },
 "nbformat": 4,
 "nbformat_minor": 2
}
