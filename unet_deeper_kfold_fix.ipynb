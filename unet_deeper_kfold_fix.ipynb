{
 "cells": [
  {
   "cell_type": "code",
   "execution_count": 1,
   "metadata": {},
   "outputs": [
    {
     "name": "stderr",
     "output_type": "stream",
     "text": [
      "Using TensorFlow backend.\n"
     ]
    }
   ],
   "source": [
    "import os\n",
    "os.environ[\"CUDA_VISIBLE_DEVICES\"]=\"1\"\n",
    "import sys\n",
    "import random\n",
    "\n",
    "import pandas as pd\n",
    "import numpy as np\n",
    "import matplotlib.pyplot as plt\n",
    "plt.style.use('seaborn-white')\n",
    "import seaborn as sns\n",
    "sns.set_style(\"white\")\n",
    "\n",
    "from sklearn.model_selection import train_test_split, StratifiedKFold\n",
    "\n",
    "from tqdm import tqdm_notebook #, tnrange\n",
    "#from itertools import chain\n",
    "from skimage.io import imread, imshow #, concatenate_images\n",
    "from skimage.transform import resize\n",
    "from skimage.morphology import label\n",
    "\n",
    "import keras\n",
    "from keras.models import Model, load_model, save_model\n",
    "from keras.layers import Input,Dropout,BatchNormalization,Activation,Add\n",
    "from keras.layers.core import Lambda\n",
    "from keras.layers.convolutional import Conv2D, Conv2DTranspose\n",
    "from keras.layers.pooling import MaxPooling2D\n",
    "from keras.layers.merge import concatenate\n",
    "from keras.callbacks import EarlyStopping, ModelCheckpoint, ReduceLROnPlateau\n",
    "from keras import backend as K\n",
    "from keras import optimizers\n",
    "\n",
    "import tensorflow as tf\n",
    "\n",
    "from keras.preprocessing.image import array_to_img, img_to_array, load_img#,save_img\n",
    "\n",
    "from albumentations import (\n",
    "    PadIfNeeded,\n",
    "    HorizontalFlip,\n",
    "    VerticalFlip,    \n",
    "    CenterCrop,    \n",
    "    Crop,\n",
    "    Compose,\n",
    "    Transpose,\n",
    "    RandomRotate90,\n",
    "    ElasticTransform,\n",
    "    GridDistortion, \n",
    "    OpticalDistortion,\n",
    "    RandomSizedCrop,\n",
    "    OneOf,\n",
    "    CLAHE,\n",
    "    RandomContrast,\n",
    "    RandomGamma,\n",
    "    RandomBrightness\n",
    ")\n",
    "\n",
    "import time\n",
    "from kaggle_util import *\n",
    "from models import *\n",
    "\n",
    "t_start = time.time()"
   ]
  },
  {
   "cell_type": "code",
   "execution_count": 2,
   "metadata": {},
   "outputs": [],
   "source": [
    "img_size_ori = 101\n",
    "img_size_target = 101\n",
    "\n",
    "def upsample(img):\n",
    "    if img_size_ori == img_size_target:\n",
    "        return img\n",
    "    return resize(img, (img_size_target, img_size_target), mode='constant', preserve_range=True)\n",
    "    \n",
    "def downsample(img):\n",
    "    if img_size_ori == img_size_target:\n",
    "        return img\n",
    "    return resize(img, (img_size_ori, img_size_ori), mode='constant', preserve_range=True)\n",
    "\n",
    "def build_model_deeper(input_layer, start_neurons, DropoutRatio = 0.5):\n",
    "    # 101 -> 50\n",
    "    conv1 = Conv2D(start_neurons * 1, (3, 3), activation=None, padding=\"same\")(input_layer)\n",
    "    conv1 = residual_block(conv1,start_neurons * 1)\n",
    "    conv1 = residual_block(conv1,start_neurons * 1)\n",
    "    conv1 = residual_block(conv1,start_neurons * 1, True)\n",
    "    pool1 = MaxPooling2D((2, 2))(conv1)\n",
    "    pool1 = Dropout(DropoutRatio/2)(pool1)\n",
    "\n",
    "    # 50 -> 25\n",
    "    conv2 = Conv2D(start_neurons * 2, (3, 3), activation=None, padding=\"same\")(pool1)\n",
    "    conv2 = residual_block(conv2,start_neurons * 2)\n",
    "    conv2 = residual_block(conv2,start_neurons * 2)\n",
    "    conv2 = residual_block(conv2,start_neurons * 2, True)\n",
    "    pool2 = MaxPooling2D((2, 2))(conv2)\n",
    "    pool2 = Dropout(DropoutRatio)(pool2)\n",
    "\n",
    "    # 25 -> 12\n",
    "    conv3 = Conv2D(start_neurons * 4, (3, 3), activation=None, padding=\"same\")(pool2)\n",
    "    conv3 = residual_block(conv3,start_neurons * 4)\n",
    "    conv3 = residual_block(conv3,start_neurons * 4)\n",
    "    conv3 = residual_block(conv3,start_neurons * 4, True)\n",
    "    pool3 = MaxPooling2D((2, 2))(conv3)\n",
    "    pool3 = Dropout(DropoutRatio)(pool3)\n",
    "\n",
    "    # 12 -> 6\n",
    "    conv4 = Conv2D(start_neurons * 8, (3, 3), activation=None, padding=\"same\")(pool3)\n",
    "    conv4 = residual_block(conv4,start_neurons * 8)\n",
    "    conv4 = residual_block(conv4,start_neurons * 8)\n",
    "    conv4 = residual_block(conv4,start_neurons * 8, True)\n",
    "    pool4 = MaxPooling2D((2, 2))(conv4)\n",
    "    pool4 = Dropout(DropoutRatio)(pool4)\n",
    "\n",
    "    # Middle\n",
    "    convm = Conv2D(start_neurons * 16, (3, 3), activation=None, padding=\"same\")(pool4)\n",
    "    convm = residual_block(convm,start_neurons * 16)\n",
    "    convm = residual_block(convm,start_neurons * 16)\n",
    "    convm = residual_block(convm,start_neurons * 16, True)\n",
    "    \n",
    "    # 6 -> 12\n",
    "    deconv4 = Conv2DTranspose(start_neurons * 8, (3, 3), strides=(2, 2), padding=\"same\")(convm)\n",
    "    uconv4 = concatenate([deconv4, conv4])\n",
    "    uconv4 = Dropout(DropoutRatio)(uconv4)\n",
    "    \n",
    "    uconv4 = Conv2D(start_neurons * 8, (3, 3), activation=None, padding=\"same\")(uconv4)\n",
    "    uconv4 = residual_block(uconv4,start_neurons * 8)\n",
    "    uconv4 = residual_block(uconv4,start_neurons * 8)\n",
    "    uconv4 = residual_block(uconv4,start_neurons * 8, True)\n",
    "    \n",
    "    # 12 -> 25\n",
    "    #deconv3 = Conv2DTranspose(start_neurons * 4, (3, 3), strides=(2, 2), padding=\"same\")(uconv4)\n",
    "    deconv3 = Conv2DTranspose(start_neurons * 4, (3, 3), strides=(2, 2), padding=\"valid\")(uconv4)\n",
    "    uconv3 = concatenate([deconv3, conv3])    \n",
    "    uconv3 = Dropout(DropoutRatio)(uconv3)\n",
    "    \n",
    "    uconv3 = Conv2D(start_neurons * 4, (3, 3), activation=None, padding=\"same\")(uconv3)\n",
    "    uconv3 = residual_block(uconv3,start_neurons * 4)\n",
    "    uconv3 = residual_block(uconv3,start_neurons * 4)\n",
    "    uconv3 = residual_block(uconv3,start_neurons * 4, True)\n",
    "\n",
    "    # 25 -> 50\n",
    "    deconv2 = Conv2DTranspose(start_neurons * 2, (3, 3), strides=(2, 2), padding=\"same\")(uconv3)\n",
    "    uconv2 = concatenate([deconv2, conv2])\n",
    "        \n",
    "    uconv2 = Dropout(DropoutRatio)(uconv2)\n",
    "    uconv2 = Conv2D(start_neurons * 2, (3, 3), activation=None, padding=\"same\")(uconv2)\n",
    "    uconv2 = residual_block(uconv2,start_neurons * 2)\n",
    "    uconv2 = residual_block(uconv2,start_neurons * 2)\n",
    "    uconv2 = residual_block(uconv2,start_neurons * 2, True)\n",
    "    \n",
    "    # 50 -> 101\n",
    "    #deconv1 = Conv2DTranspose(start_neurons * 1, (3, 3), strides=(2, 2), padding=\"same\")(uconv2)\n",
    "    deconv1 = Conv2DTranspose(start_neurons * 1, (3, 3), strides=(2, 2), padding=\"valid\")(uconv2)\n",
    "    uconv1 = concatenate([deconv1, conv1])\n",
    "    \n",
    "    uconv1 = Dropout(DropoutRatio)(uconv1)\n",
    "    uconv1 = Conv2D(start_neurons * 1, (3, 3), activation=None, padding=\"same\")(uconv1)\n",
    "    uconv1 = residual_block(uconv1,start_neurons * 1)\n",
    "    uconv1 = residual_block(uconv1,start_neurons * 1)\n",
    "    uconv1 = residual_block(uconv1,start_neurons * 1, True)\n",
    "    \n",
    "    #uconv1 = Dropout(DropoutRatio/2)(uconv1)\n",
    "    #output_layer = Conv2D(1, (1,1), padding=\"same\", activation=\"sigmoid\")(uconv1)\n",
    "    output_layer_noActi = Conv2D(1, (1,1), padding=\"same\", activation=None)(uconv1)\n",
    "    output_layer =  Activation('sigmoid')(output_layer_noActi)\n",
    "    \n",
    "    return output_layer"
   ]
  },
  {
   "cell_type": "code",
   "execution_count": 3,
   "metadata": {},
   "outputs": [],
   "source": [
    "# Loading of training/testing ids and depths\n",
    "train_df = pd.read_csv(\"../input/train.csv\", index_col=\"id\", usecols=[0])\n",
    "depths_df = pd.read_csv(\"../input/depths.csv\", index_col=\"id\")\n",
    "unfit_df = pd.read_csv(\"../result/iou_2.csv\")\n",
    "train_df = train_df.join(depths_df)\n",
    "test_df = depths_df[~depths_df.index.isin(train_df.index)]"
   ]
  },
  {
   "cell_type": "code",
   "execution_count": 4,
   "metadata": {},
   "outputs": [],
   "source": [
    "train_df = train_df.reset_index()\n",
    "train_unfit = pd.merge(unfit_df, train_df, on='id', how = 'left')\n",
    "train_df = train_unfit\n",
    "train_df = train_df.set_index('id')\n",
    "train_df['unfit'] = (train_df['iou'] < 0.95) * 1 "
   ]
  },
  {
   "cell_type": "code",
   "execution_count": 5,
   "metadata": {},
   "outputs": [
    {
     "data": {
      "application/vnd.jupyter.widget-view+json": {
       "model_id": "9736b68a78b04bc2b95f811556a74886",
       "version_major": 2,
       "version_minor": 0
      },
      "text/plain": [
       "HBox(children=(IntProgress(value=0, max=4000), HTML(value='')))"
      ]
     },
     "metadata": {},
     "output_type": "display_data"
    },
    {
     "name": "stderr",
     "output_type": "stream",
     "text": [
      "/home/kownse/.local/lib/python3.6/site-packages/keras_preprocessing/image.py:487: UserWarning: grayscale is deprecated. Please use color_mode = \"grayscale\"\n",
      "  warnings.warn('grayscale is deprecated. Please use '\n"
     ]
    },
    {
     "name": "stdout",
     "output_type": "stream",
     "text": [
      "\n"
     ]
    },
    {
     "data": {
      "application/vnd.jupyter.widget-view+json": {
       "model_id": "3f6401bf49a7437dacf4419fdba21e01",
       "version_major": 2,
       "version_minor": 0
      },
      "text/plain": [
       "HBox(children=(IntProgress(value=0, max=4000), HTML(value='')))"
      ]
     },
     "metadata": {},
     "output_type": "display_data"
    },
    {
     "name": "stdout",
     "output_type": "stream",
     "text": [
      "\n"
     ]
    }
   ],
   "source": [
    "len(train_df)\n",
    "\n",
    "train_df[\"images\"] = [np.array(load_img(\"../input/train/images/{}.png\".format(idx), grayscale=True)) / 255 for idx in tqdm_notebook(train_df.index)]\n",
    "train_df[\"masks\"] = [np.array(load_img(\"../input/train/masks/{}.png\".format(idx), grayscale=True)) / 255 for idx in tqdm_notebook(train_df.index)]\n",
    "train_df[\"coverage\"] = train_df.masks.map(np.sum) / pow(img_size_ori, 2)\n",
    "train_df[\"coverage_class\"] = train_df.coverage.map(cov_to_class)\n",
    "train_df['hassalt'] = train_df['masks'].apply(lambda x: (x.max()!=0) * 1)"
   ]
  },
  {
   "cell_type": "code",
   "execution_count": 6,
   "metadata": {},
   "outputs": [],
   "source": [
    "def get_splits(train_df, train_idx, val_idx):\n",
    "    X_train = train_df.iloc[train_idx]\n",
    "    X_valid = train_df.iloc[val_idx]\n",
    "    x_train = np.array(X_train.images.map(upsample).tolist()).reshape(-1, img_size_target, img_size_target, 1)\n",
    "    x_valid = np.array(X_valid.images.map(upsample).tolist()).reshape(-1, img_size_target, img_size_target, 1)\n",
    "    msk_train = np.array(X_train.masks.map(upsample).tolist()).reshape(-1, img_size_target, img_size_target, 1)\n",
    "    msk_val = np.array(X_valid.masks.map(upsample).tolist()).reshape(-1, img_size_target, img_size_target, 1)\n",
    "    y_train = X_train.hassalt.values\n",
    "    y_valid = X_valid.hassalt.values\n",
    "    id_train = X_train.index.values\n",
    "    id_valid = X_valid.index.values\n",
    "    return x_train, x_valid, msk_train, msk_val, y_train, y_valid, id_train, id_valid\n",
    "\n",
    "def argument(x_train, msk_train, y_train):\n",
    "    aug_img = []\n",
    "    aug_msk = []\n",
    "    aug_y = []\n",
    "    augments = [\n",
    "        (1, HorizontalFlip(p=1)),\n",
    "#         (1, VerticalFlip(p=1)),\n",
    "#         (0.25, RandomRotate90(p=1)),\n",
    "#         (0.25, Transpose(p=1)),\n",
    "        (0.15, ElasticTransform(p=1, alpha=120, sigma=120 * 0.05, alpha_affine=120 * 0.03)),\n",
    "        (0.15, GridDistortion(p=1)),\n",
    "        (0.15, OpticalDistortion(p=1, distort_limit=2, shift_limit=0.5)),\n",
    "#         (0.5, RandomSizedCrop(p=1, min_max_height=(int(img_size_ori / 2), img_size_ori), height=img_size_ori, width=img_size_ori)),\n",
    "    ]\n",
    "\n",
    "    for ratio, aug in tqdm_notebook(augments):\n",
    "        selidx = np.random.choice(x_train.shape[0], int(x_train.shape[0] * ratio), replace=False)\n",
    "        for idx in tqdm_notebook(selidx):\n",
    "            augmented = aug(image=x_train[idx], mask=msk_train[idx])\n",
    "            aimg = augmented['image']\n",
    "            amsk = augmented['mask']\n",
    "            if len(aimg.shape) < 3:\n",
    "                aimg = aimg[...,np.newaxis]\n",
    "            if len(amsk.shape) < 3:\n",
    "                amsk = amsk[...,np.newaxis]\n",
    "            aug_img.append(aimg)\n",
    "            aug_msk.append(amsk)\n",
    "            aug_y.append(y_train[idx])\n",
    "\n",
    "    aug_img = np.asarray(aug_img)\n",
    "    aug_msk = np.asarray(aug_msk)\n",
    "    aug_y = np.asarray(aug_y)\n",
    "    x_train = np.append(x_train, aug_img, axis=0)\n",
    "    msk_train = np.append(msk_train, aug_msk, axis=0)\n",
    "    y_train = np.append(y_train, aug_y, axis=0)\n",
    "    print(x_train.shape)\n",
    "    print(msk_train.shape)\n",
    "    print(y_train.shape)\n",
    "    \n",
    "    return x_train, msk_train, y_train"
   ]
  },
  {
   "cell_type": "code",
   "execution_count": 7,
   "metadata": {
    "scrolled": true
   },
   "outputs": [],
   "source": [
    "def train_model(fold, x_train, y_train, x_valid, y_valid, id_valid):\n",
    "    start_feature = 32\n",
    "    batch_size = 32\n",
    "    dropout = 0.5\n",
    "    \n",
    "    cur_base_name = 'Unet_resnet_deeper_fix10_{}_{}_{}_{}'.format(start_feature, batch_size, dropout, fold)\n",
    "    cur_save_model_name = '../model/segmenter/{}.model'.format(cur_base_name)\n",
    "    if False:# os.path.exists(cur_save_model_name):\n",
    "        print('load from continue', cur_save_model_name)\n",
    "        model = load_model(cur_save_model_name,custom_objects={'my_iou_metric_2': my_iou_metric_2,\n",
    "                                                   'lovasz_loss': lovasz_loss})\n",
    "    else:\n",
    "    \n",
    "        base_name = 'Unet_resnet_deeper_fix7_{}_{}_{}_{}'.format(start_feature, batch_size, dropout, fold)\n",
    "        save_model_name = '../model/segmenter/{}.model'.format(base_name)\n",
    "        submission_dir = '../result/segmenter/{}.csv'.format(base_name)\n",
    "        oof_dir = '../result/segmenter_oof/{}'.format(base_name)\n",
    "\n",
    "        print('load from last run', save_model_name)\n",
    "        model = load_model(save_model_name,custom_objects={'my_iou_metric_2': my_iou_metric_2,\n",
    "                                                       'lovasz_loss': lovasz_loss})\n",
    "    \n",
    "    base_name = 'Unet_resnet_deeper_fix10_{}_{}_{}_{}'.format(start_feature, batch_size, dropout, fold)\n",
    "    save_model_name = '../model/segmenter/{}.model'.format(base_name)\n",
    "    submission_dir = '../result/segmenter/{}.csv'.format(base_name)\n",
    "    oof_dir = '../result/segmenter_oof/{}'.format(base_name)\n",
    "    \n",
    "    c = optimizers.adam(lr = 0.0025)\n",
    "#     c = optimizers.SGD(lr = 0.01, momentum=0.9, decay=0.0001)\n",
    "    model.compile(loss=lovasz_loss, optimizer=c, metrics=[my_iou_metric_2])\n",
    "\n",
    "    #model.summary()\n",
    "    board = keras.callbacks.TensorBoard(log_dir='log/segmenter/{}'.format(base_name),\n",
    "                           histogram_freq=0, write_graph=True, write_images=False)\n",
    "    early_stopping = EarlyStopping(monitor='val_my_iou_metric_2', mode = 'max',patience=12, verbose=1)\n",
    "    model_checkpoint = ModelCheckpoint(save_model_name,monitor='val_my_iou_metric_2', \n",
    "                                       mode = 'max', save_best_only=True, verbose=1)\n",
    "    reduce_lr = ReduceLROnPlateau(monitor='val_my_iou_metric_2', mode = 'max',factor=0.5, patience=3, min_lr=0.00001, verbose=1)\n",
    "    epochs = 200\n",
    "\n",
    "    history = model.fit(x_train, y_train,\n",
    "                        validation_data=[x_valid, y_valid], \n",
    "                        epochs=epochs,\n",
    "                        batch_size=batch_size,\n",
    "                        callbacks=[board, model_checkpoint,reduce_lr,early_stopping], \n",
    "                        verbose=1)\n",
    "    "
   ]
  },
  {
   "cell_type": "code",
   "execution_count": 8,
   "metadata": {},
   "outputs": [
    {
     "name": "stdout",
     "output_type": "stream",
     "text": [
      "fold 0\n"
     ]
    },
    {
     "data": {
      "application/vnd.jupyter.widget-view+json": {
       "model_id": "12ab97eb1b614015b2b0023324f156fe",
       "version_major": 2,
       "version_minor": 0
      },
      "text/plain": [
       "HBox(children=(IntProgress(value=0, max=4), HTML(value='')))"
      ]
     },
     "metadata": {},
     "output_type": "display_data"
    },
    {
     "data": {
      "application/vnd.jupyter.widget-view+json": {
       "model_id": "b39a5ba0219f486983385f678de5e895",
       "version_major": 2,
       "version_minor": 0
      },
      "text/plain": [
       "HBox(children=(IntProgress(value=0, max=3199), HTML(value='')))"
      ]
     },
     "metadata": {},
     "output_type": "display_data"
    },
    {
     "data": {
      "application/vnd.jupyter.widget-view+json": {
       "model_id": "804c0af11dea42229e9e4f2b7e2c566b",
       "version_major": 2,
       "version_minor": 0
      },
      "text/plain": [
       "HBox(children=(IntProgress(value=0, max=479), HTML(value='')))"
      ]
     },
     "metadata": {},
     "output_type": "display_data"
    },
    {
     "data": {
      "application/vnd.jupyter.widget-view+json": {
       "model_id": "78934ea751f44579895d8c592963b8b5",
       "version_major": 2,
       "version_minor": 0
      },
      "text/plain": [
       "HBox(children=(IntProgress(value=0, max=479), HTML(value='')))"
      ]
     },
     "metadata": {},
     "output_type": "display_data"
    },
    {
     "data": {
      "application/vnd.jupyter.widget-view+json": {
       "model_id": "c9831674209947c6a9b84e1722c61b23",
       "version_major": 2,
       "version_minor": 0
      },
      "text/plain": [
       "HBox(children=(IntProgress(value=0, max=479), HTML(value='')))"
      ]
     },
     "metadata": {},
     "output_type": "display_data"
    },
    {
     "name": "stdout",
     "output_type": "stream",
     "text": [
      "\n",
      "(7835, 101, 101, 1)\n",
      "(7835, 101, 101, 1)\n",
      "(7835,)\n",
      "load from last run ../model/segmenter/Unet_resnet_deeper_fix7_32_32_0.5_0.model\n",
      "Train on 7835 samples, validate on 801 samples\n",
      "Epoch 1/200\n",
      "7835/7835 [==============================] - 164s 21ms/step - loss: -0.5536 - my_iou_metric_2: 0.8637 - val_loss: -0.6875 - val_my_iou_metric_2: 0.8966\n",
      "\n",
      "Epoch 00001: val_my_iou_metric_2 improved from -inf to 0.89663, saving model to ../model/segmenter/Unet_resnet_deeper_fix10_32_32_0.5_0.model\n",
      "Epoch 2/200\n",
      "7835/7835 [==============================] - 151s 19ms/step - loss: -0.5600 - my_iou_metric_2: 0.8662 - val_loss: -0.6964 - val_my_iou_metric_2: 0.8978\n",
      "\n",
      "Epoch 00002: val_my_iou_metric_2 improved from 0.89663 to 0.89775, saving model to ../model/segmenter/Unet_resnet_deeper_fix10_32_32_0.5_0.model\n",
      "Epoch 3/200\n",
      "7835/7835 [==============================] - 151s 19ms/step - loss: -0.5778 - my_iou_metric_2: 0.8678 - val_loss: -0.6863 - val_my_iou_metric_2: 0.8930\n",
      "\n",
      "Epoch 00003: val_my_iou_metric_2 did not improve from 0.89775\n",
      "Epoch 4/200\n",
      "7835/7835 [==============================] - 151s 19ms/step - loss: -0.5742 - my_iou_metric_2: 0.8682 - val_loss: -0.6816 - val_my_iou_metric_2: 0.8973\n",
      "\n",
      "Epoch 00004: val_my_iou_metric_2 did not improve from 0.89775\n",
      "Epoch 5/200\n",
      "7835/7835 [==============================] - 151s 19ms/step - loss: -0.5739 - my_iou_metric_2: 0.8685 - val_loss: -0.6644 - val_my_iou_metric_2: 0.8928\n",
      "\n",
      "Epoch 00005: val_my_iou_metric_2 did not improve from 0.89775\n",
      "\n",
      "Epoch 00005: ReduceLROnPlateau reducing learning rate to 0.0012499999720603228.\n",
      "Epoch 6/200\n",
      "7835/7835 [==============================] - 151s 19ms/step - loss: -0.5974 - my_iou_metric_2: 0.8709 - val_loss: -0.6866 - val_my_iou_metric_2: 0.8938\n",
      "\n",
      "Epoch 00006: val_my_iou_metric_2 did not improve from 0.89775\n",
      "Epoch 7/200\n",
      "7835/7835 [==============================] - 151s 19ms/step - loss: -0.6058 - my_iou_metric_2: 0.8748 - val_loss: -0.6849 - val_my_iou_metric_2: 0.8960\n",
      "\n",
      "Epoch 00007: val_my_iou_metric_2 did not improve from 0.89775\n",
      "Epoch 8/200\n",
      "7835/7835 [==============================] - 151s 19ms/step - loss: -0.6141 - my_iou_metric_2: 0.8777 - val_loss: -0.6887 - val_my_iou_metric_2: 0.8951\n",
      "\n",
      "Epoch 00008: val_my_iou_metric_2 did not improve from 0.89775\n",
      "\n",
      "Epoch 00008: ReduceLROnPlateau reducing learning rate to 0.0006249999860301614.\n",
      "Epoch 9/200\n",
      "7835/7835 [==============================] - 151s 19ms/step - loss: -0.6222 - my_iou_metric_2: 0.8783 - val_loss: -0.6901 - val_my_iou_metric_2: 0.8955\n",
      "\n",
      "Epoch 00009: val_my_iou_metric_2 did not improve from 0.89775\n",
      "Epoch 10/200\n",
      "7835/7835 [==============================] - 151s 19ms/step - loss: -0.6214 - my_iou_metric_2: 0.8794 - val_loss: -0.6876 - val_my_iou_metric_2: 0.8948\n",
      "\n",
      "Epoch 00010: val_my_iou_metric_2 did not improve from 0.89775\n",
      "Epoch 11/200\n",
      "7835/7835 [==============================] - 151s 19ms/step - loss: -0.6236 - my_iou_metric_2: 0.8792 - val_loss: -0.6890 - val_my_iou_metric_2: 0.8983\n",
      "\n",
      "Epoch 00011: val_my_iou_metric_2 improved from 0.89775 to 0.89825, saving model to ../model/segmenter/Unet_resnet_deeper_fix10_32_32_0.5_0.model\n",
      "Epoch 12/200\n",
      "7835/7835 [==============================] - 151s 19ms/step - loss: -0.6280 - my_iou_metric_2: 0.8807 - val_loss: -0.6903 - val_my_iou_metric_2: 0.8961\n",
      "\n",
      "Epoch 00012: val_my_iou_metric_2 did not improve from 0.89825\n",
      "Epoch 13/200\n",
      "7835/7835 [==============================] - 151s 19ms/step - loss: -0.6341 - my_iou_metric_2: 0.8812 - val_loss: -0.6907 - val_my_iou_metric_2: 0.8974\n",
      "\n",
      "Epoch 00013: val_my_iou_metric_2 did not improve from 0.89825\n",
      "Epoch 14/200\n",
      "7835/7835 [==============================] - 151s 19ms/step - loss: -0.6342 - my_iou_metric_2: 0.8787 - val_loss: -0.6959 - val_my_iou_metric_2: 0.8984\n",
      "\n",
      "Epoch 00014: val_my_iou_metric_2 improved from 0.89825 to 0.89838, saving model to ../model/segmenter/Unet_resnet_deeper_fix10_32_32_0.5_0.model\n",
      "Epoch 15/200\n",
      "7835/7835 [==============================] - 151s 19ms/step - loss: -0.6365 - my_iou_metric_2: 0.8798 - val_loss: -0.6926 - val_my_iou_metric_2: 0.8960\n",
      "\n",
      "Epoch 00015: val_my_iou_metric_2 did not improve from 0.89838\n",
      "Epoch 16/200\n",
      "7835/7835 [==============================] - 151s 19ms/step - loss: -0.6368 - my_iou_metric_2: 0.8827 - val_loss: -0.6925 - val_my_iou_metric_2: 0.8979\n",
      "\n",
      "Epoch 00016: val_my_iou_metric_2 did not improve from 0.89838\n",
      "Epoch 17/200\n",
      "7835/7835 [==============================] - 151s 19ms/step - loss: -0.6420 - my_iou_metric_2: 0.8821 - val_loss: -0.6902 - val_my_iou_metric_2: 0.8973\n",
      "\n",
      "Epoch 00017: val_my_iou_metric_2 did not improve from 0.89838\n",
      "\n",
      "Epoch 00017: ReduceLROnPlateau reducing learning rate to 0.0003124999930150807.\n",
      "Epoch 18/200\n",
      "7835/7835 [==============================] - 151s 19ms/step - loss: -0.6357 - my_iou_metric_2: 0.8808 - val_loss: -0.6902 - val_my_iou_metric_2: 0.8964\n",
      "\n",
      "Epoch 00018: val_my_iou_metric_2 did not improve from 0.89838\n",
      "Epoch 19/200\n",
      "7835/7835 [==============================] - 151s 19ms/step - loss: -0.6452 - my_iou_metric_2: 0.8826 - val_loss: -0.6916 - val_my_iou_metric_2: 0.8966\n",
      "\n",
      "Epoch 00019: val_my_iou_metric_2 did not improve from 0.89838\n",
      "Epoch 20/200\n",
      "7835/7835 [==============================] - 151s 19ms/step - loss: -0.6434 - my_iou_metric_2: 0.8817 - val_loss: -0.6923 - val_my_iou_metric_2: 0.8970\n",
      "\n",
      "Epoch 00020: val_my_iou_metric_2 did not improve from 0.89838\n",
      "\n",
      "Epoch 00020: ReduceLROnPlateau reducing learning rate to 0.00015624999650754035.\n",
      "Epoch 21/200\n",
      "7835/7835 [==============================] - 151s 19ms/step - loss: -0.6453 - my_iou_metric_2: 0.8838 - val_loss: -0.6931 - val_my_iou_metric_2: 0.8978\n",
      "\n",
      "Epoch 00021: val_my_iou_metric_2 did not improve from 0.89838\n",
      "Epoch 22/200\n",
      "7835/7835 [==============================] - 151s 19ms/step - loss: -0.6435 - my_iou_metric_2: 0.8828 - val_loss: -0.6927 - val_my_iou_metric_2: 0.8970\n",
      "\n",
      "Epoch 00022: val_my_iou_metric_2 did not improve from 0.89838\n",
      "Epoch 23/200\n",
      "7835/7835 [==============================] - 151s 19ms/step - loss: -0.6384 - my_iou_metric_2: 0.8812 - val_loss: -0.6935 - val_my_iou_metric_2: 0.8984\n",
      "\n",
      "Epoch 00023: val_my_iou_metric_2 did not improve from 0.89838\n",
      "\n",
      "Epoch 00023: ReduceLROnPlateau reducing learning rate to 7.812499825377017e-05.\n",
      "Epoch 24/200\n",
      "7835/7835 [==============================] - 150s 19ms/step - loss: -0.6468 - my_iou_metric_2: 0.8847 - val_loss: -0.6931 - val_my_iou_metric_2: 0.8979\n",
      "\n",
      "Epoch 00024: val_my_iou_metric_2 did not improve from 0.89838\n",
      "Epoch 25/200\n",
      "7835/7835 [==============================] - 151s 19ms/step - loss: -0.6459 - my_iou_metric_2: 0.8845 - val_loss: -0.6931 - val_my_iou_metric_2: 0.8973\n",
      "\n",
      "Epoch 00025: val_my_iou_metric_2 did not improve from 0.89838\n",
      "Epoch 26/200\n",
      "7835/7835 [==============================] - 151s 19ms/step - loss: -0.6481 - my_iou_metric_2: 0.8842 - val_loss: -0.6932 - val_my_iou_metric_2: 0.8976\n",
      "\n",
      "Epoch 00026: val_my_iou_metric_2 did not improve from 0.89838\n",
      "\n",
      "Epoch 00026: ReduceLROnPlateau reducing learning rate to 3.9062499126885086e-05.\n",
      "Epoch 00026: early stopping\n",
      "fold 1\n"
     ]
    },
    {
     "data": {
      "application/vnd.jupyter.widget-view+json": {
       "model_id": "7db345bb6bfb4c24ba3ec792ede983e7",
       "version_major": 2,
       "version_minor": 0
      },
      "text/plain": [
       "HBox(children=(IntProgress(value=0, max=4), HTML(value='')))"
      ]
     },
     "metadata": {},
     "output_type": "display_data"
    },
    {
     "data": {
      "application/vnd.jupyter.widget-view+json": {
       "model_id": "131145f46d3b4cd59b907a81d4113d8d",
       "version_major": 2,
       "version_minor": 0
      },
      "text/plain": [
       "HBox(children=(IntProgress(value=0, max=3199), HTML(value='')))"
      ]
     },
     "metadata": {},
     "output_type": "display_data"
    },
    {
     "data": {
      "application/vnd.jupyter.widget-view+json": {
       "model_id": "a17c71e1ce5f485f8dee698d8215b08c",
       "version_major": 2,
       "version_minor": 0
      },
      "text/plain": [
       "HBox(children=(IntProgress(value=0, max=479), HTML(value='')))"
      ]
     },
     "metadata": {},
     "output_type": "display_data"
    },
    {
     "data": {
      "application/vnd.jupyter.widget-view+json": {
       "model_id": "71a642f379224d4282b980373f3b7ba5",
       "version_major": 2,
       "version_minor": 0
      },
      "text/plain": [
       "HBox(children=(IntProgress(value=0, max=479), HTML(value='')))"
      ]
     },
     "metadata": {},
     "output_type": "display_data"
    },
    {
     "data": {
      "application/vnd.jupyter.widget-view+json": {
       "model_id": "edd36d20ce104064b61c18f1c2d64952",
       "version_major": 2,
       "version_minor": 0
      },
      "text/plain": [
       "HBox(children=(IntProgress(value=0, max=479), HTML(value='')))"
      ]
     },
     "metadata": {},
     "output_type": "display_data"
    },
    {
     "name": "stdout",
     "output_type": "stream",
     "text": [
      "\n",
      "(7835, 101, 101, 1)\n",
      "(7835, 101, 101, 1)\n",
      "(7835,)\n",
      "load from last run ../model/segmenter/Unet_resnet_deeper_fix7_32_32_0.5_1.model\n",
      "Train on 7835 samples, validate on 801 samples\n",
      "Epoch 1/200\n",
      "7835/7835 [==============================] - 162s 21ms/step - loss: -0.5543 - my_iou_metric_2: 0.8656 - val_loss: -0.7186 - val_my_iou_metric_2: 0.9066\n",
      "\n",
      "Epoch 00001: val_my_iou_metric_2 improved from -inf to 0.90662, saving model to ../model/segmenter/Unet_resnet_deeper_fix10_32_32_0.5_1.model\n",
      "Epoch 2/200\n",
      "7835/7835 [==============================] - 151s 19ms/step - loss: -0.5765 - my_iou_metric_2: 0.8688 - val_loss: -0.7093 - val_my_iou_metric_2: 0.9062\n",
      "\n",
      "Epoch 00002: val_my_iou_metric_2 did not improve from 0.90662\n",
      "Epoch 3/200\n",
      "7835/7835 [==============================] - 151s 19ms/step - loss: -0.5778 - my_iou_metric_2: 0.8688 - val_loss: -0.7072 - val_my_iou_metric_2: 0.9039\n",
      "\n",
      "Epoch 00003: val_my_iou_metric_2 did not improve from 0.90662\n",
      "Epoch 4/200\n",
      "7835/7835 [==============================] - 151s 19ms/step - loss: -0.5895 - my_iou_metric_2: 0.8713 - val_loss: -0.7146 - val_my_iou_metric_2: 0.9065\n",
      "\n",
      "Epoch 00004: val_my_iou_metric_2 did not improve from 0.90662\n",
      "\n",
      "Epoch 00004: ReduceLROnPlateau reducing learning rate to 0.0012499999720603228.\n",
      "Epoch 5/200\n",
      "7835/7835 [==============================] - 151s 19ms/step - loss: -0.6061 - my_iou_metric_2: 0.8740 - val_loss: -0.7143 - val_my_iou_metric_2: 0.9056\n",
      "\n",
      "Epoch 00005: val_my_iou_metric_2 did not improve from 0.90662\n",
      "Epoch 6/200\n",
      "7835/7835 [==============================] - 151s 19ms/step - loss: -0.6103 - my_iou_metric_2: 0.8741 - val_loss: -0.7170 - val_my_iou_metric_2: 0.9067\n",
      "\n",
      "Epoch 00006: val_my_iou_metric_2 improved from 0.90662 to 0.90674, saving model to ../model/segmenter/Unet_resnet_deeper_fix10_32_32_0.5_1.model\n",
      "Epoch 7/200\n",
      "7835/7835 [==============================] - 151s 19ms/step - loss: -0.6231 - my_iou_metric_2: 0.8765 - val_loss: -0.7198 - val_my_iou_metric_2: 0.9066\n",
      "\n",
      "Epoch 00007: val_my_iou_metric_2 did not improve from 0.90674\n",
      "Epoch 8/200\n",
      "7835/7835 [==============================] - 151s 19ms/step - loss: -0.6159 - my_iou_metric_2: 0.8750 - val_loss: -0.7175 - val_my_iou_metric_2: 0.9065\n",
      "\n",
      "Epoch 00008: val_my_iou_metric_2 did not improve from 0.90674\n",
      "Epoch 9/200\n",
      "7835/7835 [==============================] - 152s 19ms/step - loss: -0.6207 - my_iou_metric_2: 0.8769 - val_loss: -0.7145 - val_my_iou_metric_2: 0.9064\n",
      "\n",
      "Epoch 00009: val_my_iou_metric_2 did not improve from 0.90674\n",
      "\n",
      "Epoch 00009: ReduceLROnPlateau reducing learning rate to 0.0006249999860301614.\n",
      "Epoch 10/200\n",
      "7835/7835 [==============================] - 152s 19ms/step - loss: -0.6245 - my_iou_metric_2: 0.8780 - val_loss: -0.7209 - val_my_iou_metric_2: 0.9055\n",
      "\n",
      "Epoch 00010: val_my_iou_metric_2 did not improve from 0.90674\n",
      "Epoch 11/200\n",
      "7835/7835 [==============================] - 152s 19ms/step - loss: -0.6285 - my_iou_metric_2: 0.8785 - val_loss: -0.7222 - val_my_iou_metric_2: 0.9065\n",
      "\n",
      "Epoch 00011: val_my_iou_metric_2 did not improve from 0.90674\n",
      "Epoch 12/200\n",
      "7835/7835 [==============================] - 152s 19ms/step - loss: -0.6303 - my_iou_metric_2: 0.8798 - val_loss: -0.7209 - val_my_iou_metric_2: 0.9050\n",
      "\n",
      "Epoch 00012: val_my_iou_metric_2 did not improve from 0.90674\n",
      "\n",
      "Epoch 00012: ReduceLROnPlateau reducing learning rate to 0.0003124999930150807.\n",
      "Epoch 13/200\n",
      "7835/7835 [==============================] - 152s 19ms/step - loss: -0.6339 - my_iou_metric_2: 0.8787 - val_loss: -0.7189 - val_my_iou_metric_2: 0.9087\n",
      "\n",
      "Epoch 00013: val_my_iou_metric_2 improved from 0.90674 to 0.90874, saving model to ../model/segmenter/Unet_resnet_deeper_fix10_32_32_0.5_1.model\n",
      "Epoch 14/200\n",
      "7835/7835 [==============================] - 152s 19ms/step - loss: -0.6407 - my_iou_metric_2: 0.8807 - val_loss: -0.7190 - val_my_iou_metric_2: 0.9059\n",
      "\n",
      "Epoch 00014: val_my_iou_metric_2 did not improve from 0.90874\n",
      "Epoch 15/200\n",
      "7835/7835 [==============================] - 152s 19ms/step - loss: -0.6371 - my_iou_metric_2: 0.8815 - val_loss: -0.7231 - val_my_iou_metric_2: 0.9070\n",
      "\n",
      "Epoch 00015: val_my_iou_metric_2 did not improve from 0.90874\n",
      "Epoch 16/200\n",
      "7835/7835 [==============================] - 152s 19ms/step - loss: -0.6389 - my_iou_metric_2: 0.8802 - val_loss: -0.7193 - val_my_iou_metric_2: 0.9071\n",
      "\n",
      "Epoch 00016: val_my_iou_metric_2 did not improve from 0.90874\n",
      "\n",
      "Epoch 00016: ReduceLROnPlateau reducing learning rate to 0.00015624999650754035.\n",
      "Epoch 17/200\n",
      "7835/7835 [==============================] - 152s 19ms/step - loss: -0.6392 - my_iou_metric_2: 0.8808 - val_loss: -0.7179 - val_my_iou_metric_2: 0.9089\n",
      "\n",
      "Epoch 00017: val_my_iou_metric_2 improved from 0.90874 to 0.90886, saving model to ../model/segmenter/Unet_resnet_deeper_fix10_32_32_0.5_1.model\n",
      "Epoch 18/200\n",
      "7835/7835 [==============================] - 152s 19ms/step - loss: -0.6434 - my_iou_metric_2: 0.8807 - val_loss: -0.7191 - val_my_iou_metric_2: 0.9072\n",
      "\n",
      "Epoch 00018: val_my_iou_metric_2 did not improve from 0.90886\n",
      "Epoch 19/200\n",
      "7835/7835 [==============================] - 152s 19ms/step - loss: -0.6434 - my_iou_metric_2: 0.8810 - val_loss: -0.7197 - val_my_iou_metric_2: 0.9084\n",
      "\n",
      "Epoch 00019: val_my_iou_metric_2 did not improve from 0.90886\n",
      "Epoch 20/200\n",
      "7835/7835 [==============================] - 152s 19ms/step - loss: -0.6443 - my_iou_metric_2: 0.8811 - val_loss: -0.7204 - val_my_iou_metric_2: 0.9080\n",
      "\n",
      "Epoch 00020: val_my_iou_metric_2 did not improve from 0.90886\n",
      "\n",
      "Epoch 00020: ReduceLROnPlateau reducing learning rate to 7.812499825377017e-05.\n",
      "Epoch 21/200\n",
      "7835/7835 [==============================] - 152s 19ms/step - loss: -0.6405 - my_iou_metric_2: 0.8814 - val_loss: -0.7201 - val_my_iou_metric_2: 0.9085\n",
      "\n",
      "Epoch 00021: val_my_iou_metric_2 did not improve from 0.90886\n",
      "Epoch 22/200\n",
      "7835/7835 [==============================] - 152s 19ms/step - loss: -0.6480 - my_iou_metric_2: 0.8840 - val_loss: -0.7211 - val_my_iou_metric_2: 0.9070\n",
      "\n",
      "Epoch 00022: val_my_iou_metric_2 did not improve from 0.90886\n",
      "Epoch 23/200\n",
      "7835/7835 [==============================] - 152s 19ms/step - loss: -0.6411 - my_iou_metric_2: 0.8816 - val_loss: -0.7200 - val_my_iou_metric_2: 0.9069\n",
      "\n",
      "Epoch 00023: val_my_iou_metric_2 did not improve from 0.90886\n",
      "\n",
      "Epoch 00023: ReduceLROnPlateau reducing learning rate to 3.9062499126885086e-05.\n",
      "Epoch 24/200\n",
      "7835/7835 [==============================] - 152s 19ms/step - loss: -0.6439 - my_iou_metric_2: 0.8817 - val_loss: -0.7208 - val_my_iou_metric_2: 0.9072\n",
      "\n",
      "Epoch 00024: val_my_iou_metric_2 did not improve from 0.90886\n",
      "Epoch 25/200\n",
      "7835/7835 [==============================] - 152s 19ms/step - loss: -0.6497 - my_iou_metric_2: 0.8821 - val_loss: -0.7205 - val_my_iou_metric_2: 0.9071\n",
      "\n",
      "Epoch 00025: val_my_iou_metric_2 did not improve from 0.90886\n",
      "Epoch 26/200\n",
      "7835/7835 [==============================] - 152s 19ms/step - loss: -0.6485 - my_iou_metric_2: 0.8822 - val_loss: -0.7208 - val_my_iou_metric_2: 0.9100\n",
      "\n",
      "Epoch 00026: val_my_iou_metric_2 improved from 0.90886 to 0.90999, saving model to ../model/segmenter/Unet_resnet_deeper_fix10_32_32_0.5_1.model\n",
      "Epoch 27/200\n",
      "7835/7835 [==============================] - 152s 19ms/step - loss: -0.6492 - my_iou_metric_2: 0.8815 - val_loss: -0.7208 - val_my_iou_metric_2: 0.9095\n",
      "\n",
      "Epoch 00027: val_my_iou_metric_2 did not improve from 0.90999\n",
      "Epoch 28/200\n",
      "7835/7835 [==============================] - 152s 19ms/step - loss: -0.6448 - my_iou_metric_2: 0.8817 - val_loss: -0.7206 - val_my_iou_metric_2: 0.9071\n",
      "\n",
      "Epoch 00028: val_my_iou_metric_2 did not improve from 0.90999\n",
      "Epoch 29/200\n",
      "7835/7835 [==============================] - 152s 19ms/step - loss: -0.6408 - my_iou_metric_2: 0.8818 - val_loss: -0.7214 - val_my_iou_metric_2: 0.9104\n",
      "\n",
      "Epoch 00029: val_my_iou_metric_2 improved from 0.90999 to 0.91036, saving model to ../model/segmenter/Unet_resnet_deeper_fix10_32_32_0.5_1.model\n",
      "Epoch 30/200\n",
      "7835/7835 [==============================] - 152s 19ms/step - loss: -0.6445 - my_iou_metric_2: 0.8818 - val_loss: -0.7210 - val_my_iou_metric_2: 0.9101\n",
      "\n",
      "Epoch 00030: val_my_iou_metric_2 did not improve from 0.91036\n",
      "Epoch 31/200\n",
      "7835/7835 [==============================] - 152s 19ms/step - loss: -0.6436 - my_iou_metric_2: 0.8816 - val_loss: -0.7205 - val_my_iou_metric_2: 0.9076\n",
      "\n",
      "Epoch 00031: val_my_iou_metric_2 did not improve from 0.91036\n",
      "Epoch 32/200\n"
     ]
    },
    {
     "name": "stdout",
     "output_type": "stream",
     "text": [
      "7835/7835 [==============================] - 152s 19ms/step - loss: -0.6423 - my_iou_metric_2: 0.8816 - val_loss: -0.7204 - val_my_iou_metric_2: 0.9079\n",
      "\n",
      "Epoch 00032: val_my_iou_metric_2 did not improve from 0.91036\n",
      "\n",
      "Epoch 00032: ReduceLROnPlateau reducing learning rate to 1.9531249563442543e-05.\n",
      "Epoch 33/200\n",
      "7835/7835 [==============================] - 152s 19ms/step - loss: -0.6483 - my_iou_metric_2: 0.8827 - val_loss: -0.7200 - val_my_iou_metric_2: 0.9091\n",
      "\n",
      "Epoch 00033: val_my_iou_metric_2 did not improve from 0.91036\n",
      "Epoch 34/200\n",
      "7835/7835 [==============================] - 152s 19ms/step - loss: -0.6444 - my_iou_metric_2: 0.8821 - val_loss: -0.7204 - val_my_iou_metric_2: 0.9076\n",
      "\n",
      "Epoch 00034: val_my_iou_metric_2 did not improve from 0.91036\n",
      "Epoch 35/200\n",
      "7835/7835 [==============================] - 152s 19ms/step - loss: -0.6492 - my_iou_metric_2: 0.8830 - val_loss: -0.7207 - val_my_iou_metric_2: 0.9071\n",
      "\n",
      "Epoch 00035: val_my_iou_metric_2 did not improve from 0.91036\n",
      "\n",
      "Epoch 00035: ReduceLROnPlateau reducing learning rate to 1e-05.\n",
      "Epoch 36/200\n",
      "7835/7835 [==============================] - 152s 19ms/step - loss: -0.6476 - my_iou_metric_2: 0.8829 - val_loss: -0.7204 - val_my_iou_metric_2: 0.9099\n",
      "\n",
      "Epoch 00036: val_my_iou_metric_2 did not improve from 0.91036\n",
      "Epoch 37/200\n",
      "7835/7835 [==============================] - 152s 19ms/step - loss: -0.6468 - my_iou_metric_2: 0.8825 - val_loss: -0.7203 - val_my_iou_metric_2: 0.9092\n",
      "\n",
      "Epoch 00037: val_my_iou_metric_2 did not improve from 0.91036\n",
      "Epoch 38/200\n",
      "7835/7835 [==============================] - 152s 19ms/step - loss: -0.6469 - my_iou_metric_2: 0.8813 - val_loss: -0.7202 - val_my_iou_metric_2: 0.9090\n",
      "\n",
      "Epoch 00038: val_my_iou_metric_2 did not improve from 0.91036\n",
      "Epoch 39/200\n",
      "7835/7835 [==============================] - 152s 19ms/step - loss: -0.6496 - my_iou_metric_2: 0.8826 - val_loss: -0.7200 - val_my_iou_metric_2: 0.9089\n",
      "\n",
      "Epoch 00039: val_my_iou_metric_2 did not improve from 0.91036\n",
      "Epoch 40/200\n",
      "7835/7835 [==============================] - 152s 19ms/step - loss: -0.6470 - my_iou_metric_2: 0.8819 - val_loss: -0.7203 - val_my_iou_metric_2: 0.9077\n",
      "\n",
      "Epoch 00040: val_my_iou_metric_2 did not improve from 0.91036\n",
      "Epoch 41/200\n",
      "7835/7835 [==============================] - 152s 19ms/step - loss: -0.6446 - my_iou_metric_2: 0.8835 - val_loss: -0.7201 - val_my_iou_metric_2: 0.9094\n",
      "\n",
      "Epoch 00041: val_my_iou_metric_2 did not improve from 0.91036\n",
      "Epoch 00041: early stopping\n",
      "fold 2\n"
     ]
    },
    {
     "data": {
      "application/vnd.jupyter.widget-view+json": {
       "model_id": "fcdea45dda5c4232b5cb270b1719f481",
       "version_major": 2,
       "version_minor": 0
      },
      "text/plain": [
       "HBox(children=(IntProgress(value=0, max=4), HTML(value='')))"
      ]
     },
     "metadata": {},
     "output_type": "display_data"
    },
    {
     "data": {
      "application/vnd.jupyter.widget-view+json": {
       "model_id": "a4b33f14ec3d429abab59b200fff093f",
       "version_major": 2,
       "version_minor": 0
      },
      "text/plain": [
       "HBox(children=(IntProgress(value=0, max=3200), HTML(value='')))"
      ]
     },
     "metadata": {},
     "output_type": "display_data"
    },
    {
     "data": {
      "application/vnd.jupyter.widget-view+json": {
       "model_id": "dfbc1ebeff5741a8bc79f82ad128d4cd",
       "version_major": 2,
       "version_minor": 0
      },
      "text/plain": [
       "HBox(children=(IntProgress(value=0, max=480), HTML(value='')))"
      ]
     },
     "metadata": {},
     "output_type": "display_data"
    },
    {
     "data": {
      "application/vnd.jupyter.widget-view+json": {
       "model_id": "fcfbafcb70f34fe18a5d3af69410afe4",
       "version_major": 2,
       "version_minor": 0
      },
      "text/plain": [
       "HBox(children=(IntProgress(value=0, max=480), HTML(value='')))"
      ]
     },
     "metadata": {},
     "output_type": "display_data"
    },
    {
     "data": {
      "application/vnd.jupyter.widget-view+json": {
       "model_id": "c7147f78686840dbb7755f339b2e9d4a",
       "version_major": 2,
       "version_minor": 0
      },
      "text/plain": [
       "HBox(children=(IntProgress(value=0, max=480), HTML(value='')))"
      ]
     },
     "metadata": {},
     "output_type": "display_data"
    },
    {
     "name": "stdout",
     "output_type": "stream",
     "text": [
      "\n",
      "(7840, 101, 101, 1)\n",
      "(7840, 101, 101, 1)\n",
      "(7840,)\n",
      "load from last run ../model/segmenter/Unet_resnet_deeper_fix7_32_32_0.5_2.model\n",
      "Train on 7840 samples, validate on 800 samples\n",
      "Epoch 1/200\n",
      "7840/7840 [==============================] - 163s 21ms/step - loss: -0.5273 - my_iou_metric_2: 0.8607 - val_loss: -0.6630 - val_my_iou_metric_2: 0.8947\n",
      "\n",
      "Epoch 00001: val_my_iou_metric_2 improved from -inf to 0.89475, saving model to ../model/segmenter/Unet_resnet_deeper_fix10_32_32_0.5_2.model\n",
      "Epoch 2/200\n",
      "7840/7840 [==============================] - 152s 19ms/step - loss: -0.5504 - my_iou_metric_2: 0.8659 - val_loss: -0.6415 - val_my_iou_metric_2: 0.8930\n",
      "\n",
      "Epoch 00002: val_my_iou_metric_2 did not improve from 0.89475\n",
      "Epoch 3/200\n",
      "7840/7840 [==============================] - 152s 19ms/step - loss: -0.5578 - my_iou_metric_2: 0.8654 - val_loss: -0.6584 - val_my_iou_metric_2: 0.8959\n",
      "\n",
      "Epoch 00003: val_my_iou_metric_2 improved from 0.89475 to 0.89587, saving model to ../model/segmenter/Unet_resnet_deeper_fix10_32_32_0.5_2.model\n",
      "Epoch 4/200\n",
      "7840/7840 [==============================] - 152s 19ms/step - loss: -0.5718 - my_iou_metric_2: 0.8697 - val_loss: -0.6452 - val_my_iou_metric_2: 0.8902\n",
      "\n",
      "Epoch 00004: val_my_iou_metric_2 did not improve from 0.89587\n",
      "Epoch 5/200\n",
      "7840/7840 [==============================] - 152s 19ms/step - loss: -0.5789 - my_iou_metric_2: 0.8709 - val_loss: -0.6512 - val_my_iou_metric_2: 0.8959\n",
      "\n",
      "Epoch 00005: val_my_iou_metric_2 improved from 0.89587 to 0.89588, saving model to ../model/segmenter/Unet_resnet_deeper_fix10_32_32_0.5_2.model\n",
      "Epoch 6/200\n",
      "7840/7840 [==============================] - 152s 19ms/step - loss: -0.5795 - my_iou_metric_2: 0.8698 - val_loss: -0.6398 - val_my_iou_metric_2: 0.8888\n",
      "\n",
      "Epoch 00006: val_my_iou_metric_2 did not improve from 0.89588\n",
      "\n",
      "Epoch 00006: ReduceLROnPlateau reducing learning rate to 0.0012499999720603228.\n",
      "Epoch 7/200\n",
      "7840/7840 [==============================] - 152s 19ms/step - loss: -0.5959 - my_iou_metric_2: 0.8731 - val_loss: -0.6606 - val_my_iou_metric_2: 0.8945\n",
      "\n",
      "Epoch 00007: val_my_iou_metric_2 did not improve from 0.89588\n",
      "Epoch 8/200\n",
      "7840/7840 [==============================] - 152s 19ms/step - loss: -0.6084 - my_iou_metric_2: 0.8750 - val_loss: -0.6570 - val_my_iou_metric_2: 0.8934\n",
      "\n",
      "Epoch 00008: val_my_iou_metric_2 did not improve from 0.89588\n",
      "Epoch 9/200\n",
      "7840/7840 [==============================] - 152s 19ms/step - loss: -0.6153 - my_iou_metric_2: 0.8760 - val_loss: -0.6548 - val_my_iou_metric_2: 0.8952\n",
      "\n",
      "Epoch 00009: val_my_iou_metric_2 did not improve from 0.89588\n",
      "\n",
      "Epoch 00009: ReduceLROnPlateau reducing learning rate to 0.0006249999860301614.\n",
      "Epoch 10/200\n",
      "7840/7840 [==============================] - 152s 19ms/step - loss: -0.6213 - my_iou_metric_2: 0.8780 - val_loss: -0.6608 - val_my_iou_metric_2: 0.8960\n",
      "\n",
      "Epoch 00010: val_my_iou_metric_2 improved from 0.89588 to 0.89600, saving model to ../model/segmenter/Unet_resnet_deeper_fix10_32_32_0.5_2.model\n",
      "Epoch 11/200\n",
      "7840/7840 [==============================] - 152s 19ms/step - loss: -0.6203 - my_iou_metric_2: 0.8780 - val_loss: -0.6617 - val_my_iou_metric_2: 0.8972\n",
      "\n",
      "Epoch 00011: val_my_iou_metric_2 improved from 0.89600 to 0.89725, saving model to ../model/segmenter/Unet_resnet_deeper_fix10_32_32_0.5_2.model\n",
      "Epoch 12/200\n",
      "7840/7840 [==============================] - 152s 19ms/step - loss: -0.6221 - my_iou_metric_2: 0.8791 - val_loss: -0.6519 - val_my_iou_metric_2: 0.8951\n",
      "\n",
      "Epoch 00012: val_my_iou_metric_2 did not improve from 0.89725\n",
      "Epoch 13/200\n",
      "7840/7840 [==============================] - 152s 19ms/step - loss: -0.6264 - my_iou_metric_2: 0.8803 - val_loss: -0.6582 - val_my_iou_metric_2: 0.8959\n",
      "\n",
      "Epoch 00013: val_my_iou_metric_2 did not improve from 0.89725\n",
      "Epoch 14/200\n",
      "7840/7840 [==============================] - 152s 19ms/step - loss: -0.6340 - my_iou_metric_2: 0.8806 - val_loss: -0.6617 - val_my_iou_metric_2: 0.8986\n",
      "\n",
      "Epoch 00014: val_my_iou_metric_2 improved from 0.89725 to 0.89863, saving model to ../model/segmenter/Unet_resnet_deeper_fix10_32_32_0.5_2.model\n",
      "Epoch 15/200\n",
      "7840/7840 [==============================] - 152s 19ms/step - loss: -0.6313 - my_iou_metric_2: 0.8804 - val_loss: -0.6566 - val_my_iou_metric_2: 0.8956\n",
      "\n",
      "Epoch 00015: val_my_iou_metric_2 did not improve from 0.89863\n",
      "Epoch 16/200\n",
      "7840/7840 [==============================] - 152s 19ms/step - loss: -0.6358 - my_iou_metric_2: 0.8811 - val_loss: -0.6563 - val_my_iou_metric_2: 0.8946\n",
      "\n",
      "Epoch 00016: val_my_iou_metric_2 did not improve from 0.89863\n",
      "Epoch 17/200\n",
      "7840/7840 [==============================] - 152s 19ms/step - loss: -0.6349 - my_iou_metric_2: 0.8815 - val_loss: -0.6528 - val_my_iou_metric_2: 0.8981\n",
      "\n",
      "Epoch 00017: val_my_iou_metric_2 did not improve from 0.89863\n",
      "\n",
      "Epoch 00017: ReduceLROnPlateau reducing learning rate to 0.0003124999930150807.\n",
      "Epoch 18/200\n",
      "7840/7840 [==============================] - 152s 19ms/step - loss: -0.6354 - my_iou_metric_2: 0.8817 - val_loss: -0.6568 - val_my_iou_metric_2: 0.8970\n",
      "\n",
      "Epoch 00018: val_my_iou_metric_2 did not improve from 0.89863\n",
      "Epoch 19/200\n",
      "7840/7840 [==============================] - 152s 19ms/step - loss: -0.6398 - my_iou_metric_2: 0.8835 - val_loss: -0.6588 - val_my_iou_metric_2: 0.8954\n",
      "\n",
      "Epoch 00019: val_my_iou_metric_2 did not improve from 0.89863\n",
      "Epoch 20/200\n",
      "7840/7840 [==============================] - 152s 19ms/step - loss: -0.6386 - my_iou_metric_2: 0.8838 - val_loss: -0.6578 - val_my_iou_metric_2: 0.8947\n",
      "\n",
      "Epoch 00020: val_my_iou_metric_2 did not improve from 0.89863\n",
      "\n",
      "Epoch 00020: ReduceLROnPlateau reducing learning rate to 0.00015624999650754035.\n",
      "Epoch 21/200\n",
      "7840/7840 [==============================] - 152s 19ms/step - loss: -0.6419 - my_iou_metric_2: 0.8838 - val_loss: -0.6519 - val_my_iou_metric_2: 0.8942\n",
      "\n",
      "Epoch 00021: val_my_iou_metric_2 did not improve from 0.89863\n",
      "Epoch 22/200\n",
      "7840/7840 [==============================] - 152s 19ms/step - loss: -0.6458 - my_iou_metric_2: 0.8854 - val_loss: -0.6541 - val_my_iou_metric_2: 0.8950\n",
      "\n",
      "Epoch 00022: val_my_iou_metric_2 did not improve from 0.89863\n",
      "Epoch 23/200\n",
      "7840/7840 [==============================] - 152s 19ms/step - loss: -0.6467 - my_iou_metric_2: 0.8849 - val_loss: -0.6574 - val_my_iou_metric_2: 0.8947\n",
      "\n",
      "Epoch 00023: val_my_iou_metric_2 did not improve from 0.89863\n",
      "\n",
      "Epoch 00023: ReduceLROnPlateau reducing learning rate to 7.812499825377017e-05.\n",
      "Epoch 24/200\n",
      "7840/7840 [==============================] - 152s 19ms/step - loss: -0.6446 - my_iou_metric_2: 0.8851 - val_loss: -0.6564 - val_my_iou_metric_2: 0.8945\n",
      "\n",
      "Epoch 00024: val_my_iou_metric_2 did not improve from 0.89863\n",
      "Epoch 25/200\n",
      "7840/7840 [==============================] - 152s 19ms/step - loss: -0.6469 - my_iou_metric_2: 0.8842 - val_loss: -0.6564 - val_my_iou_metric_2: 0.8950\n",
      "\n",
      "Epoch 00025: val_my_iou_metric_2 did not improve from 0.89863\n",
      "Epoch 26/200\n",
      "7840/7840 [==============================] - 152s 19ms/step - loss: -0.6463 - my_iou_metric_2: 0.8841 - val_loss: -0.6555 - val_my_iou_metric_2: 0.8955\n",
      "\n",
      "Epoch 00026: val_my_iou_metric_2 did not improve from 0.89863\n",
      "\n",
      "Epoch 00026: ReduceLROnPlateau reducing learning rate to 3.9062499126885086e-05.\n",
      "Epoch 00026: early stopping\n",
      "fold 3\n"
     ]
    },
    {
     "data": {
      "application/vnd.jupyter.widget-view+json": {
       "model_id": "28699309b07a46d3a5cc7c068bc79378",
       "version_major": 2,
       "version_minor": 0
      },
      "text/plain": [
       "HBox(children=(IntProgress(value=0, max=4), HTML(value='')))"
      ]
     },
     "metadata": {},
     "output_type": "display_data"
    },
    {
     "data": {
      "application/vnd.jupyter.widget-view+json": {
       "model_id": "0ac0a5fcf1d545ea91103e68c87c1f63",
       "version_major": 2,
       "version_minor": 0
      },
      "text/plain": [
       "HBox(children=(IntProgress(value=0, max=3201), HTML(value='')))"
      ]
     },
     "metadata": {},
     "output_type": "display_data"
    },
    {
     "data": {
      "application/vnd.jupyter.widget-view+json": {
       "model_id": "50d36b8e8b6f40cf8d59805a22f5636a",
       "version_major": 2,
       "version_minor": 0
      },
      "text/plain": [
       "HBox(children=(IntProgress(value=0, max=480), HTML(value='')))"
      ]
     },
     "metadata": {},
     "output_type": "display_data"
    },
    {
     "data": {
      "application/vnd.jupyter.widget-view+json": {
       "model_id": "90c5e173747c4bbfbb2a5270764d112e",
       "version_major": 2,
       "version_minor": 0
      },
      "text/plain": [
       "HBox(children=(IntProgress(value=0, max=480), HTML(value='')))"
      ]
     },
     "metadata": {},
     "output_type": "display_data"
    },
    {
     "data": {
      "application/vnd.jupyter.widget-view+json": {
       "model_id": "c70d6dec65574cbf96ffdb3ed17df88d",
       "version_major": 2,
       "version_minor": 0
      },
      "text/plain": [
       "HBox(children=(IntProgress(value=0, max=480), HTML(value='')))"
      ]
     },
     "metadata": {},
     "output_type": "display_data"
    },
    {
     "name": "stdout",
     "output_type": "stream",
     "text": [
      "\n",
      "(7842, 101, 101, 1)\n",
      "(7842, 101, 101, 1)\n",
      "(7842,)\n",
      "load from last run ../model/segmenter/Unet_resnet_deeper_fix7_32_32_0.5_3.model\n",
      "Train on 7842 samples, validate on 799 samples\n",
      "Epoch 1/200\n",
      "7842/7842 [==============================] - 163s 21ms/step - loss: -0.5645 - my_iou_metric_2: 0.8701 - val_loss: -0.6770 - val_my_iou_metric_2: 0.8909\n",
      "\n",
      "Epoch 00001: val_my_iou_metric_2 improved from -inf to 0.89086, saving model to ../model/segmenter/Unet_resnet_deeper_fix10_32_32_0.5_3.model\n",
      "Epoch 2/200\n",
      "7842/7842 [==============================] - 152s 19ms/step - loss: -0.5782 - my_iou_metric_2: 0.8698 - val_loss: -0.6759 - val_my_iou_metric_2: 0.8874\n",
      "\n",
      "Epoch 00002: val_my_iou_metric_2 did not improve from 0.89086\n",
      "Epoch 3/200\n",
      "7842/7842 [==============================] - 152s 19ms/step - loss: -0.5669 - my_iou_metric_2: 0.8680 - val_loss: -0.6685 - val_my_iou_metric_2: 0.8875\n",
      "\n",
      "Epoch 00003: val_my_iou_metric_2 did not improve from 0.89086\n",
      "Epoch 4/200\n",
      "7842/7842 [==============================] - 152s 19ms/step - loss: -0.5978 - my_iou_metric_2: 0.8750 - val_loss: -0.6725 - val_my_iou_metric_2: 0.8880\n",
      "\n",
      "Epoch 00004: val_my_iou_metric_2 did not improve from 0.89086\n",
      "\n",
      "Epoch 00004: ReduceLROnPlateau reducing learning rate to 0.0012499999720603228.\n",
      "Epoch 5/200\n",
      "7842/7842 [==============================] - 152s 19ms/step - loss: -0.6130 - my_iou_metric_2: 0.8772 - val_loss: -0.6816 - val_my_iou_metric_2: 0.8915\n",
      "\n",
      "Epoch 00005: val_my_iou_metric_2 improved from 0.89086 to 0.89149, saving model to ../model/segmenter/Unet_resnet_deeper_fix10_32_32_0.5_3.model\n",
      "Epoch 6/200\n",
      "7842/7842 [==============================] - 152s 19ms/step - loss: -0.6122 - my_iou_metric_2: 0.8783 - val_loss: -0.6804 - val_my_iou_metric_2: 0.8922\n",
      "\n",
      "Epoch 00006: val_my_iou_metric_2 improved from 0.89149 to 0.89224, saving model to ../model/segmenter/Unet_resnet_deeper_fix10_32_32_0.5_3.model\n",
      "Epoch 7/200\n",
      "7842/7842 [==============================] - 152s 19ms/step - loss: -0.6166 - my_iou_metric_2: 0.8785 - val_loss: -0.6796 - val_my_iou_metric_2: 0.8895\n",
      "\n",
      "Epoch 00007: val_my_iou_metric_2 did not improve from 0.89224\n",
      "Epoch 8/200\n",
      "7842/7842 [==============================] - 152s 19ms/step - loss: -0.6160 - my_iou_metric_2: 0.8788 - val_loss: -0.6818 - val_my_iou_metric_2: 0.8886\n",
      "\n",
      "Epoch 00008: val_my_iou_metric_2 did not improve from 0.89224\n",
      "Epoch 9/200\n",
      "7842/7842 [==============================] - 153s 20ms/step - loss: -0.6169 - my_iou_metric_2: 0.8788 - val_loss: -0.6761 - val_my_iou_metric_2: 0.8887\n",
      "\n",
      "Epoch 00009: val_my_iou_metric_2 did not improve from 0.89224\n",
      "\n",
      "Epoch 00009: ReduceLROnPlateau reducing learning rate to 0.0006249999860301614.\n",
      "Epoch 10/200\n",
      "7842/7842 [==============================] - 153s 19ms/step - loss: -0.6243 - my_iou_metric_2: 0.8787 - val_loss: -0.6814 - val_my_iou_metric_2: 0.8895\n",
      "\n",
      "Epoch 00010: val_my_iou_metric_2 did not improve from 0.89224\n",
      "Epoch 11/200\n",
      "7842/7842 [==============================] - 152s 19ms/step - loss: -0.6271 - my_iou_metric_2: 0.8806 - val_loss: -0.6808 - val_my_iou_metric_2: 0.8896\n",
      "\n",
      "Epoch 00011: val_my_iou_metric_2 did not improve from 0.89224\n",
      "Epoch 12/200\n",
      "7842/7842 [==============================] - 152s 19ms/step - loss: -0.6299 - my_iou_metric_2: 0.8812 - val_loss: -0.6812 - val_my_iou_metric_2: 0.8901\n",
      "\n",
      "Epoch 00012: val_my_iou_metric_2 did not improve from 0.89224\n",
      "\n",
      "Epoch 00012: ReduceLROnPlateau reducing learning rate to 0.0003124999930150807.\n",
      "Epoch 13/200\n",
      "7842/7842 [==============================] - 152s 19ms/step - loss: -0.6348 - my_iou_metric_2: 0.8825 - val_loss: -0.6853 - val_my_iou_metric_2: 0.8917\n",
      "\n",
      "Epoch 00013: val_my_iou_metric_2 did not improve from 0.89224\n",
      "Epoch 14/200\n",
      "7842/7842 [==============================] - 152s 19ms/step - loss: -0.6407 - my_iou_metric_2: 0.8828 - val_loss: -0.6864 - val_my_iou_metric_2: 0.8907\n",
      "\n",
      "Epoch 00014: val_my_iou_metric_2 did not improve from 0.89224\n",
      "Epoch 15/200\n",
      "7842/7842 [==============================] - 152s 19ms/step - loss: -0.6287 - my_iou_metric_2: 0.8819 - val_loss: -0.6843 - val_my_iou_metric_2: 0.8900\n",
      "\n",
      "Epoch 00015: val_my_iou_metric_2 did not improve from 0.89224\n",
      "\n",
      "Epoch 00015: ReduceLROnPlateau reducing learning rate to 0.00015624999650754035.\n",
      "Epoch 16/200\n",
      "7842/7842 [==============================] - 153s 19ms/step - loss: -0.6354 - my_iou_metric_2: 0.8820 - val_loss: -0.6828 - val_my_iou_metric_2: 0.8897\n",
      "\n",
      "Epoch 00016: val_my_iou_metric_2 did not improve from 0.89224\n",
      "Epoch 17/200\n",
      "7842/7842 [==============================] - 153s 19ms/step - loss: -0.6340 - my_iou_metric_2: 0.8821 - val_loss: -0.6822 - val_my_iou_metric_2: 0.8904\n",
      "\n",
      "Epoch 00017: val_my_iou_metric_2 did not improve from 0.89224\n",
      "Epoch 18/200\n",
      "7842/7842 [==============================] - 152s 19ms/step - loss: -0.6414 - my_iou_metric_2: 0.8826 - val_loss: -0.6838 - val_my_iou_metric_2: 0.8904\n",
      "\n",
      "Epoch 00018: val_my_iou_metric_2 did not improve from 0.89224\n",
      "\n",
      "Epoch 00018: ReduceLROnPlateau reducing learning rate to 7.812499825377017e-05.\n",
      "Epoch 00018: early stopping\n",
      "fold 4\n"
     ]
    },
    {
     "data": {
      "application/vnd.jupyter.widget-view+json": {
       "model_id": "598f4c28c0d040ecb0bfabaffac28a55",
       "version_major": 2,
       "version_minor": 0
      },
      "text/plain": [
       "HBox(children=(IntProgress(value=0, max=4), HTML(value='')))"
      ]
     },
     "metadata": {},
     "output_type": "display_data"
    },
    {
     "data": {
      "application/vnd.jupyter.widget-view+json": {
       "model_id": "ee8a2ff7dc84476a89f9a76d82eb6893",
       "version_major": 2,
       "version_minor": 0
      },
      "text/plain": [
       "HBox(children=(IntProgress(value=0, max=3201), HTML(value='')))"
      ]
     },
     "metadata": {},
     "output_type": "display_data"
    },
    {
     "data": {
      "application/vnd.jupyter.widget-view+json": {
       "model_id": "3b240f1a7d374e579cb96f604102ae3d",
       "version_major": 2,
       "version_minor": 0
      },
      "text/plain": [
       "HBox(children=(IntProgress(value=0, max=480), HTML(value='')))"
      ]
     },
     "metadata": {},
     "output_type": "display_data"
    },
    {
     "data": {
      "application/vnd.jupyter.widget-view+json": {
       "model_id": "736b6b6907c84023b7cab6507c1c98b3",
       "version_major": 2,
       "version_minor": 0
      },
      "text/plain": [
       "HBox(children=(IntProgress(value=0, max=480), HTML(value='')))"
      ]
     },
     "metadata": {},
     "output_type": "display_data"
    },
    {
     "data": {
      "application/vnd.jupyter.widget-view+json": {
       "model_id": "5f5fd9a0fad147f7995e7b1f8a6df058",
       "version_major": 2,
       "version_minor": 0
      },
      "text/plain": [
       "HBox(children=(IntProgress(value=0, max=480), HTML(value='')))"
      ]
     },
     "metadata": {},
     "output_type": "display_data"
    },
    {
     "name": "stdout",
     "output_type": "stream",
     "text": [
      "\n",
      "(7842, 101, 101, 1)\n",
      "(7842, 101, 101, 1)\n",
      "(7842,)\n",
      "load from last run ../model/segmenter/Unet_resnet_deeper_fix7_32_32_0.5_4.model\n",
      "Train on 7842 samples, validate on 799 samples\n",
      "Epoch 1/200\n",
      "7842/7842 [==============================] - 163s 21ms/step - loss: -0.5383 - my_iou_metric_2: 0.8614 - val_loss: -0.6926 - val_my_iou_metric_2: 0.8989\n",
      "\n",
      "Epoch 00001: val_my_iou_metric_2 improved from -inf to 0.89887, saving model to ../model/segmenter/Unet_resnet_deeper_fix10_32_32_0.5_4.model\n",
      "Epoch 2/200\n",
      "7842/7842 [==============================] - 152s 19ms/step - loss: -0.5574 - my_iou_metric_2: 0.8651 - val_loss: -0.6890 - val_my_iou_metric_2: 0.8971\n",
      "\n",
      "Epoch 00002: val_my_iou_metric_2 did not improve from 0.89887\n",
      "Epoch 3/200\n",
      "7842/7842 [==============================] - 152s 19ms/step - loss: -0.5562 - my_iou_metric_2: 0.8630 - val_loss: -0.6861 - val_my_iou_metric_2: 0.8969\n",
      "\n",
      "Epoch 00003: val_my_iou_metric_2 did not improve from 0.89887\n",
      "Epoch 4/200\n",
      "7842/7842 [==============================] - 152s 19ms/step - loss: -0.5520 - my_iou_metric_2: 0.8640 - val_loss: -0.6789 - val_my_iou_metric_2: 0.8969\n",
      "\n",
      "Epoch 00004: val_my_iou_metric_2 did not improve from 0.89887\n",
      "\n",
      "Epoch 00004: ReduceLROnPlateau reducing learning rate to 0.0012499999720603228.\n",
      "Epoch 5/200\n",
      "7842/7842 [==============================] - 152s 19ms/step - loss: -0.5830 - my_iou_metric_2: 0.8685 - val_loss: -0.6920 - val_my_iou_metric_2: 0.8984\n",
      "\n",
      "Epoch 00005: val_my_iou_metric_2 did not improve from 0.89887\n",
      "Epoch 6/200\n",
      "7842/7842 [==============================] - 152s 19ms/step - loss: -0.5858 - my_iou_metric_2: 0.8694 - val_loss: -0.6960 - val_my_iou_metric_2: 0.8990\n",
      "\n",
      "Epoch 00006: val_my_iou_metric_2 improved from 0.89887 to 0.89900, saving model to ../model/segmenter/Unet_resnet_deeper_fix10_32_32_0.5_4.model\n",
      "Epoch 7/200\n",
      "7842/7842 [==============================] - 155s 20ms/step - loss: -0.5814 - my_iou_metric_2: 0.8685 - val_loss: -0.6979 - val_my_iou_metric_2: 0.8980\n",
      "\n",
      "Epoch 00007: val_my_iou_metric_2 did not improve from 0.89900\n",
      "Epoch 8/200\n",
      "7842/7842 [==============================] - 153s 20ms/step - loss: -0.5976 - my_iou_metric_2: 0.8720 - val_loss: -0.6959 - val_my_iou_metric_2: 0.9003\n",
      "\n",
      "Epoch 00008: val_my_iou_metric_2 improved from 0.89900 to 0.90025, saving model to ../model/segmenter/Unet_resnet_deeper_fix10_32_32_0.5_4.model\n",
      "Epoch 9/200\n",
      "7842/7842 [==============================] - 154s 20ms/step - loss: -0.5990 - my_iou_metric_2: 0.8722 - val_loss: -0.6994 - val_my_iou_metric_2: 0.8980\n",
      "\n",
      "Epoch 00009: val_my_iou_metric_2 did not improve from 0.90025\n",
      "Epoch 10/200\n",
      "7842/7842 [==============================] - 153s 19ms/step - loss: -0.6068 - my_iou_metric_2: 0.8738 - val_loss: -0.6919 - val_my_iou_metric_2: 0.8971\n",
      "\n",
      "Epoch 00010: val_my_iou_metric_2 did not improve from 0.90025\n",
      "Epoch 11/200\n",
      "7842/7842 [==============================] - 152s 19ms/step - loss: -0.5935 - my_iou_metric_2: 0.8715 - val_loss: -0.6936 - val_my_iou_metric_2: 0.8979\n",
      "\n",
      "Epoch 00011: val_my_iou_metric_2 did not improve from 0.90025\n",
      "\n",
      "Epoch 00011: ReduceLROnPlateau reducing learning rate to 0.0006249999860301614.\n",
      "Epoch 12/200\n",
      "7842/7842 [==============================] - 151s 19ms/step - loss: -0.6054 - my_iou_metric_2: 0.8742 - val_loss: -0.6944 - val_my_iou_metric_2: 0.8989\n",
      "\n",
      "Epoch 00012: val_my_iou_metric_2 did not improve from 0.90025\n",
      "Epoch 13/200\n",
      "7842/7842 [==============================] - 151s 19ms/step - loss: -0.6146 - my_iou_metric_2: 0.8756 - val_loss: -0.6982 - val_my_iou_metric_2: 0.8989\n",
      "\n",
      "Epoch 00013: val_my_iou_metric_2 did not improve from 0.90025\n",
      "Epoch 14/200\n",
      "7842/7842 [==============================] - 152s 19ms/step - loss: -0.6143 - my_iou_metric_2: 0.8755 - val_loss: -0.6985 - val_my_iou_metric_2: 0.8985\n",
      "\n",
      "Epoch 00014: val_my_iou_metric_2 did not improve from 0.90025\n",
      "\n",
      "Epoch 00014: ReduceLROnPlateau reducing learning rate to 0.0003124999930150807.\n",
      "Epoch 15/200\n",
      "7842/7842 [==============================] - 152s 19ms/step - loss: -0.6170 - my_iou_metric_2: 0.8762 - val_loss: -0.6990 - val_my_iou_metric_2: 0.8991\n",
      "\n",
      "Epoch 00015: val_my_iou_metric_2 did not improve from 0.90025\n",
      "Epoch 16/200\n",
      "7842/7842 [==============================] - 151s 19ms/step - loss: -0.6148 - my_iou_metric_2: 0.8763 - val_loss: -0.6978 - val_my_iou_metric_2: 0.8989\n",
      "\n",
      "Epoch 00016: val_my_iou_metric_2 did not improve from 0.90025\n",
      "Epoch 17/200\n",
      "7842/7842 [==============================] - 152s 19ms/step - loss: -0.6201 - my_iou_metric_2: 0.8767 - val_loss: -0.6987 - val_my_iou_metric_2: 0.8989\n",
      "\n",
      "Epoch 00017: val_my_iou_metric_2 did not improve from 0.90025\n",
      "\n",
      "Epoch 00017: ReduceLROnPlateau reducing learning rate to 0.00015624999650754035.\n",
      "Epoch 18/200\n",
      "7842/7842 [==============================] - 152s 19ms/step - loss: -0.6182 - my_iou_metric_2: 0.8765 - val_loss: -0.6988 - val_my_iou_metric_2: 0.8982\n",
      "\n",
      "Epoch 00018: val_my_iou_metric_2 did not improve from 0.90025\n",
      "Epoch 19/200\n",
      "7842/7842 [==============================] - 152s 19ms/step - loss: -0.6215 - my_iou_metric_2: 0.8762 - val_loss: -0.6993 - val_my_iou_metric_2: 0.8984\n",
      "\n",
      "Epoch 00019: val_my_iou_metric_2 did not improve from 0.90025\n",
      "Epoch 20/200\n",
      "7842/7842 [==============================] - 152s 19ms/step - loss: -0.6152 - my_iou_metric_2: 0.8756 - val_loss: -0.6989 - val_my_iou_metric_2: 0.8986\n",
      "\n",
      "Epoch 00020: val_my_iou_metric_2 did not improve from 0.90025\n",
      "\n",
      "Epoch 00020: ReduceLROnPlateau reducing learning rate to 7.812499825377017e-05.\n",
      "Epoch 00020: early stopping\n"
     ]
    }
   ],
   "source": [
    "folds = [0,1,2,3,4]\n",
    "\n",
    "skf = StratifiedKFold(n_splits=5, shuffle=True, random_state=1234)\n",
    "for fold, (train_idx, val_idx) in enumerate(skf.split(train_df, train_df['hassalt'])):\n",
    "    if fold not in folds:\n",
    "        print('skip fold', fold)\n",
    "        continue\n",
    "    \n",
    "    print('fold', fold)\n",
    "    x_train, x_valid, msk_train, msk_val, y_train, y_valid, id_train, id_valid = get_splits(train_df, train_idx, val_idx)\n",
    "    x_train, msk_train, y_train = argument(x_train, msk_train, y_train)\n",
    "    \n",
    "    model = train_model(fold, x_train, msk_train, x_valid, msk_val, id_valid)\n",
    "    \n",
    "    from keras import backend as K\n",
    "    K.clear_session()"
   ]
  },
  {
   "cell_type": "code",
   "execution_count": 9,
   "metadata": {},
   "outputs": [
    {
     "data": {
      "application/vnd.jupyter.widget-view+json": {
       "model_id": "a1d39a3aef394f848d05bf1617d49d31",
       "version_major": 2,
       "version_minor": 0
      },
      "text/plain": [
       "HBox(children=(IntProgress(value=0, max=18000), HTML(value='')))"
      ]
     },
     "metadata": {},
     "output_type": "display_data"
    },
    {
     "name": "stderr",
     "output_type": "stream",
     "text": [
      "/home/kownse/.local/lib/python3.6/site-packages/keras_preprocessing/image.py:487: UserWarning: grayscale is deprecated. Please use color_mode = \"grayscale\"\n",
      "  warnings.warn('grayscale is deprecated. Please use '\n"
     ]
    },
    {
     "name": "stdout",
     "output_type": "stream",
     "text": [
      "\n",
      "predict for fold 0\n",
      "801/801 [==============================] - 4s 5ms/step\n",
      "18000/18000 [==============================] - 63s 3ms/step\n",
      "predict for fold 1\n",
      "801/801 [==============================] - 4s 5ms/step\n",
      "18000/18000 [==============================] - 63s 3ms/step\n",
      "predict for fold 2\n",
      "800/800 [==============================] - 4s 5ms/step\n",
      "18000/18000 [==============================] - 63s 3ms/step\n",
      "predict for fold 3\n",
      "799/799 [==============================] - 4s 5ms/step\n",
      "18000/18000 [==============================] - 63s 3ms/step\n",
      "predict for fold 4\n",
      "799/799 [==============================] - 4s 5ms/step\n",
      "18000/18000 [==============================] - 63s 3ms/step\n"
     ]
    }
   ],
   "source": [
    "pred_vals = []\n",
    "msk_vals = []\n",
    "pred_tests = []\n",
    "x_test = np.array([(np.array(load_img(\"../input/test/images/{}.png\".format(idx), grayscale = True))) / 255 for idx in tqdm_notebook(test_df.index)]).reshape(-1, img_size_target, img_size_target, 1)\n",
    "\n",
    "skf = StratifiedKFold(n_splits=5, shuffle=True, random_state=1234)\n",
    "for fold, (train_idx, val_idx) in enumerate(skf.split(train_df, train_df['hassalt'])):\n",
    "    print('predict for fold', fold)\n",
    "    \n",
    "    start_feature = 32\n",
    "    batch_size = 32\n",
    "    dropout = 0.5\n",
    "    base_name = 'Unet_resnet_deeper_fix10_{}_{}_{}_{}'.format(start_feature, batch_size, dropout, fold)\n",
    "    basic_name = '../model/segmenter/{}'.format(base_name)\n",
    "    save_model_name = basic_name + '.model'\n",
    "\n",
    "    model = load_model(save_model_name,custom_objects={'my_iou_metric_2': my_iou_metric_2,\n",
    "                                                   'lovasz_loss': lovasz_loss})\n",
    "    \n",
    "    x_train, x_valid, msk_train, msk_val, y_train, y_valid, id_train, id_valid = get_splits(train_df, train_idx, \n",
    "                                                                                            val_idx)\n",
    "    \n",
    "    preds_valid = predict_result(model,x_valid,img_size_target)\n",
    "    pred_vals.append(preds_valid)\n",
    "    msk_vals.append(msk_val)\n",
    "    \n",
    "    preds_test = predict_result(model,x_test,img_size_target)\n",
    "    pred_tests.append(preds_test)\n",
    "\n",
    "    from keras import backend as K\n",
    "    K.clear_session()"
   ]
  },
  {
   "cell_type": "code",
   "execution_count": 10,
   "metadata": {},
   "outputs": [
    {
     "data": {
      "application/vnd.jupyter.widget-view+json": {
       "model_id": "65bf11b0ddb64e0e9a14bb020c47eb73",
       "version_major": 2,
       "version_minor": 0
      },
      "text/plain": [
       "HBox(children=(IntProgress(value=0, max=35), HTML(value='')))"
      ]
     },
     "metadata": {},
     "output_type": "display_data"
    },
    {
     "name": "stdout",
     "output_type": "stream",
     "text": [
      "\n",
      "[0.89615  0.897    0.897575 0.897775 0.897875 0.898225 0.898525 0.898875\n",
      " 0.8994   0.899425 0.899525 0.899675 0.8999   0.900075 0.90005  0.900225\n",
      " 0.900375 0.901425 0.9005   0.900375 0.900175 0.899875 0.89965  0.89925\n",
      " 0.8989   0.898825 0.898375 0.898625 0.89825  0.897825 0.8975   0.897125\n",
      " 0.896675 0.896275 0.895825]\n"
     ]
    },
    {
     "data": {
      "text/plain": [
       "<matplotlib.legend.Legend at 0x7f08d679fb00>"
      ]
     },
     "execution_count": 10,
     "metadata": {},
     "output_type": "execute_result"
    },
    {
     "data": {
      "image/png": "[encoded data removed]",
      "text/plain": [
       "<Figure size 432x288 with 1 Axes>"
      ]
     },
     "metadata": {},
     "output_type": "display_data"
    }
   ],
   "source": [
    "val_ids = []\n",
    "skf = StratifiedKFold(n_splits=5, shuffle=True, random_state=1234)\n",
    "for fold, (train_idx, val_idx) in enumerate(skf.split(train_df, train_df['hassalt'])):\n",
    "    val_ids += list(train_df.iloc[val_idx].index.values)\n",
    "    \n",
    "pred_all = np.concatenate(pred_vals, axis=0)\n",
    "msk_all = np.concatenate(msk_vals, axis= 0)\n",
    "\n",
    "thresholds_ori = np.linspace(0.3, 0.7, 35)\n",
    "thresholds = np.log(thresholds_ori/(1-thresholds_ori)) \n",
    "\n",
    "# ious = np.array([get_iou_vector(y_valid, preds_valid > threshold) for threshold in tqdm_notebook(thresholds)])\n",
    "# print(ious)\n",
    "ious = np.array([iou_metric_batch(msk_all, pred_all > threshold) for threshold in tqdm_notebook(thresholds)])\n",
    "print(ious)\n",
    "\n",
    "# instead of using default 0 as threshold, use validation data to find the best threshold.\n",
    "threshold_best_index = np.argmax(ious) \n",
    "iou_best = ious[threshold_best_index]\n",
    "threshold_best = thresholds[threshold_best_index]\n",
    "\n",
    "plt.plot(thresholds, ious)\n",
    "plt.plot(threshold_best, iou_best, \"xr\", label=\"Best threshold\")\n",
    "plt.xlabel(\"Threshold\")\n",
    "plt.ylabel(\"IoU\")\n",
    "title = \"Threshold vs IoU ({}, {})\".format(threshold_best, iou_best)\n",
    "print(title)\n",
    "plt.title(title)\n",
    "plt.legend()\n",
    "\n"
   ]
  },
  {
   "cell_type": "code",
   "execution_count": 11,
   "metadata": {},
   "outputs": [
    {
     "data": {
      "application/vnd.jupyter.widget-view+json": {
       "model_id": "6a3d93d7da2144f7925f7e00e4fad8c4",
       "version_major": 2,
       "version_minor": 0
      },
      "text/plain": [
       "HBox(children=(IntProgress(value=0, max=4000), HTML(value='')))"
      ]
     },
     "metadata": {},
     "output_type": "display_data"
    },
    {
     "name": "stdout",
     "output_type": "stream",
     "text": [
      "\n"
     ]
    }
   ],
   "source": [
    "val_all = (pred_all > threshold_best) * 1\n",
    "df_iou = pd.DataFrame(columns=['id', 'iou'])\n",
    "cnt = 0\n",
    "for i in tqdm_notebook(range(len(val_all))):\n",
    "    id = val_ids[i]\n",
    "    iou = iou_metric_batch(msk_all[i], val_all[i])\n",
    "    df_iou = df_iou.append({'id':id, 'iou':iou}, ignore_index=True)\n",
    "\n",
    "df_iou.to_csv('../result/iou_2.csv', index = False)"
   ]
  },
  {
   "cell_type": "code",
   "execution_count": 12,
   "metadata": {},
   "outputs": [
    {
     "data": {
      "application/vnd.jupyter.widget-view+json": {
       "model_id": "82699ff11e4245739c4442051945588c",
       "version_major": 2,
       "version_minor": 0
      },
      "text/plain": [
       "HBox(children=(IntProgress(value=0, max=18000), HTML(value='')))"
      ]
     },
     "metadata": {},
     "output_type": "display_data"
    },
    {
     "name": "stdout",
     "output_type": "stream",
     "text": [
      "\n",
      "save result\n",
      "upload result\n",
      "cmd: kaggle competitions submit -c tgs-salt-identification-challenge -f ../result/segmenter/unet_fix10_avg.csv.7z -m \"submit\"\n"
     ]
    }
   ],
   "source": [
    "pred_tests_act = pred_tests\n",
    "pred_test_all = np.zeros_like(pred_tests_act[0], dtype=np.float32)\n",
    "for pre in pred_tests_act:\n",
    "    pred_test_all += pre / len(pred_tests_act)\n",
    "    \n",
    "pred_dict = {idx: rle_encode(np.round(downsample(pred_test_all[i]) > threshold_best)) for i, idx in enumerate(tqdm_notebook(test_df.index.values))}\n",
    "sub = pd.DataFrame.from_dict(pred_dict,orient='index')\n",
    "sub.index.names = ['id']\n",
    "sub.columns = ['rle_mask']\n",
    "sub = sub.reset_index()\n",
    "save_result(sub, '../result/segmenter/unet_fix10_avg.csv', \n",
    "                        competition = 'tgs-salt-identification-challenge', \n",
    "                        send = True, index = False)"
   ]
  },
  {
   "cell_type": "code",
   "execution_count": null,
   "metadata": {},
   "outputs": [],
   "source": []
  },
  {
   "cell_type": "code",
   "execution_count": null,
   "metadata": {},
   "outputs": [],
   "source": []
  }
 ],
 "metadata": {
  "kernelspec": {
   "display_name": "Python 3",
   "language": "python",
   "name": "python3"
  },
  "language_info": {
   "codemirror_mode": {
    "name": "ipython",
    "version": 3
   },
   "file_extension": ".py",
   "mimetype": "text/x-python",
   "name": "python",
   "nbconvert_exporter": "python",
   "pygments_lexer": "ipython3",
   "version": "3.6.5"
  }
 },
 "nbformat": 4,
 "nbformat_minor": 2
}
